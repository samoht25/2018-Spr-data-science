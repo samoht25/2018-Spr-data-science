{
 "cells": [
  {
   "cell_type": "markdown",
   "metadata": {},
   "source": [
    "### Pulling from Mongo and Pandas\n"
   ]
  },
  {
   "cell_type": "code",
   "execution_count": 1,
   "metadata": {},
   "outputs": [],
   "source": [
    "import pymongo\n",
    "from redis import Redis\n",
    "\n",
    "redis_connection = Redis(host='this_redis')\n",
    "mongo_client = pymongo.MongoClient('this_mongo')\n"
   ]
  },
  {
   "cell_type": "code",
   "execution_count": 2,
   "metadata": {},
   "outputs": [
    {
     "data": {
      "text/plain": [
       "['admin', 'local']"
      ]
     },
     "execution_count": 2,
     "metadata": {},
     "output_type": "execute_result"
    }
   ],
   "source": [
    "mongo_client.database_names()"
   ]
  },
  {
   "cell_type": "code",
   "execution_count": 3,
   "metadata": {},
   "outputs": [],
   "source": [
    "import pandas as pd"
   ]
  },
  {
   "cell_type": "code",
   "execution_count": 4,
   "metadata": {},
   "outputs": [],
   "source": [
    "twentyktweets = pd.read_pickle('../data/twentyktweets.p')"
   ]
  },
  {
   "cell_type": "code",
   "execution_count": 5,
   "metadata": {},
   "outputs": [
    {
     "data": {
      "text/plain": [
       "<pymongo.results.InsertManyResult at 0x7fa823b6f2c8>"
      ]
     },
     "execution_count": 5,
     "metadata": {},
     "output_type": "execute_result"
    }
   ],
   "source": [
    "mongo_client.twitter.tweets.insert_many(twentyktweets.to_dict('records'))"
   ]
  },
  {
   "cell_type": "code",
   "execution_count": 8,
   "metadata": {},
   "outputs": [
    {
     "data": {
      "text/plain": [
       "['admin', 'config', 'local', 'twitter']"
      ]
     },
     "execution_count": 8,
     "metadata": {},
     "output_type": "execute_result"
    }
   ],
   "source": [
    "mongo_client.database_names()"
   ]
  },
  {
   "cell_type": "code",
   "execution_count": 9,
   "metadata": {},
   "outputs": [
    {
     "data": {
      "text/plain": [
       "['tweets']"
      ]
     },
     "execution_count": 9,
     "metadata": {},
     "output_type": "execute_result"
    }
   ],
   "source": [
    "mongo_client.twitter.collection_names()"
   ]
  },
  {
   "cell_type": "code",
   "execution_count": 6,
   "metadata": {},
   "outputs": [],
   "source": [
    "tweet_sample = twentyktweets.sample(20).to_dict('records')"
   ]
  },
  {
   "cell_type": "code",
   "execution_count": 10,
   "metadata": {},
   "outputs": [
    {
     "data": {
      "text/plain": [
       "<pymongo.results.InsertManyResult at 0x7fa81c7d2e08>"
      ]
     },
     "execution_count": 10,
     "metadata": {},
     "output_type": "execute_result"
    }
   ],
   "source": [
    "mongo_client.twitter.tweets_sample.insert_many(tweet_sample)"
   ]
  },
  {
   "cell_type": "code",
   "execution_count": 11,
   "metadata": {},
   "outputs": [
    {
     "data": {
      "text/plain": [
       "['tweets_sample', 'tweets']"
      ]
     },
     "execution_count": 11,
     "metadata": {},
     "output_type": "execute_result"
    }
   ],
   "source": [
    "mongo_client.twitter.collection_names()"
   ]
  },
  {
   "cell_type": "code",
   "execution_count": 33,
   "metadata": {},
   "outputs": [],
   "source": [
    "cur = (mongo_client\n",
    "       .twitter\n",
    "       .tweets_sample\n",
    "       .find(projection={'_id': 0, 'text' : 1}))"
   ]
  },
  {
   "cell_type": "code",
   "execution_count": 38,
   "metadata": {},
   "outputs": [
    {
     "data": {
      "text/plain": [
       "'When no one likes a solid tweet. https://t.co/6aheSDDPEQ'"
      ]
     },
     "execution_count": 38,
     "metadata": {},
     "output_type": "execute_result"
    }
   ],
   "source": [
    "next(cur)[\"text\"]"
   ]
  },
  {
   "cell_type": "code",
   "execution_count": 39,
   "metadata": {},
   "outputs": [
    {
     "data": {
      "text/plain": [
       "{'text': 'First event of the year with the girls on the 27th cannot wait 💃🏻🎉 @msautopsy44  @xLoSiRaMx'}"
      ]
     },
     "execution_count": 39,
     "metadata": {},
     "output_type": "execute_result"
    }
   ],
   "source": [
    "next(cur)"
   ]
  },
  {
   "cell_type": "markdown",
   "metadata": {},
   "source": [
    "### Parallel MapReduce"
   ]
  },
  {
   "cell_type": "code",
   "execution_count": 14,
   "metadata": {},
   "outputs": [
    {
     "name": "stdout",
     "output_type": "stream",
     "text": [
      "/home/jovyan\n"
     ]
    }
   ],
   "source": [
    "cd .."
   ]
  },
  {
   "cell_type": "code",
   "execution_count": 15,
   "metadata": {},
   "outputs": [],
   "source": [
    "from redis import Redis \n",
    "from rq import Queue\n",
    "from lib.worker import remove_punctuation, mapper, reducer, toggle_hold, check_hold\n",
    "import time\n",
    "redis_connection = Redis('this_redis')\n",
    "job_queue = Queue(connection=redis_connection)"
   ]
  },
  {
   "cell_type": "markdown",
   "metadata": {},
   "source": [
    "Here is our previous implementation of the `word_count` function.\n",
    "\n",
    "    def word_count(documents, redis_connection, word_list='word_list'):\n",
    "\n",
    "        counts = []\n",
    "\n",
    "        for document in documents:\n",
    "            mapper(document, redis_connection, word_list)\n",
    "\n",
    "        word = redis_connection.spop(word_list)\n",
    "        while word:\n",
    "            word = word.decode()\n",
    "            count = reducer(word, redis_connection)\n",
    "            counts.append((word, count))\n",
    "            word = redis_connection.spop(word_list)\n",
    "\n",
    "        return counts\n",
    "        \n",
    "There are two candidates for parallelization in this function:\n",
    "\n",
    "1. the `for` loop can be parallelized as tokenization of one document is completely independent of the tokenization of another.\n",
    "1. the `while` loop can be parallelized as the counting of tokens for one word is completely independent of the counting of another.\n",
    "\n",
    "There was one tricky aspect to this parallelization, however. We cannot work on the word counts until all of the tokenization is complete."
   ]
  },
  {
   "cell_type": "code",
   "execution_count": 16,
   "metadata": {},
   "outputs": [],
   "source": [
    "def map_documents_mongo(cursor):\n",
    "    for document in cursor:\n",
    "        job = job_queue.enqueue(mapper, document['text'], 'word_list') #mapper: rpush(word, 1) and sadd(\"word_list\", word)\n",
    "    return job"
   ]
  },
  {
   "cell_type": "code",
   "execution_count": 17,
   "metadata": {},
   "outputs": [],
   "source": [
    "def reduce_words():\n",
    "\n",
    "    word = redis_connection.spop('word_list')\n",
    "    while word:\n",
    "        word = word.decode()\n",
    "        job = job_queue.enqueue(reducer, word, 'count_list') # reducer: lpop number of word, and then store in \"count_list\" (word and number)\n",
    "        word = redis_connection.spop('word_list')\n",
    "    \n",
    "    return job"
   ]
  },
  {
   "cell_type": "code",
   "execution_count": 18,
   "metadata": {},
   "outputs": [],
   "source": [
    "def collect_counts():\n",
    "    \n",
    "    counts = []\n",
    "    count = redis_connection.lpop('count_list')\n",
    "    while count:\n",
    "        counts.append(count)\n",
    "        count = redis_connection.lpop('count_list')\n",
    "        \n",
    "        \n",
    "    counts = [remove_punctuation(count.decode())\n",
    "              for count in counts]\n",
    "    counts = [count.split()\n",
    "              for count in counts]\n",
    "    counts = [(count[0], int(count[1]))\n",
    "              for count in counts]\n",
    "    return counts"
   ]
  },
  {
   "cell_type": "code",
   "execution_count": 41,
   "metadata": {
    "scrolled": false
   },
   "outputs": [
    {
     "data": {
      "text/plain": [
       "{'text': 'Knowledge is power especially when you’re in #cryptocurrency so get educated and invest wisely -  #losangeles… https://t.co/iUIpIXJ889'}"
      ]
     },
     "execution_count": 41,
     "metadata": {},
     "output_type": "execute_result"
    }
   ],
   "source": [
    "next(cur)"
   ]
  },
  {
   "cell_type": "code",
   "execution_count": 19,
   "metadata": {
    "scrolled": false
   },
   "outputs": [
    {
     "name": "stdout",
     "output_type": "stream",
     "text": [
      "Mapping Documents.\n",
      ".......................\n",
      "Reducing Word Tokens.\n",
      "............................................................................................................................................"
     ]
    },
    {
     "data": {
      "text/html": [
       "<div>\n",
       "<style scoped>\n",
       "    .dataframe tbody tr th:only-of-type {\n",
       "        vertical-align: middle;\n",
       "    }\n",
       "\n",
       "    .dataframe tbody tr th {\n",
       "        vertical-align: top;\n",
       "    }\n",
       "\n",
       "    .dataframe thead th {\n",
       "        text-align: right;\n",
       "    }\n",
       "</style>\n",
       "<table border=\"1\" class=\"dataframe\">\n",
       "  <thead>\n",
       "    <tr style=\"text-align: right;\">\n",
       "      <th></th>\n",
       "      <th>word</th>\n",
       "      <th>count</th>\n",
       "    </tr>\n",
       "  </thead>\n",
       "  <tbody>\n",
       "    <tr>\n",
       "      <th>150</th>\n",
       "      <td>is</td>\n",
       "      <td>7</td>\n",
       "    </tr>\n",
       "    <tr>\n",
       "      <th>42</th>\n",
       "      <td>and</td>\n",
       "      <td>5</td>\n",
       "    </tr>\n",
       "    <tr>\n",
       "      <th>81</th>\n",
       "      <td>•</td>\n",
       "      <td>5</td>\n",
       "    </tr>\n",
       "    <tr>\n",
       "      <th>67</th>\n",
       "      <td>a</td>\n",
       "      <td>5</td>\n",
       "    </tr>\n",
       "    <tr>\n",
       "      <th>131</th>\n",
       "      <td>the</td>\n",
       "      <td>4</td>\n",
       "    </tr>\n",
       "    <tr>\n",
       "      <th>158</th>\n",
       "      <td>to</td>\n",
       "      <td>3</td>\n",
       "    </tr>\n",
       "    <tr>\n",
       "      <th>135</th>\n",
       "      <td>one</td>\n",
       "      <td>3</td>\n",
       "    </tr>\n",
       "    <tr>\n",
       "      <th>112</th>\n",
       "      <td>no</td>\n",
       "      <td>3</td>\n",
       "    </tr>\n",
       "    <tr>\n",
       "      <th>10</th>\n",
       "      <td>on</td>\n",
       "      <td>3</td>\n",
       "    </tr>\n",
       "    <tr>\n",
       "      <th>18</th>\n",
       "      <td>this</td>\n",
       "      <td>3</td>\n",
       "    </tr>\n",
       "  </tbody>\n",
       "</table>\n",
       "</div>"
      ],
      "text/plain": [
       "     word  count\n",
       "150    is      7\n",
       "42    and      5\n",
       "81      •      5\n",
       "67      a      5\n",
       "131   the      4\n",
       "158    to      3\n",
       "135   one      3\n",
       "112    no      3\n",
       "10     on      3\n",
       "18   this      3"
      ]
     },
     "execution_count": 19,
     "metadata": {},
     "output_type": "execute_result"
    }
   ],
   "source": [
    "cur = (mongo_client\n",
    "       .twitter\n",
    "       .tweets_sample\n",
    "       .find(projection={'_id': 0, 'text' : 1}))\n",
    "job = map_documents_mongo(cur) #mapper: remove punctuation, lowercase and split, rpush(word, 1) and sadd(\"word_list\", word)\n",
    "\n",
    "print(\"Mapping Documents.\")\n",
    "status = job.status\n",
    "while status != 'finished':\n",
    "    print(\".\", end=\"\")\n",
    "    status = job.status\n",
    "    time.sleep(0.1)\n",
    "\n",
    "job = reduce_words() # reducer: lpop number of word, and then store in \"count_list\" (word and number)\n",
    "\n",
    "print(\"\\nReducing Word Tokens.\")\n",
    "status = job.status\n",
    "while status != 'finished':\n",
    "    print(\".\", end=\"\")\n",
    "    status = job.status\n",
    "    time.sleep(0.1)\n",
    "\n",
    "results = pd.DataFrame(collect_counts(), columns=['word', 'count']) #collect_counts: lpop \"count_list\" of word and number.\n",
    "\n",
    "results.sort_values('count', ascending=False).head(10)"
   ]
  },
  {
   "cell_type": "code",
   "execution_count": 20,
   "metadata": {},
   "outputs": [],
   "source": [
    "def map_documents_pandas(series):\n",
    "    for document in series.values:\n",
    "        job = job_queue.enqueue(mapper, document, 'word_list')\n",
    "    return job"
   ]
  },
  {
   "cell_type": "code",
   "execution_count": 21,
   "metadata": {},
   "outputs": [],
   "source": [
    "def word_count_pandas_sample(n, track=True):\n",
    "    start = time.time()\n",
    "    job = map_documents_pandas(twentyktweets.sample(n)['text']) #all txt in twenty tweets\n",
    "    if track: print(\"Mapping Documents.\")\n",
    "    status = job.status\n",
    "    while status != 'finished':\n",
    "        if track: print(\".\", end=\"\")\n",
    "        status = job.status\n",
    "        time.sleep(0.1)\n",
    "\n",
    "    job = reduce_words()\n",
    "    if track: print(\"\\nReducing Word Tokens.\")\n",
    "    status = job.status\n",
    "    while status != 'finished':\n",
    "        if track: print(\".\", end=\"\")\n",
    "        status = job.status\n",
    "        time.sleep(0.1)\n",
    "\n",
    "    results = pd.DataFrame(collect_counts(), columns=['word', 'count'])\n",
    "    \n",
    "    return time.time() - start, results"
   ]
  },
  {
   "cell_type": "code",
   "execution_count": 22,
   "metadata": {},
   "outputs": [
    {
     "name": "stdout",
     "output_type": "stream",
     "text": [
      "counting 5 samples\n",
      "counting 10 samples\n",
      "counting 20 samples\n",
      "counting 50 samples\n",
      "counting 100 samples\n",
      "counting 200 samples\n"
     ]
    }
   ],
   "source": [
    "sample_sizes = [5,10,20,50,100,200]\n",
    "timing = []\n",
    "for n in sample_sizes:\n",
    "    print('counting {} samples'.format(n))\n",
    "    count_time, results = word_count_pandas_sample(n, track=False)\n",
    "    timing.append({'n': n, 'count_time' : count_time , 'workers' : 1})"
   ]
  },
  {
   "cell_type": "code",
   "execution_count": 23,
   "metadata": {},
   "outputs": [],
   "source": [
    "t = pd.DataFrame(timing)"
   ]
  },
  {
   "cell_type": "code",
   "execution_count": 45,
   "metadata": {},
   "outputs": [
    {
     "data": {
      "text/html": [
       "<div>\n",
       "<style scoped>\n",
       "    .dataframe tbody tr th:only-of-type {\n",
       "        vertical-align: middle;\n",
       "    }\n",
       "\n",
       "    .dataframe tbody tr th {\n",
       "        vertical-align: top;\n",
       "    }\n",
       "\n",
       "    .dataframe thead th {\n",
       "        text-align: right;\n",
       "    }\n",
       "</style>\n",
       "<table border=\"1\" class=\"dataframe\">\n",
       "  <thead>\n",
       "    <tr style=\"text-align: right;\">\n",
       "      <th></th>\n",
       "      <th>count_time</th>\n",
       "      <th>n</th>\n",
       "      <th>workers</th>\n",
       "    </tr>\n",
       "  </thead>\n",
       "  <tbody>\n",
       "    <tr>\n",
       "      <th>0</th>\n",
       "      <td>5.642385</td>\n",
       "      <td>5</td>\n",
       "      <td>1</td>\n",
       "    </tr>\n",
       "    <tr>\n",
       "      <th>1</th>\n",
       "      <td>11.164085</td>\n",
       "      <td>10</td>\n",
       "      <td>1</td>\n",
       "    </tr>\n",
       "    <tr>\n",
       "      <th>2</th>\n",
       "      <td>21.982712</td>\n",
       "      <td>20</td>\n",
       "      <td>1</td>\n",
       "    </tr>\n",
       "    <tr>\n",
       "      <th>3</th>\n",
       "      <td>39.564008</td>\n",
       "      <td>50</td>\n",
       "      <td>1</td>\n",
       "    </tr>\n",
       "    <tr>\n",
       "      <th>4</th>\n",
       "      <td>78.430500</td>\n",
       "      <td>100</td>\n",
       "      <td>1</td>\n",
       "    </tr>\n",
       "    <tr>\n",
       "      <th>5</th>\n",
       "      <td>133.791465</td>\n",
       "      <td>200</td>\n",
       "      <td>1</td>\n",
       "    </tr>\n",
       "    <tr>\n",
       "      <th>6</th>\n",
       "      <td>4.861548</td>\n",
       "      <td>5</td>\n",
       "      <td>2</td>\n",
       "    </tr>\n",
       "    <tr>\n",
       "      <th>7</th>\n",
       "      <td>11.679772</td>\n",
       "      <td>10</td>\n",
       "      <td>2</td>\n",
       "    </tr>\n",
       "    <tr>\n",
       "      <th>8</th>\n",
       "      <td>18.665878</td>\n",
       "      <td>20</td>\n",
       "      <td>2</td>\n",
       "    </tr>\n",
       "    <tr>\n",
       "      <th>9</th>\n",
       "      <td>39.868823</td>\n",
       "      <td>50</td>\n",
       "      <td>2</td>\n",
       "    </tr>\n",
       "    <tr>\n",
       "      <th>10</th>\n",
       "      <td>72.136457</td>\n",
       "      <td>100</td>\n",
       "      <td>2</td>\n",
       "    </tr>\n",
       "    <tr>\n",
       "      <th>11</th>\n",
       "      <td>130.983822</td>\n",
       "      <td>200</td>\n",
       "      <td>2</td>\n",
       "    </tr>\n",
       "  </tbody>\n",
       "</table>\n",
       "</div>"
      ],
      "text/plain": [
       "    count_time    n  workers\n",
       "0     5.642385    5        1\n",
       "1    11.164085   10        1\n",
       "2    21.982712   20        1\n",
       "3    39.564008   50        1\n",
       "4    78.430500  100        1\n",
       "5   133.791465  200        1\n",
       "6     4.861548    5        2\n",
       "7    11.679772   10        2\n",
       "8    18.665878   20        2\n",
       "9    39.868823   50        2\n",
       "10   72.136457  100        2\n",
       "11  130.983822  200        2"
      ]
     },
     "execution_count": 45,
     "metadata": {},
     "output_type": "execute_result"
    }
   ],
   "source": [
    "t"
   ]
  },
  {
   "cell_type": "code",
   "execution_count": 24,
   "metadata": {},
   "outputs": [],
   "source": [
    "import matplotlib.pyplot as plt\n",
    "%matplotlib inline"
   ]
  },
  {
   "cell_type": "code",
   "execution_count": 25,
   "metadata": {},
   "outputs": [
    {
     "data": {
      "text/plain": [
       "[<matplotlib.lines.Line2D at 0x7fa826358710>]"
      ]
     },
     "execution_count": 25,
     "metadata": {},
     "output_type": "execute_result"
    },
    {
     "data": {
      "image/png": "[encoded data removed]",
      "text/plain": [
       "<matplotlib.figure.Figure at 0x7fa8265a0da0>"
      ]
     },
     "metadata": {},
     "output_type": "display_data"
    }
   ],
   "source": [
    "plt.plot(t.n, t.count_time)"
   ]
  },
  {
   "cell_type": "code",
   "execution_count": 26,
   "metadata": {},
   "outputs": [
    {
     "name": "stdout",
     "output_type": "stream",
     "text": [
      "counting 5 samples\n",
      "counting 10 samples\n",
      "counting 20 samples\n",
      "counting 50 samples\n",
      "counting 100 samples\n",
      "counting 200 samples\n"
     ]
    }
   ],
   "source": [
    "sample_sizes = [5,10,20,50,100,200]\n",
    "for n in sample_sizes:\n",
    "    print('counting {} samples'.format(n))\n",
    "    count_time, results = word_count_pandas_sample(n, track=False)\n",
    "    timing.append({'n': n, 'count_time' : count_time , 'workers' : 2})"
   ]
  },
  {
   "cell_type": "code",
   "execution_count": 27,
   "metadata": {},
   "outputs": [],
   "source": [
    "t = pd.DataFrame(timing)"
   ]
  },
  {
   "cell_type": "code",
   "execution_count": 46,
   "metadata": {},
   "outputs": [
    {
     "data": {
      "text/html": [
       "<div>\n",
       "<style scoped>\n",
       "    .dataframe tbody tr th:only-of-type {\n",
       "        vertical-align: middle;\n",
       "    }\n",
       "\n",
       "    .dataframe tbody tr th {\n",
       "        vertical-align: top;\n",
       "    }\n",
       "\n",
       "    .dataframe thead th {\n",
       "        text-align: right;\n",
       "    }\n",
       "</style>\n",
       "<table border=\"1\" class=\"dataframe\">\n",
       "  <thead>\n",
       "    <tr style=\"text-align: right;\">\n",
       "      <th></th>\n",
       "      <th>count_time</th>\n",
       "      <th>n</th>\n",
       "      <th>workers</th>\n",
       "    </tr>\n",
       "  </thead>\n",
       "  <tbody>\n",
       "    <tr>\n",
       "      <th>0</th>\n",
       "      <td>5.642385</td>\n",
       "      <td>5</td>\n",
       "      <td>1</td>\n",
       "    </tr>\n",
       "    <tr>\n",
       "      <th>1</th>\n",
       "      <td>11.164085</td>\n",
       "      <td>10</td>\n",
       "      <td>1</td>\n",
       "    </tr>\n",
       "    <tr>\n",
       "      <th>2</th>\n",
       "      <td>21.982712</td>\n",
       "      <td>20</td>\n",
       "      <td>1</td>\n",
       "    </tr>\n",
       "    <tr>\n",
       "      <th>3</th>\n",
       "      <td>39.564008</td>\n",
       "      <td>50</td>\n",
       "      <td>1</td>\n",
       "    </tr>\n",
       "    <tr>\n",
       "      <th>4</th>\n",
       "      <td>78.430500</td>\n",
       "      <td>100</td>\n",
       "      <td>1</td>\n",
       "    </tr>\n",
       "    <tr>\n",
       "      <th>5</th>\n",
       "      <td>133.791465</td>\n",
       "      <td>200</td>\n",
       "      <td>1</td>\n",
       "    </tr>\n",
       "    <tr>\n",
       "      <th>6</th>\n",
       "      <td>4.861548</td>\n",
       "      <td>5</td>\n",
       "      <td>2</td>\n",
       "    </tr>\n",
       "    <tr>\n",
       "      <th>7</th>\n",
       "      <td>11.679772</td>\n",
       "      <td>10</td>\n",
       "      <td>2</td>\n",
       "    </tr>\n",
       "    <tr>\n",
       "      <th>8</th>\n",
       "      <td>18.665878</td>\n",
       "      <td>20</td>\n",
       "      <td>2</td>\n",
       "    </tr>\n",
       "    <tr>\n",
       "      <th>9</th>\n",
       "      <td>39.868823</td>\n",
       "      <td>50</td>\n",
       "      <td>2</td>\n",
       "    </tr>\n",
       "    <tr>\n",
       "      <th>10</th>\n",
       "      <td>72.136457</td>\n",
       "      <td>100</td>\n",
       "      <td>2</td>\n",
       "    </tr>\n",
       "    <tr>\n",
       "      <th>11</th>\n",
       "      <td>130.983822</td>\n",
       "      <td>200</td>\n",
       "      <td>2</td>\n",
       "    </tr>\n",
       "  </tbody>\n",
       "</table>\n",
       "</div>"
      ],
      "text/plain": [
       "    count_time    n  workers\n",
       "0     5.642385    5        1\n",
       "1    11.164085   10        1\n",
       "2    21.982712   20        1\n",
       "3    39.564008   50        1\n",
       "4    78.430500  100        1\n",
       "5   133.791465  200        1\n",
       "6     4.861548    5        2\n",
       "7    11.679772   10        2\n",
       "8    18.665878   20        2\n",
       "9    39.868823   50        2\n",
       "10   72.136457  100        2\n",
       "11  130.983822  200        2"
      ]
     },
     "execution_count": 46,
     "metadata": {},
     "output_type": "execute_result"
    }
   ],
   "source": [
    "t"
   ]
  },
  {
   "cell_type": "code",
   "execution_count": 28,
   "metadata": {},
   "outputs": [
    {
     "data": {
      "text/plain": [
       "<matplotlib.legend.Legend at 0x7fa8302dc3c8>"
      ]
     },
     "execution_count": 28,
     "metadata": {},
     "output_type": "execute_result"
    },
    {
     "data": {
      "image/png": "[encoded data removed]",
      "text/plain": [
       "<matplotlib.figure.Figure at 0x7fa825f77a58>"
      ]
     },
     "metadata": {},
     "output_type": "display_data"
    }
   ],
   "source": [
    "plt.plot(t[t.workers == 1].n, t[t.workers == 1].count_time, label='one worker')\n",
    "plt.plot(t[t.workers == 2].n, t[t.workers == 2].count_time, label='two workers')\n",
    "plt.legend()"
   ]
  }
 ],
 "metadata": {
  "kernelspec": {
   "display_name": "Python 3",
   "language": "python",
   "name": "python3"
  },
  "language_info": {
   "codemirror_mode": {
    "name": "ipython",
    "version": 3
   },
   "file_extension": ".py",
   "mimetype": "text/x-python",
   "name": "python",
   "nbconvert_exporter": "python",
   "pygments_lexer": "ipython3",
   "version": "3.6.3"
  }
 },
 "nbformat": 4,
 "nbformat_minor": 2
}
