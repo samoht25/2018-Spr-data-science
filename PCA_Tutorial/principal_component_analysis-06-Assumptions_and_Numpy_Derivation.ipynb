{
 "cells": [
  {
   "cell_type": "code",
   "execution_count": 1,
   "metadata": {},
   "outputs": [],
   "source": [
    "import numpy as np\n",
    "import pandas as pd\n",
    "import seaborn as sns\n",
    "import matplotlib.pyplot as plt\n",
    "import scipy.stats as st\n",
    "%matplotlib inline"
   ]
  },
  {
   "cell_type": "markdown",
   "metadata": {},
   "source": [
    "<img src=\"https://www.evernote.com/l/AAFyWbRBljJIqqUfNcOo8SvvvPa3gCnvCsAB/image.png\" width=\"400px\">"
   ]
  },
  {
   "cell_type": "code",
   "execution_count": 2,
   "metadata": {},
   "outputs": [],
   "source": [
    "data_df = pd.read_pickle('../data/ball_on_spring.p')"
   ]
  },
  {
   "cell_type": "code",
   "execution_count": 3,
   "metadata": {},
   "outputs": [
    {
     "data": {
      "text/html": [
       "<div>\n",
       "<table border=\"1\" class=\"dataframe\">\n",
       "  <thead>\n",
       "    <tr style=\"text-align: right;\">\n",
       "      <th></th>\n",
       "      <th>x_a</th>\n",
       "      <th>x_b</th>\n",
       "      <th>x_c</th>\n",
       "      <th>y_a</th>\n",
       "      <th>y_b</th>\n",
       "      <th>y_c</th>\n",
       "    </tr>\n",
       "  </thead>\n",
       "  <tbody>\n",
       "    <tr>\n",
       "      <th>134</th>\n",
       "      <td>-0.636656</td>\n",
       "      <td>-0.439142</td>\n",
       "      <td>-0.183176</td>\n",
       "      <td>-0.220483</td>\n",
       "      <td>0.806493</td>\n",
       "      <td>-0.748230</td>\n",
       "    </tr>\n",
       "    <tr>\n",
       "      <th>36</th>\n",
       "      <td>1.565411</td>\n",
       "      <td>1.825616</td>\n",
       "      <td>0.978518</td>\n",
       "      <td>0.911528</td>\n",
       "      <td>0.326394</td>\n",
       "      <td>1.809986</td>\n",
       "    </tr>\n",
       "    <tr>\n",
       "      <th>145</th>\n",
       "      <td>1.109253</td>\n",
       "      <td>1.768186</td>\n",
       "      <td>0.604263</td>\n",
       "      <td>0.611077</td>\n",
       "      <td>0.243026</td>\n",
       "      <td>1.373415</td>\n",
       "    </tr>\n",
       "    <tr>\n",
       "      <th>141</th>\n",
       "      <td>0.368817</td>\n",
       "      <td>1.373556</td>\n",
       "      <td>0.572168</td>\n",
       "      <td>0.194070</td>\n",
       "      <td>0.527686</td>\n",
       "      <td>0.667839</td>\n",
       "    </tr>\n",
       "  </tbody>\n",
       "</table>\n",
       "</div>"
      ],
      "text/plain": [
       "          x_a       x_b       x_c       y_a       y_b       y_c\n",
       "134 -0.636656 -0.439142 -0.183176 -0.220483  0.806493 -0.748230\n",
       "36   1.565411  1.825616  0.978518  0.911528  0.326394  1.809986\n",
       "145  1.109253  1.768186  0.604263  0.611077  0.243026  1.373415\n",
       "141  0.368817  1.373556  0.572168  0.194070  0.527686  0.667839"
      ]
     },
     "execution_count": 3,
     "metadata": {},
     "output_type": "execute_result"
    }
   ],
   "source": [
    "data_df.sample(4)"
   ]
  },
  {
   "cell_type": "code",
   "execution_count": 4,
   "metadata": {},
   "outputs": [
    {
     "data": {
      "image/png": "[encoded data removed]",
      "text/plain": [
       "<Figure size 1080x288 with 3 Axes>"
      ]
     },
     "metadata": {},
     "output_type": "display_data"
    }
   ],
   "source": [
    "fig, ax = plt.subplots(1,3,figsize=(15,4))\n",
    "for i, cam in enumerate(['a', 'b', 'c']):\n",
    "    x_axis = 'x_{}'.format(cam)\n",
    "    y_axis = 'y_{}'.format(cam)\n",
    "    \n",
    "    data_df.plot(x_axis, y_axis, kind='scatter', \n",
    "                 ax=ax[i], xlim=(-4,4), ylim=(-4,4))\n",
    "    \n",
    "    ax[i].axvline(c='black')\n",
    "    ax[i].axhline(c='black')\n",
    "    ax[i].arrow(0,-4,0,1,color='green',lw=12)"
   ]
  },
  {
   "cell_type": "markdown",
   "metadata": {},
   "source": [
    "We can think of the green arrow as the camera."
   ]
  },
  {
   "cell_type": "markdown",
   "metadata": {},
   "source": [
    "### Variance and the Goal"
   ]
  },
  {
   "cell_type": "markdown",
   "metadata": {},
   "source": [
    "At a high-level, our goal is to find a transformation for our data so that it is a \"best expression\" of the data."
   ]
  },
  {
   "cell_type": "markdown",
   "metadata": {},
   "source": [
    "Mathematically, this looks like this \n",
    "\n",
    "$$X' = PX$$\n",
    "\n",
    "where $X$ is the original data and $X'$ is the transformed, \"best expression\" of the data. \n",
    "\n",
    "$P$ is a permutation or transformation matrix. "
   ]
  },
  {
   "cell_type": "markdown",
   "metadata": {},
   "source": [
    "# Assumptions and Limits\n",
    "\n",
    "1. Linearity\n",
    "2. Scaled, Skew-Normal Data\n",
    "3. Larger variances are more important\n",
    "4. The principal components are orthogonal"
   ]
  },
  {
   "cell_type": "markdown",
   "metadata": {},
   "source": [
    "### Numpy Derivation"
   ]
  },
  {
   "cell_type": "markdown",
   "metadata": {},
   "source": [
    "Let $X$ be our data."
   ]
  },
  {
   "cell_type": "code",
   "execution_count": 5,
   "metadata": {},
   "outputs": [],
   "source": [
    "X = data_df"
   ]
  },
  {
   "cell_type": "markdown",
   "metadata": {},
   "source": [
    "First look at $X^TX$.\n",
    "\n",
    "**NOTE:** $X^TX$ is a symmetric matrix."
   ]
  },
  {
   "cell_type": "code",
   "execution_count": 6,
   "metadata": {
    "scrolled": true
   },
   "outputs": [
    {
     "data": {
      "text/plain": [
       "(150, 6)"
      ]
     },
     "execution_count": 6,
     "metadata": {},
     "output_type": "execute_result"
    }
   ],
   "source": [
    "X.shape"
   ]
  },
  {
   "cell_type": "code",
   "execution_count": 50,
   "metadata": {},
   "outputs": [
    {
     "data": {
      "text/html": [
       "<div>\n",
       "<table border=\"1\" class=\"dataframe\">\n",
       "  <thead>\n",
       "    <tr style=\"text-align: right;\">\n",
       "      <th></th>\n",
       "      <th>0</th>\n",
       "      <th>1</th>\n",
       "      <th>2</th>\n",
       "      <th>3</th>\n",
       "      <th>4</th>\n",
       "      <th>5</th>\n",
       "      <th>6</th>\n",
       "      <th>7</th>\n",
       "      <th>8</th>\n",
       "      <th>9</th>\n",
       "      <th>...</th>\n",
       "      <th>140</th>\n",
       "      <th>141</th>\n",
       "      <th>142</th>\n",
       "      <th>143</th>\n",
       "      <th>144</th>\n",
       "      <th>145</th>\n",
       "      <th>146</th>\n",
       "      <th>147</th>\n",
       "      <th>148</th>\n",
       "      <th>149</th>\n",
       "    </tr>\n",
       "  </thead>\n",
       "  <tbody>\n",
       "    <tr>\n",
       "      <th>x_a</th>\n",
       "      <td>-1.781950</td>\n",
       "      <td>-1.709077</td>\n",
       "      <td>-1.617304</td>\n",
       "      <td>-1.693962</td>\n",
       "      <td>-1.292920</td>\n",
       "      <td>-1.513921</td>\n",
       "      <td>-1.325127</td>\n",
       "      <td>-1.163089</td>\n",
       "      <td>-0.743689</td>\n",
       "      <td>-0.876423</td>\n",
       "      <td>...</td>\n",
       "      <td>0.479643</td>\n",
       "      <td>0.368817</td>\n",
       "      <td>0.852555</td>\n",
       "      <td>0.915658</td>\n",
       "      <td>0.984858</td>\n",
       "      <td>1.109253</td>\n",
       "      <td>1.164353</td>\n",
       "      <td>1.409310</td>\n",
       "      <td>1.571823</td>\n",
       "      <td>1.736579</td>\n",
       "    </tr>\n",
       "    <tr>\n",
       "      <th>x_b</th>\n",
       "      <td>-1.761277</td>\n",
       "      <td>-1.160804</td>\n",
       "      <td>-0.956732</td>\n",
       "      <td>-0.787909</td>\n",
       "      <td>-0.973692</td>\n",
       "      <td>-1.562961</td>\n",
       "      <td>-0.762026</td>\n",
       "      <td>-0.560522</td>\n",
       "      <td>-0.297886</td>\n",
       "      <td>0.064933</td>\n",
       "      <td>...</td>\n",
       "      <td>0.206629</td>\n",
       "      <td>1.373556</td>\n",
       "      <td>0.843636</td>\n",
       "      <td>1.287123</td>\n",
       "      <td>1.586848</td>\n",
       "      <td>1.768186</td>\n",
       "      <td>1.732810</td>\n",
       "      <td>2.344889</td>\n",
       "      <td>1.655708</td>\n",
       "      <td>2.063614</td>\n",
       "    </tr>\n",
       "    <tr>\n",
       "      <th>x_c</th>\n",
       "      <td>-0.350870</td>\n",
       "      <td>-0.755488</td>\n",
       "      <td>-0.467356</td>\n",
       "      <td>-0.545706</td>\n",
       "      <td>-0.383676</td>\n",
       "      <td>-0.559612</td>\n",
       "      <td>-0.529735</td>\n",
       "      <td>-0.319409</td>\n",
       "      <td>-0.279028</td>\n",
       "      <td>-0.305009</td>\n",
       "      <td>...</td>\n",
       "      <td>0.516240</td>\n",
       "      <td>0.572168</td>\n",
       "      <td>0.378523</td>\n",
       "      <td>0.523829</td>\n",
       "      <td>0.744094</td>\n",
       "      <td>0.604263</td>\n",
       "      <td>0.533726</td>\n",
       "      <td>0.651382</td>\n",
       "      <td>0.836770</td>\n",
       "      <td>0.997008</td>\n",
       "    </tr>\n",
       "    <tr>\n",
       "      <th>y_a</th>\n",
       "      <td>-0.403847</td>\n",
       "      <td>-0.459641</td>\n",
       "      <td>-0.655109</td>\n",
       "      <td>-0.516117</td>\n",
       "      <td>-0.337848</td>\n",
       "      <td>-0.332560</td>\n",
       "      <td>-0.492215</td>\n",
       "      <td>-0.418613</td>\n",
       "      <td>-0.393115</td>\n",
       "      <td>-0.341021</td>\n",
       "      <td>...</td>\n",
       "      <td>0.347126</td>\n",
       "      <td>0.194070</td>\n",
       "      <td>0.217961</td>\n",
       "      <td>0.403811</td>\n",
       "      <td>0.742200</td>\n",
       "      <td>0.611077</td>\n",
       "      <td>0.551551</td>\n",
       "      <td>0.735983</td>\n",
       "      <td>0.724462</td>\n",
       "      <td>0.677989</td>\n",
       "    </tr>\n",
       "    <tr>\n",
       "      <th>y_b</th>\n",
       "      <td>0.984246</td>\n",
       "      <td>1.235856</td>\n",
       "      <td>1.118372</td>\n",
       "      <td>0.484307</td>\n",
       "      <td>1.123871</td>\n",
       "      <td>0.793864</td>\n",
       "      <td>1.357246</td>\n",
       "      <td>0.391693</td>\n",
       "      <td>1.259620</td>\n",
       "      <td>1.047290</td>\n",
       "      <td>...</td>\n",
       "      <td>0.738837</td>\n",
       "      <td>0.527686</td>\n",
       "      <td>0.314363</td>\n",
       "      <td>0.651461</td>\n",
       "      <td>0.235718</td>\n",
       "      <td>0.243026</td>\n",
       "      <td>-0.039737</td>\n",
       "      <td>0.232006</td>\n",
       "      <td>0.475243</td>\n",
       "      <td>0.065319</td>\n",
       "    </tr>\n",
       "    <tr>\n",
       "      <th>y_c</th>\n",
       "      <td>-1.792404</td>\n",
       "      <td>-1.277236</td>\n",
       "      <td>-1.551299</td>\n",
       "      <td>-1.326873</td>\n",
       "      <td>-1.129003</td>\n",
       "      <td>-1.134841</td>\n",
       "      <td>-1.107987</td>\n",
       "      <td>-1.173009</td>\n",
       "      <td>-0.994968</td>\n",
       "      <td>-0.929750</td>\n",
       "      <td>...</td>\n",
       "      <td>0.272217</td>\n",
       "      <td>0.667839</td>\n",
       "      <td>0.591616</td>\n",
       "      <td>0.645657</td>\n",
       "      <td>1.105620</td>\n",
       "      <td>1.373415</td>\n",
       "      <td>1.131138</td>\n",
       "      <td>1.643790</td>\n",
       "      <td>1.821893</td>\n",
       "      <td>1.967430</td>\n",
       "    </tr>\n",
       "  </tbody>\n",
       "</table>\n",
       "<p>6 rows × 150 columns</p>\n",
       "</div>"
      ],
      "text/plain": [
       "          0         1         2         3         4         5         6    \\\n",
       "x_a -1.781950 -1.709077 -1.617304 -1.693962 -1.292920 -1.513921 -1.325127   \n",
       "x_b -1.761277 -1.160804 -0.956732 -0.787909 -0.973692 -1.562961 -0.762026   \n",
       "x_c -0.350870 -0.755488 -0.467356 -0.545706 -0.383676 -0.559612 -0.529735   \n",
       "y_a -0.403847 -0.459641 -0.655109 -0.516117 -0.337848 -0.332560 -0.492215   \n",
       "y_b  0.984246  1.235856  1.118372  0.484307  1.123871  0.793864  1.357246   \n",
       "y_c -1.792404 -1.277236 -1.551299 -1.326873 -1.129003 -1.134841 -1.107987   \n",
       "\n",
       "          7         8         9      ...          140       141       142  \\\n",
       "x_a -1.163089 -0.743689 -0.876423    ...     0.479643  0.368817  0.852555   \n",
       "x_b -0.560522 -0.297886  0.064933    ...     0.206629  1.373556  0.843636   \n",
       "x_c -0.319409 -0.279028 -0.305009    ...     0.516240  0.572168  0.378523   \n",
       "y_a -0.418613 -0.393115 -0.341021    ...     0.347126  0.194070  0.217961   \n",
       "y_b  0.391693  1.259620  1.047290    ...     0.738837  0.527686  0.314363   \n",
       "y_c -1.173009 -0.994968 -0.929750    ...     0.272217  0.667839  0.591616   \n",
       "\n",
       "          143       144       145       146       147       148       149  \n",
       "x_a  0.915658  0.984858  1.109253  1.164353  1.409310  1.571823  1.736579  \n",
       "x_b  1.287123  1.586848  1.768186  1.732810  2.344889  1.655708  2.063614  \n",
       "x_c  0.523829  0.744094  0.604263  0.533726  0.651382  0.836770  0.997008  \n",
       "y_a  0.403811  0.742200  0.611077  0.551551  0.735983  0.724462  0.677989  \n",
       "y_b  0.651461  0.235718  0.243026 -0.039737  0.232006  0.475243  0.065319  \n",
       "y_c  0.645657  1.105620  1.373415  1.131138  1.643790  1.821893  1.967430  \n",
       "\n",
       "[6 rows x 150 columns]"
      ]
     },
     "execution_count": 50,
     "metadata": {},
     "output_type": "execute_result"
    }
   ],
   "source": [
    "X.T"
   ]
  },
  {
   "cell_type": "code",
   "execution_count": 49,
   "metadata": {
    "scrolled": true
   },
   "outputs": [
    {
     "data": {
      "text/html": [
       "<div>\n",
       "<table border=\"1\" class=\"dataframe\">\n",
       "  <thead>\n",
       "    <tr style=\"text-align: right;\">\n",
       "      <th></th>\n",
       "      <th>x_a</th>\n",
       "      <th>x_b</th>\n",
       "      <th>x_c</th>\n",
       "      <th>y_a</th>\n",
       "      <th>y_b</th>\n",
       "      <th>y_c</th>\n",
       "    </tr>\n",
       "  </thead>\n",
       "  <tbody>\n",
       "    <tr>\n",
       "      <th>0</th>\n",
       "      <td>-1.781950</td>\n",
       "      <td>-1.761277</td>\n",
       "      <td>-0.350870</td>\n",
       "      <td>-0.403847</td>\n",
       "      <td>0.984246</td>\n",
       "      <td>-1.792404</td>\n",
       "    </tr>\n",
       "    <tr>\n",
       "      <th>1</th>\n",
       "      <td>-1.709077</td>\n",
       "      <td>-1.160804</td>\n",
       "      <td>-0.755488</td>\n",
       "      <td>-0.459641</td>\n",
       "      <td>1.235856</td>\n",
       "      <td>-1.277236</td>\n",
       "    </tr>\n",
       "    <tr>\n",
       "      <th>2</th>\n",
       "      <td>-1.617304</td>\n",
       "      <td>-0.956732</td>\n",
       "      <td>-0.467356</td>\n",
       "      <td>-0.655109</td>\n",
       "      <td>1.118372</td>\n",
       "      <td>-1.551299</td>\n",
       "    </tr>\n",
       "    <tr>\n",
       "      <th>3</th>\n",
       "      <td>-1.693962</td>\n",
       "      <td>-0.787909</td>\n",
       "      <td>-0.545706</td>\n",
       "      <td>-0.516117</td>\n",
       "      <td>0.484307</td>\n",
       "      <td>-1.326873</td>\n",
       "    </tr>\n",
       "    <tr>\n",
       "      <th>4</th>\n",
       "      <td>-1.292920</td>\n",
       "      <td>-0.973692</td>\n",
       "      <td>-0.383676</td>\n",
       "      <td>-0.337848</td>\n",
       "      <td>1.123871</td>\n",
       "      <td>-1.129003</td>\n",
       "    </tr>\n",
       "    <tr>\n",
       "      <th>5</th>\n",
       "      <td>-1.513921</td>\n",
       "      <td>-1.562961</td>\n",
       "      <td>-0.559612</td>\n",
       "      <td>-0.332560</td>\n",
       "      <td>0.793864</td>\n",
       "      <td>-1.134841</td>\n",
       "    </tr>\n",
       "    <tr>\n",
       "      <th>6</th>\n",
       "      <td>-1.325127</td>\n",
       "      <td>-0.762026</td>\n",
       "      <td>-0.529735</td>\n",
       "      <td>-0.492215</td>\n",
       "      <td>1.357246</td>\n",
       "      <td>-1.107987</td>\n",
       "    </tr>\n",
       "    <tr>\n",
       "      <th>7</th>\n",
       "      <td>-1.163089</td>\n",
       "      <td>-0.560522</td>\n",
       "      <td>-0.319409</td>\n",
       "      <td>-0.418613</td>\n",
       "      <td>0.391693</td>\n",
       "      <td>-1.173009</td>\n",
       "    </tr>\n",
       "    <tr>\n",
       "      <th>8</th>\n",
       "      <td>-0.743689</td>\n",
       "      <td>-0.297886</td>\n",
       "      <td>-0.279028</td>\n",
       "      <td>-0.393115</td>\n",
       "      <td>1.259620</td>\n",
       "      <td>-0.994968</td>\n",
       "    </tr>\n",
       "    <tr>\n",
       "      <th>9</th>\n",
       "      <td>-0.876423</td>\n",
       "      <td>0.064933</td>\n",
       "      <td>-0.305009</td>\n",
       "      <td>-0.341021</td>\n",
       "      <td>1.047290</td>\n",
       "      <td>-0.929750</td>\n",
       "    </tr>\n",
       "    <tr>\n",
       "      <th>10</th>\n",
       "      <td>-0.584091</td>\n",
       "      <td>0.033509</td>\n",
       "      <td>-0.143150</td>\n",
       "      <td>-0.058747</td>\n",
       "      <td>0.781611</td>\n",
       "      <td>-0.625574</td>\n",
       "    </tr>\n",
       "    <tr>\n",
       "      <th>11</th>\n",
       "      <td>-0.383786</td>\n",
       "      <td>0.067803</td>\n",
       "      <td>0.158010</td>\n",
       "      <td>-0.151541</td>\n",
       "      <td>1.277871</td>\n",
       "      <td>-0.608947</td>\n",
       "    </tr>\n",
       "    <tr>\n",
       "      <th>12</th>\n",
       "      <td>-0.142629</td>\n",
       "      <td>-0.020676</td>\n",
       "      <td>-0.152224</td>\n",
       "      <td>-0.124556</td>\n",
       "      <td>0.818591</td>\n",
       "      <td>-0.169672</td>\n",
       "    </tr>\n",
       "    <tr>\n",
       "      <th>13</th>\n",
       "      <td>-0.249156</td>\n",
       "      <td>0.442143</td>\n",
       "      <td>0.137969</td>\n",
       "      <td>-0.098669</td>\n",
       "      <td>1.129144</td>\n",
       "      <td>0.106996</td>\n",
       "    </tr>\n",
       "    <tr>\n",
       "      <th>14</th>\n",
       "      <td>0.166044</td>\n",
       "      <td>0.626807</td>\n",
       "      <td>-0.025823</td>\n",
       "      <td>0.268764</td>\n",
       "      <td>0.799398</td>\n",
       "      <td>0.193330</td>\n",
       "    </tr>\n",
       "    <tr>\n",
       "      <th>15</th>\n",
       "      <td>0.274569</td>\n",
       "      <td>0.557777</td>\n",
       "      <td>0.082828</td>\n",
       "      <td>0.099275</td>\n",
       "      <td>0.657704</td>\n",
       "      <td>0.471201</td>\n",
       "    </tr>\n",
       "    <tr>\n",
       "      <th>16</th>\n",
       "      <td>0.641852</td>\n",
       "      <td>0.615855</td>\n",
       "      <td>0.343544</td>\n",
       "      <td>0.481497</td>\n",
       "      <td>0.681177</td>\n",
       "      <td>0.686641</td>\n",
       "    </tr>\n",
       "    <tr>\n",
       "      <th>17</th>\n",
       "      <td>0.486644</td>\n",
       "      <td>0.888492</td>\n",
       "      <td>0.429777</td>\n",
       "      <td>0.447243</td>\n",
       "      <td>0.054830</td>\n",
       "      <td>0.761333</td>\n",
       "    </tr>\n",
       "    <tr>\n",
       "      <th>18</th>\n",
       "      <td>0.887488</td>\n",
       "      <td>0.687460</td>\n",
       "      <td>0.527960</td>\n",
       "      <td>0.343680</td>\n",
       "      <td>0.767913</td>\n",
       "      <td>0.634606</td>\n",
       "    </tr>\n",
       "    <tr>\n",
       "      <th>19</th>\n",
       "      <td>0.899381</td>\n",
       "      <td>1.117657</td>\n",
       "      <td>0.771749</td>\n",
       "      <td>0.402253</td>\n",
       "      <td>0.613582</td>\n",
       "      <td>0.929090</td>\n",
       "    </tr>\n",
       "    <tr>\n",
       "      <th>20</th>\n",
       "      <td>1.234695</td>\n",
       "      <td>1.420378</td>\n",
       "      <td>0.915993</td>\n",
       "      <td>0.624937</td>\n",
       "      <td>0.105180</td>\n",
       "      <td>1.008211</td>\n",
       "    </tr>\n",
       "    <tr>\n",
       "      <th>21</th>\n",
       "      <td>1.345030</td>\n",
       "      <td>1.258354</td>\n",
       "      <td>0.694323</td>\n",
       "      <td>0.572799</td>\n",
       "      <td>0.755271</td>\n",
       "      <td>1.265000</td>\n",
       "    </tr>\n",
       "    <tr>\n",
       "      <th>22</th>\n",
       "      <td>1.460812</td>\n",
       "      <td>1.972362</td>\n",
       "      <td>0.901664</td>\n",
       "      <td>0.714433</td>\n",
       "      <td>0.065340</td>\n",
       "      <td>1.328947</td>\n",
       "    </tr>\n",
       "    <tr>\n",
       "      <th>23</th>\n",
       "      <td>1.724841</td>\n",
       "      <td>1.592715</td>\n",
       "      <td>0.802959</td>\n",
       "      <td>0.694946</td>\n",
       "      <td>-0.011827</td>\n",
       "      <td>1.825926</td>\n",
       "    </tr>\n",
       "    <tr>\n",
       "      <th>24</th>\n",
       "      <td>1.766448</td>\n",
       "      <td>2.497625</td>\n",
       "      <td>1.040263</td>\n",
       "      <td>0.896354</td>\n",
       "      <td>-0.026048</td>\n",
       "      <td>1.500354</td>\n",
       "    </tr>\n",
       "    <tr>\n",
       "      <th>25</th>\n",
       "      <td>1.864882</td>\n",
       "      <td>2.620094</td>\n",
       "      <td>0.852677</td>\n",
       "      <td>0.780174</td>\n",
       "      <td>-0.018957</td>\n",
       "      <td>1.886591</td>\n",
       "    </tr>\n",
       "    <tr>\n",
       "      <th>26</th>\n",
       "      <td>1.764707</td>\n",
       "      <td>1.962778</td>\n",
       "      <td>0.992169</td>\n",
       "      <td>1.060823</td>\n",
       "      <td>0.427151</td>\n",
       "      <td>1.746624</td>\n",
       "    </tr>\n",
       "    <tr>\n",
       "      <th>27</th>\n",
       "      <td>1.748283</td>\n",
       "      <td>2.774199</td>\n",
       "      <td>0.972107</td>\n",
       "      <td>1.056014</td>\n",
       "      <td>0.402226</td>\n",
       "      <td>2.156020</td>\n",
       "    </tr>\n",
       "    <tr>\n",
       "      <th>28</th>\n",
       "      <td>1.839858</td>\n",
       "      <td>2.099029</td>\n",
       "      <td>1.021812</td>\n",
       "      <td>1.156641</td>\n",
       "      <td>-0.311571</td>\n",
       "      <td>1.928488</td>\n",
       "    </tr>\n",
       "    <tr>\n",
       "      <th>29</th>\n",
       "      <td>2.211976</td>\n",
       "      <td>2.924365</td>\n",
       "      <td>0.853534</td>\n",
       "      <td>0.898619</td>\n",
       "      <td>-0.163082</td>\n",
       "      <td>2.126523</td>\n",
       "    </tr>\n",
       "    <tr>\n",
       "      <th>...</th>\n",
       "      <td>...</td>\n",
       "      <td>...</td>\n",
       "      <td>...</td>\n",
       "      <td>...</td>\n",
       "      <td>...</td>\n",
       "      <td>...</td>\n",
       "    </tr>\n",
       "    <tr>\n",
       "      <th>120</th>\n",
       "      <td>-1.497329</td>\n",
       "      <td>-1.357594</td>\n",
       "      <td>-0.737288</td>\n",
       "      <td>-0.338060</td>\n",
       "      <td>0.711193</td>\n",
       "      <td>-1.600463</td>\n",
       "    </tr>\n",
       "    <tr>\n",
       "      <th>121</th>\n",
       "      <td>-1.476294</td>\n",
       "      <td>-0.779307</td>\n",
       "      <td>-0.317344</td>\n",
       "      <td>-0.588318</td>\n",
       "      <td>0.544741</td>\n",
       "      <td>-1.397175</td>\n",
       "    </tr>\n",
       "    <tr>\n",
       "      <th>122</th>\n",
       "      <td>-1.547341</td>\n",
       "      <td>-1.667502</td>\n",
       "      <td>-0.463329</td>\n",
       "      <td>-0.681464</td>\n",
       "      <td>1.382846</td>\n",
       "      <td>-1.444644</td>\n",
       "    </tr>\n",
       "    <tr>\n",
       "      <th>123</th>\n",
       "      <td>-1.763879</td>\n",
       "      <td>-1.441825</td>\n",
       "      <td>-0.701532</td>\n",
       "      <td>-0.548607</td>\n",
       "      <td>1.515534</td>\n",
       "      <td>-1.328713</td>\n",
       "    </tr>\n",
       "    <tr>\n",
       "      <th>124</th>\n",
       "      <td>-1.747437</td>\n",
       "      <td>-1.653828</td>\n",
       "      <td>-0.407988</td>\n",
       "      <td>-0.577824</td>\n",
       "      <td>1.163167</td>\n",
       "      <td>-1.607232</td>\n",
       "    </tr>\n",
       "    <tr>\n",
       "      <th>125</th>\n",
       "      <td>-1.551275</td>\n",
       "      <td>-1.146042</td>\n",
       "      <td>-0.672992</td>\n",
       "      <td>-0.622373</td>\n",
       "      <td>1.051088</td>\n",
       "      <td>-1.770065</td>\n",
       "    </tr>\n",
       "    <tr>\n",
       "      <th>126</th>\n",
       "      <td>-1.648158</td>\n",
       "      <td>-1.582820</td>\n",
       "      <td>-0.649793</td>\n",
       "      <td>-0.640012</td>\n",
       "      <td>1.481406</td>\n",
       "      <td>-1.475650</td>\n",
       "    </tr>\n",
       "    <tr>\n",
       "      <th>127</th>\n",
       "      <td>-1.580728</td>\n",
       "      <td>-1.747945</td>\n",
       "      <td>-0.662564</td>\n",
       "      <td>-0.393943</td>\n",
       "      <td>0.645320</td>\n",
       "      <td>-1.241395</td>\n",
       "    </tr>\n",
       "    <tr>\n",
       "      <th>128</th>\n",
       "      <td>-1.599791</td>\n",
       "      <td>-0.714133</td>\n",
       "      <td>-0.298687</td>\n",
       "      <td>-0.697844</td>\n",
       "      <td>1.015109</td>\n",
       "      <td>-1.188078</td>\n",
       "    </tr>\n",
       "    <tr>\n",
       "      <th>129</th>\n",
       "      <td>-1.212082</td>\n",
       "      <td>-1.228331</td>\n",
       "      <td>-0.270261</td>\n",
       "      <td>-0.414011</td>\n",
       "      <td>0.786612</td>\n",
       "      <td>-1.219940</td>\n",
       "    </tr>\n",
       "    <tr>\n",
       "      <th>130</th>\n",
       "      <td>-1.205758</td>\n",
       "      <td>-1.515954</td>\n",
       "      <td>-0.612537</td>\n",
       "      <td>-0.559358</td>\n",
       "      <td>1.205532</td>\n",
       "      <td>-1.300871</td>\n",
       "    </tr>\n",
       "    <tr>\n",
       "      <th>131</th>\n",
       "      <td>-1.072996</td>\n",
       "      <td>-1.278124</td>\n",
       "      <td>-0.418124</td>\n",
       "      <td>-0.532170</td>\n",
       "      <td>0.508972</td>\n",
       "      <td>-0.876140</td>\n",
       "    </tr>\n",
       "    <tr>\n",
       "      <th>132</th>\n",
       "      <td>-1.202296</td>\n",
       "      <td>-0.342946</td>\n",
       "      <td>-0.525736</td>\n",
       "      <td>-0.429991</td>\n",
       "      <td>0.509699</td>\n",
       "      <td>-1.225951</td>\n",
       "    </tr>\n",
       "    <tr>\n",
       "      <th>133</th>\n",
       "      <td>-0.874348</td>\n",
       "      <td>-1.128411</td>\n",
       "      <td>-0.319117</td>\n",
       "      <td>-0.432563</td>\n",
       "      <td>0.579456</td>\n",
       "      <td>-0.720410</td>\n",
       "    </tr>\n",
       "    <tr>\n",
       "      <th>134</th>\n",
       "      <td>-0.636656</td>\n",
       "      <td>-0.439142</td>\n",
       "      <td>-0.183176</td>\n",
       "      <td>-0.220483</td>\n",
       "      <td>0.806493</td>\n",
       "      <td>-0.748230</td>\n",
       "    </tr>\n",
       "    <tr>\n",
       "      <th>135</th>\n",
       "      <td>-0.694893</td>\n",
       "      <td>-0.039537</td>\n",
       "      <td>-0.347235</td>\n",
       "      <td>-0.034981</td>\n",
       "      <td>0.996748</td>\n",
       "      <td>-0.630928</td>\n",
       "    </tr>\n",
       "    <tr>\n",
       "      <th>136</th>\n",
       "      <td>-0.537778</td>\n",
       "      <td>0.326907</td>\n",
       "      <td>0.173584</td>\n",
       "      <td>0.029701</td>\n",
       "      <td>1.229564</td>\n",
       "      <td>-0.142461</td>\n",
       "    </tr>\n",
       "    <tr>\n",
       "      <th>137</th>\n",
       "      <td>-0.303371</td>\n",
       "      <td>0.374566</td>\n",
       "      <td>-0.082083</td>\n",
       "      <td>-0.080211</td>\n",
       "      <td>0.978633</td>\n",
       "      <td>-0.220972</td>\n",
       "    </tr>\n",
       "    <tr>\n",
       "      <th>138</th>\n",
       "      <td>-0.046530</td>\n",
       "      <td>0.430890</td>\n",
       "      <td>-0.117097</td>\n",
       "      <td>-0.066150</td>\n",
       "      <td>0.488960</td>\n",
       "      <td>-0.124562</td>\n",
       "    </tr>\n",
       "    <tr>\n",
       "      <th>139</th>\n",
       "      <td>0.107464</td>\n",
       "      <td>0.035941</td>\n",
       "      <td>0.443759</td>\n",
       "      <td>0.069729</td>\n",
       "      <td>1.059871</td>\n",
       "      <td>0.131585</td>\n",
       "    </tr>\n",
       "    <tr>\n",
       "      <th>140</th>\n",
       "      <td>0.479643</td>\n",
       "      <td>0.206629</td>\n",
       "      <td>0.516240</td>\n",
       "      <td>0.347126</td>\n",
       "      <td>0.738837</td>\n",
       "      <td>0.272217</td>\n",
       "    </tr>\n",
       "    <tr>\n",
       "      <th>141</th>\n",
       "      <td>0.368817</td>\n",
       "      <td>1.373556</td>\n",
       "      <td>0.572168</td>\n",
       "      <td>0.194070</td>\n",
       "      <td>0.527686</td>\n",
       "      <td>0.667839</td>\n",
       "    </tr>\n",
       "    <tr>\n",
       "      <th>142</th>\n",
       "      <td>0.852555</td>\n",
       "      <td>0.843636</td>\n",
       "      <td>0.378523</td>\n",
       "      <td>0.217961</td>\n",
       "      <td>0.314363</td>\n",
       "      <td>0.591616</td>\n",
       "    </tr>\n",
       "    <tr>\n",
       "      <th>143</th>\n",
       "      <td>0.915658</td>\n",
       "      <td>1.287123</td>\n",
       "      <td>0.523829</td>\n",
       "      <td>0.403811</td>\n",
       "      <td>0.651461</td>\n",
       "      <td>0.645657</td>\n",
       "    </tr>\n",
       "    <tr>\n",
       "      <th>144</th>\n",
       "      <td>0.984858</td>\n",
       "      <td>1.586848</td>\n",
       "      <td>0.744094</td>\n",
       "      <td>0.742200</td>\n",
       "      <td>0.235718</td>\n",
       "      <td>1.105620</td>\n",
       "    </tr>\n",
       "    <tr>\n",
       "      <th>145</th>\n",
       "      <td>1.109253</td>\n",
       "      <td>1.768186</td>\n",
       "      <td>0.604263</td>\n",
       "      <td>0.611077</td>\n",
       "      <td>0.243026</td>\n",
       "      <td>1.373415</td>\n",
       "    </tr>\n",
       "    <tr>\n",
       "      <th>146</th>\n",
       "      <td>1.164353</td>\n",
       "      <td>1.732810</td>\n",
       "      <td>0.533726</td>\n",
       "      <td>0.551551</td>\n",
       "      <td>-0.039737</td>\n",
       "      <td>1.131138</td>\n",
       "    </tr>\n",
       "    <tr>\n",
       "      <th>147</th>\n",
       "      <td>1.409310</td>\n",
       "      <td>2.344889</td>\n",
       "      <td>0.651382</td>\n",
       "      <td>0.735983</td>\n",
       "      <td>0.232006</td>\n",
       "      <td>1.643790</td>\n",
       "    </tr>\n",
       "    <tr>\n",
       "      <th>148</th>\n",
       "      <td>1.571823</td>\n",
       "      <td>1.655708</td>\n",
       "      <td>0.836770</td>\n",
       "      <td>0.724462</td>\n",
       "      <td>0.475243</td>\n",
       "      <td>1.821893</td>\n",
       "    </tr>\n",
       "    <tr>\n",
       "      <th>149</th>\n",
       "      <td>1.736579</td>\n",
       "      <td>2.063614</td>\n",
       "      <td>0.997008</td>\n",
       "      <td>0.677989</td>\n",
       "      <td>0.065319</td>\n",
       "      <td>1.967430</td>\n",
       "    </tr>\n",
       "  </tbody>\n",
       "</table>\n",
       "<p>150 rows × 6 columns</p>\n",
       "</div>"
      ],
      "text/plain": [
       "          x_a       x_b       x_c       y_a       y_b       y_c\n",
       "0   -1.781950 -1.761277 -0.350870 -0.403847  0.984246 -1.792404\n",
       "1   -1.709077 -1.160804 -0.755488 -0.459641  1.235856 -1.277236\n",
       "2   -1.617304 -0.956732 -0.467356 -0.655109  1.118372 -1.551299\n",
       "3   -1.693962 -0.787909 -0.545706 -0.516117  0.484307 -1.326873\n",
       "4   -1.292920 -0.973692 -0.383676 -0.337848  1.123871 -1.129003\n",
       "5   -1.513921 -1.562961 -0.559612 -0.332560  0.793864 -1.134841\n",
       "6   -1.325127 -0.762026 -0.529735 -0.492215  1.357246 -1.107987\n",
       "7   -1.163089 -0.560522 -0.319409 -0.418613  0.391693 -1.173009\n",
       "8   -0.743689 -0.297886 -0.279028 -0.393115  1.259620 -0.994968\n",
       "9   -0.876423  0.064933 -0.305009 -0.341021  1.047290 -0.929750\n",
       "10  -0.584091  0.033509 -0.143150 -0.058747  0.781611 -0.625574\n",
       "11  -0.383786  0.067803  0.158010 -0.151541  1.277871 -0.608947\n",
       "12  -0.142629 -0.020676 -0.152224 -0.124556  0.818591 -0.169672\n",
       "13  -0.249156  0.442143  0.137969 -0.098669  1.129144  0.106996\n",
       "14   0.166044  0.626807 -0.025823  0.268764  0.799398  0.193330\n",
       "15   0.274569  0.557777  0.082828  0.099275  0.657704  0.471201\n",
       "16   0.641852  0.615855  0.343544  0.481497  0.681177  0.686641\n",
       "17   0.486644  0.888492  0.429777  0.447243  0.054830  0.761333\n",
       "18   0.887488  0.687460  0.527960  0.343680  0.767913  0.634606\n",
       "19   0.899381  1.117657  0.771749  0.402253  0.613582  0.929090\n",
       "20   1.234695  1.420378  0.915993  0.624937  0.105180  1.008211\n",
       "21   1.345030  1.258354  0.694323  0.572799  0.755271  1.265000\n",
       "22   1.460812  1.972362  0.901664  0.714433  0.065340  1.328947\n",
       "23   1.724841  1.592715  0.802959  0.694946 -0.011827  1.825926\n",
       "24   1.766448  2.497625  1.040263  0.896354 -0.026048  1.500354\n",
       "25   1.864882  2.620094  0.852677  0.780174 -0.018957  1.886591\n",
       "26   1.764707  1.962778  0.992169  1.060823  0.427151  1.746624\n",
       "27   1.748283  2.774199  0.972107  1.056014  0.402226  2.156020\n",
       "28   1.839858  2.099029  1.021812  1.156641 -0.311571  1.928488\n",
       "29   2.211976  2.924365  0.853534  0.898619 -0.163082  2.126523\n",
       "..        ...       ...       ...       ...       ...       ...\n",
       "120 -1.497329 -1.357594 -0.737288 -0.338060  0.711193 -1.600463\n",
       "121 -1.476294 -0.779307 -0.317344 -0.588318  0.544741 -1.397175\n",
       "122 -1.547341 -1.667502 -0.463329 -0.681464  1.382846 -1.444644\n",
       "123 -1.763879 -1.441825 -0.701532 -0.548607  1.515534 -1.328713\n",
       "124 -1.747437 -1.653828 -0.407988 -0.577824  1.163167 -1.607232\n",
       "125 -1.551275 -1.146042 -0.672992 -0.622373  1.051088 -1.770065\n",
       "126 -1.648158 -1.582820 -0.649793 -0.640012  1.481406 -1.475650\n",
       "127 -1.580728 -1.747945 -0.662564 -0.393943  0.645320 -1.241395\n",
       "128 -1.599791 -0.714133 -0.298687 -0.697844  1.015109 -1.188078\n",
       "129 -1.212082 -1.228331 -0.270261 -0.414011  0.786612 -1.219940\n",
       "130 -1.205758 -1.515954 -0.612537 -0.559358  1.205532 -1.300871\n",
       "131 -1.072996 -1.278124 -0.418124 -0.532170  0.508972 -0.876140\n",
       "132 -1.202296 -0.342946 -0.525736 -0.429991  0.509699 -1.225951\n",
       "133 -0.874348 -1.128411 -0.319117 -0.432563  0.579456 -0.720410\n",
       "134 -0.636656 -0.439142 -0.183176 -0.220483  0.806493 -0.748230\n",
       "135 -0.694893 -0.039537 -0.347235 -0.034981  0.996748 -0.630928\n",
       "136 -0.537778  0.326907  0.173584  0.029701  1.229564 -0.142461\n",
       "137 -0.303371  0.374566 -0.082083 -0.080211  0.978633 -0.220972\n",
       "138 -0.046530  0.430890 -0.117097 -0.066150  0.488960 -0.124562\n",
       "139  0.107464  0.035941  0.443759  0.069729  1.059871  0.131585\n",
       "140  0.479643  0.206629  0.516240  0.347126  0.738837  0.272217\n",
       "141  0.368817  1.373556  0.572168  0.194070  0.527686  0.667839\n",
       "142  0.852555  0.843636  0.378523  0.217961  0.314363  0.591616\n",
       "143  0.915658  1.287123  0.523829  0.403811  0.651461  0.645657\n",
       "144  0.984858  1.586848  0.744094  0.742200  0.235718  1.105620\n",
       "145  1.109253  1.768186  0.604263  0.611077  0.243026  1.373415\n",
       "146  1.164353  1.732810  0.533726  0.551551 -0.039737  1.131138\n",
       "147  1.409310  2.344889  0.651382  0.735983  0.232006  1.643790\n",
       "148  1.571823  1.655708  0.836770  0.724462  0.475243  1.821893\n",
       "149  1.736579  2.063614  0.997008  0.677989  0.065319  1.967430\n",
       "\n",
       "[150 rows x 6 columns]"
      ]
     },
     "execution_count": 49,
     "metadata": {},
     "output_type": "execute_result"
    }
   ],
   "source": [
    "X"
   ]
  },
  {
   "cell_type": "code",
   "execution_count": 51,
   "metadata": {},
   "outputs": [
    {
     "data": {
      "text/html": [
       "<div>\n",
       "<table border=\"1\" class=\"dataframe\">\n",
       "  <thead>\n",
       "    <tr style=\"text-align: right;\">\n",
       "      <th></th>\n",
       "      <th>x_a</th>\n",
       "      <th>x_b</th>\n",
       "      <th>x_c</th>\n",
       "      <th>y_a</th>\n",
       "      <th>y_b</th>\n",
       "      <th>y_c</th>\n",
       "    </tr>\n",
       "  </thead>\n",
       "  <tbody>\n",
       "    <tr>\n",
       "      <th>x_a</th>\n",
       "      <td>250.246323</td>\n",
       "      <td>269.451961</td>\n",
       "      <td>114.742326</td>\n",
       "      <td>107.362913</td>\n",
       "      <td>-55.397329</td>\n",
       "      <td>246.954250</td>\n",
       "    </tr>\n",
       "    <tr>\n",
       "      <th>x_b</th>\n",
       "      <td>269.451961</td>\n",
       "      <td>321.813210</td>\n",
       "      <td>130.777556</td>\n",
       "      <td>121.046973</td>\n",
       "      <td>-31.274187</td>\n",
       "      <td>270.798903</td>\n",
       "    </tr>\n",
       "    <tr>\n",
       "      <th>x_c</th>\n",
       "      <td>114.742326</td>\n",
       "      <td>130.777556</td>\n",
       "      <td>59.299992</td>\n",
       "      <td>52.178046</td>\n",
       "      <td>-10.107374</td>\n",
       "      <td>114.732745</td>\n",
       "    </tr>\n",
       "    <tr>\n",
       "      <th>y_a</th>\n",
       "      <td>107.362913</td>\n",
       "      <td>121.046973</td>\n",
       "      <td>52.178046</td>\n",
       "      <td>50.375485</td>\n",
       "      <td>-13.743635</td>\n",
       "      <td>107.856838</td>\n",
       "    </tr>\n",
       "    <tr>\n",
       "      <th>y_b</th>\n",
       "      <td>-55.397329</td>\n",
       "      <td>-31.274187</td>\n",
       "      <td>-10.107374</td>\n",
       "      <td>-13.743635</td>\n",
       "      <td>88.893924</td>\n",
       "      <td>-50.320877</td>\n",
       "    </tr>\n",
       "    <tr>\n",
       "      <th>y_c</th>\n",
       "      <td>246.954250</td>\n",
       "      <td>270.798903</td>\n",
       "      <td>114.732745</td>\n",
       "      <td>107.856838</td>\n",
       "      <td>-50.320877</td>\n",
       "      <td>249.138756</td>\n",
       "    </tr>\n",
       "  </tbody>\n",
       "</table>\n",
       "</div>"
      ],
      "text/plain": [
       "            x_a         x_b         x_c         y_a        y_b         y_c\n",
       "x_a  250.246323  269.451961  114.742326  107.362913 -55.397329  246.954250\n",
       "x_b  269.451961  321.813210  130.777556  121.046973 -31.274187  270.798903\n",
       "x_c  114.742326  130.777556   59.299992   52.178046 -10.107374  114.732745\n",
       "y_a  107.362913  121.046973   52.178046   50.375485 -13.743635  107.856838\n",
       "y_b  -55.397329  -31.274187  -10.107374  -13.743635  88.893924  -50.320877\n",
       "y_c  246.954250  270.798903  114.732745  107.856838 -50.320877  249.138756"
      ]
     },
     "execution_count": 51,
     "metadata": {},
     "output_type": "execute_result"
    }
   ],
   "source": [
    "X.T.dot(X)"
   ]
  },
  {
   "cell_type": "markdown",
   "metadata": {},
   "source": [
    "### Gramian Matrix"
   ]
  },
  {
   "cell_type": "code",
   "execution_count": 7,
   "metadata": {
    "scrolled": true
   },
   "outputs": [
    {
     "data": {
      "text/html": [
       "<div>\n",
       "<table border=\"1\" class=\"dataframe\">\n",
       "  <thead>\n",
       "    <tr style=\"text-align: right;\">\n",
       "      <th></th>\n",
       "      <th>x_a</th>\n",
       "      <th>x_b</th>\n",
       "      <th>x_c</th>\n",
       "      <th>y_a</th>\n",
       "      <th>y_b</th>\n",
       "      <th>y_c</th>\n",
       "    </tr>\n",
       "  </thead>\n",
       "  <tbody>\n",
       "    <tr>\n",
       "      <th>x_a</th>\n",
       "      <td>250.246323</td>\n",
       "      <td>269.451961</td>\n",
       "      <td>114.742326</td>\n",
       "      <td>107.362913</td>\n",
       "      <td>-55.397329</td>\n",
       "      <td>246.954250</td>\n",
       "    </tr>\n",
       "    <tr>\n",
       "      <th>x_b</th>\n",
       "      <td>269.451961</td>\n",
       "      <td>321.813210</td>\n",
       "      <td>130.777556</td>\n",
       "      <td>121.046973</td>\n",
       "      <td>-31.274187</td>\n",
       "      <td>270.798903</td>\n",
       "    </tr>\n",
       "    <tr>\n",
       "      <th>x_c</th>\n",
       "      <td>114.742326</td>\n",
       "      <td>130.777556</td>\n",
       "      <td>59.299992</td>\n",
       "      <td>52.178046</td>\n",
       "      <td>-10.107374</td>\n",
       "      <td>114.732745</td>\n",
       "    </tr>\n",
       "    <tr>\n",
       "      <th>y_a</th>\n",
       "      <td>107.362913</td>\n",
       "      <td>121.046973</td>\n",
       "      <td>52.178046</td>\n",
       "      <td>50.375485</td>\n",
       "      <td>-13.743635</td>\n",
       "      <td>107.856838</td>\n",
       "    </tr>\n",
       "    <tr>\n",
       "      <th>y_b</th>\n",
       "      <td>-55.397329</td>\n",
       "      <td>-31.274187</td>\n",
       "      <td>-10.107374</td>\n",
       "      <td>-13.743635</td>\n",
       "      <td>88.893924</td>\n",
       "      <td>-50.320877</td>\n",
       "    </tr>\n",
       "    <tr>\n",
       "      <th>y_c</th>\n",
       "      <td>246.954250</td>\n",
       "      <td>270.798903</td>\n",
       "      <td>114.732745</td>\n",
       "      <td>107.856838</td>\n",
       "      <td>-50.320877</td>\n",
       "      <td>249.138756</td>\n",
       "    </tr>\n",
       "  </tbody>\n",
       "</table>\n",
       "</div>"
      ],
      "text/plain": [
       "            x_a         x_b         x_c         y_a        y_b         y_c\n",
       "x_a  250.246323  269.451961  114.742326  107.362913 -55.397329  246.954250\n",
       "x_b  269.451961  321.813210  130.777556  121.046973 -31.274187  270.798903\n",
       "x_c  114.742326  130.777556   59.299992   52.178046 -10.107374  114.732745\n",
       "y_a  107.362913  121.046973   52.178046   50.375485 -13.743635  107.856838\n",
       "y_b  -55.397329  -31.274187  -10.107374  -13.743635  88.893924  -50.320877\n",
       "y_c  246.954250  270.798903  114.732745  107.856838 -50.320877  249.138756"
      ]
     },
     "execution_count": 7,
     "metadata": {},
     "output_type": "execute_result"
    }
   ],
   "source": [
    "X.T.dot(X)"
   ]
  },
  {
   "cell_type": "markdown",
   "metadata": {},
   "source": [
    "Let's look at the covariance matrix of $X$."
   ]
  },
  {
   "cell_type": "code",
   "execution_count": 8,
   "metadata": {},
   "outputs": [
    {
     "data": {
      "text/html": [
       "<div>\n",
       "<table border=\"1\" class=\"dataframe\">\n",
       "  <thead>\n",
       "    <tr style=\"text-align: right;\">\n",
       "      <th></th>\n",
       "      <th>x_a</th>\n",
       "      <th>x_b</th>\n",
       "      <th>x_c</th>\n",
       "      <th>y_a</th>\n",
       "      <th>y_b</th>\n",
       "      <th>y_c</th>\n",
       "    </tr>\n",
       "  </thead>\n",
       "  <tbody>\n",
       "    <tr>\n",
       "      <th>x_a</th>\n",
       "      <td>1.659341</td>\n",
       "      <td>1.743069</td>\n",
       "      <td>0.739484</td>\n",
       "      <td>0.696700</td>\n",
       "      <td>-0.460090</td>\n",
       "      <td>1.630577</td>\n",
       "    </tr>\n",
       "    <tr>\n",
       "      <th>x_b</th>\n",
       "      <td>1.743069</td>\n",
       "      <td>1.948139</td>\n",
       "      <td>0.778560</td>\n",
       "      <td>0.735099</td>\n",
       "      <td>-0.495977</td>\n",
       "      <td>1.730498</td>\n",
       "    </tr>\n",
       "    <tr>\n",
       "      <th>x_c</th>\n",
       "      <td>0.739484</td>\n",
       "      <td>0.778560</td>\n",
       "      <td>0.351553</td>\n",
       "      <td>0.313986</td>\n",
       "      <td>-0.201823</td>\n",
       "      <td>0.729298</td>\n",
       "    </tr>\n",
       "    <tr>\n",
       "      <th>y_a</th>\n",
       "      <td>0.696700</td>\n",
       "      <td>0.735099</td>\n",
       "      <td>0.313986</td>\n",
       "      <td>0.309865</td>\n",
       "      <td>-0.196704</td>\n",
       "      <td>0.692123</td>\n",
       "    </tr>\n",
       "    <tr>\n",
       "      <th>y_b</th>\n",
       "      <td>-0.460090</td>\n",
       "      <td>-0.495977</td>\n",
       "      <td>-0.201823</td>\n",
       "      <td>-0.196704</td>\n",
       "      <td>0.209970</td>\n",
       "      <td>-0.455227</td>\n",
       "    </tr>\n",
       "    <tr>\n",
       "      <th>y_c</th>\n",
       "      <td>1.630577</td>\n",
       "      <td>1.730498</td>\n",
       "      <td>0.729298</td>\n",
       "      <td>0.692123</td>\n",
       "      <td>-0.455227</td>\n",
       "      <td>1.636361</td>\n",
       "    </tr>\n",
       "  </tbody>\n",
       "</table>\n",
       "</div>"
      ],
      "text/plain": [
       "          x_a       x_b       x_c       y_a       y_b       y_c\n",
       "x_a  1.659341  1.743069  0.739484  0.696700 -0.460090  1.630577\n",
       "x_b  1.743069  1.948139  0.778560  0.735099 -0.495977  1.730498\n",
       "x_c  0.739484  0.778560  0.351553  0.313986 -0.201823  0.729298\n",
       "y_a  0.696700  0.735099  0.313986  0.309865 -0.196704  0.692123\n",
       "y_b -0.460090 -0.495977 -0.201823 -0.196704  0.209970 -0.455227\n",
       "y_c  1.630577  1.730498  0.729298  0.692123 -0.455227  1.636361"
      ]
     },
     "execution_count": 8,
     "metadata": {},
     "output_type": "execute_result"
    }
   ],
   "source": [
    "X.cov()"
   ]
  },
  {
   "cell_type": "markdown",
   "metadata": {},
   "source": [
    "And the correlation matrix of $X$."
   ]
  },
  {
   "cell_type": "code",
   "execution_count": 9,
   "metadata": {},
   "outputs": [
    {
     "data": {
      "text/html": [
       "<div>\n",
       "<table border=\"1\" class=\"dataframe\">\n",
       "  <thead>\n",
       "    <tr style=\"text-align: right;\">\n",
       "      <th></th>\n",
       "      <th>x_a</th>\n",
       "      <th>x_b</th>\n",
       "      <th>x_c</th>\n",
       "      <th>y_a</th>\n",
       "      <th>y_b</th>\n",
       "      <th>y_c</th>\n",
       "    </tr>\n",
       "  </thead>\n",
       "  <tbody>\n",
       "    <tr>\n",
       "      <th>x_a</th>\n",
       "      <td>1.000000</td>\n",
       "      <td>0.969476</td>\n",
       "      <td>0.968201</td>\n",
       "      <td>0.971609</td>\n",
       "      <td>-0.779465</td>\n",
       "      <td>0.989541</td>\n",
       "    </tr>\n",
       "    <tr>\n",
       "      <th>x_b</th>\n",
       "      <td>0.969476</td>\n",
       "      <td>1.000000</td>\n",
       "      <td>0.940777</td>\n",
       "      <td>0.946127</td>\n",
       "      <td>-0.775484</td>\n",
       "      <td>0.969218</td>\n",
       "    </tr>\n",
       "    <tr>\n",
       "      <th>x_c</th>\n",
       "      <td>0.968201</td>\n",
       "      <td>0.940777</td>\n",
       "      <td>1.000000</td>\n",
       "      <td>0.951324</td>\n",
       "      <td>-0.742843</td>\n",
       "      <td>0.961546</td>\n",
       "    </tr>\n",
       "    <tr>\n",
       "      <th>y_a</th>\n",
       "      <td>0.971609</td>\n",
       "      <td>0.946127</td>\n",
       "      <td>0.951324</td>\n",
       "      <td>1.000000</td>\n",
       "      <td>-0.771168</td>\n",
       "      <td>0.971980</td>\n",
       "    </tr>\n",
       "    <tr>\n",
       "      <th>y_b</th>\n",
       "      <td>-0.779465</td>\n",
       "      <td>-0.775484</td>\n",
       "      <td>-0.742843</td>\n",
       "      <td>-0.771168</td>\n",
       "      <td>1.000000</td>\n",
       "      <td>-0.776624</td>\n",
       "    </tr>\n",
       "    <tr>\n",
       "      <th>y_c</th>\n",
       "      <td>0.989541</td>\n",
       "      <td>0.969218</td>\n",
       "      <td>0.961546</td>\n",
       "      <td>0.971980</td>\n",
       "      <td>-0.776624</td>\n",
       "      <td>1.000000</td>\n",
       "    </tr>\n",
       "  </tbody>\n",
       "</table>\n",
       "</div>"
      ],
      "text/plain": [
       "          x_a       x_b       x_c       y_a       y_b       y_c\n",
       "x_a  1.000000  0.969476  0.968201  0.971609 -0.779465  0.989541\n",
       "x_b  0.969476  1.000000  0.940777  0.946127 -0.775484  0.969218\n",
       "x_c  0.968201  0.940777  1.000000  0.951324 -0.742843  0.961546\n",
       "y_a  0.971609  0.946127  0.951324  1.000000 -0.771168  0.971980\n",
       "y_b -0.779465 -0.775484 -0.742843 -0.771168  1.000000 -0.776624\n",
       "y_c  0.989541  0.969218  0.961546  0.971980 -0.776624  1.000000"
      ]
     },
     "execution_count": 9,
     "metadata": {},
     "output_type": "execute_result"
    }
   ],
   "source": [
    "X.corr()"
   ]
  },
  {
   "cell_type": "markdown",
   "metadata": {
    "collapsed": true
   },
   "source": [
    "There's no discernable pattern in there because the data is not conditioned."
   ]
  },
  {
   "cell_type": "markdown",
   "metadata": {},
   "source": [
    "### Conditioning The Data"
   ]
  },
  {
   "cell_type": "markdown",
   "metadata": {},
   "source": [
    "Here we manually scale the data instead of importing `StandardScaler` from `sklearn.preprocessing`."
   ]
  },
  {
   "cell_type": "code",
   "execution_count": 10,
   "metadata": {},
   "outputs": [
    {
     "data": {
      "text/plain": [
       "(150, 6)"
      ]
     },
     "execution_count": 10,
     "metadata": {},
     "output_type": "execute_result"
    }
   ],
   "source": [
    "X.shape"
   ]
  },
  {
   "cell_type": "markdown",
   "metadata": {},
   "source": [
    "#### Center the Data"
   ]
  },
  {
   "cell_type": "code",
   "execution_count": 11,
   "metadata": {},
   "outputs": [
    {
     "data": {
      "text/plain": [
       "(x_a    0.141527\n",
       " x_b    0.458553\n",
       " x_c    0.214765\n",
       " y_a    0.167444\n",
       " y_b    0.619723\n",
       " y_c    0.188342\n",
       " dtype: float64, 0.29839222741877247)"
      ]
     },
     "execution_count": 11,
     "metadata": {},
     "output_type": "execute_result"
    }
   ],
   "source": [
    "X.mean(), np.array(X).mean()"
   ]
  },
  {
   "cell_type": "code",
   "execution_count": 12,
   "metadata": {},
   "outputs": [],
   "source": [
    "X_c = X - X.mean()"
   ]
  },
  {
   "cell_type": "markdown",
   "metadata": {},
   "source": [
    "### $X_{c}^TX_{c}$"
   ]
  },
  {
   "cell_type": "code",
   "execution_count": 13,
   "metadata": {},
   "outputs": [
    {
     "data": {
      "text/html": [
       "<div>\n",
       "<table border=\"1\" class=\"dataframe\">\n",
       "  <thead>\n",
       "    <tr style=\"text-align: right;\">\n",
       "      <th></th>\n",
       "      <th>x_a</th>\n",
       "      <th>x_b</th>\n",
       "      <th>x_c</th>\n",
       "      <th>y_a</th>\n",
       "      <th>y_b</th>\n",
       "      <th>y_c</th>\n",
       "    </tr>\n",
       "  </thead>\n",
       "  <tbody>\n",
       "    <tr>\n",
       "      <th>x_a</th>\n",
       "      <td>247.241851</td>\n",
       "      <td>259.717344</td>\n",
       "      <td>110.183069</td>\n",
       "      <td>103.808252</td>\n",
       "      <td>-68.553431</td>\n",
       "      <td>242.955929</td>\n",
       "    </tr>\n",
       "    <tr>\n",
       "      <th>x_b</th>\n",
       "      <td>259.717344</td>\n",
       "      <td>290.272644</td>\n",
       "      <td>116.005374</td>\n",
       "      <td>109.529723</td>\n",
       "      <td>-73.900508</td>\n",
       "      <td>257.844174</td>\n",
       "    </tr>\n",
       "    <tr>\n",
       "      <th>x_c</th>\n",
       "      <td>110.183069</td>\n",
       "      <td>116.005374</td>\n",
       "      <td>52.381367</td>\n",
       "      <td>46.783885</td>\n",
       "      <td>-30.071625</td>\n",
       "      <td>108.665333</td>\n",
       "    </tr>\n",
       "    <tr>\n",
       "      <th>y_a</th>\n",
       "      <td>103.808252</td>\n",
       "      <td>109.529723</td>\n",
       "      <td>46.783885</td>\n",
       "      <td>46.169883</td>\n",
       "      <td>-29.308923</td>\n",
       "      <td>103.126332</td>\n",
       "    </tr>\n",
       "    <tr>\n",
       "      <th>y_b</th>\n",
       "      <td>-68.553431</td>\n",
       "      <td>-73.900508</td>\n",
       "      <td>-30.071625</td>\n",
       "      <td>-29.308923</td>\n",
       "      <td>31.285472</td>\n",
       "      <td>-67.828884</td>\n",
       "    </tr>\n",
       "    <tr>\n",
       "      <th>y_c</th>\n",
       "      <td>242.955929</td>\n",
       "      <td>257.844174</td>\n",
       "      <td>108.665333</td>\n",
       "      <td>103.126332</td>\n",
       "      <td>-67.828884</td>\n",
       "      <td>243.817830</td>\n",
       "    </tr>\n",
       "  </tbody>\n",
       "</table>\n",
       "</div>"
      ],
      "text/plain": [
       "            x_a         x_b         x_c         y_a        y_b         y_c\n",
       "x_a  247.241851  259.717344  110.183069  103.808252 -68.553431  242.955929\n",
       "x_b  259.717344  290.272644  116.005374  109.529723 -73.900508  257.844174\n",
       "x_c  110.183069  116.005374   52.381367   46.783885 -30.071625  108.665333\n",
       "y_a  103.808252  109.529723   46.783885   46.169883 -29.308923  103.126332\n",
       "y_b  -68.553431  -73.900508  -30.071625  -29.308923  31.285472  -67.828884\n",
       "y_c  242.955929  257.844174  108.665333  103.126332 -67.828884  243.817830"
      ]
     },
     "execution_count": 13,
     "metadata": {},
     "output_type": "execute_result"
    }
   ],
   "source": [
    "X_c.T.dot(X_c)"
   ]
  },
  {
   "cell_type": "markdown",
   "metadata": {},
   "source": [
    "### $X_{c}$ covariance\n",
    "\n",
    "Note that `.cov()` calculates the **sample covariance** and is thus multiplied by a factor of $\\frac{1}{n-1}$.\n",
    "\n",
    "Here, we achieve identical results using `X_c.T.dot(X_c)/149` and `X.cov()`."
   ]
  },
  {
   "cell_type": "code",
   "execution_count": 14,
   "metadata": {
    "scrolled": true
   },
   "outputs": [
    {
     "data": {
      "text/html": [
       "<div>\n",
       "<table border=\"1\" class=\"dataframe\">\n",
       "  <thead>\n",
       "    <tr style=\"text-align: right;\">\n",
       "      <th></th>\n",
       "      <th>x_a</th>\n",
       "      <th>x_b</th>\n",
       "      <th>x_c</th>\n",
       "      <th>y_a</th>\n",
       "      <th>y_b</th>\n",
       "      <th>y_c</th>\n",
       "    </tr>\n",
       "  </thead>\n",
       "  <tbody>\n",
       "    <tr>\n",
       "      <th>x_a</th>\n",
       "      <td>1.659341</td>\n",
       "      <td>1.743069</td>\n",
       "      <td>0.739484</td>\n",
       "      <td>0.696700</td>\n",
       "      <td>-0.460090</td>\n",
       "      <td>1.630577</td>\n",
       "    </tr>\n",
       "    <tr>\n",
       "      <th>x_b</th>\n",
       "      <td>1.743069</td>\n",
       "      <td>1.948139</td>\n",
       "      <td>0.778560</td>\n",
       "      <td>0.735099</td>\n",
       "      <td>-0.495977</td>\n",
       "      <td>1.730498</td>\n",
       "    </tr>\n",
       "    <tr>\n",
       "      <th>x_c</th>\n",
       "      <td>0.739484</td>\n",
       "      <td>0.778560</td>\n",
       "      <td>0.351553</td>\n",
       "      <td>0.313986</td>\n",
       "      <td>-0.201823</td>\n",
       "      <td>0.729298</td>\n",
       "    </tr>\n",
       "    <tr>\n",
       "      <th>y_a</th>\n",
       "      <td>0.696700</td>\n",
       "      <td>0.735099</td>\n",
       "      <td>0.313986</td>\n",
       "      <td>0.309865</td>\n",
       "      <td>-0.196704</td>\n",
       "      <td>0.692123</td>\n",
       "    </tr>\n",
       "    <tr>\n",
       "      <th>y_b</th>\n",
       "      <td>-0.460090</td>\n",
       "      <td>-0.495977</td>\n",
       "      <td>-0.201823</td>\n",
       "      <td>-0.196704</td>\n",
       "      <td>0.209970</td>\n",
       "      <td>-0.455227</td>\n",
       "    </tr>\n",
       "    <tr>\n",
       "      <th>y_c</th>\n",
       "      <td>1.630577</td>\n",
       "      <td>1.730498</td>\n",
       "      <td>0.729298</td>\n",
       "      <td>0.692123</td>\n",
       "      <td>-0.455227</td>\n",
       "      <td>1.636361</td>\n",
       "    </tr>\n",
       "  </tbody>\n",
       "</table>\n",
       "</div>"
      ],
      "text/plain": [
       "          x_a       x_b       x_c       y_a       y_b       y_c\n",
       "x_a  1.659341  1.743069  0.739484  0.696700 -0.460090  1.630577\n",
       "x_b  1.743069  1.948139  0.778560  0.735099 -0.495977  1.730498\n",
       "x_c  0.739484  0.778560  0.351553  0.313986 -0.201823  0.729298\n",
       "y_a  0.696700  0.735099  0.313986  0.309865 -0.196704  0.692123\n",
       "y_b -0.460090 -0.495977 -0.201823 -0.196704  0.209970 -0.455227\n",
       "y_c  1.630577  1.730498  0.729298  0.692123 -0.455227  1.636361"
      ]
     },
     "execution_count": 14,
     "metadata": {},
     "output_type": "execute_result"
    }
   ],
   "source": [
    "X_c.T.dot(X_c)/149 # 150 number of rows. "
   ]
  },
  {
   "cell_type": "code",
   "execution_count": 15,
   "metadata": {
    "scrolled": false
   },
   "outputs": [
    {
     "data": {
      "text/html": [
       "<div>\n",
       "<table border=\"1\" class=\"dataframe\">\n",
       "  <thead>\n",
       "    <tr style=\"text-align: right;\">\n",
       "      <th></th>\n",
       "      <th>x_a</th>\n",
       "      <th>x_b</th>\n",
       "      <th>x_c</th>\n",
       "      <th>y_a</th>\n",
       "      <th>y_b</th>\n",
       "      <th>y_c</th>\n",
       "    </tr>\n",
       "  </thead>\n",
       "  <tbody>\n",
       "    <tr>\n",
       "      <th>x_a</th>\n",
       "      <td>1.659341</td>\n",
       "      <td>1.743069</td>\n",
       "      <td>0.739484</td>\n",
       "      <td>0.696700</td>\n",
       "      <td>-0.460090</td>\n",
       "      <td>1.630577</td>\n",
       "    </tr>\n",
       "    <tr>\n",
       "      <th>x_b</th>\n",
       "      <td>1.743069</td>\n",
       "      <td>1.948139</td>\n",
       "      <td>0.778560</td>\n",
       "      <td>0.735099</td>\n",
       "      <td>-0.495977</td>\n",
       "      <td>1.730498</td>\n",
       "    </tr>\n",
       "    <tr>\n",
       "      <th>x_c</th>\n",
       "      <td>0.739484</td>\n",
       "      <td>0.778560</td>\n",
       "      <td>0.351553</td>\n",
       "      <td>0.313986</td>\n",
       "      <td>-0.201823</td>\n",
       "      <td>0.729298</td>\n",
       "    </tr>\n",
       "    <tr>\n",
       "      <th>y_a</th>\n",
       "      <td>0.696700</td>\n",
       "      <td>0.735099</td>\n",
       "      <td>0.313986</td>\n",
       "      <td>0.309865</td>\n",
       "      <td>-0.196704</td>\n",
       "      <td>0.692123</td>\n",
       "    </tr>\n",
       "    <tr>\n",
       "      <th>y_b</th>\n",
       "      <td>-0.460090</td>\n",
       "      <td>-0.495977</td>\n",
       "      <td>-0.201823</td>\n",
       "      <td>-0.196704</td>\n",
       "      <td>0.209970</td>\n",
       "      <td>-0.455227</td>\n",
       "    </tr>\n",
       "    <tr>\n",
       "      <th>y_c</th>\n",
       "      <td>1.630577</td>\n",
       "      <td>1.730498</td>\n",
       "      <td>0.729298</td>\n",
       "      <td>0.692123</td>\n",
       "      <td>-0.455227</td>\n",
       "      <td>1.636361</td>\n",
       "    </tr>\n",
       "  </tbody>\n",
       "</table>\n",
       "</div>"
      ],
      "text/plain": [
       "          x_a       x_b       x_c       y_a       y_b       y_c\n",
       "x_a  1.659341  1.743069  0.739484  0.696700 -0.460090  1.630577\n",
       "x_b  1.743069  1.948139  0.778560  0.735099 -0.495977  1.730498\n",
       "x_c  0.739484  0.778560  0.351553  0.313986 -0.201823  0.729298\n",
       "y_a  0.696700  0.735099  0.313986  0.309865 -0.196704  0.692123\n",
       "y_b -0.460090 -0.495977 -0.201823 -0.196704  0.209970 -0.455227\n",
       "y_c  1.630577  1.730498  0.729298  0.692123 -0.455227  1.636361"
      ]
     },
     "execution_count": 15,
     "metadata": {},
     "output_type": "execute_result"
    }
   ],
   "source": [
    "X.cov()"
   ]
  },
  {
   "cell_type": "markdown",
   "metadata": {},
   "source": [
    "##### Remember: assertions go silent when they pass"
   ]
  },
  {
   "cell_type": "code",
   "execution_count": 16,
   "metadata": {},
   "outputs": [],
   "source": [
    "np.testing.assert_array_almost_equal(X_c.T.dot(X_c)/149, X.cov())"
   ]
  },
  {
   "cell_type": "markdown",
   "metadata": {},
   "source": [
    "### $X_{sc}$ correlation"
   ]
  },
  {
   "cell_type": "markdown",
   "metadata": {},
   "source": [
    "The correlation matrix is scaled data. \n",
    "\n",
    "Note that `.corr` calculates the **population correlation** and is the scaled data multiplied by a factor of $\\frac1n$."
   ]
  },
  {
   "cell_type": "markdown",
   "metadata": {},
   "source": [
    "#### Scale the Data"
   ]
  },
  {
   "cell_type": "code",
   "execution_count": 17,
   "metadata": {},
   "outputs": [],
   "source": [
    "X_sc = X_c/X.std(ddof=0)"
   ]
  },
  {
   "cell_type": "code",
   "execution_count": 18,
   "metadata": {},
   "outputs": [
    {
     "data": {
      "text/html": [
       "<div>\n",
       "<table border=\"1\" class=\"dataframe\">\n",
       "  <thead>\n",
       "    <tr style=\"text-align: right;\">\n",
       "      <th></th>\n",
       "      <th>x_a</th>\n",
       "      <th>x_b</th>\n",
       "      <th>x_c</th>\n",
       "      <th>y_a</th>\n",
       "      <th>y_b</th>\n",
       "      <th>y_c</th>\n",
       "    </tr>\n",
       "  </thead>\n",
       "  <tbody>\n",
       "    <tr>\n",
       "      <th>x_a</th>\n",
       "      <td>1.000000</td>\n",
       "      <td>0.969476</td>\n",
       "      <td>0.968201</td>\n",
       "      <td>0.971609</td>\n",
       "      <td>-0.779465</td>\n",
       "      <td>0.989541</td>\n",
       "    </tr>\n",
       "    <tr>\n",
       "      <th>x_b</th>\n",
       "      <td>0.969476</td>\n",
       "      <td>1.000000</td>\n",
       "      <td>0.940777</td>\n",
       "      <td>0.946127</td>\n",
       "      <td>-0.775484</td>\n",
       "      <td>0.969218</td>\n",
       "    </tr>\n",
       "    <tr>\n",
       "      <th>x_c</th>\n",
       "      <td>0.968201</td>\n",
       "      <td>0.940777</td>\n",
       "      <td>1.000000</td>\n",
       "      <td>0.951324</td>\n",
       "      <td>-0.742843</td>\n",
       "      <td>0.961546</td>\n",
       "    </tr>\n",
       "    <tr>\n",
       "      <th>y_a</th>\n",
       "      <td>0.971609</td>\n",
       "      <td>0.946127</td>\n",
       "      <td>0.951324</td>\n",
       "      <td>1.000000</td>\n",
       "      <td>-0.771168</td>\n",
       "      <td>0.971980</td>\n",
       "    </tr>\n",
       "    <tr>\n",
       "      <th>y_b</th>\n",
       "      <td>-0.779465</td>\n",
       "      <td>-0.775484</td>\n",
       "      <td>-0.742843</td>\n",
       "      <td>-0.771168</td>\n",
       "      <td>1.000000</td>\n",
       "      <td>-0.776624</td>\n",
       "    </tr>\n",
       "    <tr>\n",
       "      <th>y_c</th>\n",
       "      <td>0.989541</td>\n",
       "      <td>0.969218</td>\n",
       "      <td>0.961546</td>\n",
       "      <td>0.971980</td>\n",
       "      <td>-0.776624</td>\n",
       "      <td>1.000000</td>\n",
       "    </tr>\n",
       "  </tbody>\n",
       "</table>\n",
       "</div>"
      ],
      "text/plain": [
       "          x_a       x_b       x_c       y_a       y_b       y_c\n",
       "x_a  1.000000  0.969476  0.968201  0.971609 -0.779465  0.989541\n",
       "x_b  0.969476  1.000000  0.940777  0.946127 -0.775484  0.969218\n",
       "x_c  0.968201  0.940777  1.000000  0.951324 -0.742843  0.961546\n",
       "y_a  0.971609  0.946127  0.951324  1.000000 -0.771168  0.971980\n",
       "y_b -0.779465 -0.775484 -0.742843 -0.771168  1.000000 -0.776624\n",
       "y_c  0.989541  0.969218  0.961546  0.971980 -0.776624  1.000000"
      ]
     },
     "execution_count": 18,
     "metadata": {},
     "output_type": "execute_result"
    }
   ],
   "source": [
    "X_sc.T.dot(X_sc)/150"
   ]
  },
  {
   "cell_type": "code",
   "execution_count": 19,
   "metadata": {},
   "outputs": [
    {
     "data": {
      "text/html": [
       "<div>\n",
       "<table border=\"1\" class=\"dataframe\">\n",
       "  <thead>\n",
       "    <tr style=\"text-align: right;\">\n",
       "      <th></th>\n",
       "      <th>x_a</th>\n",
       "      <th>x_b</th>\n",
       "      <th>x_c</th>\n",
       "      <th>y_a</th>\n",
       "      <th>y_b</th>\n",
       "      <th>y_c</th>\n",
       "    </tr>\n",
       "  </thead>\n",
       "  <tbody>\n",
       "    <tr>\n",
       "      <th>x_a</th>\n",
       "      <td>1.000000</td>\n",
       "      <td>0.969476</td>\n",
       "      <td>0.968201</td>\n",
       "      <td>0.971609</td>\n",
       "      <td>-0.779465</td>\n",
       "      <td>0.989541</td>\n",
       "    </tr>\n",
       "    <tr>\n",
       "      <th>x_b</th>\n",
       "      <td>0.969476</td>\n",
       "      <td>1.000000</td>\n",
       "      <td>0.940777</td>\n",
       "      <td>0.946127</td>\n",
       "      <td>-0.775484</td>\n",
       "      <td>0.969218</td>\n",
       "    </tr>\n",
       "    <tr>\n",
       "      <th>x_c</th>\n",
       "      <td>0.968201</td>\n",
       "      <td>0.940777</td>\n",
       "      <td>1.000000</td>\n",
       "      <td>0.951324</td>\n",
       "      <td>-0.742843</td>\n",
       "      <td>0.961546</td>\n",
       "    </tr>\n",
       "    <tr>\n",
       "      <th>y_a</th>\n",
       "      <td>0.971609</td>\n",
       "      <td>0.946127</td>\n",
       "      <td>0.951324</td>\n",
       "      <td>1.000000</td>\n",
       "      <td>-0.771168</td>\n",
       "      <td>0.971980</td>\n",
       "    </tr>\n",
       "    <tr>\n",
       "      <th>y_b</th>\n",
       "      <td>-0.779465</td>\n",
       "      <td>-0.775484</td>\n",
       "      <td>-0.742843</td>\n",
       "      <td>-0.771168</td>\n",
       "      <td>1.000000</td>\n",
       "      <td>-0.776624</td>\n",
       "    </tr>\n",
       "    <tr>\n",
       "      <th>y_c</th>\n",
       "      <td>0.989541</td>\n",
       "      <td>0.969218</td>\n",
       "      <td>0.961546</td>\n",
       "      <td>0.971980</td>\n",
       "      <td>-0.776624</td>\n",
       "      <td>1.000000</td>\n",
       "    </tr>\n",
       "  </tbody>\n",
       "</table>\n",
       "</div>"
      ],
      "text/plain": [
       "          x_a       x_b       x_c       y_a       y_b       y_c\n",
       "x_a  1.000000  0.969476  0.968201  0.971609 -0.779465  0.989541\n",
       "x_b  0.969476  1.000000  0.940777  0.946127 -0.775484  0.969218\n",
       "x_c  0.968201  0.940777  1.000000  0.951324 -0.742843  0.961546\n",
       "y_a  0.971609  0.946127  0.951324  1.000000 -0.771168  0.971980\n",
       "y_b -0.779465 -0.775484 -0.742843 -0.771168  1.000000 -0.776624\n",
       "y_c  0.989541  0.969218  0.961546  0.971980 -0.776624  1.000000"
      ]
     },
     "execution_count": 19,
     "metadata": {},
     "output_type": "execute_result"
    }
   ],
   "source": [
    "X.corr()"
   ]
  },
  {
   "cell_type": "code",
   "execution_count": 20,
   "metadata": {},
   "outputs": [],
   "source": [
    "np.testing.assert_array_almost_equal(X_sc.T.dot(X_sc)/150, X.corr())"
   ]
  },
  {
   "cell_type": "markdown",
   "metadata": {},
   "source": [
    "### This is Interesting"
   ]
  },
  {
   "cell_type": "code",
   "execution_count": 21,
   "metadata": {},
   "outputs": [],
   "source": [
    "np.testing.assert_array_almost_equal(X_sc.corr(), X.corr())"
   ]
  },
  {
   "cell_type": "markdown",
   "metadata": {},
   "source": [
    "Correlation is scale independent (think distributions)."
   ]
  },
  {
   "cell_type": "markdown",
   "metadata": {},
   "source": [
    "## Datasets\n",
    "\n",
    "### Conditioned Data\n",
    "| dataset    | `numpy`                        | definition                                            |\n",
    "|:-----------|--------------------------------|-------------------------------------------------------|\n",
    "| $X$        | `X`                            | original                                              |\n",
    "| $X_{c}$    | `X - X.mean()`                 | centered (subtract the mean)                          |\n",
    "| $X_{sc}$   | `(X - X.mean())/X.std(ddof=0)` | scaled (subtract the mean, divide by std)             |\n",
    "\n",
    "### Gramian Data\n",
    "| dataset    | `numpy`                        | definition                                            |\n",
    "|:-----------|--------------------------------|-------------------------------------------------------|\n",
    "| $X^TX$     | `X.T.dot(X)` | the Gramian matrix for $X$ |\n",
    "| $X_{cov}$  | `X.cov()` | pairwise covariance of columns, divided by $n-1$<br>$X_c^TX_c$, divided by $n-1$ |\n",
    "| $X_{corr}$ | `X.corr()`| scaled, pairwise covariance, divided by $n$<br>$X_{sc}^TX_{sc}$, divided by $n$  |"
   ]
  },
  {
   "cell_type": "markdown",
   "metadata": {},
   "source": [
    "##  EigenDecomposition of the Covariance\n",
    "\n",
    "One tricky thing:\n",
    "\n",
    "- `sklearn` uses the population covariance i.e. multiplied by $\\frac{1}{n}$\n",
    "- `pandas` uses the sample covariance i.e. multiplied by $\\frac{1}{n-1}$\n"
   ]
  },
  {
   "cell_type": "code",
   "execution_count": 22,
   "metadata": {},
   "outputs": [
    {
     "data": {
      "text/plain": [
       "PCA(copy=True, iterated_power='auto', n_components=None, random_state=None,\n",
       "  svd_solver='auto', tol=0.0, whiten=False)"
      ]
     },
     "execution_count": 22,
     "metadata": {},
     "output_type": "execute_result"
    }
   ],
   "source": [
    "from sklearn.decomposition import PCA\n",
    "pca = PCA()\n",
    "pca.fit(X)"
   ]
  },
  {
   "cell_type": "code",
   "execution_count": 93,
   "metadata": {},
   "outputs": [],
   "source": [
    "eig_vals_cov, eig_vecs_cov = np.linalg.eig(X.cov()*149/150)"
   ]
  },
  {
   "cell_type": "code",
   "execution_count": 94,
   "metadata": {
    "scrolled": true
   },
   "outputs": [
    {
     "data": {
      "text/plain": [
       "array([ 5.87040171,  0.07985087,  0.07340121,  0.02213566,  0.01537562,\n",
       "        0.01329522])"
      ]
     },
     "metadata": {},
     "output_type": "display_data"
    },
    {
     "data": {
      "text/plain": [
       "array([ 5.87040171,  0.07985087,  0.07340121,  0.02213566,  0.01537562,\n",
       "        0.01329522])"
      ]
     },
     "metadata": {},
     "output_type": "display_data"
    }
   ],
   "source": [
    "eig_vals_man, eig_vecs_man = np.linalg.eig(X_c.T.dot(X_c)/150)\n",
    "\n",
    "display(eig_vals_man)\n",
    "display(eig_vals_cov)"
   ]
  },
  {
   "cell_type": "code",
   "execution_count": 92,
   "metadata": {},
   "outputs": [
    {
     "data": {
      "text/plain": [
       "array([[ 0.52682657,  0.17262649,  0.31625755, -0.17731535, -0.72479641,\n",
       "        -0.18937914],\n",
       "       [ 0.56671511, -0.17590956, -0.80209445, -0.04756028,  0.03888174,\n",
       "        -0.02757786],\n",
       "       [ 0.23611147,  0.1641343 ,  0.18238165, -0.77372634,  0.38199857,\n",
       "         0.37346068],\n",
       "       [ 0.22305483,  0.06201596,  0.19737089, -0.02885713,  0.48428456,\n",
       "        -0.81980548],\n",
       "       [-0.14965646,  0.93523925, -0.31227974,  0.0427291 , -0.01780559,\n",
       "        -0.0571755 ],\n",
       "       [ 0.52286577,  0.18384074,  0.29476888,  0.60414098,  0.30395213,\n",
       "         0.38542453]])"
      ]
     },
     "metadata": {},
     "output_type": "display_data"
    },
    {
     "data": {
      "text/plain": [
       "array([[ 0.52682657,  0.17262649,  0.31625755, -0.17731535, -0.72479641,\n",
       "        -0.18937914],\n",
       "       [ 0.56671511, -0.17590956, -0.80209445, -0.04756028,  0.03888174,\n",
       "        -0.02757786],\n",
       "       [ 0.23611147,  0.1641343 ,  0.18238165, -0.77372634,  0.38199857,\n",
       "         0.37346068],\n",
       "       [ 0.22305483,  0.06201596,  0.19737089, -0.02885713,  0.48428456,\n",
       "        -0.81980548],\n",
       "       [-0.14965646,  0.93523925, -0.31227974,  0.0427291 , -0.01780559,\n",
       "        -0.0571755 ],\n",
       "       [ 0.52286577,  0.18384074,  0.29476888,  0.60414098,  0.30395213,\n",
       "         0.38542453]])"
      ]
     },
     "metadata": {},
     "output_type": "display_data"
    }
   ],
   "source": [
    "display(eig_vecs_cov)\n",
    "display(eig_vecs_man)"
   ]
  },
  {
   "cell_type": "code",
   "execution_count": 83,
   "metadata": {},
   "outputs": [
    {
     "data": {
      "text/html": [
       "<div>\n",
       "<table border=\"1\" class=\"dataframe\">\n",
       "  <thead>\n",
       "    <tr style=\"text-align: right;\">\n",
       "      <th></th>\n",
       "      <th>0</th>\n",
       "      <th>1</th>\n",
       "      <th>2</th>\n",
       "      <th>3</th>\n",
       "      <th>4</th>\n",
       "      <th>5</th>\n",
       "    </tr>\n",
       "  </thead>\n",
       "  <tbody>\n",
       "    <tr>\n",
       "      <th>0</th>\n",
       "      <td>0.526827</td>\n",
       "      <td>0.172626</td>\n",
       "      <td>0.316258</td>\n",
       "      <td>-0.177315</td>\n",
       "      <td>-0.724796</td>\n",
       "      <td>-0.189379</td>\n",
       "    </tr>\n",
       "    <tr>\n",
       "      <th>1</th>\n",
       "      <td>0.566715</td>\n",
       "      <td>-0.175910</td>\n",
       "      <td>-0.802094</td>\n",
       "      <td>-0.047560</td>\n",
       "      <td>0.038882</td>\n",
       "      <td>-0.027578</td>\n",
       "    </tr>\n",
       "    <tr>\n",
       "      <th>2</th>\n",
       "      <td>0.236111</td>\n",
       "      <td>0.164134</td>\n",
       "      <td>0.182382</td>\n",
       "      <td>-0.773726</td>\n",
       "      <td>0.381999</td>\n",
       "      <td>0.373461</td>\n",
       "    </tr>\n",
       "    <tr>\n",
       "      <th>3</th>\n",
       "      <td>0.223055</td>\n",
       "      <td>0.062016</td>\n",
       "      <td>0.197371</td>\n",
       "      <td>-0.028857</td>\n",
       "      <td>0.484285</td>\n",
       "      <td>-0.819805</td>\n",
       "    </tr>\n",
       "    <tr>\n",
       "      <th>4</th>\n",
       "      <td>-0.149656</td>\n",
       "      <td>0.935239</td>\n",
       "      <td>-0.312280</td>\n",
       "      <td>0.042729</td>\n",
       "      <td>-0.017806</td>\n",
       "      <td>-0.057175</td>\n",
       "    </tr>\n",
       "    <tr>\n",
       "      <th>5</th>\n",
       "      <td>0.522866</td>\n",
       "      <td>0.183841</td>\n",
       "      <td>0.294769</td>\n",
       "      <td>0.604141</td>\n",
       "      <td>0.303952</td>\n",
       "      <td>0.385425</td>\n",
       "    </tr>\n",
       "  </tbody>\n",
       "</table>\n",
       "</div>"
      ],
      "text/plain": [
       "          0         1         2         3         4         5\n",
       "0  0.526827  0.172626  0.316258 -0.177315 -0.724796 -0.189379\n",
       "1  0.566715 -0.175910 -0.802094 -0.047560  0.038882 -0.027578\n",
       "2  0.236111  0.164134  0.182382 -0.773726  0.381999  0.373461\n",
       "3  0.223055  0.062016  0.197371 -0.028857  0.484285 -0.819805\n",
       "4 -0.149656  0.935239 -0.312280  0.042729 -0.017806 -0.057175\n",
       "5  0.522866  0.183841  0.294769  0.604141  0.303952  0.385425"
      ]
     },
     "execution_count": 83,
     "metadata": {},
     "output_type": "execute_result"
    }
   ],
   "source": [
    "eig_vecs_cov = pd.DataFrame(eig_vecs_cov)\n",
    "eig_vecs_cov"
   ]
  },
  {
   "cell_type": "code",
   "execution_count": 89,
   "metadata": {},
   "outputs": [
    {
     "data": {
      "text/html": [
       "<div>\n",
       "<table border=\"1\" class=\"dataframe\">\n",
       "  <thead>\n",
       "    <tr style=\"text-align: right;\">\n",
       "      <th></th>\n",
       "      <th>0</th>\n",
       "      <th>1</th>\n",
       "      <th>2</th>\n",
       "      <th>3</th>\n",
       "      <th>4</th>\n",
       "      <th>5</th>\n",
       "    </tr>\n",
       "  </thead>\n",
       "  <tbody>\n",
       "    <tr>\n",
       "      <th>0</th>\n",
       "      <td>0.526827</td>\n",
       "      <td>-0.172626</td>\n",
       "      <td>-0.316258</td>\n",
       "      <td>-0.177315</td>\n",
       "      <td>0.724796</td>\n",
       "      <td>-0.189379</td>\n",
       "    </tr>\n",
       "    <tr>\n",
       "      <th>1</th>\n",
       "      <td>0.566715</td>\n",
       "      <td>0.175910</td>\n",
       "      <td>0.802094</td>\n",
       "      <td>-0.047560</td>\n",
       "      <td>-0.038882</td>\n",
       "      <td>-0.027578</td>\n",
       "    </tr>\n",
       "    <tr>\n",
       "      <th>2</th>\n",
       "      <td>0.236111</td>\n",
       "      <td>-0.164134</td>\n",
       "      <td>-0.182382</td>\n",
       "      <td>-0.773726</td>\n",
       "      <td>-0.381999</td>\n",
       "      <td>0.373461</td>\n",
       "    </tr>\n",
       "    <tr>\n",
       "      <th>3</th>\n",
       "      <td>0.223055</td>\n",
       "      <td>-0.062016</td>\n",
       "      <td>-0.197371</td>\n",
       "      <td>-0.028857</td>\n",
       "      <td>-0.484285</td>\n",
       "      <td>-0.819805</td>\n",
       "    </tr>\n",
       "    <tr>\n",
       "      <th>4</th>\n",
       "      <td>-0.149656</td>\n",
       "      <td>-0.935239</td>\n",
       "      <td>0.312280</td>\n",
       "      <td>0.042729</td>\n",
       "      <td>0.017806</td>\n",
       "      <td>-0.057175</td>\n",
       "    </tr>\n",
       "    <tr>\n",
       "      <th>5</th>\n",
       "      <td>0.522866</td>\n",
       "      <td>-0.183841</td>\n",
       "      <td>-0.294769</td>\n",
       "      <td>0.604141</td>\n",
       "      <td>-0.303952</td>\n",
       "      <td>0.385425</td>\n",
       "    </tr>\n",
       "  </tbody>\n",
       "</table>\n",
       "</div>"
      ],
      "text/plain": [
       "          0         1         2         3         4         5\n",
       "0  0.526827 -0.172626 -0.316258 -0.177315  0.724796 -0.189379\n",
       "1  0.566715  0.175910  0.802094 -0.047560 -0.038882 -0.027578\n",
       "2  0.236111 -0.164134 -0.182382 -0.773726 -0.381999  0.373461\n",
       "3  0.223055 -0.062016 -0.197371 -0.028857 -0.484285 -0.819805\n",
       "4 -0.149656 -0.935239  0.312280  0.042729  0.017806 -0.057175\n",
       "5  0.522866 -0.183841 -0.294769  0.604141 -0.303952  0.385425"
      ]
     },
     "execution_count": 89,
     "metadata": {},
     "output_type": "execute_result"
    }
   ],
   "source": [
    "pd.DataFrame(pca.components_.T)"
   ]
  },
  {
   "cell_type": "code",
   "execution_count": 27,
   "metadata": {},
   "outputs": [
    {
     "data": {
      "text/html": [
       "<div>\n",
       "<table border=\"1\" class=\"dataframe\">\n",
       "  <thead>\n",
       "    <tr style=\"text-align: right;\">\n",
       "      <th></th>\n",
       "      <th>0</th>\n",
       "      <th>1</th>\n",
       "      <th>2</th>\n",
       "      <th>3</th>\n",
       "      <th>4</th>\n",
       "      <th>5</th>\n",
       "    </tr>\n",
       "  </thead>\n",
       "  <tbody>\n",
       "    <tr>\n",
       "      <th>0</th>\n",
       "      <td>0.526827</td>\n",
       "      <td>0.172626</td>\n",
       "      <td>0.316258</td>\n",
       "      <td>-0.177315</td>\n",
       "      <td>-0.724796</td>\n",
       "      <td>-0.189379</td>\n",
       "    </tr>\n",
       "    <tr>\n",
       "      <th>1</th>\n",
       "      <td>0.566715</td>\n",
       "      <td>-0.175910</td>\n",
       "      <td>-0.802094</td>\n",
       "      <td>-0.047560</td>\n",
       "      <td>0.038882</td>\n",
       "      <td>-0.027578</td>\n",
       "    </tr>\n",
       "    <tr>\n",
       "      <th>2</th>\n",
       "      <td>0.236111</td>\n",
       "      <td>0.164134</td>\n",
       "      <td>0.182382</td>\n",
       "      <td>-0.773726</td>\n",
       "      <td>0.381999</td>\n",
       "      <td>0.373461</td>\n",
       "    </tr>\n",
       "    <tr>\n",
       "      <th>3</th>\n",
       "      <td>0.223055</td>\n",
       "      <td>0.062016</td>\n",
       "      <td>0.197371</td>\n",
       "      <td>-0.028857</td>\n",
       "      <td>0.484285</td>\n",
       "      <td>-0.819805</td>\n",
       "    </tr>\n",
       "    <tr>\n",
       "      <th>4</th>\n",
       "      <td>-0.149656</td>\n",
       "      <td>0.935239</td>\n",
       "      <td>-0.312280</td>\n",
       "      <td>0.042729</td>\n",
       "      <td>-0.017806</td>\n",
       "      <td>-0.057175</td>\n",
       "    </tr>\n",
       "    <tr>\n",
       "      <th>5</th>\n",
       "      <td>0.522866</td>\n",
       "      <td>0.183841</td>\n",
       "      <td>0.294769</td>\n",
       "      <td>0.604141</td>\n",
       "      <td>0.303952</td>\n",
       "      <td>0.385425</td>\n",
       "    </tr>\n",
       "  </tbody>\n",
       "</table>\n",
       "</div>"
      ],
      "text/plain": [
       "          0         1         2         3         4         5\n",
       "0  0.526827  0.172626  0.316258 -0.177315 -0.724796 -0.189379\n",
       "1  0.566715 -0.175910 -0.802094 -0.047560  0.038882 -0.027578\n",
       "2  0.236111  0.164134  0.182382 -0.773726  0.381999  0.373461\n",
       "3  0.223055  0.062016  0.197371 -0.028857  0.484285 -0.819805\n",
       "4 -0.149656  0.935239 -0.312280  0.042729 -0.017806 -0.057175\n",
       "5  0.522866  0.183841  0.294769  0.604141  0.303952  0.385425"
      ]
     },
     "execution_count": 27,
     "metadata": {},
     "output_type": "execute_result"
    }
   ],
   "source": [
    "eig_vecs_man = pd.DataFrame(eig_vecs_man)\n",
    "eig_vecs_man"
   ]
  },
  {
   "cell_type": "code",
   "execution_count": 28,
   "metadata": {},
   "outputs": [
    {
     "name": "stdout",
     "output_type": "stream",
     "text": [
      "Manual and PCA Components are not equal.\n"
     ]
    }
   ],
   "source": [
    "try:\n",
    "    np.testing.assert_array_almost_equal(eig_vecs_cov, eig_vecs_man)\n",
    "except:\n",
    "    print(\"Manual and Covariance are not equal.\")\n",
    "try:\n",
    "    np.testing.assert_array_almost_equal(pca.components_.T, eig_vecs_man)\n",
    "except:\n",
    "    print(\"Manual and PCA Components are not equal.\")"
   ]
  },
  {
   "cell_type": "code",
   "execution_count": 29,
   "metadata": {},
   "outputs": [
    {
     "data": {
      "text/plain": [
       "(array([ 5.87040171,  0.07985087,  0.07340121,  0.02213566,  0.01537562,\n",
       "         0.01329522]),\n",
       " array([ 5.87040171,  0.07985087,  0.07340121,  0.02213566,  0.01537562,\n",
       "         0.01329522]))"
      ]
     },
     "execution_count": 29,
     "metadata": {},
     "output_type": "execute_result"
    }
   ],
   "source": [
    "eig_vals_man, eig_vals_cov"
   ]
  },
  {
   "cell_type": "code",
   "execution_count": 30,
   "metadata": {
    "scrolled": false
   },
   "outputs": [
    {
     "data": {
      "text/plain": [
       "array([ 5.90980038,  0.08038678,  0.07389384,  0.02228422,  0.01547882,\n",
       "        0.01338445])"
      ]
     },
     "execution_count": 30,
     "metadata": {},
     "output_type": "execute_result"
    }
   ],
   "source": [
    "pca.explained_variance_"
   ]
  },
  {
   "cell_type": "markdown",
   "metadata": {},
   "source": [
    "# A Principal Component Analysis is the EigenDecomposition of the Population Covariance Matrix"
   ]
  },
  {
   "cell_type": "markdown",
   "metadata": {},
   "source": [
    "### We can state the sklearn PCA algorithm as such"
   ]
  },
  {
   "cell_type": "markdown",
   "metadata": {},
   "source": [
    "1. for data $A$\n",
    "2. center the data $A_c = A - A_\\mu$\n",
    "2. calculate $A_c^TA_c$\n",
    "3. divide $A_c^TA_c$ by $n$\n",
    "4. find the eigendecomposition of this matrix, $S\\Lambda S^T$\n",
    "5. the explained variances are the eigenvalues, the principal components are S."
   ]
  },
  {
   "cell_type": "markdown",
   "metadata": {},
   "source": [
    "### Explained Variance Ratio\n",
    "\n",
    "Explained variance ratio scales all of the explained variance values so that the sum of the explained variances is 1."
   ]
  },
  {
   "cell_type": "code",
   "execution_count": 31,
   "metadata": {},
   "outputs": [
    {
     "data": {
      "text/plain": [
       "array([ 0.96640712,  0.01314534,  0.01208358,  0.00364405,  0.00253119,\n",
       "        0.00218871])"
      ]
     },
     "execution_count": 31,
     "metadata": {},
     "output_type": "execute_result"
    }
   ],
   "source": [
    "pca.explained_variance_ratio_ # 96 percent of the data is in 1. The rest are just noise. "
   ]
  },
  {
   "cell_type": "markdown",
   "metadata": {},
   "source": [
    "Basically almost all of our data is captured by the first principal component. "
   ]
  },
  {
   "cell_type": "code",
   "execution_count": 32,
   "metadata": {},
   "outputs": [],
   "source": [
    "pca_1 = PCA(n_components=3)"
   ]
  },
  {
   "cell_type": "code",
   "execution_count": 33,
   "metadata": {},
   "outputs": [
    {
     "data": {
      "text/plain": [
       "array([[ -3.62254918e+00,   9.30485667e-02,  -2.58586120e-01],\n",
       "       [ -3.12013185e+00,  -7.40548986e-02,   2.11527975e-01],\n",
       "       [ -3.05741789e+00,   7.10904411e-02,   3.76316577e-01],\n",
       "       [ -2.77738876e+00,   6.70005015e-01,   2.58668754e-01],\n",
       "       [ -2.58562930e+00,  -1.04078690e-01,   5.94814674e-02],\n",
       "       [ -3.03003217e+00,   1.68671746e-01,  -4.13564840e-01],\n",
       "       [ -2.57549883e+00,  -2.49862927e-01,   3.63233142e-01],\n",
       "       [ -2.19935673e+00,   6.33501649e-01,   1.38369277e-01],\n",
       "       [ -1.85114294e+00,  -2.45357299e-01,   4.22547931e-01],\n",
       "       [ -1.64409351e+00,   2.90022913e-02,   6.64466933e-01],\n",
       "       [ -1.20791102e+00,   1.21492057e-01,   2.88949287e-01],\n",
       "       [ -1.09811548e+00,  -4.17907570e-01,   3.66568413e-01],\n",
       "       [ -7.90024557e-01,  -7.70752269e-02,  -2.32202115e-03],\n",
       "       [ -4.11382935e-01,  -3.67811961e-01,   3.59983881e-01],\n",
       "       [  4.97812269e-02,  -1.10386216e-01,   2.05721848e-01],\n",
       "       [  2.22177842e-01,  -6.71515654e-02,   3.51234178e-03],\n",
       "       [  7.04533620e-01,  -2.48394152e-01,  -2.45224051e-01],\n",
       "       [  9.22784898e-01,   3.86381660e-01,  -2.04037110e-01],\n",
       "       [  8.47135757e-01,  -3.71475572e-01,  -2.29483194e-01],\n",
       "       [  1.34489875e+00,  -2.51302135e-01,  -7.92084841e-02],\n",
       "       [  1.89429078e+00,   1.67512105e-01,  -1.94787535e-01],\n",
       "       [  1.83360399e+00,  -4.95618175e-01,  -1.81604990e-01],\n",
       "       [  2.51647674e+00,   2.00674762e-01,   5.44098556e-02],\n",
       "       [  2.68417180e+00,   8.65275924e-02,  -4.82348109e-01],\n",
       "       [  3.15177119e+00,   2.60240597e-01,   2.38811962e-01],\n",
       "       [  3.40371667e+00,   2.25148036e-01,   2.51419905e-01],\n",
       "       [  2.93401923e+00,  -3.04973713e-01,  -1.44392457e-01],\n",
       "       [  3.59719168e+00,  -2.07763452e-01,   3.87784737e-01],\n",
       "       [  3.28484391e+00,   3.52661409e-01,  -3.67486921e-01],\n",
       "       [  3.93265382e+00,   3.01950615e-01,   2.46436750e-01],\n",
       "       [  3.36587730e+00,   1.55931539e-01,   8.34782496e-02],\n",
       "       [  3.76306854e+00,  -1.64445110e-01,   3.64144526e-01],\n",
       "       [  3.68461731e+00,   3.43536505e-01,   4.33016197e-01],\n",
       "       [  3.26475007e+00,  -2.60925041e-02,  -1.90571273e-01],\n",
       "       [  3.42749877e+00,  -1.18767897e-01,  -1.34653783e-01],\n",
       "       [  3.34167115e+00,   5.34708645e-01,   2.19504643e-01],\n",
       "       [  2.76297877e+00,  -2.00615013e-01,  -2.09566080e-01],\n",
       "       [  2.97099159e+00,  -2.23968821e-01,   1.65943621e-01],\n",
       "       [  2.50730557e+00,   2.97940896e-02,  -2.65443290e-01],\n",
       "       [  2.71119095e+00,  -5.99956199e-02,   3.66736456e-01],\n",
       "       [  2.21854798e+00,   4.89558872e-01,   4.15557112e-02],\n",
       "       [  1.85338941e+00,   1.12286055e-01,  -1.26142255e-01],\n",
       "       [  1.21920489e+00,   3.52550287e-01,  -5.54058320e-01],\n",
       "       [  9.74412450e-01,  -2.69709314e-01,  -2.00798690e-01],\n",
       "       [  1.19395379e+00,   1.03653534e-01,   2.38305111e-01],\n",
       "       [  6.78296966e-01,   1.96991702e-01,   2.92827707e-01],\n",
       "       [  8.74304872e-02,   2.57417876e-01,  -1.45419401e-01],\n",
       "       [ -4.81696275e-01,   3.97005879e-02,   1.32734796e-01],\n",
       "       [ -5.37489335e-01,   8.68991876e-02,  -2.55914064e-01],\n",
       "       [ -1.17716127e+00,  -1.17768530e-01,  -2.91018319e-01],\n",
       "       [ -1.26484487e+00,   3.22839932e-01,  -4.30840694e-01],\n",
       "       [ -1.70635971e+00,   5.83205773e-02,  -3.00685215e-01],\n",
       "       [ -1.80153114e+00,  -5.44674689e-01,  -6.24339762e-02],\n",
       "       [ -2.10459988e+00,  -1.72041406e-01,  -7.72207846e-02],\n",
       "       [ -2.14278557e+00,   4.26515917e-01,   1.96217494e-01],\n",
       "       [ -2.79801883e+00,  -4.51622320e-01,   4.53438114e-02],\n",
       "       [ -3.12192982e+00,  -1.55629262e-01,  -2.97758227e-01],\n",
       "       [ -3.00037821e+00,  -4.36287904e-03,   7.43037061e-02],\n",
       "       [ -3.60226068e+00,   2.55876366e-01,  -3.36933368e-01],\n",
       "       [ -3.43595287e+00,  -8.45912568e-02,  -1.85220141e-01],\n",
       "       [ -3.43222144e+00,  -4.26250341e-01,   2.38736773e-01],\n",
       "       [ -3.57274807e+00,  -3.83507055e-02,  -1.44781499e-01],\n",
       "       [ -3.39175882e+00,  -2.18349733e-01,  -1.45517130e-01],\n",
       "       [ -3.55801030e+00,  -3.71457153e-01,  -8.39323521e-02],\n",
       "       [ -3.15601109e+00,   8.68000292e-02,   3.50062624e-01],\n",
       "       [ -3.43351066e+00,   1.84079187e-01,  -3.26010052e-01],\n",
       "       [ -2.98768900e+00,   3.13282163e-02,  -2.38714180e-01],\n",
       "       [ -3.01168262e+00,   5.23346676e-01,  -1.26022942e-01],\n",
       "       [ -2.69567744e+00,   9.19346258e-02,  -2.00439174e-01],\n",
       "       [ -2.20632111e+00,   4.12241962e-01,   3.62775440e-01],\n",
       "       [ -1.83958874e+00,  -2.79361990e-01,   5.08140008e-01],\n",
       "       [ -1.82693245e+00,  -4.37596533e-01,  -5.12636587e-02],\n",
       "       [ -1.31523318e+00,   3.47794966e-02,   4.92004123e-01],\n",
       "       [ -1.12554090e+00,  -1.07135587e-02,   3.41602354e-01],\n",
       "       [ -1.12310474e+00,  -3.06052023e-01,  -1.44241101e-01],\n",
       "       [ -5.80697059e-01,   3.48364130e-01,  -2.00211972e-01],\n",
       "       [ -2.20420949e-01,   3.49739909e-01,   1.44387107e-01],\n",
       "       [  4.01308914e-01,   4.03041571e-01,  -1.45486857e-02],\n",
       "       [  3.60790267e-01,  -9.61646694e-02,   1.41982235e-01],\n",
       "       [  7.77670907e-01,   1.10160762e-01,  -3.19882738e-01],\n",
       "       [  7.55558149e-01,  -2.01839441e-01,  -2.33819753e-01],\n",
       "       [  1.27138982e+00,  -2.66754099e-01,  -1.78042321e-02],\n",
       "       [  1.63453618e+00,  -2.12900137e-01,  -8.52623996e-02],\n",
       "       [  2.24085835e+00,   1.35961438e-01,  -3.78947477e-02],\n",
       "       [  2.07415725e+00,  -5.25068894e-01,  -9.69280615e-02],\n",
       "       [  2.93201722e+00,   1.04663048e-01,   3.90718158e-01],\n",
       "       [  2.72102219e+00,  -2.77262941e-01,  -3.80749605e-01],\n",
       "       [  2.74092242e+00,   1.92726716e-01,  -2.40945790e-01],\n",
       "       [  3.02531072e+00,  -2.53165152e-01,  -2.10692561e-01],\n",
       "       [  3.45056480e+00,   4.61585632e-01,  -2.60469016e-01],\n",
       "       [  3.20302237e+00,   2.47966336e-03,  -2.06805227e-01],\n",
       "       [  3.62375080e+00,  -3.28888816e-01,  -6.21661230e-03],\n",
       "       [  3.84914572e+00,  -1.82248415e-01,   4.13044497e-01],\n",
       "       [  3.49848252e+00,   1.14591111e-01,  -4.99680046e-01],\n",
       "       [  3.42184068e+00,  -5.29270018e-02,  -9.56585109e-02],\n",
       "       [  3.23844186e+00,  -3.80848791e-03,  -3.10662784e-02],\n",
       "       [  3.22561374e+00,  -3.31325298e-01,  -3.18278863e-02],\n",
       "       [  3.20635557e+00,   4.68023305e-01,  -1.08196626e-01],\n",
       "       [  2.73992901e+00,  -2.77870546e-02,  -3.64308556e-01],\n",
       "       [  2.94294633e+00,  -3.50961652e-01,  -7.97338488e-02],\n",
       "       [  2.61340373e+00,  -1.24743889e-01,  -2.41632782e-01],\n",
       "       [  2.80869753e+00,  -2.92656303e-01,   2.46997535e-01],\n",
       "       [  2.26344641e+00,  -1.95023682e-01,  -9.93200270e-02],\n",
       "       [  1.95605372e+00,  -3.98028151e-02,   4.82407894e-01],\n",
       "       [  1.76051514e+00,   3.44300642e-01,   4.51890027e-01],\n",
       "       [  1.00734344e+00,  -2.11157072e-01,  -1.50065505e-01],\n",
       "       [  1.03141951e+00,  -2.99931057e-01,   2.20767280e-01],\n",
       "       [  6.02348330e-01,  -4.31700301e-01,  -6.32158142e-02],\n",
       "       [  2.47077135e-01,  -3.37292185e-02,  -5.05075335e-03],\n",
       "       [ -1.27568637e-01,   5.82123091e-01,  -3.29772593e-02],\n",
       "       [ -6.92596849e-01,  -1.51685826e-01,   2.12503609e-02],\n",
       "       [ -1.01738530e+00,   3.80169322e-01,  -5.09852783e-01],\n",
       "       [ -1.20709419e+00,   1.58870074e-01,  -4.09021296e-03],\n",
       "       [ -1.51736700e+00,  -3.53233980e-01,  -2.29990480e-01],\n",
       "       [ -2.07167351e+00,  -5.42745368e-02,  -2.97018241e-02],\n",
       "       [ -1.90189481e+00,   3.28649556e-01,   4.28402837e-01],\n",
       "       [ -2.47736612e+00,   7.93203241e-02,  -2.96463010e-01],\n",
       "       [ -2.65559698e+00,  -3.21182225e-01,   2.13572191e-01],\n",
       "       [ -2.80610509e+00,  -1.97324294e-01,  -2.04049664e-02],\n",
       "       [ -3.09295787e+00,  -3.63071674e-01,   9.91867592e-03],\n",
       "       [ -3.17917025e+00,   3.94355313e-01,  -1.09163190e-01],\n",
       "       [ -2.66582938e+00,   5.57343073e-01,   2.08925930e-01],\n",
       "       [ -3.41210557e+00,  -3.31998451e-01,  -1.60295808e-01],\n",
       "       [ -3.38413821e+00,  -3.69470180e-01,   1.13684220e-01],\n",
       "       [ -3.52572307e+00,  -7.52195133e-02,  -1.37270325e-01],\n",
       "       [ -3.27548397e+00,   1.61257346e-01,   2.78106212e-01],\n",
       "       [ -3.48297050e+00,  -3.58141872e-01,   5.25528550e-03],\n",
       "       [ -3.24154430e+00,   3.26882402e-01,  -5.24897209e-01],\n",
       "       [ -2.67504510e+00,   1.15508837e-01,   4.03724271e-01],\n",
       "       [ -2.67463468e+00,   1.55417156e-01,  -2.54494695e-01],\n",
       "       [ -3.05254952e+00,  -2.07989260e-01,  -2.41407577e-01],\n",
       "       [ -2.46953470e+00,   3.50700736e-01,  -4.76174747e-01],\n",
       "       [ -2.19330470e+00,   6.12483569e-01,   4.17617992e-01],\n",
       "       [ -2.16356554e+00,   2.25767623e-01,  -4.80524918e-01],\n",
       "       [ -1.61684500e+00,   6.33004946e-02,   9.60977691e-03],\n",
       "       [ -1.38556201e+00,  -4.04272284e-02,   3.66693287e-01],\n",
       "       [ -7.37160889e-01,  -4.00122800e-01,   4.31891904e-01],\n",
       "       [ -6.75040069e-01,  -1.34309514e-01,   4.09089923e-01],\n",
       "       [ -3.89247938e-01,   2.76373305e-01,   1.95315898e-01],\n",
       "       [ -3.20720386e-01,  -5.01196586e-01,  -1.96500122e-01],\n",
       "       [  1.72649228e-01,  -2.90129134e-01,  -3.86971809e-01],\n",
       "       [  9.93100804e-01,   5.93332188e-02,   4.21515827e-01],\n",
       "       [  8.99311246e-01,   1.26432204e-01,  -1.70062307e-01],\n",
       "       [  1.23745700e+00,  -1.67024544e-01,   1.91856110e-01],\n",
       "       [  1.87397570e+00,   1.20875286e-01,   3.80073871e-02],\n",
       "       [  2.11894132e+00,   1.06316107e-01,   1.18843855e-01],\n",
       "       [  2.01362840e+00,   4.14842814e-01,   8.07712800e-02],\n",
       "       [  2.78585073e+00,   1.01086516e-01,   3.70133222e-01],\n",
       "       [  2.57882237e+00,  -3.38142067e-01,  -2.42129835e-01],\n",
       "       [  3.06169888e+00,   3.83735924e-02,  -1.58018655e-01]])"
      ]
     },
     "execution_count": 33,
     "metadata": {},
     "output_type": "execute_result"
    }
   ],
   "source": [
    "pca_1_vec = pca_1.fit_transform(X)\n",
    "pca_1_vec"
   ]
  },
  {
   "cell_type": "code",
   "execution_count": 97,
   "metadata": {},
   "outputs": [
    {
     "data": {
      "text/plain": [
       "array([  0,   1,   2,   3,   4,   5,   6,   7,   8,   9,  10,  11,  12,\n",
       "        13,  14,  15,  16,  17,  18,  19,  20,  21,  22,  23,  24,  25,\n",
       "        26,  27,  28,  29,  30,  31,  32,  33,  34,  35,  36,  37,  38,\n",
       "        39,  40,  41,  42,  43,  44,  45,  46,  47,  48,  49,  50,  51,\n",
       "        52,  53,  54,  55,  56,  57,  58,  59,  60,  61,  62,  63,  64,\n",
       "        65,  66,  67,  68,  69,  70,  71,  72,  73,  74,  75,  76,  77,\n",
       "        78,  79,  80,  81,  82,  83,  84,  85,  86,  87,  88,  89,  90,\n",
       "        91,  92,  93,  94,  95,  96,  97,  98,  99, 100, 101, 102, 103,\n",
       "       104, 105, 106, 107, 108, 109, 110, 111, 112, 113, 114, 115, 116,\n",
       "       117, 118, 119, 120, 121, 122, 123, 124, 125, 126, 127, 128, 129,\n",
       "       130, 131, 132, 133, 134, 135, 136, 137, 138, 139, 140, 141, 142,\n",
       "       143, 144, 145, 146, 147, 148, 149])"
      ]
     },
     "execution_count": 97,
     "metadata": {},
     "output_type": "execute_result"
    }
   ],
   "source": [
    "tt = np.array(range(150))\n",
    "tt"
   ]
  },
  {
   "cell_type": "code",
   "execution_count": 35,
   "metadata": {
    "scrolled": true
   },
   "outputs": [
    {
     "data": {
      "text/plain": [
       "<matplotlib.collections.PathCollection at 0x7f8a04a0e630>"
      ]
     },
     "execution_count": 35,
     "metadata": {},
     "output_type": "execute_result"
    },
    {
     "data": {
      "image/png": "[encoded data removed]",
      "text/plain": [
       "<Figure size 432x288 with 1 Axes>"
      ]
     },
     "metadata": {},
     "output_type": "display_data"
    }
   ],
   "source": [
    "plt.scatter(pca_1_vec[:,0], tt)"
   ]
  },
  {
   "cell_type": "code",
   "execution_count": 36,
   "metadata": {},
   "outputs": [
    {
     "data": {
      "text/plain": [
       "<matplotlib.collections.PathCollection at 0x7f8a049f1cc0>"
      ]
     },
     "execution_count": 36,
     "metadata": {},
     "output_type": "execute_result"
    },
    {
     "data": {
      "image/png": "[encoded data removed]",
      "text/plain": [
       "<Figure size 432x288 with 1 Axes>"
      ]
     },
     "metadata": {},
     "output_type": "display_data"
    }
   ],
   "source": [
    "plt.scatter(pca_1_vec[:,1], tt)"
   ]
  },
  {
   "cell_type": "code",
   "execution_count": 37,
   "metadata": {},
   "outputs": [
    {
     "data": {
      "text/plain": [
       "<matplotlib.collections.PathCollection at 0x7f8a04952b00>"
      ]
     },
     "execution_count": 37,
     "metadata": {},
     "output_type": "execute_result"
    },
    {
     "data": {
      "image/png": "[encoded data removed]",
      "text/plain": [
       "<Figure size 432x288 with 1 Axes>"
      ]
     },
     "metadata": {},
     "output_type": "display_data"
    }
   ],
   "source": [
    "plt.scatter(pca_1_vec[:,2], tt)"
   ]
  },
  {
   "cell_type": "code",
   "execution_count": 99,
   "metadata": {},
   "outputs": [],
   "source": [
    "#Testing on my own:\n",
    "test = PCA(3)"
   ]
  },
  {
   "cell_type": "code",
   "execution_count": 103,
   "metadata": {},
   "outputs": [
    {
     "data": {
      "text/plain": [
       "array([-3.62254918, -3.12013185, -3.05741789, -2.77738876, -2.5856293 ,\n",
       "       -3.03003217, -2.57549883, -2.19935673, -1.85114294, -1.64409351,\n",
       "       -1.20791102, -1.09811548, -0.79002456, -0.41138294,  0.04978123,\n",
       "        0.22217784,  0.70453362,  0.9227849 ,  0.84713576,  1.34489875,\n",
       "        1.89429078,  1.83360399,  2.51647674,  2.6841718 ,  3.15177119,\n",
       "        3.40371667,  2.93401923,  3.59719168,  3.28484391,  3.93265382,\n",
       "        3.3658773 ,  3.76306854,  3.68461731,  3.26475007,  3.42749877,\n",
       "        3.34167115,  2.76297877,  2.97099159,  2.50730557,  2.71119095,\n",
       "        2.21854798,  1.85338941,  1.21920489,  0.97441245,  1.19395379,\n",
       "        0.67829697,  0.08743049, -0.48169627, -0.53748934, -1.17716127,\n",
       "       -1.26484487, -1.70635971, -1.80153114, -2.10459988, -2.14278557,\n",
       "       -2.79801883, -3.12192982, -3.00037821, -3.60226068, -3.43595287,\n",
       "       -3.43222144, -3.57274807, -3.39175882, -3.5580103 , -3.15601109,\n",
       "       -3.43351066, -2.987689  , -3.01168262, -2.69567744, -2.20632111,\n",
       "       -1.83958874, -1.82693245, -1.31523318, -1.1255409 , -1.12310474,\n",
       "       -0.58069706, -0.22042095,  0.40130891,  0.36079027,  0.77767091,\n",
       "        0.75555815,  1.27138982,  1.63453618,  2.24085835,  2.07415725,\n",
       "        2.93201722,  2.72102219,  2.74092242,  3.02531072,  3.4505648 ,\n",
       "        3.20302237,  3.6237508 ,  3.84914572,  3.49848252,  3.42184068,\n",
       "        3.23844186,  3.22561374,  3.20635557,  2.73992901,  2.94294633,\n",
       "        2.61340373,  2.80869753,  2.26344641,  1.95605372,  1.76051514,\n",
       "        1.00734344,  1.03141951,  0.60234833,  0.24707713, -0.12756864,\n",
       "       -0.69259685, -1.0173853 , -1.20709419, -1.517367  , -2.07167351,\n",
       "       -1.90189481, -2.47736612, -2.65559698, -2.80610509, -3.09295787,\n",
       "       -3.17917025, -2.66582938, -3.41210557, -3.38413821, -3.52572307,\n",
       "       -3.27548397, -3.4829705 , -3.2415443 , -2.6750451 , -2.67463468,\n",
       "       -3.05254952, -2.4695347 , -2.1933047 , -2.16356554, -1.616845  ,\n",
       "       -1.38556201, -0.73716089, -0.67504007, -0.38924794, -0.32072039,\n",
       "        0.17264923,  0.9931008 ,  0.89931125,  1.237457  ,  1.8739757 ,\n",
       "        2.11894132,  2.0136284 ,  2.78585073,  2.57882237,  3.06169888])"
      ]
     },
     "execution_count": 103,
     "metadata": {},
     "output_type": "execute_result"
    }
   ],
   "source": [
    "test.fit_transform(X)[:,0]"
   ]
  },
  {
   "cell_type": "code",
   "execution_count": 110,
   "metadata": {},
   "outputs": [
    {
     "data": {
      "text/plain": [
       "array([  1,   2,   3,   4,   5,   6,   7,   8,   9,  10,  11,  12,  13,\n",
       "        14,  15,  16,  17,  18,  19,  20,  21,  22,  23,  24,  25,  26,\n",
       "        27,  28,  29,  30,  31,  32,  33,  34,  35,  36,  37,  38,  39,\n",
       "        40,  41,  42,  43,  44,  45,  46,  47,  48,  49,  50,  51,  52,\n",
       "        53,  54,  55,  56,  57,  58,  59,  60,  61,  62,  63,  64,  65,\n",
       "        66,  67,  68,  69,  70,  71,  72,  73,  74,  75,  76,  77,  78,\n",
       "        79,  80,  81,  82,  83,  84,  85,  86,  87,  88,  89,  90,  91,\n",
       "        92,  93,  94,  95,  96,  97,  98,  99, 100, 101, 102, 103, 104,\n",
       "       105, 106, 107, 108, 109, 110, 111, 112, 113, 114, 115, 116, 117,\n",
       "       118, 119, 120, 121, 122, 123, 124, 125, 126, 127, 128, 129, 130,\n",
       "       131, 132, 133, 134, 135, 136, 137, 138, 139, 140, 141, 142, 143,\n",
       "       144, 145, 146, 147, 148, 149, 150])"
      ]
     },
     "execution_count": 110,
     "metadata": {},
     "output_type": "execute_result"
    }
   ],
   "source": [
    "numbers = np.arange(1,151)\n",
    "numbers"
   ]
  },
  {
   "cell_type": "code",
   "execution_count": 111,
   "metadata": {},
   "outputs": [
    {
     "data": {
      "text/plain": [
       "150"
      ]
     },
     "execution_count": 111,
     "metadata": {},
     "output_type": "execute_result"
    }
   ],
   "source": [
    "len(test.fit_transform(X)[:,0])"
   ]
  },
  {
   "cell_type": "code",
   "execution_count": 112,
   "metadata": {},
   "outputs": [
    {
     "data": {
      "text/plain": [
       "150"
      ]
     },
     "execution_count": 112,
     "metadata": {},
     "output_type": "execute_result"
    }
   ],
   "source": [
    "len(numbers)"
   ]
  },
  {
   "cell_type": "code",
   "execution_count": 113,
   "metadata": {},
   "outputs": [
    {
     "data": {
      "text/plain": [
       "<matplotlib.collections.PathCollection at 0x7f8a04715e80>"
      ]
     },
     "execution_count": 113,
     "metadata": {},
     "output_type": "execute_result"
    },
    {
     "data": {
      "image/png": "[encoded data removed]",
      "text/plain": [
       "<Figure size 432x288 with 1 Axes>"
      ]
     },
     "metadata": {},
     "output_type": "display_data"
    }
   ],
   "source": [
    "plt.scatter(test.fit_transform(X)[:,0], numbers)"
   ]
  },
  {
   "cell_type": "code",
   "execution_count": 114,
   "metadata": {},
   "outputs": [
    {
     "data": {
      "text/plain": [
       "<matplotlib.collections.PathCollection at 0x7f8a0467de80>"
      ]
     },
     "execution_count": 114,
     "metadata": {},
     "output_type": "execute_result"
    },
    {
     "data": {
      "image/png": "[encoded data removed]",
      "text/plain": [
       "<Figure size 432x288 with 1 Axes>"
      ]
     },
     "metadata": {},
     "output_type": "display_data"
    }
   ],
   "source": [
    "plt.scatter(test.fit_transform(X)[:,1], numbers)"
   ]
  },
  {
   "cell_type": "code",
   "execution_count": 115,
   "metadata": {},
   "outputs": [
    {
     "data": {
      "text/plain": [
       "<matplotlib.collections.PathCollection at 0x7f8a04926198>"
      ]
     },
     "execution_count": 115,
     "metadata": {},
     "output_type": "execute_result"
    },
    {
     "data": {
      "image/png": "[encoded data removed]",
      "text/plain": [
       "<Figure size 432x288 with 1 Axes>"
      ]
     },
     "metadata": {},
     "output_type": "display_data"
    }
   ],
   "source": [
    "plt.scatter(test.fit_transform(X)[:,2], numbers)"
   ]
  },
  {
   "cell_type": "code",
   "execution_count": null,
   "metadata": {},
   "outputs": [],
   "source": []
  }
 ],
 "metadata": {
  "kernelspec": {
   "display_name": "Python 3",
   "language": "python",
   "name": "python3"
  },
  "language_info": {
   "codemirror_mode": {
    "name": "ipython",
    "version": 3
   },
   "file_extension": ".py",
   "mimetype": "text/x-python",
   "name": "python",
   "nbconvert_exporter": "python",
   "pygments_lexer": "ipython3",
   "version": "3.6.4"
  }
 },
 "nbformat": 4,
 "nbformat_minor": 2
}
