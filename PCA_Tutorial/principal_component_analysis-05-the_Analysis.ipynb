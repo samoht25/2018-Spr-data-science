{
 "cells": [
  {
   "cell_type": "markdown",
   "metadata": {},
   "source": [
    "Goals:\n",
    "\n",
    "1. An intuition for how and why principal component analysis works\n",
    "2. The derivation from ~~first principles~~ using `numpy` of the math behind PCA\n",
    "4. Discuss the assumptions behind PCA\n"
   ]
  },
  {
   "cell_type": "markdown",
   "metadata": {},
   "source": [
    "[Reference](https://arxiv.org/pdf/1404.1100.pdf)"
   ]
  },
  {
   "cell_type": "markdown",
   "metadata": {},
   "source": [
    "## What is PCA\n",
    "\n",
    "- a simple, non-parametric method of extracting relevant information from confusing data sets\n",
    "- a method for reducing a complex data set to a lower dimension\n",
    "- a method for revealing hidden dynamics in data"
   ]
  },
  {
   "cell_type": "markdown",
   "metadata": {},
   "source": [
    "#### Non-parametric\n",
    "\n",
    "\n",
    "    this_pca = PCA(n_components=5)\n",
    "    other_pca =  PCA(n_components=10)\n",
    "\n",
    "    this_pca.fit(some_data)\n",
    "    other_pca.fit(some_data)\n",
    "    \n",
    "If we were to run this code, then the first five components of `other_pca` will be the same as the five components of `this_pca`. The model is non-parametric i.e there are no parameters to tune. "
   ]
  },
  {
   "cell_type": "markdown",
   "metadata": {},
   "source": [
    "> Here is the perspective: we are an experimenter. We are trying to understand some phenomenon by measuring various quantities (e.g. spectra, voltages, velocities, etc.) in our system. Unfortunately, we can not figure out what is happening because the data appears clouded, unclear and even redundant. This is not a trivial problem, but rather a fundamental obstacle in empirical science. Examples abound from complex systems such as neuroscience, web indexing, meteorology and oceanography - the number of variables to measure can be unwieldy and at times even deceptive, because the underlying relationships can often be quite simple."
   ]
  },
  {
   "cell_type": "markdown",
   "metadata": {},
   "source": [
    "## A Toy Example"
   ]
  },
  {
   "cell_type": "markdown",
   "metadata": {},
   "source": [
    "Pretend we are studying the motion of the physicist’s ideal spring. \n",
    "\n",
    "This system consists of a ball of mass $m$ attached to a massless, frictionless spring. \n",
    "\n",
    "The ball is released a small distance away from equilibrium (i.e. the spring is stretched). \n",
    "\n",
    "Because the spring is ideal, it oscillates indefinitely along the $x$-axis about its equilibrium at a set frequency."
   ]
  },
  {
   "cell_type": "code",
   "execution_count": 45,
   "metadata": {},
   "outputs": [],
   "source": [
    "import numpy as np\n",
    "import pandas as pd\n",
    "import seaborn as sns\n",
    "import matplotlib.pyplot as plt\n",
    "import scipy.stats as st\n",
    "%matplotlib inline"
   ]
  },
  {
   "cell_type": "markdown",
   "metadata": {},
   "source": [
    "<img src=\"https://www.evernote.com/l/AAFyWbRBljJIqqUfNcOo8SvvvPa3gCnvCsAB/image.png\" width=\"400px\">"
   ]
  },
  {
   "cell_type": "markdown",
   "metadata": {},
   "source": [
    "Being ignorant experimenters we do not know any of this. \n",
    "\n",
    "We do not know which, let alone how many, axes and dimensions are important to measure. \n",
    "\n",
    "Unfortunately, because of our ignorance, we do not even know what are the real axes, so we choose three camera positions $\\mathbf{a}$, $\\mathbf{b}$ and $\\mathbf{c}$ at some arbitrary angles with respect to the system. \n",
    "\n",
    "The angles between our measurements might not even be 90$^\\circ$! \n",
    "\n",
    "Now, we record with the cameras for several minutes - an $x$ and $y$ value for the ball at each moment in time."
   ]
  },
  {
   "cell_type": "code",
   "execution_count": 2,
   "metadata": {},
   "outputs": [],
   "source": [
    "data_df = pd.read_pickle('../data/ball_on_spring.p')"
   ]
  },
  {
   "cell_type": "code",
   "execution_count": 3,
   "metadata": {},
   "outputs": [
    {
     "data": {
      "text/plain": [
       "(150, 6)"
      ]
     },
     "execution_count": 3,
     "metadata": {},
     "output_type": "execute_result"
    }
   ],
   "source": [
    "data_df.shape"
   ]
  },
  {
   "cell_type": "code",
   "execution_count": 4,
   "metadata": {},
   "outputs": [
    {
     "data": {
      "text/html": [
       "<div>\n",
       "<table border=\"1\" class=\"dataframe\">\n",
       "  <thead>\n",
       "    <tr style=\"text-align: right;\">\n",
       "      <th></th>\n",
       "      <th>x_a</th>\n",
       "      <th>x_b</th>\n",
       "      <th>x_c</th>\n",
       "      <th>y_a</th>\n",
       "      <th>y_b</th>\n",
       "      <th>y_c</th>\n",
       "    </tr>\n",
       "  </thead>\n",
       "  <tbody>\n",
       "    <tr>\n",
       "      <th>25</th>\n",
       "      <td>1.864882</td>\n",
       "      <td>2.620094</td>\n",
       "      <td>0.852677</td>\n",
       "      <td>0.780174</td>\n",
       "      <td>-0.018957</td>\n",
       "      <td>1.886591</td>\n",
       "    </tr>\n",
       "    <tr>\n",
       "      <th>11</th>\n",
       "      <td>-0.383786</td>\n",
       "      <td>0.067803</td>\n",
       "      <td>0.158010</td>\n",
       "      <td>-0.151541</td>\n",
       "      <td>1.277871</td>\n",
       "      <td>-0.608947</td>\n",
       "    </tr>\n",
       "    <tr>\n",
       "      <th>105</th>\n",
       "      <td>0.746127</td>\n",
       "      <td>0.880429</td>\n",
       "      <td>0.608518</td>\n",
       "      <td>0.494741</td>\n",
       "      <td>0.615978</td>\n",
       "      <td>0.729983</td>\n",
       "    </tr>\n",
       "    <tr>\n",
       "      <th>28</th>\n",
       "      <td>1.839858</td>\n",
       "      <td>2.099029</td>\n",
       "      <td>1.021812</td>\n",
       "      <td>1.156641</td>\n",
       "      <td>-0.311571</td>\n",
       "      <td>1.928488</td>\n",
       "    </tr>\n",
       "  </tbody>\n",
       "</table>\n",
       "</div>"
      ],
      "text/plain": [
       "          x_a       x_b       x_c       y_a       y_b       y_c\n",
       "25   1.864882  2.620094  0.852677  0.780174 -0.018957  1.886591\n",
       "11  -0.383786  0.067803  0.158010 -0.151541  1.277871 -0.608947\n",
       "105  0.746127  0.880429  0.608518  0.494741  0.615978  0.729983\n",
       "28   1.839858  2.099029  1.021812  1.156641 -0.311571  1.928488"
      ]
     },
     "execution_count": 4,
     "metadata": {},
     "output_type": "execute_result"
    }
   ],
   "source": [
    "data_df.sample(4)"
   ]
  },
  {
   "cell_type": "markdown",
   "metadata": {},
   "source": [
    "In these diagrams, the green arrow represents the camera."
   ]
  },
  {
   "cell_type": "code",
   "execution_count": 5,
   "metadata": {
    "scrolled": true
   },
   "outputs": [
    {
     "data": {
      "image/png": "[encoded data removed]",
      "text/plain": [
       "<Figure size 1080x288 with 3 Axes>"
      ]
     },
     "metadata": {},
     "output_type": "display_data"
    }
   ],
   "source": [
    "fig, ax = plt.subplots(1,3,figsize=(15,4))\n",
    "for i, cam in enumerate(['a', 'b', 'c']):\n",
    "    x_axis = 'x_{}'.format(cam)\n",
    "    y_axis = 'y_{}'.format(cam)\n",
    "    data_df.plot(x_axis, y_axis, kind='scatter', ax=ax[i], xlim=(-4,4), ylim=(-4,4))\n",
    "    ax[i].axvline(c='black')\n",
    "    ax[i].axhline(c='black')\n",
    "    ax[i].arrow(0,-4,0,1,color='green',lw=12)"
   ]
  },
  {
   "cell_type": "markdown",
   "metadata": {},
   "source": [
    "## How do we get from this data set to a simple equation of $x$?"
   ]
  },
  {
   "cell_type": "markdown",
   "metadata": {
    "collapsed": true
   },
   "source": [
    "We know a-priori that if we were smart experimenters, we would have just measured the position along the x-axis with one camera. But this is not what happens in the real world. We often do not know which measurements best reflect the dynamics of our system in question. Furthermore, we sometimes record more dimensions than we actually need."
   ]
  },
  {
   "cell_type": "markdown",
   "metadata": {
    "collapsed": true
   },
   "source": [
    "# Change of Basis\n",
    "\n",
    "\n",
    "The goal of principal component analysis is to identify the most meaningful basis to re-express a data set.\n"
   ]
  },
  {
   "cell_type": "markdown",
   "metadata": {},
   "source": [
    "In the example of the spring, the explicit goal of PCA is to determine: \n",
    "\n",
    "> “the dynamics are along the $x$-axis.”"
   ]
  },
  {
   "cell_type": "markdown",
   "metadata": {},
   "source": [
    "### Variance and the Goal"
   ]
  },
  {
   "cell_type": "markdown",
   "metadata": {},
   "source": [
    "At a high-level, our goal is to find a transformation for our data so that it is a \"best expression\" of the data."
   ]
  },
  {
   "cell_type": "markdown",
   "metadata": {},
   "source": [
    "Mathematically, this looks like this \n",
    "\n",
    "$$X' = PX$$\n",
    "\n",
    "where $X$ is the original data and $X'$ is the transformed, \"best expression\" of the data. \n",
    "\n",
    "$P$ is a permutation or transformation matrix. "
   ]
  },
  {
   "cell_type": "markdown",
   "metadata": {},
   "source": [
    "## Example Transformation: Rotation"
   ]
  },
  {
   "cell_type": "markdown",
   "metadata": {},
   "source": [
    "One example of a transformation is a rotation."
   ]
  },
  {
   "cell_type": "code",
   "execution_count": 44,
   "metadata": {},
   "outputs": [
    {
     "data": {
      "text/html": [
       "<div>\n",
       "<table border=\"1\" class=\"dataframe\">\n",
       "  <thead>\n",
       "    <tr style=\"text-align: right;\">\n",
       "      <th></th>\n",
       "      <th>x_a</th>\n",
       "      <th>y_a</th>\n",
       "    </tr>\n",
       "  </thead>\n",
       "  <tbody>\n",
       "    <tr>\n",
       "      <th>0</th>\n",
       "      <td>-1.781950</td>\n",
       "      <td>-0.403847</td>\n",
       "    </tr>\n",
       "    <tr>\n",
       "      <th>1</th>\n",
       "      <td>-1.709077</td>\n",
       "      <td>-0.459641</td>\n",
       "    </tr>\n",
       "    <tr>\n",
       "      <th>2</th>\n",
       "      <td>-1.617304</td>\n",
       "      <td>-0.655109</td>\n",
       "    </tr>\n",
       "    <tr>\n",
       "      <th>3</th>\n",
       "      <td>-1.693962</td>\n",
       "      <td>-0.516117</td>\n",
       "    </tr>\n",
       "    <tr>\n",
       "      <th>4</th>\n",
       "      <td>-1.292920</td>\n",
       "      <td>-0.337848</td>\n",
       "    </tr>\n",
       "    <tr>\n",
       "      <th>5</th>\n",
       "      <td>-1.513921</td>\n",
       "      <td>-0.332560</td>\n",
       "    </tr>\n",
       "    <tr>\n",
       "      <th>6</th>\n",
       "      <td>-1.325127</td>\n",
       "      <td>-0.492215</td>\n",
       "    </tr>\n",
       "    <tr>\n",
       "      <th>7</th>\n",
       "      <td>-1.163089</td>\n",
       "      <td>-0.418613</td>\n",
       "    </tr>\n",
       "    <tr>\n",
       "      <th>8</th>\n",
       "      <td>-0.743689</td>\n",
       "      <td>-0.393115</td>\n",
       "    </tr>\n",
       "    <tr>\n",
       "      <th>9</th>\n",
       "      <td>-0.876423</td>\n",
       "      <td>-0.341021</td>\n",
       "    </tr>\n",
       "    <tr>\n",
       "      <th>10</th>\n",
       "      <td>-0.584091</td>\n",
       "      <td>-0.058747</td>\n",
       "    </tr>\n",
       "    <tr>\n",
       "      <th>11</th>\n",
       "      <td>-0.383786</td>\n",
       "      <td>-0.151541</td>\n",
       "    </tr>\n",
       "    <tr>\n",
       "      <th>12</th>\n",
       "      <td>-0.142629</td>\n",
       "      <td>-0.124556</td>\n",
       "    </tr>\n",
       "    <tr>\n",
       "      <th>13</th>\n",
       "      <td>-0.249156</td>\n",
       "      <td>-0.098669</td>\n",
       "    </tr>\n",
       "    <tr>\n",
       "      <th>14</th>\n",
       "      <td>0.166044</td>\n",
       "      <td>0.268764</td>\n",
       "    </tr>\n",
       "    <tr>\n",
       "      <th>15</th>\n",
       "      <td>0.274569</td>\n",
       "      <td>0.099275</td>\n",
       "    </tr>\n",
       "    <tr>\n",
       "      <th>16</th>\n",
       "      <td>0.641852</td>\n",
       "      <td>0.481497</td>\n",
       "    </tr>\n",
       "    <tr>\n",
       "      <th>17</th>\n",
       "      <td>0.486644</td>\n",
       "      <td>0.447243</td>\n",
       "    </tr>\n",
       "    <tr>\n",
       "      <th>18</th>\n",
       "      <td>0.887488</td>\n",
       "      <td>0.343680</td>\n",
       "    </tr>\n",
       "    <tr>\n",
       "      <th>19</th>\n",
       "      <td>0.899381</td>\n",
       "      <td>0.402253</td>\n",
       "    </tr>\n",
       "    <tr>\n",
       "      <th>20</th>\n",
       "      <td>1.234695</td>\n",
       "      <td>0.624937</td>\n",
       "    </tr>\n",
       "    <tr>\n",
       "      <th>21</th>\n",
       "      <td>1.345030</td>\n",
       "      <td>0.572799</td>\n",
       "    </tr>\n",
       "    <tr>\n",
       "      <th>22</th>\n",
       "      <td>1.460812</td>\n",
       "      <td>0.714433</td>\n",
       "    </tr>\n",
       "    <tr>\n",
       "      <th>23</th>\n",
       "      <td>1.724841</td>\n",
       "      <td>0.694946</td>\n",
       "    </tr>\n",
       "    <tr>\n",
       "      <th>24</th>\n",
       "      <td>1.766448</td>\n",
       "      <td>0.896354</td>\n",
       "    </tr>\n",
       "    <tr>\n",
       "      <th>25</th>\n",
       "      <td>1.864882</td>\n",
       "      <td>0.780174</td>\n",
       "    </tr>\n",
       "    <tr>\n",
       "      <th>26</th>\n",
       "      <td>1.764707</td>\n",
       "      <td>1.060823</td>\n",
       "    </tr>\n",
       "    <tr>\n",
       "      <th>27</th>\n",
       "      <td>1.748283</td>\n",
       "      <td>1.056014</td>\n",
       "    </tr>\n",
       "    <tr>\n",
       "      <th>28</th>\n",
       "      <td>1.839858</td>\n",
       "      <td>1.156641</td>\n",
       "    </tr>\n",
       "    <tr>\n",
       "      <th>29</th>\n",
       "      <td>2.211976</td>\n",
       "      <td>0.898619</td>\n",
       "    </tr>\n",
       "    <tr>\n",
       "      <th>...</th>\n",
       "      <td>...</td>\n",
       "      <td>...</td>\n",
       "    </tr>\n",
       "    <tr>\n",
       "      <th>120</th>\n",
       "      <td>-1.497329</td>\n",
       "      <td>-0.338060</td>\n",
       "    </tr>\n",
       "    <tr>\n",
       "      <th>121</th>\n",
       "      <td>-1.476294</td>\n",
       "      <td>-0.588318</td>\n",
       "    </tr>\n",
       "    <tr>\n",
       "      <th>122</th>\n",
       "      <td>-1.547341</td>\n",
       "      <td>-0.681464</td>\n",
       "    </tr>\n",
       "    <tr>\n",
       "      <th>123</th>\n",
       "      <td>-1.763879</td>\n",
       "      <td>-0.548607</td>\n",
       "    </tr>\n",
       "    <tr>\n",
       "      <th>124</th>\n",
       "      <td>-1.747437</td>\n",
       "      <td>-0.577824</td>\n",
       "    </tr>\n",
       "    <tr>\n",
       "      <th>125</th>\n",
       "      <td>-1.551275</td>\n",
       "      <td>-0.622373</td>\n",
       "    </tr>\n",
       "    <tr>\n",
       "      <th>126</th>\n",
       "      <td>-1.648158</td>\n",
       "      <td>-0.640012</td>\n",
       "    </tr>\n",
       "    <tr>\n",
       "      <th>127</th>\n",
       "      <td>-1.580728</td>\n",
       "      <td>-0.393943</td>\n",
       "    </tr>\n",
       "    <tr>\n",
       "      <th>128</th>\n",
       "      <td>-1.599791</td>\n",
       "      <td>-0.697844</td>\n",
       "    </tr>\n",
       "    <tr>\n",
       "      <th>129</th>\n",
       "      <td>-1.212082</td>\n",
       "      <td>-0.414011</td>\n",
       "    </tr>\n",
       "    <tr>\n",
       "      <th>130</th>\n",
       "      <td>-1.205758</td>\n",
       "      <td>-0.559358</td>\n",
       "    </tr>\n",
       "    <tr>\n",
       "      <th>131</th>\n",
       "      <td>-1.072996</td>\n",
       "      <td>-0.532170</td>\n",
       "    </tr>\n",
       "    <tr>\n",
       "      <th>132</th>\n",
       "      <td>-1.202296</td>\n",
       "      <td>-0.429991</td>\n",
       "    </tr>\n",
       "    <tr>\n",
       "      <th>133</th>\n",
       "      <td>-0.874348</td>\n",
       "      <td>-0.432563</td>\n",
       "    </tr>\n",
       "    <tr>\n",
       "      <th>134</th>\n",
       "      <td>-0.636656</td>\n",
       "      <td>-0.220483</td>\n",
       "    </tr>\n",
       "    <tr>\n",
       "      <th>135</th>\n",
       "      <td>-0.694893</td>\n",
       "      <td>-0.034981</td>\n",
       "    </tr>\n",
       "    <tr>\n",
       "      <th>136</th>\n",
       "      <td>-0.537778</td>\n",
       "      <td>0.029701</td>\n",
       "    </tr>\n",
       "    <tr>\n",
       "      <th>137</th>\n",
       "      <td>-0.303371</td>\n",
       "      <td>-0.080211</td>\n",
       "    </tr>\n",
       "    <tr>\n",
       "      <th>138</th>\n",
       "      <td>-0.046530</td>\n",
       "      <td>-0.066150</td>\n",
       "    </tr>\n",
       "    <tr>\n",
       "      <th>139</th>\n",
       "      <td>0.107464</td>\n",
       "      <td>0.069729</td>\n",
       "    </tr>\n",
       "    <tr>\n",
       "      <th>140</th>\n",
       "      <td>0.479643</td>\n",
       "      <td>0.347126</td>\n",
       "    </tr>\n",
       "    <tr>\n",
       "      <th>141</th>\n",
       "      <td>0.368817</td>\n",
       "      <td>0.194070</td>\n",
       "    </tr>\n",
       "    <tr>\n",
       "      <th>142</th>\n",
       "      <td>0.852555</td>\n",
       "      <td>0.217961</td>\n",
       "    </tr>\n",
       "    <tr>\n",
       "      <th>143</th>\n",
       "      <td>0.915658</td>\n",
       "      <td>0.403811</td>\n",
       "    </tr>\n",
       "    <tr>\n",
       "      <th>144</th>\n",
       "      <td>0.984858</td>\n",
       "      <td>0.742200</td>\n",
       "    </tr>\n",
       "    <tr>\n",
       "      <th>145</th>\n",
       "      <td>1.109253</td>\n",
       "      <td>0.611077</td>\n",
       "    </tr>\n",
       "    <tr>\n",
       "      <th>146</th>\n",
       "      <td>1.164353</td>\n",
       "      <td>0.551551</td>\n",
       "    </tr>\n",
       "    <tr>\n",
       "      <th>147</th>\n",
       "      <td>1.409310</td>\n",
       "      <td>0.735983</td>\n",
       "    </tr>\n",
       "    <tr>\n",
       "      <th>148</th>\n",
       "      <td>1.571823</td>\n",
       "      <td>0.724462</td>\n",
       "    </tr>\n",
       "    <tr>\n",
       "      <th>149</th>\n",
       "      <td>1.736579</td>\n",
       "      <td>0.677989</td>\n",
       "    </tr>\n",
       "  </tbody>\n",
       "</table>\n",
       "<p>150 rows × 2 columns</p>\n",
       "</div>"
      ],
      "text/plain": [
       "          x_a       y_a\n",
       "0   -1.781950 -0.403847\n",
       "1   -1.709077 -0.459641\n",
       "2   -1.617304 -0.655109\n",
       "3   -1.693962 -0.516117\n",
       "4   -1.292920 -0.337848\n",
       "5   -1.513921 -0.332560\n",
       "6   -1.325127 -0.492215\n",
       "7   -1.163089 -0.418613\n",
       "8   -0.743689 -0.393115\n",
       "9   -0.876423 -0.341021\n",
       "10  -0.584091 -0.058747\n",
       "11  -0.383786 -0.151541\n",
       "12  -0.142629 -0.124556\n",
       "13  -0.249156 -0.098669\n",
       "14   0.166044  0.268764\n",
       "15   0.274569  0.099275\n",
       "16   0.641852  0.481497\n",
       "17   0.486644  0.447243\n",
       "18   0.887488  0.343680\n",
       "19   0.899381  0.402253\n",
       "20   1.234695  0.624937\n",
       "21   1.345030  0.572799\n",
       "22   1.460812  0.714433\n",
       "23   1.724841  0.694946\n",
       "24   1.766448  0.896354\n",
       "25   1.864882  0.780174\n",
       "26   1.764707  1.060823\n",
       "27   1.748283  1.056014\n",
       "28   1.839858  1.156641\n",
       "29   2.211976  0.898619\n",
       "..        ...       ...\n",
       "120 -1.497329 -0.338060\n",
       "121 -1.476294 -0.588318\n",
       "122 -1.547341 -0.681464\n",
       "123 -1.763879 -0.548607\n",
       "124 -1.747437 -0.577824\n",
       "125 -1.551275 -0.622373\n",
       "126 -1.648158 -0.640012\n",
       "127 -1.580728 -0.393943\n",
       "128 -1.599791 -0.697844\n",
       "129 -1.212082 -0.414011\n",
       "130 -1.205758 -0.559358\n",
       "131 -1.072996 -0.532170\n",
       "132 -1.202296 -0.429991\n",
       "133 -0.874348 -0.432563\n",
       "134 -0.636656 -0.220483\n",
       "135 -0.694893 -0.034981\n",
       "136 -0.537778  0.029701\n",
       "137 -0.303371 -0.080211\n",
       "138 -0.046530 -0.066150\n",
       "139  0.107464  0.069729\n",
       "140  0.479643  0.347126\n",
       "141  0.368817  0.194070\n",
       "142  0.852555  0.217961\n",
       "143  0.915658  0.403811\n",
       "144  0.984858  0.742200\n",
       "145  1.109253  0.611077\n",
       "146  1.164353  0.551551\n",
       "147  1.409310  0.735983\n",
       "148  1.571823  0.724462\n",
       "149  1.736579  0.677989\n",
       "\n",
       "[150 rows x 2 columns]"
      ]
     },
     "execution_count": 44,
     "metadata": {},
     "output_type": "execute_result"
    }
   ],
   "source": [
    "cam_A_df = data_df[['x_a', 'y_a']]\n",
    "cam_A_df"
   ]
  },
  {
   "cell_type": "code",
   "execution_count": 7,
   "metadata": {},
   "outputs": [],
   "source": [
    "def pd_rotation(dataframe, angle):\n",
    "    angle = np.pi/180*angle\n",
    "    tmp_df = dataframe.copy()\n",
    "    tmp_df.columns = ['x', 'y']\n",
    "    tmp_df['x'] = np.cos(angle)*tmp_df['x']\n",
    "    tmp_df['y'] = np.sin(angle)*tmp_df['y']\n",
    "    return tmp_df"
   ]
  },
  {
   "cell_type": "markdown",
   "metadata": {},
   "source": [
    "#### Measured Camera A"
   ]
  },
  {
   "cell_type": "code",
   "execution_count": 8,
   "metadata": {},
   "outputs": [
    {
     "data": {
      "text/plain": [
       "(-3, 3)"
      ]
     },
     "execution_count": 8,
     "metadata": {},
     "output_type": "execute_result"
    },
    {
     "data": {
      "image/png": "[encoded data removed]",
      "text/plain": [
       "<Figure size 288x288 with 1 Axes>"
      ]
     },
     "metadata": {},
     "output_type": "display_data"
    }
   ],
   "source": [
    "fig = plt.figure(figsize=(4,4))\n",
    "plt.scatter(cam_A_df.x_a, cam_A_df.y_a)\n",
    "plt.xlim(-3,3)\n",
    "plt.ylim(-3,3)"
   ]
  },
  {
   "cell_type": "markdown",
   "metadata": {},
   "source": [
    "#### Camera A Rotated 85°"
   ]
  },
  {
   "cell_type": "code",
   "execution_count": 9,
   "metadata": {},
   "outputs": [
    {
     "data": {
      "text/plain": [
       "(-3, 3)"
      ]
     },
     "execution_count": 9,
     "metadata": {},
     "output_type": "execute_result"
    },
    {
     "data": {
      "image/png": "[encoded data removed]",
      "text/plain": [
       "<Figure size 288x288 with 1 Axes>"
      ]
     },
     "metadata": {},
     "output_type": "display_data"
    }
   ],
   "source": [
    "fig = plt.figure(figsize=(4,4))\n",
    "cam_A_rot = pd_rotation(cam_A_df, 85)\n",
    "plt.scatter(cam_A_rot.x, cam_A_rot.y)\n",
    "plt.xlim(-3,3)\n",
    "plt.ylim(-3,3)"
   ]
  },
  {
   "cell_type": "markdown",
   "metadata": {},
   "source": [
    "#### Camera A Rotated -65°"
   ]
  },
  {
   "cell_type": "code",
   "execution_count": 10,
   "metadata": {},
   "outputs": [
    {
     "data": {
      "text/plain": [
       "(-3, 3)"
      ]
     },
     "execution_count": 10,
     "metadata": {},
     "output_type": "execute_result"
    },
    {
     "data": {
      "image/png": "[encoded data removed]",
      "text/plain": [
       "<Figure size 288x288 with 1 Axes>"
      ]
     },
     "metadata": {},
     "output_type": "display_data"
    }
   ],
   "source": [
    "fig = plt.figure(figsize=(4,4))\n",
    "cam_A_rot = pd_rotation(cam_A_df, -65)\n",
    "plt.scatter(cam_A_rot.x, cam_A_rot.y)\n",
    "plt.xlim(-3,3)\n",
    "plt.ylim(-3,3)"
   ]
  },
  {
   "cell_type": "markdown",
   "metadata": {},
   "source": [
    "#### The $P$ we seek will transform $X$ so that $X'$ has minimal confounding data."
   ]
  },
  {
   "cell_type": "markdown",
   "metadata": {},
   "source": [
    "## Kinds of Confounding Data "
   ]
  },
  {
   "cell_type": "markdown",
   "metadata": {},
   "source": [
    "There are essentially two kinds of confounding data that we need to minimize:\n",
    "\n",
    "- noise\n",
    "- redundancy"
   ]
  },
  {
   "cell_type": "markdown",
   "metadata": {},
   "source": [
    "##### Noise in any data set must be low or - no matter the analysis technique - no information about a system can be extracted. "
   ]
  },
  {
   "cell_type": "markdown",
   "metadata": {},
   "source": [
    "## Noise\n",
    "\n",
    "We previously considered noise in looking at the expresion of a linear model.\n",
    "\n",
    "$$f(x) = \\beta_0 + \\beta_1x + \\epsilon$$\n",
    "\n",
    "Here, $\\epsilon$ represents noise inherent to the model.\n",
    "\n",
    "As outlined in the Data Generation Notebook, there are two sources of noise:\n",
    "\n",
    "1. the actual motion of the mass is imperfect\n",
    "2. the equipment is not perfect"
   ]
  },
  {
   "cell_type": "markdown",
   "metadata": {
    "collapsed": true
   },
   "source": [
    "Let's consider noise by looking at the data collected by individual cameras."
   ]
  },
  {
   "cell_type": "code",
   "execution_count": 11,
   "metadata": {},
   "outputs": [
    {
     "data": {
      "image/png": "[encoded data removed]",
      "text/plain": [
       "<Figure size 1080x288 with 3 Axes>"
      ]
     },
     "metadata": {},
     "output_type": "display_data"
    }
   ],
   "source": [
    "fig, ax = plt.subplots(1,3,figsize=(15,4))\n",
    "for i, cam in enumerate(['a', 'b', 'c']):\n",
    "    x_axis = 'x_{}'.format(cam)\n",
    "    y_axis = 'y_{}'.format(cam)\n",
    "    sns.regplot(x_axis, y_axis, data=data_df, ax=ax[i])\n",
    "    ax[i].axvline(c='black')\n",
    "    ax[i].axhline(c='black')\n",
    "    ax[i].set_ylim(-2.2,2.2)\n",
    "    ax[i].set_xlim(-2.2,2.2)\n",
    "    ax[i].arrow(0,-2.2,0,.3,color='green',lw=12)"
   ]
  },
  {
   "cell_type": "markdown",
   "metadata": {},
   "source": [
    "Here we have used `sns.regplot` to plot the scatter plot of each $x,y$ pair along with a linear regression fit. "
   ]
  },
  {
   "cell_type": "markdown",
   "metadata": {},
   "source": [
    "### Line of Best Fit"
   ]
  },
  {
   "cell_type": "markdown",
   "metadata": {},
   "source": [
    "We could also compute this line if we so desired. "
   ]
  },
  {
   "cell_type": "code",
   "execution_count": 12,
   "metadata": {},
   "outputs": [],
   "source": [
    "from sklearn.linear_model import LinearRegression"
   ]
  },
  {
   "cell_type": "code",
   "execution_count": 13,
   "metadata": {},
   "outputs": [
    {
     "data": {
      "text/plain": [
       "LinearRegression(copy_X=True, fit_intercept=True, n_jobs=1, normalize=False)"
      ]
     },
     "execution_count": 13,
     "metadata": {},
     "output_type": "execute_result"
    }
   ],
   "source": [
    "lr = LinearRegression()\n",
    "lr.fit(cam_A_df[['x_a']], cam_A_df[['y_a']])"
   ]
  },
  {
   "cell_type": "code",
   "execution_count": 14,
   "metadata": {},
   "outputs": [
    {
     "data": {
      "text/plain": [
       "(array([[ 0.41986521]]), array([ 0.1080214]))"
      ]
     },
     "execution_count": 14,
     "metadata": {},
     "output_type": "execute_result"
    }
   ],
   "source": [
    "lr.coef_, lr.intercept_"
   ]
  },
  {
   "cell_type": "code",
   "execution_count": 15,
   "metadata": {},
   "outputs": [],
   "source": [
    "cam_A_line_best_fit = lambda x: lr.intercept_ + lr.coef_*x"
   ]
  },
  {
   "cell_type": "code",
   "execution_count": 16,
   "metadata": {},
   "outputs": [
    {
     "data": {
      "text/plain": [
       "<matplotlib.legend.Legend at 0x7f238a4eef60>"
      ]
     },
     "execution_count": 16,
     "metadata": {},
     "output_type": "execute_result"
    },
    {
     "data": {
      "image/png": "[encoded data removed]",
      "text/plain": [
       "<Figure size 432x288 with 1 Axes>"
      ]
     },
     "metadata": {},
     "output_type": "display_data"
    }
   ],
   "source": [
    "xx = cam_A_df.x_a.values\n",
    "yy = cam_A_df.y_a.values\n",
    "plt.scatter(xx, yy, label = 'actual')\n",
    "plt.scatter(xx, cam_A_line_best_fit(xx), label = 'line of best fit')\n",
    "plt.legend()"
   ]
  },
  {
   "cell_type": "markdown",
   "metadata": {},
   "source": [
    "### Noise Level"
   ]
  },
  {
   "cell_type": "markdown",
   "metadata": {},
   "source": [
    "We can calculate the level of noise by looking at the signal to noise ratio\n",
    "\n",
    "$$SNR = \\frac{\\sigma^2_{signal}}{\\sigma^2_{noise}}$$"
   ]
  },
  {
   "cell_type": "markdown",
   "metadata": {},
   "source": [
    "To do this, we will need to calculate the variance for the signal and the variance for the noise. "
   ]
  },
  {
   "cell_type": "markdown",
   "metadata": {},
   "source": [
    "<img src=\"https://www.evernote.com/l/AAEGF_wOI_9AUJUqHm7JOlm75jBG5hQR_uYB/image.png\" width=400px>"
   ]
  },
  {
   "cell_type": "markdown",
   "metadata": {},
   "source": [
    "Recall that the mass on the spring travels in a single dimension. This dimension is the line of best fit of our data. Any deviation from this is noise. "
   ]
  },
  {
   "cell_type": "markdown",
   "metadata": {},
   "source": [
    "We can calculate the variance for the given features using `pd.DataFrame.cov()`."
   ]
  },
  {
   "cell_type": "markdown",
   "metadata": {},
   "source": [
    "### Covariances"
   ]
  },
  {
   "cell_type": "code",
   "execution_count": 17,
   "metadata": {},
   "outputs": [],
   "source": [
    "cam_A = data_df[['x_a','y_a']]\n",
    "cam_B = data_df[['x_b','y_b']]\n",
    "cam_C = data_df[['x_c','y_c']]"
   ]
  },
  {
   "cell_type": "code",
   "execution_count": 18,
   "metadata": {},
   "outputs": [],
   "source": [
    "# finding covariances for each camera along the camera's axes\n",
    "\n",
    "cam_A_cov = cam_A.cov()\n",
    "cam_B_cov = cam_B.cov()\n",
    "cam_C_cov = cam_C.cov()"
   ]
  },
  {
   "cell_type": "code",
   "execution_count": 19,
   "metadata": {},
   "outputs": [],
   "source": [
    "from IPython.display import display"
   ]
  },
  {
   "cell_type": "code",
   "execution_count": 20,
   "metadata": {},
   "outputs": [
    {
     "data": {
      "text/html": [
       "<div>\n",
       "<table border=\"1\" class=\"dataframe\">\n",
       "  <thead>\n",
       "    <tr style=\"text-align: right;\">\n",
       "      <th></th>\n",
       "      <th>x_a</th>\n",
       "      <th>y_a</th>\n",
       "    </tr>\n",
       "  </thead>\n",
       "  <tbody>\n",
       "    <tr>\n",
       "      <th>x_a</th>\n",
       "      <td>1.659341</td>\n",
       "      <td>0.696700</td>\n",
       "    </tr>\n",
       "    <tr>\n",
       "      <th>y_a</th>\n",
       "      <td>0.696700</td>\n",
       "      <td>0.309865</td>\n",
       "    </tr>\n",
       "  </tbody>\n",
       "</table>\n",
       "</div>"
      ],
      "text/plain": [
       "          x_a       y_a\n",
       "x_a  1.659341  0.696700\n",
       "y_a  0.696700  0.309865"
      ]
     },
     "metadata": {},
     "output_type": "display_data"
    },
    {
     "data": {
      "text/html": [
       "<div>\n",
       "<table border=\"1\" class=\"dataframe\">\n",
       "  <thead>\n",
       "    <tr style=\"text-align: right;\">\n",
       "      <th></th>\n",
       "      <th>x_b</th>\n",
       "      <th>y_b</th>\n",
       "    </tr>\n",
       "  </thead>\n",
       "  <tbody>\n",
       "    <tr>\n",
       "      <th>x_b</th>\n",
       "      <td>1.948139</td>\n",
       "      <td>-0.495977</td>\n",
       "    </tr>\n",
       "    <tr>\n",
       "      <th>y_b</th>\n",
       "      <td>-0.495977</td>\n",
       "      <td>0.209970</td>\n",
       "    </tr>\n",
       "  </tbody>\n",
       "</table>\n",
       "</div>"
      ],
      "text/plain": [
       "          x_b       y_b\n",
       "x_b  1.948139 -0.495977\n",
       "y_b -0.495977  0.209970"
      ]
     },
     "metadata": {},
     "output_type": "display_data"
    },
    {
     "data": {
      "text/html": [
       "<div>\n",
       "<table border=\"1\" class=\"dataframe\">\n",
       "  <thead>\n",
       "    <tr style=\"text-align: right;\">\n",
       "      <th></th>\n",
       "      <th>x_c</th>\n",
       "      <th>y_c</th>\n",
       "    </tr>\n",
       "  </thead>\n",
       "  <tbody>\n",
       "    <tr>\n",
       "      <th>x_c</th>\n",
       "      <td>0.351553</td>\n",
       "      <td>0.729298</td>\n",
       "    </tr>\n",
       "    <tr>\n",
       "      <th>y_c</th>\n",
       "      <td>0.729298</td>\n",
       "      <td>1.636361</td>\n",
       "    </tr>\n",
       "  </tbody>\n",
       "</table>\n",
       "</div>"
      ],
      "text/plain": [
       "          x_c       y_c\n",
       "x_c  0.351553  0.729298\n",
       "y_c  0.729298  1.636361"
      ]
     },
     "metadata": {},
     "output_type": "display_data"
    }
   ],
   "source": [
    "display(cam_A_cov)\n",
    "display(cam_B_cov)\n",
    "display(cam_C_cov)"
   ]
  },
  {
   "cell_type": "markdown",
   "metadata": {},
   "source": [
    "These represent the variance along the axes defined by each camera."
   ]
  },
  {
   "cell_type": "code",
   "execution_count": 21,
   "metadata": {},
   "outputs": [],
   "source": [
    "def plot_w_x_y_var(cam, ax):\n",
    "    x_axis = 'x_{}'.format(cam)\n",
    "    y_axis = 'y_{}'.format(cam)\n",
    "\n",
    "    sns.regplot(x_axis, y_axis, data=data_df, ax=ax)\n",
    "    x_a_var =  data_df[x_axis].values.var()\n",
    "    x_a_mean = data_df[x_axis].values.mean()\n",
    "    y_a_var =  data_df[y_axis].values.var()\n",
    "    y_a_mean = data_df[y_axis].values.mean()\n",
    "    \n",
    "    # plotting the vector origin on the mean, it's starting from the data's mean and plotting variance fr: there \n",
    "    ax.arrow(x_a_mean,y_a_mean,x_a_var, 0, lw=5)\n",
    "    ax.arrow(x_a_mean,y_a_mean,0,y_a_var, lw=5)\n",
    "\n",
    "    ax.axvline(c='black')\n",
    "    ax.axhline(c='black')\n",
    "    ax.set_ylim(-3,3)\n",
    "    ax.set_xlim(-3,3)\n",
    "    ax.arrow(0,-2.2,0,.3,color='green',lw=12)"
   ]
  },
  {
   "cell_type": "code",
   "execution_count": 22,
   "metadata": {
    "scrolled": true
   },
   "outputs": [
    {
     "data": {
      "image/png": "[encoded data removed]",
      "text/plain": [
       "<Figure size 1080x288 with 3 Axes>"
      ]
     },
     "metadata": {},
     "output_type": "display_data"
    }
   ],
   "source": [
    "fig, ax = plt.subplots(1,3,figsize=(15,4))\n",
    "for i, cam in enumerate(['a', 'b', 'c']):\n",
    "    plot_w_x_y_var(cam, ax[i])\n"
   ]
  },
  {
   "cell_type": "markdown",
   "metadata": {},
   "source": [
    "### Eigendecomposition\n",
    "\n",
    "We can find the variance of the signal and the noise by doing an eigendecomposition on the covariance matrix.\n",
    "\n",
    "$$X_{cov} = V\\Lambda V^T$$"
   ]
  },
  {
   "cell_type": "code",
   "execution_count": 23,
   "metadata": {},
   "outputs": [],
   "source": [
    "eig_vals_A, eig_vecs_A = np.linalg.eig(cam_A_cov)"
   ]
  },
  {
   "cell_type": "code",
   "execution_count": 24,
   "metadata": {
    "scrolled": true
   },
   "outputs": [
    {
     "data": {
      "text/plain": [
       "array([ 1.95448045,  0.01472582])"
      ]
     },
     "execution_count": 24,
     "metadata": {},
     "output_type": "execute_result"
    }
   ],
   "source": [
    "eig_vals_A"
   ]
  },
  {
   "cell_type": "code",
   "execution_count": 25,
   "metadata": {},
   "outputs": [
    {
     "data": {
      "text/plain": [
       "array([[ 0.92078617, -0.39006773],\n",
       "       [ 0.39006773,  0.92078617]])"
      ]
     },
     "execution_count": 25,
     "metadata": {},
     "output_type": "execute_result"
    }
   ],
   "source": [
    "eig_vecs_A"
   ]
  },
  {
   "cell_type": "code",
   "execution_count": 26,
   "metadata": {
    "scrolled": true
   },
   "outputs": [
    {
     "data": {
      "text/plain": [
       "array([[1, 0, 0, 0, 0],\n",
       "       [0, 2, 0, 0, 0],\n",
       "       [0, 0, 3, 0, 0],\n",
       "       [0, 0, 0, 4, 0],\n",
       "       [0, 0, 0, 0, 5]])"
      ]
     },
     "execution_count": 26,
     "metadata": {},
     "output_type": "execute_result"
    }
   ],
   "source": [
    "some_vector = [1,2,3,4,5]\n",
    "np.diag(some_vector)"
   ]
  },
  {
   "cell_type": "markdown",
   "metadata": {
    "collapsed": true
   },
   "source": [
    "Take the eigenvalues and convert it to a Lambda matrix with just eigenvalues as the diags."
   ]
  },
  {
   "cell_type": "code",
   "execution_count": 27,
   "metadata": {},
   "outputs": [
    {
     "data": {
      "text/plain": [
       "array([[ 1.95448045,  0.        ],\n",
       "       [ 0.        ,  0.01472582]])"
      ]
     },
     "execution_count": 27,
     "metadata": {},
     "output_type": "execute_result"
    }
   ],
   "source": [
    "#eigen values are the variances \n",
    "#eigen vectors are the direction of the variance\n",
    "\n",
    "V = eig_vecs_A\n",
    "Lambda = np.diag(eig_vals_A)\n",
    "Lambda"
   ]
  },
  {
   "cell_type": "code",
   "execution_count": 28,
   "metadata": {},
   "outputs": [
    {
     "data": {
      "text/html": [
       "<div>\n",
       "<table border=\"1\" class=\"dataframe\">\n",
       "  <thead>\n",
       "    <tr style=\"text-align: right;\">\n",
       "      <th></th>\n",
       "      <th>x_a</th>\n",
       "      <th>y_a</th>\n",
       "    </tr>\n",
       "  </thead>\n",
       "  <tbody>\n",
       "    <tr>\n",
       "      <th>x_a</th>\n",
       "      <td>1.659341</td>\n",
       "      <td>0.696700</td>\n",
       "    </tr>\n",
       "    <tr>\n",
       "      <th>y_a</th>\n",
       "      <td>0.696700</td>\n",
       "      <td>0.309865</td>\n",
       "    </tr>\n",
       "  </tbody>\n",
       "</table>\n",
       "</div>"
      ],
      "text/plain": [
       "          x_a       y_a\n",
       "x_a  1.659341  0.696700\n",
       "y_a  0.696700  0.309865"
      ]
     },
     "execution_count": 28,
     "metadata": {},
     "output_type": "execute_result"
    }
   ],
   "source": [
    "cam_A_cov"
   ]
  },
  {
   "cell_type": "code",
   "execution_count": 29,
   "metadata": {},
   "outputs": [
    {
     "data": {
      "text/html": [
       "<div>\n",
       "<table border=\"1\" class=\"dataframe\">\n",
       "  <thead>\n",
       "    <tr style=\"text-align: right;\">\n",
       "      <th></th>\n",
       "      <th>0</th>\n",
       "      <th>1</th>\n",
       "    </tr>\n",
       "  </thead>\n",
       "  <tbody>\n",
       "    <tr>\n",
       "      <th>0</th>\n",
       "      <td>1.659341</td>\n",
       "      <td>0.696700</td>\n",
       "    </tr>\n",
       "    <tr>\n",
       "      <th>1</th>\n",
       "      <td>0.696700</td>\n",
       "      <td>0.309865</td>\n",
       "    </tr>\n",
       "  </tbody>\n",
       "</table>\n",
       "</div>"
      ],
      "text/plain": [
       "          0         1\n",
       "0  1.659341  0.696700\n",
       "1  0.696700  0.309865"
      ]
     },
     "execution_count": 29,
     "metadata": {},
     "output_type": "execute_result"
    }
   ],
   "source": [
    "pd.DataFrame(V.dot(Lambda).dot(V.T))"
   ]
  },
  {
   "cell_type": "code",
   "execution_count": 30,
   "metadata": {},
   "outputs": [],
   "source": [
    "def plot_data_with_eigenvecs(cam, dataframe, evals, evecs):\n",
    "    x_axis = 'x_{}'.format(cam)\n",
    "    y_axis = 'y_{}'.format(cam)\n",
    "    \n",
    "    plt.figure(figsize=(8,8))\n",
    "    sns.regplot(x_axis, y_axis, dataframe)\n",
    "    \n",
    "    plt.ylim(-3,3)\n",
    "    plt.xlim(-3,3)\n",
    "    \n",
    "    plt.axvline(c='black')\n",
    "    plt.axhline(c='black')\n",
    "    \n",
    "    mean = dataframe[[x_axis, y_axis]].mean()\n",
    "    \n",
    "    var_1 = evals[0]*evecs[:,0]\n",
    "    var_2 = evals[1]*evecs[:,1]\n",
    "    \n",
    "    plt.arrow(mean[0],mean[1],*var_1, lw=5)\n",
    "    plt.arrow(mean[0],mean[1],*var_2, lw=5)"
   ]
  },
  {
   "cell_type": "code",
   "execution_count": 31,
   "metadata": {},
   "outputs": [
    {
     "data": {
      "image/png": "[encoded data removed]",
      "text/plain": [
       "<Figure size 576x576 with 1 Axes>"
      ]
     },
     "metadata": {},
     "output_type": "display_data"
    }
   ],
   "source": [
    "eig_vals_A, eig_vecs_A = np.linalg.eig(cam_A_cov)\n",
    "plot_data_with_eigenvecs('a', data_df, eig_vals_A, eig_vecs_A)"
   ]
  },
  {
   "cell_type": "code",
   "execution_count": 32,
   "metadata": {},
   "outputs": [
    {
     "data": {
      "image/png": "[encoded data removed]",
      "text/plain": [
       "<Figure size 576x576 with 1 Axes>"
      ]
     },
     "metadata": {},
     "output_type": "display_data"
    }
   ],
   "source": [
    "eig_vals_B, eig_vecs_B = np.linalg.eig(cam_B_cov)\n",
    "plot_data_with_eigenvecs('b', data_df, eig_vals_B, eig_vecs_B)"
   ]
  },
  {
   "cell_type": "code",
   "execution_count": 33,
   "metadata": {},
   "outputs": [
    {
     "data": {
      "image/png": "[encoded data removed]",
      "text/plain": [
       "<Figure size 576x576 with 1 Axes>"
      ]
     },
     "metadata": {},
     "output_type": "display_data"
    }
   ],
   "source": [
    "eig_vals_C, eig_vecs_C = np.linalg.eig(cam_C_cov)\n",
    "plot_data_with_eigenvecs('c', data_df, eig_vals_C, eig_vecs_C)"
   ]
  },
  {
   "cell_type": "markdown",
   "metadata": {},
   "source": [
    "### Camera A signal-to-noise"
   ]
  },
  {
   "cell_type": "code",
   "execution_count": 34,
   "metadata": {},
   "outputs": [
    {
     "data": {
      "text/plain": [
       "array([ 1.95448045,  0.01472582])"
      ]
     },
     "execution_count": 34,
     "metadata": {},
     "output_type": "execute_result"
    }
   ],
   "source": [
    "eig_vals_A"
   ]
  },
  {
   "cell_type": "code",
   "execution_count": 35,
   "metadata": {},
   "outputs": [],
   "source": [
    "def signal_to_noise(var_signal, var_noise):\n",
    "    return var_signal/var_noise"
   ]
  },
  {
   "cell_type": "code",
   "execution_count": 36,
   "metadata": {},
   "outputs": [
    {
     "data": {
      "text/plain": [
       "132.7247495916327"
      ]
     },
     "execution_count": 36,
     "metadata": {},
     "output_type": "execute_result"
    }
   ],
   "source": [
    "signal_to_noise(eig_vals_A[0], eig_vals_A[1])"
   ]
  },
  {
   "cell_type": "markdown",
   "metadata": {},
   "source": [
    "### Camera B signal-to-noise"
   ]
  },
  {
   "cell_type": "code",
   "execution_count": 37,
   "metadata": {
    "scrolled": true
   },
   "outputs": [
    {
     "data": {
      "text/plain": [
       "array([ 2.07970415,  0.07840401])"
      ]
     },
     "execution_count": 37,
     "metadata": {},
     "output_type": "execute_result"
    }
   ],
   "source": [
    "eig_vals_B"
   ]
  },
  {
   "cell_type": "code",
   "execution_count": 38,
   "metadata": {},
   "outputs": [
    {
     "data": {
      "text/plain": [
       "26.525483022187295"
      ]
     },
     "execution_count": 38,
     "metadata": {},
     "output_type": "execute_result"
    }
   ],
   "source": [
    "signal_to_noise(eig_vals_B[0], eig_vals_B[1])"
   ]
  },
  {
   "cell_type": "markdown",
   "metadata": {},
   "source": [
    "### Camera C signal-to-noise"
   ]
  },
  {
   "cell_type": "code",
   "execution_count": 39,
   "metadata": {},
   "outputs": [
    {
     "data": {
      "text/plain": [
       "array([ 0.02207325,  1.96584083])"
      ]
     },
     "execution_count": 39,
     "metadata": {},
     "output_type": "execute_result"
    }
   ],
   "source": [
    "eig_vals_C"
   ]
  },
  {
   "cell_type": "code",
   "execution_count": 40,
   "metadata": {},
   "outputs": [
    {
     "data": {
      "text/plain": [
       "89.059891791927072"
      ]
     },
     "execution_count": 40,
     "metadata": {},
     "output_type": "execute_result"
    }
   ],
   "source": [
    "signal_to_noise(eig_vals_C[1], eig_vals_C[0])"
   ]
  },
  {
   "cell_type": "markdown",
   "metadata": {},
   "source": [
    "These calculations give us some understanding of the noise introduced by our collection tools -- the cameras.\n",
    "\n",
    "Recall that when we created the data, we had \n",
    "\n",
    "    noise_factor_A = .4\n",
    "    noise_factor_B = 1.1\n",
    "    noise_factor_C = .5"
   ]
  },
  {
   "cell_type": "markdown",
   "metadata": {},
   "source": [
    "##### Does this make sense with the signal-to-noise ratios we calculated?"
   ]
  },
  {
   "cell_type": "markdown",
   "metadata": {},
   "source": [
    "## Redundancy"
   ]
  },
  {
   "cell_type": "markdown",
   "metadata": {},
   "source": [
    "![](https://www.evernote.com/l/AAFmvCethNZME6R1UZOilfN2DuJPpzDuoTsB/image.png)"
   ]
  },
  {
   "cell_type": "markdown",
   "metadata": {},
   "source": [
    "Redundancy is a bit trickier. There are certainly two kinds of redundancy here.\n",
    "\n",
    "- three cameras capture the exact same phenomenon\n",
    "- each camera captures two dimensions of data, where a single variable will do\n",
    "\n",
    "In panel (c) above, it would be more meaningful to just have recorded a single variable, the linear combination $r_2 − kr_1$, instead of two variables $r_1$ and $r_2$ separately."
   ]
  },
  {
   "cell_type": "markdown",
   "metadata": {},
   "source": [
    "#### This is the idea behind dimensional reduction.\n"
   ]
  },
  {
   "cell_type": "code",
   "execution_count": null,
   "metadata": {},
   "outputs": [],
   "source": []
  }
 ],
 "metadata": {
  "kernelspec": {
   "display_name": "Python 3",
   "language": "python",
   "name": "python3"
  },
  "language_info": {
   "codemirror_mode": {
    "name": "ipython",
    "version": 3
   },
   "file_extension": ".py",
   "mimetype": "text/x-python",
   "name": "python",
   "nbconvert_exporter": "python",
   "pygments_lexer": "ipython3",
   "version": "3.6.4"
  }
 },
 "nbformat": 4,
 "nbformat_minor": 2
}
