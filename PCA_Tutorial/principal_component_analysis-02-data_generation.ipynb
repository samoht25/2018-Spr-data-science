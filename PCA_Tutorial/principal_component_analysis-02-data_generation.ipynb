{
 "cells": [
  {
   "cell_type": "markdown",
   "metadata": {},
   "source": [
    "## A Toy Example"
   ]
  },
  {
   "cell_type": "markdown",
   "metadata": {},
   "source": [
    "Pretend we are studying the motion of the physicist’s ideal spring. \n",
    "\n",
    "This system consists of a ball of mass $m$ attached to a massless, frictionless spring. \n",
    "\n",
    "The ball is released a small distance away from equilibrium (i.e. the spring is stretched). \n",
    "\n",
    "Because the spring is ideal, it oscillates indefinitely along the $x$-axis about its equilibrium at a set frequency."
   ]
  },
  {
   "cell_type": "markdown",
   "metadata": {},
   "source": [
    "![](https://ccrma.stanford.edu/~jos/Laplace/img60.png)"
   ]
  },
  {
   "cell_type": "markdown",
   "metadata": {},
   "source": [
    "This simple example is a canonical problem in classical mechanics. "
   ]
  },
  {
   "cell_type": "markdown",
   "metadata": {},
   "source": [
    "This is a standard problem in physics in which the force on the mass along the $x$ direction is a function of position. \n",
    "\n",
    "$$F = -kx$$\n",
    "\n",
    "where $x$ is the position and $k$ is a constant associated with the spring itself. "
   ]
  },
  {
   "cell_type": "markdown",
   "metadata": {},
   "source": [
    "We also know that the force on an object is \n",
    "\n",
    "$$F = ma$$\n",
    "\n",
    "where $m$ is the mass of the object and $a$ is its acceleration."
   ]
  },
  {
   "cell_type": "markdown",
   "metadata": {},
   "source": [
    "Thus, \n",
    "\n",
    "$$F = -kx = ma$$\n"
   ]
  },
  {
   "cell_type": "markdown",
   "metadata": {},
   "source": [
    "We can further connect these by noting that when the position, $x$, is a function of time, the velocity, $v$ is the first derivative of the position. \n",
    "\n",
    "The velocity is how the position is changing with respect to time. \n",
    "\n",
    "We annotate this as\n",
    "\n",
    "$$v(t) = \\frac{d}{dt}x = \\dot{x}$$"
   ]
  },
  {
   "cell_type": "markdown",
   "metadata": {},
   "source": [
    "The acceleration $a$ is the first derivative of the velocity and the second derivative of the position. It is how the velocity is changing with respect to time. \n",
    "\n",
    "We annotate this as\n",
    "\n",
    "\n",
    "$$a(t) = \\frac{d^2}{dt^2}x = \\ddot{x}$$"
   ]
  },
  {
   "cell_type": "markdown",
   "metadata": {},
   "source": [
    "Therefore,\n",
    "\n",
    "$$-kx = m\\ddot{x}$$\n",
    "\n",
    "or\n",
    "\n",
    "$$\\ddot{x} +\\frac{k}{m}x = 0$$"
   ]
  },
  {
   "cell_type": "markdown",
   "metadata": {},
   "source": [
    "This is known as a **differential equation** and has the solution \n",
    "\n",
    "$$x(t) = x_o\\cos (\\omega t) + \\frac{v_o}{\\omega}\\sin (\\omega t)$$\n",
    "\n",
    "where $\\omega = \\frac{k}{m}$."
   ]
  },
  {
   "cell_type": "markdown",
   "metadata": {},
   "source": [
    "### True Function\n",
    "\n",
    "We use this equation to define a \"true function\". We imagine pulling the mass to the left and then letting it go. This is modeled by $x_0 = -2$, $v_0 = 0$. \n",
    "\n",
    "We have chosen an arbitrary $\\omega=0.1$. Recall, that $\\omega$ is a constant containing the mass of the weight and the constant of the spring. "
   ]
  },
  {
   "cell_type": "code",
   "execution_count": 1,
   "metadata": {},
   "outputs": [
    {
     "name": "stdout",
     "output_type": "stream",
     "text": [
      "/home/samoht25/uclax-data-science/09-PCA-tutorial\n"
     ]
    }
   ],
   "source": [
    "cd .."
   ]
  },
  {
   "cell_type": "code",
   "execution_count": 2,
   "metadata": {},
   "outputs": [
    {
     "name": "stdout",
     "output_type": "stream",
     "text": [
      "mkdir: cannot create directory ‘data’: File exists\r\n"
     ]
    }
   ],
   "source": [
    "mkdir data"
   ]
  },
  {
   "cell_type": "code",
   "execution_count": 3,
   "metadata": {},
   "outputs": [],
   "source": [
    "import matplotlib.pyplot as plt\n",
    "import numpy as np\n",
    "import pandas as pd"
   ]
  },
  {
   "cell_type": "code",
   "execution_count": 4,
   "metadata": {},
   "outputs": [],
   "source": [
    "x_0 = -2\n",
    "v_0 = 0\n",
    "omega = .1\n",
    "true_function = lambda t: x_0*np.cos(omega*t) + v_0/omega*np.sin(omega*t)"
   ]
  },
  {
   "cell_type": "markdown",
   "metadata": {},
   "source": [
    "In order to model this in time, we define an arbitrary time vector."
   ]
  },
  {
   "cell_type": "code",
   "execution_count": 5,
   "metadata": {},
   "outputs": [
    {
     "data": {
      "text/plain": [
       "array([   1.        ,    2.00671141,    3.01342282,    4.02013423,\n",
       "          5.02684564,    6.03355705,    7.04026846,    8.04697987,\n",
       "          9.05369128,   10.06040268,   11.06711409,   12.0738255 ,\n",
       "         13.08053691,   14.08724832,   15.09395973,   16.10067114,\n",
       "         17.10738255,   18.11409396,   19.12080537,   20.12751678,\n",
       "         21.13422819,   22.1409396 ,   23.14765101,   24.15436242,\n",
       "         25.16107383,   26.16778523,   27.17449664,   28.18120805,\n",
       "         29.18791946,   30.19463087,   31.20134228,   32.20805369,\n",
       "         33.2147651 ,   34.22147651,   35.22818792,   36.23489933,\n",
       "         37.24161074,   38.24832215,   39.25503356,   40.26174497,\n",
       "         41.26845638,   42.27516779,   43.28187919,   44.2885906 ,\n",
       "         45.29530201,   46.30201342,   47.30872483,   48.31543624,\n",
       "         49.32214765,   50.32885906,   51.33557047,   52.34228188,\n",
       "         53.34899329,   54.3557047 ,   55.36241611,   56.36912752,\n",
       "         57.37583893,   58.38255034,   59.38926174,   60.39597315,\n",
       "         61.40268456,   62.40939597,   63.41610738,   64.42281879,\n",
       "         65.4295302 ,   66.43624161,   67.44295302,   68.44966443,\n",
       "         69.45637584,   70.46308725,   71.46979866,   72.47651007,\n",
       "         73.48322148,   74.48993289,   75.4966443 ,   76.5033557 ,\n",
       "         77.51006711,   78.51677852,   79.52348993,   80.53020134,\n",
       "         81.53691275,   82.54362416,   83.55033557,   84.55704698,\n",
       "         85.56375839,   86.5704698 ,   87.57718121,   88.58389262,\n",
       "         89.59060403,   90.59731544,   91.60402685,   92.61073826,\n",
       "         93.61744966,   94.62416107,   95.63087248,   96.63758389,\n",
       "         97.6442953 ,   98.65100671,   99.65771812,  100.66442953,\n",
       "        101.67114094,  102.67785235,  103.68456376,  104.69127517,\n",
       "        105.69798658,  106.70469799,  107.7114094 ,  108.71812081,\n",
       "        109.72483221,  110.73154362,  111.73825503,  112.74496644,\n",
       "        113.75167785,  114.75838926,  115.76510067,  116.77181208,\n",
       "        117.77852349,  118.7852349 ,  119.79194631,  120.79865772,\n",
       "        121.80536913,  122.81208054,  123.81879195,  124.82550336,\n",
       "        125.83221477,  126.83892617,  127.84563758,  128.85234899,\n",
       "        129.8590604 ,  130.86577181,  131.87248322,  132.87919463,\n",
       "        133.88590604,  134.89261745,  135.89932886,  136.90604027,\n",
       "        137.91275168,  138.91946309,  139.9261745 ,  140.93288591,\n",
       "        141.93959732,  142.94630872,  143.95302013,  144.95973154,\n",
       "        145.96644295,  146.97315436,  147.97986577,  148.98657718,\n",
       "        149.99328859,  151.        ])"
      ]
     },
     "execution_count": 5,
     "metadata": {},
     "output_type": "execute_result"
    }
   ],
   "source": [
    "tt = np.linspace(1,151,150)\n",
    "tt"
   ]
  },
  {
   "cell_type": "markdown",
   "metadata": {},
   "source": [
    "#### What kind of object is `tt`? What is its dimension?"
   ]
  },
  {
   "cell_type": "markdown",
   "metadata": {},
   "source": [
    "Then, motion in a vacuum would look as "
   ]
  },
  {
   "cell_type": "code",
   "execution_count": 6,
   "metadata": {},
   "outputs": [],
   "source": [
    "xx = true_function(tt)"
   ]
  },
  {
   "cell_type": "code",
   "execution_count": 7,
   "metadata": {},
   "outputs": [
    {
     "data": {
      "text/plain": [
       "Text(0,0.5,'time')"
      ]
     },
     "execution_count": 7,
     "metadata": {},
     "output_type": "execute_result"
    },
    {
     "data": {
      "image/png": "[encoded data removed]",
      "text/plain": [
       "<Figure size 432x288 with 1 Axes>"
      ]
     },
     "metadata": {},
     "output_type": "display_data"
    }
   ],
   "source": [
    "%matplotlib inline\n",
    "plt.scatter(xx, tt)\n",
    "plt.title('Motion in Vacuum')\n",
    "plt.xlabel('position')\n",
    "plt.ylabel('time')"
   ]
  },
  {
   "cell_type": "markdown",
   "metadata": {},
   "source": [
    "### Environmental Noise"
   ]
  },
  {
   "cell_type": "markdown",
   "metadata": {},
   "source": [
    "There would of course be some environmental noise. We model this using a simple noise function with a gaussian distribution."
   ]
  },
  {
   "cell_type": "code",
   "execution_count": 20,
   "metadata": {},
   "outputs": [
    {
     "data": {
      "text/plain": [
       "array([ 0.05736668,  0.16805444,  0.07625202,  0.12460416,  0.14345028,\n",
       "        0.17099198,  0.07329756,  0.17449809,  0.12090666,  0.18691575,\n",
       "        0.01217567,  0.19158957,  0.13812238,  0.11006632,  0.03943526,\n",
       "        0.11310059,  0.14096754,  0.10036278,  0.05274319,  0.17450208,\n",
       "        0.17123238,  0.08005719,  0.04653375,  0.12800927,  0.01565694,\n",
       "        0.15236737,  0.05318329,  0.16660692,  0.15697715,  0.13419554,\n",
       "        0.06834959,  0.04840104,  0.17362668,  0.14210676,  0.17909771,\n",
       "        0.03099851,  0.18295454,  0.19444172,  0.14135255,  0.17323714,\n",
       "        0.12511681,  0.0857974 ,  0.07447103,  0.09737365,  0.14314739,\n",
       "        0.13576138,  0.17269876,  0.03936319,  0.04784794,  0.19879513,\n",
       "        0.10413292,  0.14501493,  0.18974439,  0.04871679,  0.17216245,\n",
       "        0.06509298,  0.03686225,  0.00761509,  0.08651966,  0.13314297,\n",
       "        0.14533345,  0.01084186,  0.00917268,  0.0038932 ,  0.00191792,\n",
       "        0.01903996,  0.05403701,  0.14410927,  0.05850072,  0.04774189,\n",
       "        0.10292878,  0.01069089,  0.02702485,  0.08403952,  0.07842033,\n",
       "        0.13462371,  0.17087962,  0.15322579,  0.02297204,  0.19435054,\n",
       "        0.02251418,  0.17597822,  0.02366899,  0.17875629,  0.15205167,\n",
       "        0.03310963,  0.07637542,  0.06990171,  0.06307615,  0.0430566 ,\n",
       "        0.0349625 ,  0.18466836,  0.17366111,  0.13381529,  0.11930892,\n",
       "        0.08217366,  0.1265139 ,  0.06171555,  0.08776442,  0.03766357,\n",
       "        0.16010262,  0.06228685,  0.01747337,  0.19172715,  0.10749133,\n",
       "        0.02878111,  0.12365333,  0.00470992,  0.15020433,  0.13523523,\n",
       "        0.01065518,  0.05232026,  0.06205279,  0.13863185,  0.16597621,\n",
       "        0.08960542,  0.12220852,  0.14483109,  0.04279436,  0.0535145 ,\n",
       "        0.02866972,  0.19119595,  0.142625  ,  0.0040349 ,  0.08152264,\n",
       "        0.17812935,  0.166562  ,  0.14877887,  0.03049751,  0.05589458,\n",
       "        0.16471011,  0.16779343,  0.16913088,  0.12043725,  0.00651371,\n",
       "        0.19120061,  0.15673596,  0.18796431,  0.04196722,  0.16151824,\n",
       "        0.09488127,  0.0744548 ,  0.15842762,  0.12481977,  0.10859728,\n",
       "        0.15775945,  0.08895089,  0.06244065,  0.18699163,  0.12013361])"
      ]
     },
     "execution_count": 20,
     "metadata": {},
     "output_type": "execute_result"
    }
   ],
   "source": [
    "env_noise = .2*np.random.rand(150)\n",
    "env_noise"
   ]
  },
  {
   "cell_type": "code",
   "execution_count": 21,
   "metadata": {},
   "outputs": [
    {
     "data": {
      "text/plain": [
       "(array([ 14.,  14.,  16.,  15.,  10.,   8.,  18.,  19.,  23.,  13.]),\n",
       " array([ 0.00191792,  0.02160564,  0.04129336,  0.06098108,  0.0806688 ,\n",
       "         0.10035652,  0.12004424,  0.13973197,  0.15941969,  0.17910741,\n",
       "         0.19879513]),\n",
       " <a list of 10 Patch objects>)"
      ]
     },
     "execution_count": 21,
     "metadata": {},
     "output_type": "execute_result"
    },
    {
     "data": {
      "image/png": "[encoded data removed]",
      "text/plain": [
       "<Figure size 432x288 with 1 Axes>"
      ]
     },
     "metadata": {},
     "output_type": "display_data"
    }
   ],
   "source": [
    "plt.hist(env_noise)"
   ]
  },
  {
   "cell_type": "markdown",
   "metadata": {},
   "source": [
    "### Actual Motion\n",
    "\n",
    "Then the actual motion would be the vacuum motion with the noise added."
   ]
  },
  {
   "cell_type": "code",
   "execution_count": 22,
   "metadata": {},
   "outputs": [],
   "source": [
    "xx_act = true_function(tt) + env_noise"
   ]
  },
  {
   "cell_type": "code",
   "execution_count": 23,
   "metadata": {},
   "outputs": [
    {
     "data": {
      "text/plain": [
       "Text(0,0.5,'time')"
      ]
     },
     "execution_count": 23,
     "metadata": {},
     "output_type": "execute_result"
    },
    {
     "data": {
      "image/png": "[encoded data removed]",
      "text/plain": [
       "<Figure size 432x288 with 1 Axes>"
      ]
     },
     "metadata": {},
     "output_type": "display_data"
    }
   ],
   "source": [
    "plt.scatter(xx_act, tt)\n",
    "plt.title('Actual Motion')\n",
    "plt.xlabel('position')\n",
    "plt.ylabel('time')"
   ]
  },
  {
   "cell_type": "markdown",
   "metadata": {},
   "source": [
    "### Modeling Experimental Data Collection\n",
    "\n",
    "In the subsequent lesson, we will be modeling a situation in which we are measuing the above Actual Motion using three different cameras."
   ]
  },
  {
   "cell_type": "markdown",
   "metadata": {},
   "source": [
    "<img src=\"https://www.evernote.com/l/AAFyWbRBljJIqqUfNcOo8SvvvPa3gCnvCsAB/image.png\" width=\"400px\">"
   ]
  },
  {
   "cell_type": "markdown",
   "metadata": {},
   "source": [
    "In order to simulate the positioning of the cameras, we will perform a rotation transformation on `xx_act`."
   ]
  },
  {
   "cell_type": "markdown",
   "metadata": {},
   "source": [
    "**Note**: we will make use of `np.pi` to convert from degrees to radians."
   ]
  },
  {
   "cell_type": "code",
   "execution_count": 24,
   "metadata": {},
   "outputs": [
    {
     "data": {
      "text/plain": [
       "3.141592653589793"
      ]
     },
     "execution_count": 24,
     "metadata": {},
     "output_type": "execute_result"
    }
   ],
   "source": [
    "np.pi"
   ]
  },
  {
   "cell_type": "code",
   "execution_count": 25,
   "metadata": {},
   "outputs": [],
   "source": [
    "deg_to_rad = lambda x: np.pi/180*x\n",
    "\n",
    "def rotation(x, angle, rads=False):\n",
    "    if not rads:\n",
    "        angle = deg_to_rad(angle)\n",
    "        \n",
    "    xx = x*np.cos(angle)\n",
    "    yy = x*np.sin(angle)\n",
    "    return np.array([xx, yy]).T"
   ]
  },
  {
   "cell_type": "code",
   "execution_count": 26,
   "metadata": {},
   "outputs": [],
   "source": [
    "cam_A = rotation(xx, 23)\n",
    "cam_B = rotation(xx, -15)\n",
    "cam_C = rotation(xx, 65)"
   ]
  },
  {
   "cell_type": "code",
   "execution_count": 27,
   "metadata": {},
   "outputs": [
    {
     "data": {
      "text/plain": [
       "<matplotlib.legend.Legend at 0x7f4ce3ae16a0>"
      ]
     },
     "execution_count": 27,
     "metadata": {},
     "output_type": "execute_result"
    },
    {
     "data": {
      "image/png": "[encoded data removed]",
      "text/plain": [
       "<Figure size 432x288 with 1 Axes>"
      ]
     },
     "metadata": {},
     "output_type": "display_data"
    }
   ],
   "source": [
    "plt.scatter(xx_act, np.zeros_like(xx_act), label='actual')\n",
    "plt.scatter(cam_A[:, 0], cam_A[:, 1], label='camera A')\n",
    "plt.scatter(cam_B[:, 0], cam_B[:, 1], label='camera B')\n",
    "plt.scatter(cam_C[:, 0], cam_C[:, 1], label='camera C')\n",
    "plt.legend()"
   ]
  },
  {
   "cell_type": "markdown",
   "metadata": {},
   "source": [
    "#### Each of the cameras is measuring the same thing from a different angle"
   ]
  },
  {
   "cell_type": "markdown",
   "metadata": {},
   "source": [
    "## Instrument noise\n",
    "\n",
    "Finally, we introduce some noise associated with the cameras ability to detect the position. "
   ]
  },
  {
   "cell_type": "code",
   "execution_count": 28,
   "metadata": {},
   "outputs": [],
   "source": [
    "noise_factor_A = .4\n",
    "noise_factor_B = 1.1\n",
    "noise_factor_C = .5"
   ]
  },
  {
   "cell_type": "code",
   "execution_count": 29,
   "metadata": {},
   "outputs": [],
   "source": [
    "noise_A = noise_factor_A*np.random.rand(300).reshape(150,2)\n",
    "noise_B = noise_factor_B*np.random.rand(300).reshape(150,2)\n",
    "noise_C = noise_factor_C*np.random.rand(300).reshape(150,2)"
   ]
  },
  {
   "cell_type": "code",
   "execution_count": 30,
   "metadata": {},
   "outputs": [],
   "source": [
    "cam_A_act = cam_A + noise_A\n",
    "cam_B_act = cam_B + noise_B\n",
    "cam_C_act = cam_C + noise_C"
   ]
  },
  {
   "cell_type": "code",
   "execution_count": 31,
   "metadata": {},
   "outputs": [
    {
     "data": {
      "text/plain": [
       "<matplotlib.legend.Legend at 0x7f4ce3ac2eb8>"
      ]
     },
     "execution_count": 31,
     "metadata": {},
     "output_type": "execute_result"
    },
    {
     "data": {
      "image/png": "[encoded data removed]",
      "text/plain": [
       "<Figure size 432x288 with 1 Axes>"
      ]
     },
     "metadata": {},
     "output_type": "display_data"
    }
   ],
   "source": [
    "plt.scatter(xx_act, np.zeros_like(xx_act), label='actual')\n",
    "plt.scatter(cam_A_act[:, 0], cam_A_act[:, 1], label='camera A')\n",
    "plt.scatter(cam_B_act[:, 0], cam_B_act[:, 1], label='camera B')\n",
    "plt.scatter(cam_C_act[:, 0], cam_C_act[:, 1], label='camera C')\n",
    "plt.legend()"
   ]
  },
  {
   "cell_type": "markdown",
   "metadata": {},
   "source": [
    "## Add Data to a dataframe and pickle"
   ]
  },
  {
   "cell_type": "code",
   "execution_count": 32,
   "metadata": {},
   "outputs": [
    {
     "data": {
      "text/html": [
       "<div>\n",
       "<table border=\"1\" class=\"dataframe\">\n",
       "  <thead>\n",
       "    <tr style=\"text-align: right;\">\n",
       "      <th></th>\n",
       "      <th>x_a</th>\n",
       "      <th>x_b</th>\n",
       "      <th>x_c</th>\n",
       "      <th>y_a</th>\n",
       "      <th>y_b</th>\n",
       "      <th>y_c</th>\n",
       "    </tr>\n",
       "  </thead>\n",
       "  <tbody>\n",
       "    <tr>\n",
       "      <th>0</th>\n",
       "      <td>-1.491938</td>\n",
       "      <td>-0.915467</td>\n",
       "      <td>-0.354727</td>\n",
       "      <td>-0.501428</td>\n",
       "      <td>0.988550</td>\n",
       "      <td>-1.363911</td>\n",
       "    </tr>\n",
       "    <tr>\n",
       "      <th>1</th>\n",
       "      <td>-1.587043</td>\n",
       "      <td>-0.966361</td>\n",
       "      <td>-0.746049</td>\n",
       "      <td>-0.395142</td>\n",
       "      <td>1.454184</td>\n",
       "      <td>-1.534402</td>\n",
       "    </tr>\n",
       "    <tr>\n",
       "      <th>2</th>\n",
       "      <td>-1.661025</td>\n",
       "      <td>-1.293376</td>\n",
       "      <td>-0.644113</td>\n",
       "      <td>-0.669801</td>\n",
       "      <td>0.777036</td>\n",
       "      <td>-1.663500</td>\n",
       "    </tr>\n",
       "    <tr>\n",
       "      <th>3</th>\n",
       "      <td>-1.361033</td>\n",
       "      <td>-1.061569</td>\n",
       "      <td>-0.772810</td>\n",
       "      <td>-0.666341</td>\n",
       "      <td>1.018386</td>\n",
       "      <td>-1.190254</td>\n",
       "    </tr>\n",
       "    <tr>\n",
       "      <th>4</th>\n",
       "      <td>-1.524391</td>\n",
       "      <td>-0.983870</td>\n",
       "      <td>-0.621450</td>\n",
       "      <td>-0.308760</td>\n",
       "      <td>0.654747</td>\n",
       "      <td>-1.383306</td>\n",
       "    </tr>\n",
       "    <tr>\n",
       "      <th>5</th>\n",
       "      <td>-1.496559</td>\n",
       "      <td>-1.373468</td>\n",
       "      <td>-0.602093</td>\n",
       "      <td>-0.584424</td>\n",
       "      <td>1.423196</td>\n",
       "      <td>-1.047216</td>\n",
       "    </tr>\n",
       "    <tr>\n",
       "      <th>6</th>\n",
       "      <td>-1.134644</td>\n",
       "      <td>-1.348598</td>\n",
       "      <td>-0.243642</td>\n",
       "      <td>-0.282730</td>\n",
       "      <td>1.004431</td>\n",
       "      <td>-1.156090</td>\n",
       "    </tr>\n",
       "    <tr>\n",
       "      <th>7</th>\n",
       "      <td>-1.111687</td>\n",
       "      <td>-1.330642</td>\n",
       "      <td>-0.109276</td>\n",
       "      <td>-0.292975</td>\n",
       "      <td>1.233572</td>\n",
       "      <td>-1.194423</td>\n",
       "    </tr>\n",
       "    <tr>\n",
       "      <th>8</th>\n",
       "      <td>-1.129415</td>\n",
       "      <td>-0.293980</td>\n",
       "      <td>-0.366309</td>\n",
       "      <td>-0.090975</td>\n",
       "      <td>0.411026</td>\n",
       "      <td>-0.960773</td>\n",
       "    </tr>\n",
       "    <tr>\n",
       "      <th>9</th>\n",
       "      <td>-0.809004</td>\n",
       "      <td>-0.079741</td>\n",
       "      <td>-0.106070</td>\n",
       "      <td>-0.337112</td>\n",
       "      <td>0.858661</td>\n",
       "      <td>-0.667024</td>\n",
       "    </tr>\n",
       "    <tr>\n",
       "      <th>10</th>\n",
       "      <td>-0.686882</td>\n",
       "      <td>-0.644462</td>\n",
       "      <td>-0.044581</td>\n",
       "      <td>-0.296815</td>\n",
       "      <td>0.806860</td>\n",
       "      <td>-0.438334</td>\n",
       "    </tr>\n",
       "    <tr>\n",
       "      <th>11</th>\n",
       "      <td>-0.486223</td>\n",
       "      <td>-0.060726</td>\n",
       "      <td>-0.046191</td>\n",
       "      <td>0.108857</td>\n",
       "      <td>0.522926</td>\n",
       "      <td>-0.340305</td>\n",
       "    </tr>\n",
       "    <tr>\n",
       "      <th>12</th>\n",
       "      <td>-0.313005</td>\n",
       "      <td>-0.134467</td>\n",
       "      <td>0.091554</td>\n",
       "      <td>-0.147248</td>\n",
       "      <td>0.470731</td>\n",
       "      <td>-0.017964</td>\n",
       "    </tr>\n",
       "    <tr>\n",
       "      <th>13</th>\n",
       "      <td>-0.236525</td>\n",
       "      <td>0.019623</td>\n",
       "      <td>-0.088980</td>\n",
       "      <td>0.119270</td>\n",
       "      <td>0.304561</td>\n",
       "      <td>-0.000633</td>\n",
       "    </tr>\n",
       "    <tr>\n",
       "      <th>14</th>\n",
       "      <td>-0.072880</td>\n",
       "      <td>0.089335</td>\n",
       "      <td>0.266771</td>\n",
       "      <td>0.133882</td>\n",
       "      <td>0.721908</td>\n",
       "      <td>0.089537</td>\n",
       "    </tr>\n",
       "    <tr>\n",
       "      <th>15</th>\n",
       "      <td>0.195029</td>\n",
       "      <td>0.089569</td>\n",
       "      <td>0.114638</td>\n",
       "      <td>0.408905</td>\n",
       "      <td>0.037661</td>\n",
       "      <td>0.503008</td>\n",
       "    </tr>\n",
       "    <tr>\n",
       "      <th>16</th>\n",
       "      <td>0.262628</td>\n",
       "      <td>0.640671</td>\n",
       "      <td>0.262765</td>\n",
       "      <td>0.239002</td>\n",
       "      <td>0.073742</td>\n",
       "      <td>0.422380</td>\n",
       "    </tr>\n",
       "    <tr>\n",
       "      <th>17</th>\n",
       "      <td>0.757945</td>\n",
       "      <td>0.977214</td>\n",
       "      <td>0.600427</td>\n",
       "      <td>0.477681</td>\n",
       "      <td>0.929239</td>\n",
       "      <td>0.831394</td>\n",
       "    </tr>\n",
       "    <tr>\n",
       "      <th>18</th>\n",
       "      <td>0.708385</td>\n",
       "      <td>0.831976</td>\n",
       "      <td>0.537454</td>\n",
       "      <td>0.444542</td>\n",
       "      <td>0.104082</td>\n",
       "      <td>1.015823</td>\n",
       "    </tr>\n",
       "    <tr>\n",
       "      <th>19</th>\n",
       "      <td>1.117040</td>\n",
       "      <td>1.874151</td>\n",
       "      <td>0.440935</td>\n",
       "      <td>0.542860</td>\n",
       "      <td>0.406201</td>\n",
       "      <td>1.031315</td>\n",
       "    </tr>\n",
       "    <tr>\n",
       "      <th>20</th>\n",
       "      <td>1.258065</td>\n",
       "      <td>1.151137</td>\n",
       "      <td>0.744906</td>\n",
       "      <td>0.410786</td>\n",
       "      <td>0.769248</td>\n",
       "      <td>0.954988</td>\n",
       "    </tr>\n",
       "    <tr>\n",
       "      <th>21</th>\n",
       "      <td>1.169300</td>\n",
       "      <td>2.020046</td>\n",
       "      <td>0.677538</td>\n",
       "      <td>0.541212</td>\n",
       "      <td>-0.258451</td>\n",
       "      <td>1.216127</td>\n",
       "    </tr>\n",
       "    <tr>\n",
       "      <th>22</th>\n",
       "      <td>1.284055</td>\n",
       "      <td>1.433683</td>\n",
       "      <td>0.869749</td>\n",
       "      <td>0.831782</td>\n",
       "      <td>0.500986</td>\n",
       "      <td>1.347206</td>\n",
       "    </tr>\n",
       "    <tr>\n",
       "      <th>23</th>\n",
       "      <td>1.466652</td>\n",
       "      <td>2.214675</td>\n",
       "      <td>0.650579</td>\n",
       "      <td>0.872317</td>\n",
       "      <td>0.278948</td>\n",
       "      <td>1.523090</td>\n",
       "    </tr>\n",
       "    <tr>\n",
       "      <th>24</th>\n",
       "      <td>1.878616</td>\n",
       "      <td>1.684796</td>\n",
       "      <td>0.981840</td>\n",
       "      <td>1.021651</td>\n",
       "      <td>0.292359</td>\n",
       "      <td>1.719334</td>\n",
       "    </tr>\n",
       "    <tr>\n",
       "      <th>25</th>\n",
       "      <td>1.628771</td>\n",
       "      <td>2.028418</td>\n",
       "      <td>0.902725</td>\n",
       "      <td>0.907671</td>\n",
       "      <td>-0.280624</td>\n",
       "      <td>1.704189</td>\n",
       "    </tr>\n",
       "    <tr>\n",
       "      <th>26</th>\n",
       "      <td>1.690466</td>\n",
       "      <td>2.715828</td>\n",
       "      <td>0.828376</td>\n",
       "      <td>0.911208</td>\n",
       "      <td>0.313824</td>\n",
       "      <td>2.036596</td>\n",
       "    </tr>\n",
       "    <tr>\n",
       "      <th>27</th>\n",
       "      <td>1.914603</td>\n",
       "      <td>2.753724</td>\n",
       "      <td>0.854700</td>\n",
       "      <td>0.820236</td>\n",
       "      <td>-0.222102</td>\n",
       "      <td>1.872755</td>\n",
       "    </tr>\n",
       "    <tr>\n",
       "      <th>28</th>\n",
       "      <td>1.963750</td>\n",
       "      <td>2.047540</td>\n",
       "      <td>0.909545</td>\n",
       "      <td>1.132530</td>\n",
       "      <td>-0.195585</td>\n",
       "      <td>2.088301</td>\n",
       "    </tr>\n",
       "    <tr>\n",
       "      <th>29</th>\n",
       "      <td>2.166594</td>\n",
       "      <td>2.697592</td>\n",
       "      <td>0.869304</td>\n",
       "      <td>0.902941</td>\n",
       "      <td>-0.265297</td>\n",
       "      <td>1.813435</td>\n",
       "    </tr>\n",
       "    <tr>\n",
       "      <th>...</th>\n",
       "      <td>...</td>\n",
       "      <td>...</td>\n",
       "      <td>...</td>\n",
       "      <td>...</td>\n",
       "      <td>...</td>\n",
       "      <td>...</td>\n",
       "    </tr>\n",
       "    <tr>\n",
       "      <th>120</th>\n",
       "      <td>-1.504246</td>\n",
       "      <td>-1.710669</td>\n",
       "      <td>-0.473549</td>\n",
       "      <td>-0.344491</td>\n",
       "      <td>0.557123</td>\n",
       "      <td>-1.637939</td>\n",
       "    </tr>\n",
       "    <tr>\n",
       "      <th>121</th>\n",
       "      <td>-1.402753</td>\n",
       "      <td>-1.809457</td>\n",
       "      <td>-0.568261</td>\n",
       "      <td>-0.545377</td>\n",
       "      <td>0.624877</td>\n",
       "      <td>-1.518484</td>\n",
       "    </tr>\n",
       "    <tr>\n",
       "      <th>122</th>\n",
       "      <td>-1.744109</td>\n",
       "      <td>-0.882365</td>\n",
       "      <td>-0.711150</td>\n",
       "      <td>-0.740552</td>\n",
       "      <td>1.515514</td>\n",
       "      <td>-1.287093</td>\n",
       "    </tr>\n",
       "    <tr>\n",
       "      <th>123</th>\n",
       "      <td>-1.701811</td>\n",
       "      <td>-1.373291</td>\n",
       "      <td>-0.630641</td>\n",
       "      <td>-0.505627</td>\n",
       "      <td>1.599950</td>\n",
       "      <td>-1.319737</td>\n",
       "    </tr>\n",
       "    <tr>\n",
       "      <th>124</th>\n",
       "      <td>-1.554159</td>\n",
       "      <td>-1.378863</td>\n",
       "      <td>-0.354376</td>\n",
       "      <td>-0.645022</td>\n",
       "      <td>1.292211</td>\n",
       "      <td>-1.406626</td>\n",
       "    </tr>\n",
       "    <tr>\n",
       "      <th>125</th>\n",
       "      <td>-1.448483</td>\n",
       "      <td>-1.096091</td>\n",
       "      <td>-0.352216</td>\n",
       "      <td>-0.379048</td>\n",
       "      <td>1.404169</td>\n",
       "      <td>-1.694610</td>\n",
       "    </tr>\n",
       "    <tr>\n",
       "      <th>126</th>\n",
       "      <td>-1.458058</td>\n",
       "      <td>-0.873779</td>\n",
       "      <td>-0.419385</td>\n",
       "      <td>-0.759863</td>\n",
       "      <td>1.190467</td>\n",
       "      <td>-1.385986</td>\n",
       "    </tr>\n",
       "    <tr>\n",
       "      <th>127</th>\n",
       "      <td>-1.639912</td>\n",
       "      <td>-1.421968</td>\n",
       "      <td>-0.465311</td>\n",
       "      <td>-0.617537</td>\n",
       "      <td>1.479830</td>\n",
       "      <td>-1.401168</td>\n",
       "    </tr>\n",
       "    <tr>\n",
       "      <th>128</th>\n",
       "      <td>-1.641085</td>\n",
       "      <td>-1.098425</td>\n",
       "      <td>-0.297169</td>\n",
       "      <td>-0.412950</td>\n",
       "      <td>0.721074</td>\n",
       "      <td>-1.453077</td>\n",
       "    </tr>\n",
       "    <tr>\n",
       "      <th>129</th>\n",
       "      <td>-1.395851</td>\n",
       "      <td>-0.676198</td>\n",
       "      <td>-0.517287</td>\n",
       "      <td>-0.321369</td>\n",
       "      <td>1.011368</td>\n",
       "      <td>-1.196433</td>\n",
       "    </tr>\n",
       "    <tr>\n",
       "      <th>130</th>\n",
       "      <td>-1.303483</td>\n",
       "      <td>-1.112022</td>\n",
       "      <td>-0.413001</td>\n",
       "      <td>-0.241883</td>\n",
       "      <td>0.536649</td>\n",
       "      <td>-1.198326</td>\n",
       "    </tr>\n",
       "    <tr>\n",
       "      <th>131</th>\n",
       "      <td>-1.183405</td>\n",
       "      <td>-0.377798</td>\n",
       "      <td>-0.478776</td>\n",
       "      <td>-0.574389</td>\n",
       "      <td>1.026332</td>\n",
       "      <td>-1.236594</td>\n",
       "    </tr>\n",
       "    <tr>\n",
       "      <th>132</th>\n",
       "      <td>-1.222276</td>\n",
       "      <td>-0.424050</td>\n",
       "      <td>-0.240382</td>\n",
       "      <td>-0.168277</td>\n",
       "      <td>0.526481</td>\n",
       "      <td>-0.828893</td>\n",
       "    </tr>\n",
       "    <tr>\n",
       "      <th>133</th>\n",
       "      <td>-0.812686</td>\n",
       "      <td>-0.417115</td>\n",
       "      <td>-0.018545</td>\n",
       "      <td>-0.408563</td>\n",
       "      <td>0.925368</td>\n",
       "      <td>-1.008312</td>\n",
       "    </tr>\n",
       "    <tr>\n",
       "      <th>134</th>\n",
       "      <td>-0.734378</td>\n",
       "      <td>-0.852942</td>\n",
       "      <td>-0.401447</td>\n",
       "      <td>-0.284579</td>\n",
       "      <td>1.166443</td>\n",
       "      <td>-0.729256</td>\n",
       "    </tr>\n",
       "    <tr>\n",
       "      <th>135</th>\n",
       "      <td>-0.474474</td>\n",
       "      <td>0.202320</td>\n",
       "      <td>-0.257064</td>\n",
       "      <td>0.004776</td>\n",
       "      <td>0.536118</td>\n",
       "      <td>-0.462553</td>\n",
       "    </tr>\n",
       "    <tr>\n",
       "      <th>136</th>\n",
       "      <td>-0.618798</td>\n",
       "      <td>-0.023877</td>\n",
       "      <td>-0.016278</td>\n",
       "      <td>-0.200542</td>\n",
       "      <td>0.186689</td>\n",
       "      <td>-0.361029</td>\n",
       "    </tr>\n",
       "    <tr>\n",
       "      <th>137</th>\n",
       "      <td>-0.357335</td>\n",
       "      <td>-0.111566</td>\n",
       "      <td>0.090611</td>\n",
       "      <td>0.092107</td>\n",
       "      <td>0.612518</td>\n",
       "      <td>-0.244284</td>\n",
       "    </tr>\n",
       "    <tr>\n",
       "      <th>138</th>\n",
       "      <td>-0.171513</td>\n",
       "      <td>0.636434</td>\n",
       "      <td>0.194229</td>\n",
       "      <td>0.242672</td>\n",
       "      <td>0.632067</td>\n",
       "      <td>-0.080197</td>\n",
       "    </tr>\n",
       "    <tr>\n",
       "      <th>139</th>\n",
       "      <td>0.270415</td>\n",
       "      <td>-0.051884</td>\n",
       "      <td>0.047109</td>\n",
       "      <td>0.307053</td>\n",
       "      <td>0.378550</td>\n",
       "      <td>0.398112</td>\n",
       "    </tr>\n",
       "    <tr>\n",
       "      <th>140</th>\n",
       "      <td>0.288469</td>\n",
       "      <td>0.649174</td>\n",
       "      <td>0.371567</td>\n",
       "      <td>0.416793</td>\n",
       "      <td>0.073509</td>\n",
       "      <td>0.234722</td>\n",
       "    </tr>\n",
       "    <tr>\n",
       "      <th>141</th>\n",
       "      <td>0.574467</td>\n",
       "      <td>1.100470</td>\n",
       "      <td>0.156920</td>\n",
       "      <td>0.180346</td>\n",
       "      <td>0.783385</td>\n",
       "      <td>0.553853</td>\n",
       "    </tr>\n",
       "    <tr>\n",
       "      <th>142</th>\n",
       "      <td>0.601322</td>\n",
       "      <td>0.832273</td>\n",
       "      <td>0.314929</td>\n",
       "      <td>0.260916</td>\n",
       "      <td>0.268829</td>\n",
       "      <td>0.846062</td>\n",
       "    </tr>\n",
       "    <tr>\n",
       "      <th>143</th>\n",
       "      <td>0.877379</td>\n",
       "      <td>0.743611</td>\n",
       "      <td>0.361242</td>\n",
       "      <td>0.490862</td>\n",
       "      <td>0.877498</td>\n",
       "      <td>1.020993</td>\n",
       "    </tr>\n",
       "    <tr>\n",
       "      <th>144</th>\n",
       "      <td>1.173640</td>\n",
       "      <td>1.227374</td>\n",
       "      <td>0.416249</td>\n",
       "      <td>0.619471</td>\n",
       "      <td>0.221019</td>\n",
       "      <td>0.986310</td>\n",
       "    </tr>\n",
       "    <tr>\n",
       "      <th>145</th>\n",
       "      <td>1.067592</td>\n",
       "      <td>1.187570</td>\n",
       "      <td>0.604137</td>\n",
       "      <td>0.431684</td>\n",
       "      <td>0.441653</td>\n",
       "      <td>1.302564</td>\n",
       "    </tr>\n",
       "    <tr>\n",
       "      <th>146</th>\n",
       "      <td>1.295726</td>\n",
       "      <td>1.722271</td>\n",
       "      <td>0.981724</td>\n",
       "      <td>0.523001</td>\n",
       "      <td>-0.181115</td>\n",
       "      <td>1.366733</td>\n",
       "    </tr>\n",
       "    <tr>\n",
       "      <th>147</th>\n",
       "      <td>1.518030</td>\n",
       "      <td>1.780304</td>\n",
       "      <td>0.763166</td>\n",
       "      <td>0.714231</td>\n",
       "      <td>0.300604</td>\n",
       "      <td>1.337730</td>\n",
       "    </tr>\n",
       "    <tr>\n",
       "      <th>148</th>\n",
       "      <td>1.540799</td>\n",
       "      <td>2.502712</td>\n",
       "      <td>0.920482</td>\n",
       "      <td>0.700475</td>\n",
       "      <td>0.216913</td>\n",
       "      <td>1.747061</td>\n",
       "    </tr>\n",
       "    <tr>\n",
       "      <th>149</th>\n",
       "      <td>1.850136</td>\n",
       "      <td>1.728424</td>\n",
       "      <td>1.153129</td>\n",
       "      <td>0.677130</td>\n",
       "      <td>-0.409568</td>\n",
       "      <td>1.970289</td>\n",
       "    </tr>\n",
       "  </tbody>\n",
       "</table>\n",
       "<p>150 rows × 6 columns</p>\n",
       "</div>"
      ],
      "text/plain": [
       "          x_a       x_b       x_c       y_a       y_b       y_c\n",
       "0   -1.491938 -0.915467 -0.354727 -0.501428  0.988550 -1.363911\n",
       "1   -1.587043 -0.966361 -0.746049 -0.395142  1.454184 -1.534402\n",
       "2   -1.661025 -1.293376 -0.644113 -0.669801  0.777036 -1.663500\n",
       "3   -1.361033 -1.061569 -0.772810 -0.666341  1.018386 -1.190254\n",
       "4   -1.524391 -0.983870 -0.621450 -0.308760  0.654747 -1.383306\n",
       "5   -1.496559 -1.373468 -0.602093 -0.584424  1.423196 -1.047216\n",
       "6   -1.134644 -1.348598 -0.243642 -0.282730  1.004431 -1.156090\n",
       "7   -1.111687 -1.330642 -0.109276 -0.292975  1.233572 -1.194423\n",
       "8   -1.129415 -0.293980 -0.366309 -0.090975  0.411026 -0.960773\n",
       "9   -0.809004 -0.079741 -0.106070 -0.337112  0.858661 -0.667024\n",
       "10  -0.686882 -0.644462 -0.044581 -0.296815  0.806860 -0.438334\n",
       "11  -0.486223 -0.060726 -0.046191  0.108857  0.522926 -0.340305\n",
       "12  -0.313005 -0.134467  0.091554 -0.147248  0.470731 -0.017964\n",
       "13  -0.236525  0.019623 -0.088980  0.119270  0.304561 -0.000633\n",
       "14  -0.072880  0.089335  0.266771  0.133882  0.721908  0.089537\n",
       "15   0.195029  0.089569  0.114638  0.408905  0.037661  0.503008\n",
       "16   0.262628  0.640671  0.262765  0.239002  0.073742  0.422380\n",
       "17   0.757945  0.977214  0.600427  0.477681  0.929239  0.831394\n",
       "18   0.708385  0.831976  0.537454  0.444542  0.104082  1.015823\n",
       "19   1.117040  1.874151  0.440935  0.542860  0.406201  1.031315\n",
       "20   1.258065  1.151137  0.744906  0.410786  0.769248  0.954988\n",
       "21   1.169300  2.020046  0.677538  0.541212 -0.258451  1.216127\n",
       "22   1.284055  1.433683  0.869749  0.831782  0.500986  1.347206\n",
       "23   1.466652  2.214675  0.650579  0.872317  0.278948  1.523090\n",
       "24   1.878616  1.684796  0.981840  1.021651  0.292359  1.719334\n",
       "25   1.628771  2.028418  0.902725  0.907671 -0.280624  1.704189\n",
       "26   1.690466  2.715828  0.828376  0.911208  0.313824  2.036596\n",
       "27   1.914603  2.753724  0.854700  0.820236 -0.222102  1.872755\n",
       "28   1.963750  2.047540  0.909545  1.132530 -0.195585  2.088301\n",
       "29   2.166594  2.697592  0.869304  0.902941 -0.265297  1.813435\n",
       "..        ...       ...       ...       ...       ...       ...\n",
       "120 -1.504246 -1.710669 -0.473549 -0.344491  0.557123 -1.637939\n",
       "121 -1.402753 -1.809457 -0.568261 -0.545377  0.624877 -1.518484\n",
       "122 -1.744109 -0.882365 -0.711150 -0.740552  1.515514 -1.287093\n",
       "123 -1.701811 -1.373291 -0.630641 -0.505627  1.599950 -1.319737\n",
       "124 -1.554159 -1.378863 -0.354376 -0.645022  1.292211 -1.406626\n",
       "125 -1.448483 -1.096091 -0.352216 -0.379048  1.404169 -1.694610\n",
       "126 -1.458058 -0.873779 -0.419385 -0.759863  1.190467 -1.385986\n",
       "127 -1.639912 -1.421968 -0.465311 -0.617537  1.479830 -1.401168\n",
       "128 -1.641085 -1.098425 -0.297169 -0.412950  0.721074 -1.453077\n",
       "129 -1.395851 -0.676198 -0.517287 -0.321369  1.011368 -1.196433\n",
       "130 -1.303483 -1.112022 -0.413001 -0.241883  0.536649 -1.198326\n",
       "131 -1.183405 -0.377798 -0.478776 -0.574389  1.026332 -1.236594\n",
       "132 -1.222276 -0.424050 -0.240382 -0.168277  0.526481 -0.828893\n",
       "133 -0.812686 -0.417115 -0.018545 -0.408563  0.925368 -1.008312\n",
       "134 -0.734378 -0.852942 -0.401447 -0.284579  1.166443 -0.729256\n",
       "135 -0.474474  0.202320 -0.257064  0.004776  0.536118 -0.462553\n",
       "136 -0.618798 -0.023877 -0.016278 -0.200542  0.186689 -0.361029\n",
       "137 -0.357335 -0.111566  0.090611  0.092107  0.612518 -0.244284\n",
       "138 -0.171513  0.636434  0.194229  0.242672  0.632067 -0.080197\n",
       "139  0.270415 -0.051884  0.047109  0.307053  0.378550  0.398112\n",
       "140  0.288469  0.649174  0.371567  0.416793  0.073509  0.234722\n",
       "141  0.574467  1.100470  0.156920  0.180346  0.783385  0.553853\n",
       "142  0.601322  0.832273  0.314929  0.260916  0.268829  0.846062\n",
       "143  0.877379  0.743611  0.361242  0.490862  0.877498  1.020993\n",
       "144  1.173640  1.227374  0.416249  0.619471  0.221019  0.986310\n",
       "145  1.067592  1.187570  0.604137  0.431684  0.441653  1.302564\n",
       "146  1.295726  1.722271  0.981724  0.523001 -0.181115  1.366733\n",
       "147  1.518030  1.780304  0.763166  0.714231  0.300604  1.337730\n",
       "148  1.540799  2.502712  0.920482  0.700475  0.216913  1.747061\n",
       "149  1.850136  1.728424  1.153129  0.677130 -0.409568  1.970289\n",
       "\n",
       "[150 rows x 6 columns]"
      ]
     },
     "execution_count": 32,
     "metadata": {},
     "output_type": "execute_result"
    }
   ],
   "source": [
    "data_df = pd.DataFrame()\n",
    "data_df['x_a'] = cam_A_act[:, 0]\n",
    "data_df['x_b'] = cam_B_act[:, 0]\n",
    "data_df['x_c'] = cam_C_act[:, 0]\n",
    "data_df['y_a'] = cam_A_act[:, 1]\n",
    "data_df['y_b'] = cam_B_act[:, 1]\n",
    "data_df['y_c'] = cam_C_act[:, 1]\n",
    "data_df"
   ]
  },
  {
   "cell_type": "code",
   "execution_count": 22,
   "metadata": {},
   "outputs": [],
   "source": [
    "data_df.to_pickle('data/ball_on_spring.p')"
   ]
  },
  {
   "cell_type": "markdown",
   "metadata": {},
   "source": [
    "## Serialization"
   ]
  },
  {
   "cell_type": "markdown",
   "metadata": {},
   "source": [
    "#### For DataFrames\n",
    "    pd.read_pickle(file_location)\n",
    "    dataframe = pd.DataFrame.to_pickle(file_location)\n",
    "\n",
    "#### For sklearn objects\n",
    "As opposed to `sklearn.externals.joblib`\n",
    "    sklearn.externals.joblib.dump(object, file_location)\n",
    "    object = sklearn.externals.joblib.load(file_location)\n",
    "\n",
    "#### Generally, for Python objects\n",
    "    import pickle\n",
    "\n",
    "    pickle.dump(object, file)\n",
    "    object = pickle.load(file)\n",
    "\n",
    "#### General Serialization Language Agnostic\n",
    "    import json\n",
    "    \n",
    "    json.dump(some_dict, file)\n",
    "    some_dict = json.load(file)"
   ]
  },
  {
   "cell_type": "code",
   "execution_count": null,
   "metadata": {},
   "outputs": [],
   "source": []
  }
 ],
 "metadata": {
  "kernelspec": {
   "display_name": "Python 3",
   "language": "python",
   "name": "python3"
  },
  "language_info": {
   "codemirror_mode": {
    "name": "ipython",
    "version": 3
   },
   "file_extension": ".py",
   "mimetype": "text/x-python",
   "name": "python",
   "nbconvert_exporter": "python",
   "pygments_lexer": "ipython3",
   "version": "3.6.4"
  }
 },
 "nbformat": 4,
 "nbformat_minor": 2
}
