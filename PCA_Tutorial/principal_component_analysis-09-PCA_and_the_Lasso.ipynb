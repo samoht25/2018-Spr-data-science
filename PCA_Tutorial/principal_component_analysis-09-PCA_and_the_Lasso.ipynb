{
 "cells": [
  {
   "cell_type": "markdown",
   "metadata": {},
   "source": [
    "### PCA and the LASSO\n",
    "\n",
    "Home ownership?\n",
    "\n",
    "#### Scaler -> Lasso \n",
    "\n",
    "\\begin{align}\n",
    "x &= (age, income, gender)\\\\\n",
    "y &= f(x) = \\beta_0 + \\beta_1\\cdot(age) + \\beta_2\\cdot(income) + \\beta_3\\cdot(gender)\n",
    "\\end{align}\n",
    "\n",
    "##### Covariance\n",
    "\n",
    "| | age | income | gender|\n",
    "|:-:|:-:|:-:|:-:|\n",
    "| age | 214 | 123 | 93 |\n",
    "| income | 123 | 105 | 16\n",
    "| gender | 93 | 16 | 4 |\n",
    "\n",
    "The lasso eliminates gender. \n",
    "\n",
    "#### Scaler -> PCA -> Lasso\n",
    "\\begin{align}\n",
    "x' &= Px\\\\\n",
    "x' &= (pc_1, pc_2, pc_3)\\\\\n",
    "y &= f(x') = \\beta'_0 + \\beta'_1\\cdot(pc_1)+ \\beta'\n",
    "_2\\cdot(pc_2)+ \\beta'_3\\cdot(pc_3) \n",
    "\\end{align}\n",
    "\n",
    "| | pc1 | pc2 | pc3|\n",
    "|:-:|:-:|:-:|:-:|\n",
    "| pc1 | 300 | 0 | 0 |\n",
    "| pc2 | 0 | 150 | 0\n",
    "| pc3 | 0 | 0 | 12 |\n",
    "\n",
    "\n",
    "\n",
    "The lasso eliminates $pc_2$ and $pc_3$."
   ]
  }
 ],
 "metadata": {
  "kernelspec": {
   "display_name": "Python 3",
   "language": "python",
   "name": "python3"
  },
  "language_info": {
   "codemirror_mode": {
    "name": "ipython",
    "version": 3
   },
   "file_extension": ".py",
   "mimetype": "text/x-python",
   "name": "python",
   "nbconvert_exporter": "python",
   "pygments_lexer": "ipython3",
   "version": "3.6.4"
  }
 },
 "nbformat": 4,
 "nbformat_minor": 2
}
