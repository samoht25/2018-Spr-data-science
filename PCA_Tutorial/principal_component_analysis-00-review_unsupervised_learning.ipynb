{
 "cells": [
  {
   "cell_type": "markdown",
   "metadata": {},
   "source": [
    "# Don't Drop Out Of Numpy"
   ]
  },
  {
   "cell_type": "code",
   "execution_count": 1,
   "metadata": {},
   "outputs": [
    {
     "name": "stdout",
     "output_type": "stream",
     "text": [
      "/home/jovyan/projects/dsi/09-unsupervised_learning-a_tutorial_on_pca\n"
     ]
    }
   ],
   "source": [
    "cd .."
   ]
  },
  {
   "cell_type": "code",
   "execution_count": 2,
   "metadata": {},
   "outputs": [],
   "source": [
    "from lib.preprocessing import BoxCoxTransformer\n",
    "import numpy as np\n",
    "import pandas as pd\n",
    "import matplotlib.pyplot as plt\n",
    "import seaborn as sns\n",
    "%matplotlib inline"
   ]
  },
  {
   "cell_type": "markdown",
   "metadata": {},
   "source": [
    "This lesson will make heavy use of the numerical python library, `numpy`. Remember, its very important when working in `numpy` that you do not \"drop out of `numpy`\" that is change your data into regular lists."
   ]
  },
  {
   "cell_type": "code",
   "execution_count": 3,
   "metadata": {},
   "outputs": [
    {
     "data": {
      "text/plain": [
       "list"
      ]
     },
     "execution_count": 3,
     "metadata": {},
     "output_type": "execute_result"
    }
   ],
   "source": [
    "type([1,2])"
   ]
  },
  {
   "cell_type": "code",
   "execution_count": 4,
   "metadata": {},
   "outputs": [
    {
     "data": {
      "text/plain": [
       "numpy.ndarray"
      ]
     },
     "execution_count": 4,
     "metadata": {},
     "output_type": "execute_result"
    }
   ],
   "source": [
    "type(np.array([1,2]))"
   ]
  },
  {
   "cell_type": "markdown",
   "metadata": {},
   "source": [
    "The most common way to \"drop out of `numpy`\" is to use a list comprehension on a `numpy` array."
   ]
  },
  {
   "cell_type": "code",
   "execution_count": 5,
   "metadata": {},
   "outputs": [
    {
     "data": {
      "text/plain": [
       "list"
      ]
     },
     "execution_count": 5,
     "metadata": {},
     "output_type": "execute_result"
    }
   ],
   "source": [
    "type([v for v in np.array([1,2])])"
   ]
  },
  {
   "cell_type": "markdown",
   "metadata": {},
   "source": [
    "#### `numpy` vs `math`\n",
    "\n",
    "Python has a `math` library in addition to `numpy`. The main difference is that `numpy` works on vectors, whereas `math` works on scalar values."
   ]
  },
  {
   "cell_type": "code",
   "execution_count": 6,
   "metadata": {},
   "outputs": [],
   "source": [
    "import math"
   ]
  },
  {
   "cell_type": "markdown",
   "metadata": {},
   "source": [
    "We will need cosine and sine functions to define our true function. As we will be performing vector calculations, we will need to use the `numpy` trigonometric functions as opposed to the `math` trigonometric functions."
   ]
  },
  {
   "cell_type": "code",
   "execution_count": 7,
   "metadata": {},
   "outputs": [
    {
     "name": "stdout",
     "output_type": "stream",
     "text": [
      "only length-1 arrays can be converted to Python scalars\n"
     ]
    }
   ],
   "source": [
    "vv = np.linspace(1,1000,1000)\n",
    "np.cos(vv)\n",
    "try:\n",
    "    math.cos(vv)\n",
    "except TypeError as e:\n",
    "    print(e)"
   ]
  },
  {
   "cell_type": "markdown",
   "metadata": {},
   "source": [
    "We could perform a list comprehension using the `math` function."
   ]
  },
  {
   "cell_type": "code",
   "execution_count": 8,
   "metadata": {},
   "outputs": [],
   "source": [
    "cos_vv = [math.cos(v) for v in vv]"
   ]
  },
  {
   "cell_type": "markdown",
   "metadata": {},
   "source": [
    "The issue is time."
   ]
  },
  {
   "cell_type": "code",
   "execution_count": 9,
   "metadata": {},
   "outputs": [
    {
     "name": "stdout",
     "output_type": "stream",
     "text": [
      "The slowest run took 4.13 times longer than the fastest. This could mean that an intermediate result is being cached.\n",
      "129 µs ± 71.3 µs per loop (mean ± std. dev. of 7 runs, 1000 loops each)\n"
     ]
    }
   ],
   "source": [
    "%%timeit\n",
    "np.cos(vv)"
   ]
  },
  {
   "cell_type": "code",
   "execution_count": 10,
   "metadata": {},
   "outputs": [
    {
     "name": "stdout",
     "output_type": "stream",
     "text": [
      "The slowest run took 4.64 times longer than the fastest. This could mean that an intermediate result is being cached.\n",
      "2.56 ms ± 990 µs per loop (mean ± std. dev. of 7 runs, 100 loops each)\n"
     ]
    }
   ],
   "source": [
    "%%timeit\n",
    "[math.cos(v) for v in vv]"
   ]
  },
  {
   "cell_type": "markdown",
   "metadata": {},
   "source": [
    "This difference only increases for larger $n$."
   ]
  },
  {
   "cell_type": "code",
   "execution_count": 11,
   "metadata": {},
   "outputs": [
    {
     "name": "stdout",
     "output_type": "stream",
     "text": [
      "896 µs ± 390 µs per loop (mean ± std. dev. of 7 runs, 100 loops each)\n"
     ]
    }
   ],
   "source": [
    "%%timeit \n",
    "np.cos(np.linspace(1,1000,10000))"
   ]
  },
  {
   "cell_type": "code",
   "execution_count": 12,
   "metadata": {},
   "outputs": [
    {
     "name": "stdout",
     "output_type": "stream",
     "text": [
      "The slowest run took 4.24 times longer than the fastest. This could mean that an intermediate result is being cached.\n",
      "11.5 ms ± 6.23 ms per loop (mean ± std. dev. of 7 runs, 10 loops each)\n"
     ]
    }
   ],
   "source": [
    "%%timeit \n",
    "[math.cos(v) for v in np.linspace(1,1000,10000)]"
   ]
  },
  {
   "cell_type": "markdown",
   "metadata": {},
   "source": [
    "# Unsupervised Learning"
   ]
  },
  {
   "cell_type": "markdown",
   "metadata": {},
   "source": [
    "With unsupervised learning, we are still interested in developing models, but we do not have an output for each input. Rather we simply have data points.\n",
    "\n",
    "\n",
    "### With unsupervised learning, there is no target."
   ]
  },
  {
   "cell_type": "markdown",
   "metadata": {},
   "source": [
    "# Moments"
   ]
  },
  {
   "cell_type": "markdown",
   "metadata": {},
   "source": [
    "If the points represent mass:\n",
    "- the zeroth moment is the total mass\n",
    "- the first moment divided by the total mass is the center of mass\n",
    "\n",
    "If the points represent probability density:\n",
    "- the zeroth moment is the total probability (i.e. one)\n",
    "- the first moment is the mean\n",
    "- the second central moment is the variance\n",
    "- the third standardized moment is the skewness"
   ]
  },
  {
   "cell_type": "markdown",
   "metadata": {},
   "source": [
    "### Critical to Remember\n",
    "\n",
    "- the **mean** is the expected value of a feature\n",
    "- the **variance** is a central moment and describes the spread around an expected value\n",
    "- the **skewness** is a standardized moment and describes the degree to which the feature's distribution deviates from the normal distribution\n",
    "- to centralize a feature, subtract the mean from the feature\n",
    "\n",
    "   e.g. `X_c = X - X.mean()`\n",
    "\n",
    "- to standardize a feature, subtract the mean and divide by the standard deviation\n",
    "\n",
    "   e.g. `X_sc = (X - X.mean())/X.std()`\n",
    "- `sklearn` has no built-in tool for removing skew, though one is in development and it may make it in to future versions. \n",
    "- the `lib.preprocessing` module in this repository includes an `sklearn` compatible `BoxCoxTransformer`."
   ]
  },
  {
   "cell_type": "markdown",
   "metadata": {},
   "source": [
    "## Deskewing Data"
   ]
  },
  {
   "cell_type": "code",
   "execution_count": 13,
   "metadata": {},
   "outputs": [],
   "source": [
    "from sklearn.datasets import load_iris\n",
    "from scipy.stats import skew"
   ]
  },
  {
   "cell_type": "code",
   "execution_count": 15,
   "metadata": {},
   "outputs": [
    {
     "data": {
      "text/html": [
       "<div>\n",
       "<table border=\"1\" class=\"dataframe\">\n",
       "  <thead>\n",
       "    <tr style=\"text-align: right;\">\n",
       "      <th></th>\n",
       "      <th>0</th>\n",
       "      <th>1</th>\n",
       "      <th>2</th>\n",
       "      <th>3</th>\n",
       "    </tr>\n",
       "  </thead>\n",
       "  <tbody>\n",
       "    <tr>\n",
       "      <th>138</th>\n",
       "      <td>6.0</td>\n",
       "      <td>3.0</td>\n",
       "      <td>4.8</td>\n",
       "      <td>1.8</td>\n",
       "    </tr>\n",
       "    <tr>\n",
       "      <th>47</th>\n",
       "      <td>4.6</td>\n",
       "      <td>3.2</td>\n",
       "      <td>1.4</td>\n",
       "      <td>0.2</td>\n",
       "    </tr>\n",
       "    <tr>\n",
       "      <th>109</th>\n",
       "      <td>7.2</td>\n",
       "      <td>3.6</td>\n",
       "      <td>6.1</td>\n",
       "      <td>2.5</td>\n",
       "    </tr>\n",
       "    <tr>\n",
       "      <th>67</th>\n",
       "      <td>5.8</td>\n",
       "      <td>2.7</td>\n",
       "      <td>4.1</td>\n",
       "      <td>1.0</td>\n",
       "    </tr>\n",
       "  </tbody>\n",
       "</table>\n",
       "</div>"
      ],
      "text/plain": [
       "       0    1    2    3\n",
       "138  6.0  3.0  4.8  1.8\n",
       "47   4.6  3.2  1.4  0.2\n",
       "109  7.2  3.6  6.1  2.5\n",
       "67   5.8  2.7  4.1  1.0"
      ]
     },
     "execution_count": 15,
     "metadata": {},
     "output_type": "execute_result"
    }
   ],
   "source": [
    "X, y = load_iris(return_X_y=True)\n",
    "X = pd.DataFrame(X)\n",
    "X.sample(4)"
   ]
  },
  {
   "cell_type": "code",
   "execution_count": 16,
   "metadata": {},
   "outputs": [
    {
     "data": {
      "text/html": [
       "<div>\n",
       "<table border=\"1\" class=\"dataframe\">\n",
       "  <thead>\n",
       "    <tr style=\"text-align: right;\">\n",
       "      <th></th>\n",
       "      <th>count</th>\n",
       "      <th>mean</th>\n",
       "      <th>std</th>\n",
       "      <th>min</th>\n",
       "      <th>25%</th>\n",
       "      <th>50%</th>\n",
       "      <th>75%</th>\n",
       "      <th>max</th>\n",
       "    </tr>\n",
       "  </thead>\n",
       "  <tbody>\n",
       "    <tr>\n",
       "      <th>0</th>\n",
       "      <td>150.0</td>\n",
       "      <td>5.843333</td>\n",
       "      <td>0.828066</td>\n",
       "      <td>4.3</td>\n",
       "      <td>5.1</td>\n",
       "      <td>5.80</td>\n",
       "      <td>6.4</td>\n",
       "      <td>7.9</td>\n",
       "    </tr>\n",
       "    <tr>\n",
       "      <th>1</th>\n",
       "      <td>150.0</td>\n",
       "      <td>3.054000</td>\n",
       "      <td>0.433594</td>\n",
       "      <td>2.0</td>\n",
       "      <td>2.8</td>\n",
       "      <td>3.00</td>\n",
       "      <td>3.3</td>\n",
       "      <td>4.4</td>\n",
       "    </tr>\n",
       "    <tr>\n",
       "      <th>2</th>\n",
       "      <td>150.0</td>\n",
       "      <td>3.758667</td>\n",
       "      <td>1.764420</td>\n",
       "      <td>1.0</td>\n",
       "      <td>1.6</td>\n",
       "      <td>4.35</td>\n",
       "      <td>5.1</td>\n",
       "      <td>6.9</td>\n",
       "    </tr>\n",
       "    <tr>\n",
       "      <th>3</th>\n",
       "      <td>150.0</td>\n",
       "      <td>1.198667</td>\n",
       "      <td>0.763161</td>\n",
       "      <td>0.1</td>\n",
       "      <td>0.3</td>\n",
       "      <td>1.30</td>\n",
       "      <td>1.8</td>\n",
       "      <td>2.5</td>\n",
       "    </tr>\n",
       "  </tbody>\n",
       "</table>\n",
       "</div>"
      ],
      "text/plain": [
       "   count      mean       std  min  25%   50%  75%  max\n",
       "0  150.0  5.843333  0.828066  4.3  5.1  5.80  6.4  7.9\n",
       "1  150.0  3.054000  0.433594  2.0  2.8  3.00  3.3  4.4\n",
       "2  150.0  3.758667  1.764420  1.0  1.6  4.35  5.1  6.9\n",
       "3  150.0  1.198667  0.763161  0.1  0.3  1.30  1.8  2.5"
      ]
     },
     "execution_count": 16,
     "metadata": {},
     "output_type": "execute_result"
    }
   ],
   "source": [
    "stats = X.describe().T\n",
    "stats"
   ]
  },
  {
   "cell_type": "code",
   "execution_count": 17,
   "metadata": {},
   "outputs": [
    {
     "data": {
      "text/html": [
       "<div>\n",
       "<table border=\"1\" class=\"dataframe\">\n",
       "  <thead>\n",
       "    <tr style=\"text-align: right;\">\n",
       "      <th></th>\n",
       "      <th>count</th>\n",
       "      <th>mean</th>\n",
       "      <th>std</th>\n",
       "      <th>min</th>\n",
       "      <th>25%</th>\n",
       "      <th>50%</th>\n",
       "      <th>75%</th>\n",
       "      <th>max</th>\n",
       "      <th>skew</th>\n",
       "    </tr>\n",
       "  </thead>\n",
       "  <tbody>\n",
       "    <tr>\n",
       "      <th>0</th>\n",
       "      <td>150.0</td>\n",
       "      <td>5.843333</td>\n",
       "      <td>0.828066</td>\n",
       "      <td>4.3</td>\n",
       "      <td>5.1</td>\n",
       "      <td>5.80</td>\n",
       "      <td>6.4</td>\n",
       "      <td>7.9</td>\n",
       "      <td>0.311753</td>\n",
       "    </tr>\n",
       "    <tr>\n",
       "      <th>1</th>\n",
       "      <td>150.0</td>\n",
       "      <td>3.054000</td>\n",
       "      <td>0.433594</td>\n",
       "      <td>2.0</td>\n",
       "      <td>2.8</td>\n",
       "      <td>3.00</td>\n",
       "      <td>3.3</td>\n",
       "      <td>4.4</td>\n",
       "      <td>0.330703</td>\n",
       "    </tr>\n",
       "    <tr>\n",
       "      <th>2</th>\n",
       "      <td>150.0</td>\n",
       "      <td>3.758667</td>\n",
       "      <td>1.764420</td>\n",
       "      <td>1.0</td>\n",
       "      <td>1.6</td>\n",
       "      <td>4.35</td>\n",
       "      <td>5.1</td>\n",
       "      <td>6.9</td>\n",
       "      <td>-0.271712</td>\n",
       "    </tr>\n",
       "    <tr>\n",
       "      <th>3</th>\n",
       "      <td>150.0</td>\n",
       "      <td>1.198667</td>\n",
       "      <td>0.763161</td>\n",
       "      <td>0.1</td>\n",
       "      <td>0.3</td>\n",
       "      <td>1.30</td>\n",
       "      <td>1.8</td>\n",
       "      <td>2.5</td>\n",
       "      <td>-0.103944</td>\n",
       "    </tr>\n",
       "  </tbody>\n",
       "</table>\n",
       "</div>"
      ],
      "text/plain": [
       "   count      mean       std  min  25%   50%  75%  max      skew\n",
       "0  150.0  5.843333  0.828066  4.3  5.1  5.80  6.4  7.9  0.311753\n",
       "1  150.0  3.054000  0.433594  2.0  2.8  3.00  3.3  4.4  0.330703\n",
       "2  150.0  3.758667  1.764420  1.0  1.6  4.35  5.1  6.9 -0.271712\n",
       "3  150.0  1.198667  0.763161  0.1  0.3  1.30  1.8  2.5 -0.103944"
      ]
     },
     "execution_count": 17,
     "metadata": {},
     "output_type": "execute_result"
    }
   ],
   "source": [
    "stats['skew'] = skew(X)\n",
    "stats"
   ]
  },
  {
   "cell_type": "code",
   "execution_count": 18,
   "metadata": {},
   "outputs": [
    {
     "data": {
      "image/png": "[encoded data removed]",
      "text/plain": [
       "<matplotlib.figure.Figure at 0x7fd50ffbf048>"
      ]
     },
     "metadata": {},
     "output_type": "display_data"
    }
   ],
   "source": [
    "fig = plt.figure(figsize=(20,6))\n",
    "for i, col in enumerate(X.columns):\n",
    "    fig.add_subplot(221+i)\n",
    "    sns.distplot(X[col], label=str(col))\n",
    "    plt.axvline(X[col].mean(), c='red')\n",
    "    plt.axvline(X[col].median(), c='black')\n",
    "    plt.legend()"
   ]
  },
  {
   "cell_type": "code",
   "execution_count": 19,
   "metadata": {},
   "outputs": [],
   "source": [
    "X_dsk = pd.DataFrame(BoxCoxTransformer().fit_transform(X))"
   ]
  },
  {
   "cell_type": "code",
   "execution_count": 20,
   "metadata": {},
   "outputs": [
    {
     "data": {
      "text/html": [
       "<div>\n",
       "<table border=\"1\" class=\"dataframe\">\n",
       "  <thead>\n",
       "    <tr style=\"text-align: right;\">\n",
       "      <th></th>\n",
       "      <th>count</th>\n",
       "      <th>mean</th>\n",
       "      <th>std</th>\n",
       "      <th>min</th>\n",
       "      <th>25%</th>\n",
       "      <th>50%</th>\n",
       "      <th>75%</th>\n",
       "      <th>max</th>\n",
       "      <th>skew</th>\n",
       "    </tr>\n",
       "  </thead>\n",
       "  <tbody>\n",
       "    <tr>\n",
       "      <th>0</th>\n",
       "      <td>150.0</td>\n",
       "      <td>1.549011</td>\n",
       "      <td>0.109485</td>\n",
       "      <td>1.314921</td>\n",
       "      <td>1.451378</td>\n",
       "      <td>1.552034</td>\n",
       "      <td>1.627818</td>\n",
       "      <td>1.786340</td>\n",
       "      <td>0.005152</td>\n",
       "    </tr>\n",
       "    <tr>\n",
       "      <th>1</th>\n",
       "      <td>150.0</td>\n",
       "      <td>1.286758</td>\n",
       "      <td>0.189930</td>\n",
       "      <td>0.759982</td>\n",
       "      <td>1.181652</td>\n",
       "      <td>1.272797</td>\n",
       "      <td>1.401446</td>\n",
       "      <td>1.809795</td>\n",
       "      <td>0.001309</td>\n",
       "    </tr>\n",
       "    <tr>\n",
       "      <th>2</th>\n",
       "      <td>150.0</td>\n",
       "      <td>2.582043</td>\n",
       "      <td>1.626827</td>\n",
       "      <td>0.000000</td>\n",
       "      <td>0.589672</td>\n",
       "      <td>3.148368</td>\n",
       "      <td>3.822542</td>\n",
       "      <td>5.414495</td>\n",
       "      <td>-0.297724</td>\n",
       "    </tr>\n",
       "    <tr>\n",
       "      <th>3</th>\n",
       "      <td>150.0</td>\n",
       "      <td>0.084901</td>\n",
       "      <td>0.787603</td>\n",
       "      <td>-1.199892</td>\n",
       "      <td>-0.837489</td>\n",
       "      <td>0.285848</td>\n",
       "      <td>0.714602</td>\n",
       "      <td>1.248947</td>\n",
       "      <td>-0.343819</td>\n",
       "    </tr>\n",
       "  </tbody>\n",
       "</table>\n",
       "</div>"
      ],
      "text/plain": [
       "   count      mean       std       min       25%       50%       75%  \\\n",
       "0  150.0  1.549011  0.109485  1.314921  1.451378  1.552034  1.627818   \n",
       "1  150.0  1.286758  0.189930  0.759982  1.181652  1.272797  1.401446   \n",
       "2  150.0  2.582043  1.626827  0.000000  0.589672  3.148368  3.822542   \n",
       "3  150.0  0.084901  0.787603 -1.199892 -0.837489  0.285848  0.714602   \n",
       "\n",
       "        max      skew  \n",
       "0  1.786340  0.005152  \n",
       "1  1.809795  0.001309  \n",
       "2  5.414495 -0.297724  \n",
       "3  1.248947 -0.343819  "
      ]
     },
     "execution_count": 20,
     "metadata": {},
     "output_type": "execute_result"
    }
   ],
   "source": [
    "stats_dsk = X_dsk.describe().T\n",
    "stats_dsk['skew'] = skew(X_dsk)\n",
    "stats_dsk"
   ]
  },
  {
   "cell_type": "code",
   "execution_count": 21,
   "metadata": {},
   "outputs": [
    {
     "data": {
      "image/png": "[encoded data removed]",
      "text/plain": [
       "<matplotlib.figure.Figure at 0x7fd50c5cdcc0>"
      ]
     },
     "metadata": {},
     "output_type": "display_data"
    }
   ],
   "source": [
    "fig = plt.figure(figsize=(20,6))\n",
    "for i, col in enumerate(X_dsk.columns):\n",
    "    fig.add_subplot(221+i)\n",
    "    sns.distplot(X_dsk[col], label=str(col))\n",
    "    plt.axvline(X_dsk[col].mean(), c='red')\n",
    "    plt.axvline(X_dsk[col].median(), c='black')\n",
    "    plt.legend()"
   ]
  },
  {
   "cell_type": "code",
   "execution_count": 22,
   "metadata": {},
   "outputs": [],
   "source": [
    "X_log = np.log(X)"
   ]
  },
  {
   "cell_type": "code",
   "execution_count": 23,
   "metadata": {},
   "outputs": [
    {
     "data": {
      "text/html": [
       "<div>\n",
       "<table border=\"1\" class=\"dataframe\">\n",
       "  <thead>\n",
       "    <tr style=\"text-align: right;\">\n",
       "      <th></th>\n",
       "      <th>count</th>\n",
       "      <th>mean</th>\n",
       "      <th>std</th>\n",
       "      <th>min</th>\n",
       "      <th>25%</th>\n",
       "      <th>50%</th>\n",
       "      <th>75%</th>\n",
       "      <th>max</th>\n",
       "      <th>skew</th>\n",
       "    </tr>\n",
       "  </thead>\n",
       "  <tbody>\n",
       "    <tr>\n",
       "      <th>0</th>\n",
       "      <td>150.0</td>\n",
       "      <td>1.755393</td>\n",
       "      <td>0.141189</td>\n",
       "      <td>1.458615</td>\n",
       "      <td>1.629241</td>\n",
       "      <td>1.757858</td>\n",
       "      <td>1.856298</td>\n",
       "      <td>2.066863</td>\n",
       "      <td>0.043157</td>\n",
       "    </tr>\n",
       "    <tr>\n",
       "      <th>1</th>\n",
       "      <td>150.0</td>\n",
       "      <td>1.106442</td>\n",
       "      <td>0.142341</td>\n",
       "      <td>0.693147</td>\n",
       "      <td>1.029619</td>\n",
       "      <td>1.098612</td>\n",
       "      <td>1.193922</td>\n",
       "      <td>1.481605</td>\n",
       "      <td>-0.116179</td>\n",
       "    </tr>\n",
       "    <tr>\n",
       "      <th>2</th>\n",
       "      <td>150.0</td>\n",
       "      <td>1.175498</td>\n",
       "      <td>0.589493</td>\n",
       "      <td>0.000000</td>\n",
       "      <td>0.470004</td>\n",
       "      <td>1.470110</td>\n",
       "      <td>1.629241</td>\n",
       "      <td>1.931521</td>\n",
       "      <td>-0.581708</td>\n",
       "    </tr>\n",
       "    <tr>\n",
       "      <th>3</th>\n",
       "      <td>150.0</td>\n",
       "      <td>-0.176944</td>\n",
       "      <td>0.991394</td>\n",
       "      <td>-2.302585</td>\n",
       "      <td>-1.203973</td>\n",
       "      <td>0.262364</td>\n",
       "      <td>0.587787</td>\n",
       "      <td>0.916291</td>\n",
       "      <td>-0.751676</td>\n",
       "    </tr>\n",
       "  </tbody>\n",
       "</table>\n",
       "</div>"
      ],
      "text/plain": [
       "   count      mean       std       min       25%       50%       75%  \\\n",
       "0  150.0  1.755393  0.141189  1.458615  1.629241  1.757858  1.856298   \n",
       "1  150.0  1.106442  0.142341  0.693147  1.029619  1.098612  1.193922   \n",
       "2  150.0  1.175498  0.589493  0.000000  0.470004  1.470110  1.629241   \n",
       "3  150.0 -0.176944  0.991394 -2.302585 -1.203973  0.262364  0.587787   \n",
       "\n",
       "        max      skew  \n",
       "0  2.066863  0.043157  \n",
       "1  1.481605 -0.116179  \n",
       "2  1.931521 -0.581708  \n",
       "3  0.916291 -0.751676  "
      ]
     },
     "execution_count": 23,
     "metadata": {},
     "output_type": "execute_result"
    }
   ],
   "source": [
    "stats_log = X_log.describe().T\n",
    "stats_log['skew'] = skew(X_log)\n",
    "stats_log"
   ]
  },
  {
   "cell_type": "code",
   "execution_count": 24,
   "metadata": {},
   "outputs": [],
   "source": [
    "X_cond = X_dsk.copy()\n",
    "X_cond[2] = X[2]\n",
    "X_cond[3] = X[3]"
   ]
  },
  {
   "cell_type": "code",
   "execution_count": 25,
   "metadata": {},
   "outputs": [
    {
     "data": {
      "text/html": [
       "<div>\n",
       "<table border=\"1\" class=\"dataframe\">\n",
       "  <thead>\n",
       "    <tr style=\"text-align: right;\">\n",
       "      <th></th>\n",
       "      <th>count</th>\n",
       "      <th>mean</th>\n",
       "      <th>std</th>\n",
       "      <th>min</th>\n",
       "      <th>25%</th>\n",
       "      <th>50%</th>\n",
       "      <th>75%</th>\n",
       "      <th>max</th>\n",
       "      <th>skew</th>\n",
       "    </tr>\n",
       "  </thead>\n",
       "  <tbody>\n",
       "    <tr>\n",
       "      <th>0</th>\n",
       "      <td>150.0</td>\n",
       "      <td>1.549011</td>\n",
       "      <td>0.109485</td>\n",
       "      <td>1.314921</td>\n",
       "      <td>1.451378</td>\n",
       "      <td>1.552034</td>\n",
       "      <td>1.627818</td>\n",
       "      <td>1.786340</td>\n",
       "      <td>0.005152</td>\n",
       "    </tr>\n",
       "    <tr>\n",
       "      <th>1</th>\n",
       "      <td>150.0</td>\n",
       "      <td>1.286758</td>\n",
       "      <td>0.189930</td>\n",
       "      <td>0.759982</td>\n",
       "      <td>1.181652</td>\n",
       "      <td>1.272797</td>\n",
       "      <td>1.401446</td>\n",
       "      <td>1.809795</td>\n",
       "      <td>0.001309</td>\n",
       "    </tr>\n",
       "    <tr>\n",
       "      <th>2</th>\n",
       "      <td>150.0</td>\n",
       "      <td>3.758667</td>\n",
       "      <td>1.764420</td>\n",
       "      <td>1.000000</td>\n",
       "      <td>1.600000</td>\n",
       "      <td>4.350000</td>\n",
       "      <td>5.100000</td>\n",
       "      <td>6.900000</td>\n",
       "      <td>-0.271712</td>\n",
       "    </tr>\n",
       "    <tr>\n",
       "      <th>3</th>\n",
       "      <td>150.0</td>\n",
       "      <td>1.198667</td>\n",
       "      <td>0.763161</td>\n",
       "      <td>0.100000</td>\n",
       "      <td>0.300000</td>\n",
       "      <td>1.300000</td>\n",
       "      <td>1.800000</td>\n",
       "      <td>2.500000</td>\n",
       "      <td>-0.103944</td>\n",
       "    </tr>\n",
       "  </tbody>\n",
       "</table>\n",
       "</div>"
      ],
      "text/plain": [
       "   count      mean       std       min       25%       50%       75%  \\\n",
       "0  150.0  1.549011  0.109485  1.314921  1.451378  1.552034  1.627818   \n",
       "1  150.0  1.286758  0.189930  0.759982  1.181652  1.272797  1.401446   \n",
       "2  150.0  3.758667  1.764420  1.000000  1.600000  4.350000  5.100000   \n",
       "3  150.0  1.198667  0.763161  0.100000  0.300000  1.300000  1.800000   \n",
       "\n",
       "        max      skew  \n",
       "0  1.786340  0.005152  \n",
       "1  1.809795  0.001309  \n",
       "2  6.900000 -0.271712  \n",
       "3  2.500000 -0.103944  "
      ]
     },
     "execution_count": 25,
     "metadata": {},
     "output_type": "execute_result"
    }
   ],
   "source": [
    "stats_dsk = X_cond.describe().T\n",
    "stats_dsk['skew'] = skew(X_cond)\n",
    "stats_dsk"
   ]
  },
  {
   "cell_type": "code",
   "execution_count": 26,
   "metadata": {},
   "outputs": [
    {
     "data": {
      "image/png": "[encoded data removed]",
      "text/plain": [
       "<matplotlib.figure.Figure at 0x7fd50c40bba8>"
      ]
     },
     "metadata": {},
     "output_type": "display_data"
    }
   ],
   "source": [
    "fig = plt.figure(figsize=(20,6))\n",
    "for i, col in enumerate(X_cond.columns):\n",
    "    fig.add_subplot(221+i)\n",
    "    sns.distplot(X_cond[col], label=str(col))\n",
    "    plt.axvline(X_cond[col].mean(), c='red')\n",
    "    plt.axvline(X_cond[col].median(), c='black')\n",
    "    plt.legend()"
   ]
  },
  {
   "cell_type": "code",
   "execution_count": null,
   "metadata": {},
   "outputs": [],
   "source": []
  }
 ],
 "metadata": {
  "kernelspec": {
   "display_name": "Python 3",
   "language": "python",
   "name": "python3"
  },
  "language_info": {
   "codemirror_mode": {
    "name": "ipython",
    "version": 3
   },
   "file_extension": ".py",
   "mimetype": "text/x-python",
   "name": "python",
   "nbconvert_exporter": "python",
   "pygments_lexer": "ipython3",
   "version": "3.6.4"
  }
 },
 "nbformat": 4,
 "nbformat_minor": 2
}
