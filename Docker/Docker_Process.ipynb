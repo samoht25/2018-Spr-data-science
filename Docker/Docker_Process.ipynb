{
 "cells": [
  {
   "cell_type": "markdown",
   "metadata": {},
   "source": [
    "In Bash:\n",
    "\n",
    "ssh-keygen\n",
    "ls ~/.ssh\n",
    "cat ~/.ssh/id_rsa.pub\n",
    "<br>\n",
    "<br>\n",
    "<br>\n",
    "In AWS:\n",
    "\n",
    "create key pairs and security groups. Launch Instance\n",
    "<br>\n",
    "<br>\n",
    "<br>\n",
    "In Bash:\n",
    "\n",
    "ssh ubuntu@13.58.17.40\n",
    "\n",
    "curl -sSL https://get.docker.com | sh\n",
    "\n",
    "sudo usermod-aG docker ubuntu\n",
    "\n",
    "docker pull jupyter/datascience-notebook\n",
    "\n",
    "docker images\n",
    "\n",
    "docker tag image_id# dsnb(new name)\n",
    "\n",
    "docker run -v -d /home/ubuntu:/home/jovyan -p 88(AWSport):8888(jupyterport) dsnb(image name)\n",
    "\n",
    "docker exec container_id# jupyter notebook list (get token id)\n",
    "<br>\n",
    "<br>\n",
    "<br>\n",
    "Postgres:\n",
    "\n",
    "docker pull postgres\n",
    "\n",
    "docker image\n",
    "\n",
    "docker volume create pgdata \n",
    "\n",
    "docker volume ls\n",
    "\n",
    "docker run -v -d pgdata:/var/lib/postgresql/data postgres(image name)\n",
    "\n",
    "docker ps\n",
    "\n",
    "docker exec -it container_id# bash\n",
    "\n",
    "psql postgres postgres\n",
    "\n",
    "mkdir bc\n",
    "\n",
    "cd bc\n",
    "\n",
    "touch Dockerfile\n",
    "\n",
    "touch get_data.sh\n",
    "\n",
    "touch initdb.sql\n",
    "\n",
    "docker build -t pgbc(name of new image) .\n",
    "\n",
    "docker run -it -d pgbc\n",
    "\n",
    "docker exec -it pgbc_container_id# bash\n",
    "\n",
    "psql postgres postgres\n",
    "\n",
    "docker stop pgbc container_id#\n",
    "\n",
    "docker run -d -p 5432:5432(Postgres port) pgbc(image name)"
   ]
  },
  {
   "cell_type": "code",
   "execution_count": 21,
   "metadata": {},
   "outputs": [
    {
     "name": "stdout",
     "output_type": "stream",
     "text": [
      "Requirement already satisfied: psycopg2 in /opt/conda/lib/python3.6/site-packages\n",
      "\u001b[33mYou are using pip version 9.0.1, however version 10.0.1 is available.\n",
      "You should consider upgrading via the 'pip install --upgrade pip' command.\u001b[0m\n"
     ]
    }
   ],
   "source": [
    "!pip install psycopg2"
   ]
  },
  {
   "cell_type": "code",
   "execution_count": 3,
   "metadata": {},
   "outputs": [
    {
     "name": "stderr",
     "output_type": "stream",
     "text": [
      "/opt/conda/lib/python3.6/site-packages/psycopg2/__init__.py:144: UserWarning: The psycopg2 wheel package will be renamed from release 2.8; in order to keep installing from binary please use \"pip install psycopg2-binary\" instead. For details see: <http://initd.org/psycopg/docs/install.html#binary-install-from-pypi>.\n",
      "  \"\"\")\n"
     ]
    }
   ],
   "source": [
    "import psycopg2"
   ]
  },
  {
   "cell_type": "code",
   "execution_count": 4,
   "metadata": {},
   "outputs": [],
   "source": [
    "connection = psycopg2.connect(host = \"13.58.17.40\", user = \"postgres\", database = \"postgres\") #similar to psql postgres postgres\n",
    "cursor=connection.cursor()\n",
    "cursor.execute(\"SELECT * FROM bc_data limit 5;\")\n",
    "results = cursor.fetchall()\n",
    "connection.close()"
   ]
  },
  {
   "cell_type": "code",
   "execution_count": 9,
   "metadata": {},
   "outputs": [
    {
     "data": {
      "text/plain": [
       "[(1000025, 5, 1, 1, 1, 2, 1, 3, 1, 1, 2),\n",
       " (1002945, 5, 4, 4, 5, 7, 10, 3, 2, 1, 2),\n",
       " (1015425, 3, 1, 1, 1, 2, 2, 3, 1, 1, 2),\n",
       " (1016277, 6, 8, 8, 1, 3, 4, 3, 7, 1, 2),\n",
       " (1017023, 4, 1, 1, 3, 2, 1, 3, 1, 1, 2)]"
      ]
     },
     "execution_count": 9,
     "metadata": {},
     "output_type": "execute_result"
    }
   ],
   "source": [
    "results"
   ]
  },
  {
   "cell_type": "code",
   "execution_count": 10,
   "metadata": {},
   "outputs": [],
   "source": [
    "from psycopg2.extras import RealDictCursor"
   ]
  },
  {
   "cell_type": "code",
   "execution_count": 13,
   "metadata": {},
   "outputs": [
    {
     "data": {
      "text/html": [
       "<div>\n",
       "<table border=\"1\" class=\"dataframe\">\n",
       "  <thead>\n",
       "    <tr style=\"text-align: right;\">\n",
       "      <th></th>\n",
       "      <th>bare_nuclei</th>\n",
       "      <th>bland_chromatin</th>\n",
       "      <th>class</th>\n",
       "      <th>clump_thickness</th>\n",
       "      <th>marginal_adhesion</th>\n",
       "      <th>mitoses</th>\n",
       "      <th>normal_nucleoli</th>\n",
       "      <th>sample_id</th>\n",
       "      <th>single_epithelial_cell_size</th>\n",
       "      <th>uniformity_of_cell_shape</th>\n",
       "      <th>uniformity_of_cell_size</th>\n",
       "    </tr>\n",
       "  </thead>\n",
       "  <tbody>\n",
       "    <tr>\n",
       "      <th>0</th>\n",
       "      <td>1</td>\n",
       "      <td>3</td>\n",
       "      <td>2</td>\n",
       "      <td>5</td>\n",
       "      <td>1</td>\n",
       "      <td>1</td>\n",
       "      <td>1</td>\n",
       "      <td>1000025</td>\n",
       "      <td>2</td>\n",
       "      <td>1</td>\n",
       "      <td>1</td>\n",
       "    </tr>\n",
       "    <tr>\n",
       "      <th>1</th>\n",
       "      <td>10</td>\n",
       "      <td>3</td>\n",
       "      <td>2</td>\n",
       "      <td>5</td>\n",
       "      <td>5</td>\n",
       "      <td>1</td>\n",
       "      <td>2</td>\n",
       "      <td>1002945</td>\n",
       "      <td>7</td>\n",
       "      <td>4</td>\n",
       "      <td>4</td>\n",
       "    </tr>\n",
       "    <tr>\n",
       "      <th>2</th>\n",
       "      <td>2</td>\n",
       "      <td>3</td>\n",
       "      <td>2</td>\n",
       "      <td>3</td>\n",
       "      <td>1</td>\n",
       "      <td>1</td>\n",
       "      <td>1</td>\n",
       "      <td>1015425</td>\n",
       "      <td>2</td>\n",
       "      <td>1</td>\n",
       "      <td>1</td>\n",
       "    </tr>\n",
       "    <tr>\n",
       "      <th>3</th>\n",
       "      <td>4</td>\n",
       "      <td>3</td>\n",
       "      <td>2</td>\n",
       "      <td>6</td>\n",
       "      <td>1</td>\n",
       "      <td>1</td>\n",
       "      <td>7</td>\n",
       "      <td>1016277</td>\n",
       "      <td>3</td>\n",
       "      <td>8</td>\n",
       "      <td>8</td>\n",
       "    </tr>\n",
       "    <tr>\n",
       "      <th>4</th>\n",
       "      <td>1</td>\n",
       "      <td>3</td>\n",
       "      <td>2</td>\n",
       "      <td>4</td>\n",
       "      <td>3</td>\n",
       "      <td>1</td>\n",
       "      <td>1</td>\n",
       "      <td>1017023</td>\n",
       "      <td>2</td>\n",
       "      <td>1</td>\n",
       "      <td>1</td>\n",
       "    </tr>\n",
       "  </tbody>\n",
       "</table>\n",
       "</div>"
      ],
      "text/plain": [
       "   bare_nuclei  bland_chromatin  class  clump_thickness  marginal_adhesion  \\\n",
       "0            1                3      2                5                  1   \n",
       "1           10                3      2                5                  5   \n",
       "2            2                3      2                3                  1   \n",
       "3            4                3      2                6                  1   \n",
       "4            1                3      2                4                  3   \n",
       "\n",
       "   mitoses  normal_nucleoli  sample_id  single_epithelial_cell_size  \\\n",
       "0        1                1    1000025                            2   \n",
       "1        1                2    1002945                            7   \n",
       "2        1                1    1015425                            2   \n",
       "3        1                7    1016277                            3   \n",
       "4        1                1    1017023                            2   \n",
       "\n",
       "   uniformity_of_cell_shape  uniformity_of_cell_size  \n",
       "0                         1                        1  \n",
       "1                         4                        4  \n",
       "2                         1                        1  \n",
       "3                         8                        8  \n",
       "4                         1                        1  "
      ]
     },
     "execution_count": 13,
     "metadata": {},
     "output_type": "execute_result"
    }
   ],
   "source": [
    "import psycopg2\n",
    "from psycopg2.extras import RealDictCursor\n",
    "\n",
    "connection = psycopg2.connect(host='13.58.17.40',\n",
    "                              user='postgres',\n",
    "                              database='postgres')\n",
    "cursor = connection.cursor(cursor_factory=RealDictCursor)#create it into a dictionary.\n",
    "#cursor.execute(\"SELECT * FROM bc_data WHERE bare_nuclei >= 10\")\n",
    "cursor.execute(\"SELECT * FROM bc_data limit 5;\")\n",
    "results = cursor.fetchall()\n",
    "connection.close()\n",
    "\n",
    "import pandas as pd\n",
    "\n",
    "pd.DataFrame(results)"
   ]
  },
  {
   "cell_type": "code",
   "execution_count": null,
   "metadata": {},
   "outputs": [],
   "source": []
  }
 ],
 "metadata": {
  "kernelspec": {
   "display_name": "Python 3",
   "language": "python",
   "name": "python3"
  },
  "language_info": {
   "codemirror_mode": {
    "name": "ipython",
    "version": 3
   },
   "file_extension": ".py",
   "mimetype": "text/x-python",
   "name": "python",
   "nbconvert_exporter": "python",
   "pygments_lexer": "ipython3",
   "version": "3.6.4"
  }
 },
 "nbformat": 4,
 "nbformat_minor": 2
}
