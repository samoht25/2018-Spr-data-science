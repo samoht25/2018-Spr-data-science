{
 "cells": [
  {
   "cell_type": "code",
   "execution_count": 1,
   "metadata": {},
   "outputs": [],
   "source": [
    "import re"
   ]
  },
  {
   "cell_type": "code",
   "execution_count": 2,
   "metadata": {},
   "outputs": [],
   "source": [
    "sentence = \"Start a sentence and then bring it to an end\""
   ]
  },
  {
   "cell_type": "code",
   "execution_count": 3,
   "metadata": {},
   "outputs": [],
   "source": [
    "text_to_search = '''\n",
    "\n",
    "abcdefghijklmnopqurtuvwxyz\n",
    "ABCDEFGHIJKLMNOPQRSTUVWXYZ\n",
    "1234567890\n",
    "Ha HaHa\n",
    "MetaCharacters (Need to be escaped):\n",
    ". ^ $ * + ? { } [ ] \\ | ( )\n",
    "coreyms.com\n",
    "321-555-4321\n",
    "123.555.1234\n",
    "123*555*1234\n",
    "800-555-1234\n",
    "900-555-1234\n",
    "Mr. Schafer\n",
    "Mr Smith\n",
    "Ms Davis\n",
    "Mrs. Robinson\n",
    "Mr. T\n",
    "\n",
    "cat\n",
    "mat\n",
    "pat\n",
    "bat\n",
    "'''"
   ]
  },
  {
   "cell_type": "code",
   "execution_count": 4,
   "metadata": {},
   "outputs": [],
   "source": [
    "#Rules - Read Only\n",
    "snippet_txt = '''\n",
    "\n",
    ".       - Any Character Except New Line\n",
    "\\d      - Digit (0-9)\n",
    "\\D      - Not a Digit (0-9)\n",
    "\\w      - Word Character (a-z, A-Z, 0-9, _)\n",
    "\\W      - Not a Word Character\n",
    "\\s      - Whitespace (space, tab, newline)\n",
    "\\S      - Not Whitespace (space, tab, newline)\n",
    "\n",
    "\\b      - Word Boundary\n",
    "\\B      - Not a Word Boundary\n",
    "^       - Beginning of a String\n",
    "$       - End of a String\n",
    "\n",
    "[]      - Matches Characters in brackets\n",
    "[^ ]    - Matches Characters NOT in brackets\n",
    "|       - Either Or\n",
    "( )     - Group\n",
    "\n",
    "Quantifiers:\n",
    "*       - 0 or More\n",
    "+       - 1 or More\n",
    "?       - 0 or One\n",
    "{3}     - Exact Number\n",
    "{3,4}   - Range of Numbers (Minimum, Maximum)\n",
    "\n",
    "\n",
    "#### Sample Regexs ####\n",
    "\n",
    "[a-zA-Z0-9_.+-]+@[a-zA-Z0-9-]+\\.[a-zA-Z0-9-.]+\n",
    "\n",
    "'''"
   ]
  },
  {
   "cell_type": "code",
   "execution_count": 5,
   "metadata": {},
   "outputs": [],
   "source": [
    "data = '''\n",
    "     \n",
    "500 lines (400 sloc)  8.63 KB\n",
    "Dave Martin\n",
    "615-555-7164\n",
    "173 Main St., Springfield RI 55924\n",
    "davemartin@bogusemail.com\n",
    "\n",
    "Charles Harris\n",
    "800-555-5669\n",
    "969 High St., Atlantis VA 34075\n",
    "charlesharris@bogusemail.com\n",
    "\n",
    "Eric Williams\n",
    "560-555-5153\n",
    "806 1st St., Faketown AK 86847\n",
    "laurawilliams@bogusemail.com\n",
    "\n",
    "Corey Jefferson\n",
    "900-555-9340\n",
    "826 Elm St., Epicburg NE 10671\n",
    "coreyjefferson@bogusemail.com\n",
    "\n",
    "Jennifer Martin-White\n",
    "714-555-7405\n",
    "212 Cedar St., Sunnydale CT 74983\n",
    "jenniferwhite@bogusemail.com\n",
    "\n",
    "Erick Davis\n",
    "800-555-6771\n",
    "519 Washington St., Olympus TN 32425\n",
    "tomdavis@bogusemail.com\n",
    "\n",
    "Neil Patterson\n",
    "783-555-4799\n",
    "625 Oak St., Dawnstar IL 61914\n",
    "neilpatterson@bogusemail.com\n",
    "\n",
    "Laura Jefferson\n",
    "516-555-4615\n",
    "890 Main St., Pythonville LA 29947\n",
    "laurajefferson@bogusemail.com\n",
    "\n",
    "Maria Johnson\n",
    "127-555-1867\n",
    "884 High St., Braavos‎ ME 43597\n",
    "mariajohnson@bogusemail.com\n",
    "\n",
    "Michael Arnold\n",
    "608-555-4938\n",
    "249 Elm St., Quahog OR 90938\n",
    "michaelarnold@bogusemail.com\n",
    "\n",
    "Michael Smith\n",
    "568-555-6051\n",
    "619 Park St., Winterfell VA 99000\n",
    "michaelsmith@bogusemail.com\n",
    "\n",
    "Erik Stuart\n",
    "292-555-1875\n",
    "220 Cedar St., Lakeview NY 87282\n",
    "robertstuart@bogusemail.com\n",
    "\n",
    "Laura Martin\n",
    "900-555-3205\n",
    "391 High St., Smalltown WY 28362\n",
    "lauramartin@bogusemail.com\n",
    "\n",
    "Barbara Martin\n",
    "614-555-1166\n",
    "121 Hill St., Braavos‎ UT 92474\n",
    "barbaramartin@bogusemail.com\n",
    "\n",
    "Linda Jackson\n",
    "530-555-2676\n",
    "433 Elm St., Westworld TX 61967\n",
    "lindajackson@bogusemail.com\n",
    "\n",
    "Eric Miller\n",
    "470-555-2750\n",
    "838 Main St., Balmora MT 56526\n",
    "stevemiller@bogusemail.com\n",
    "\n",
    "Dave Arnold\n",
    "800-555-6089\n",
    "732 High St., Valyria KY 97152\n",
    "davearnold@bogusemail.com\n",
    "\n",
    "Jennifer Jacobs\n",
    "880-555-8319\n",
    "217 High St., Old-town IA 82767\n",
    "jenniferjacobs@bogusemail.com\n",
    "\n",
    "Neil Wilson\n",
    "777-555-8378\n",
    "191 Main St., Mordor IL 72160\n",
    "neilwilson@bogusemail.com\n",
    "\n",
    "Kurt Jackson\n",
    "998-555-7385\n",
    "607 Washington St., Blackwater NH 97183\n",
    "kurtjackson@bogusemail.com\n",
    "\n",
    "Mary Jacobs\n",
    "800-555-7100\n",
    "478 Oak St., Bedrock IA 58176\n",
    "maryjacobs@bogusemail.com\n",
    "\n",
    "Michael White\n",
    "903-555-8277\n",
    "906 Elm St., Mordor TX 89212\n",
    "michaelwhite@bogusemail.com\n",
    "\n",
    "Jennifer Jenkins\n",
    "196-555-5674\n",
    "949 Main St., Smalltown SC 96962\n",
    "jenniferjenkins@bogusemail.com\n",
    "\n",
    "Sam Wright\n",
    "900-555-5118\n",
    "835 Pearl St., Smalltown ND 77737\n",
    "samwright@bogusemail.com\n",
    "\n",
    "John Davis\n",
    "905-555-1630\n",
    "451 Lake St., Bedrock GA 34615\n",
    "johndavis@bogusemail.com\n",
    "\n",
    "Eric Davis\n",
    "203-555-3475\n",
    "419 Lake St., Balmora OR 30826\n",
    "neildavis@bogusemail.com\n",
    "\n",
    "Laura Jackson\n",
    "884-555-8444\n",
    "443 Maple St., Quahog MS 29348\n",
    "laurajackson@bogusemail.com\n",
    "\n",
    "John Williams\n",
    "904-555-8559\n",
    "756 Hill St., Valyria KY 94854\n",
    "johnwilliams@bogusemail.com\n",
    "\n",
    "Michael Martin\n",
    "889-555-7393\n",
    "216 High St., Olympus NV 21888\n",
    "michaelmartin@bogusemail.com\n",
    "\n",
    "Maggie Brown\n",
    "195-555-2405\n",
    "806 Lake St., Lakeview MD 59348\n",
    "maggiebrown@bogusemail.com\n",
    "\n",
    "Erik Wilson\n",
    "321-555-9053\n",
    "354 Hill St., Mordor FL 74122\n",
    "kurtwilson@bogusemail.com\n",
    "\n",
    "Elizabeth Arnold\n",
    "133-555-1711\n",
    "805 Maple St., Winterfell NV 99431\n",
    "elizabetharnold@bogusemail.com\n",
    "\n",
    "Jane Martin\n",
    "900-555-5428\n",
    "418 Park St., Metropolis ID 16576\n",
    "janemartin@bogusemail.com\n",
    "\n",
    "Travis Johnson\n",
    "760-555-7147\n",
    "749 Washington St., Braavos‎ SD 25668\n",
    "travisjohnson@bogusemail.com\n",
    "\n",
    "Laura Jefferson\n",
    "391-555-6621\n",
    "122 High St., Metropolis ME 29540\n",
    "laurajefferson@bogusemail.com\n",
    "\n",
    "Tom Williams\n",
    "932-555-7724\n",
    "610 High St., Old-town FL 60758\n",
    "tomwilliams@bogusemail.com\n",
    "\n",
    "Jennifer Taylor\n",
    "609-555-7908\n",
    "332 Main St., Pythonville OH 78172\n",
    "jennifertaylor@bogusemail.com\n",
    "\n",
    "Erick Wright\n",
    "800-555-8810\n",
    "858 Hill St., Blackwater NC 79714\n",
    "jenniferwright@bogusemail.com\n",
    "\n",
    "Steve Doe\n",
    "149-555-7657\n",
    "441 Elm St., Atlantis MS 87195\n",
    "stevedoe@bogusemail.com\n",
    "\n",
    "Kurt Davis\n",
    "130-555-9709\n",
    "404 Oak St., Atlantis ND 85386\n",
    "kurtdavis@bogusemail.com\n",
    "\n",
    "Corey Harris\n",
    "143-555-9295\n",
    "286 Pearl St., Vice City TX 57112\n",
    "coreyharris@bogusemail.com\n",
    "\n",
    "Nicole Taylor\n",
    "903-555-9878\n",
    "465 Hill St., Old-town LA 64102\n",
    "nicoletaylor@bogusemail.com\n",
    "\n",
    "Elizabeth Davis\n",
    "574-555-3194\n",
    "151 Lake St., Eerie SD 17880\n",
    "elizabethdavis@bogusemail.com\n",
    "\n",
    "Maggie Jenkins\n",
    "496-555-7533\n",
    "504 Lake St., Gotham PA 46692\n",
    "maggiejenkins@bogusemail.com\n",
    "\n",
    "Linda Davis\n",
    "210-555-3757\n",
    "201 Pine St., Vice City AR 78455\n",
    "lindadavis@bogusemail.com\n",
    "\n",
    "Dave Moore\n",
    "900-555-9598\n",
    "251 Pine St., Old-town OK 29087\n",
    "davemoore@bogusemail.com\n",
    "\n",
    "Linda Jenkins\n",
    "866-555-9844\n",
    "117 High St., Bedrock NE 11899\n",
    "lindajenkins@bogusemail.com\n",
    "\n",
    "Eric White\n",
    "669-555-7159\n",
    "650 Oak St., Smalltown TN 43281\n",
    "samwhite@bogusemail.com\n",
    "\n",
    "Laura Robinson\n",
    "152-555-7417\n",
    "377 Pine St., Valyria NC 78036\n",
    "laurarobinson@bogusemail.com\n",
    "\n",
    "Charles Patterson\n",
    "893-555-9832\n",
    "416 Pearl St., Valyria AK 62260\n",
    "charlespatterson@bogusemail.com\n",
    "\n",
    "Joe Jackson\n",
    "217-555-7123\n",
    "683 Cedar St., South Park KS 66724\n",
    "joejackson@bogusemail.com\n",
    "\n",
    "Michael Johnson\n",
    "786-555-6544\n",
    "288 Hill St., Smalltown AZ 18586\n",
    "michaeljohnson@bogusemail.com\n",
    "\n",
    "Corey Miller\n",
    "780-555-2574\n",
    "286 High St., Springfield IA 16272\n",
    "coreymiller@bogusemail.com\n",
    "\n",
    "James Moore\n",
    "926-555-8735\n",
    "278 Main St., Gotham KY 89569\n",
    "jamesmoore@bogusemail.com\n",
    "\n",
    "Jennifer Stuart\n",
    "895-555-3539\n",
    "766 Hill St., King's Landing GA 54999\n",
    "jenniferstuart@bogusemail.com\n",
    "\n",
    "Charles Martin\n",
    "874-555-3949\n",
    "775 High St., Faketown PA 89260\n",
    "charlesmartin@bogusemail.com\n",
    "\n",
    "Eric Wilks\n",
    "800-555-2420\n",
    "885 Main St., Blackwater OH 61275\n",
    "joewilks@bogusemail.com\n",
    "\n",
    "Elizabeth Arnold\n",
    "936-555-6340\n",
    "528 Hill St., Atlantis NH 88289\n",
    "elizabetharnold@bogusemail.com\n",
    "\n",
    "John Miller\n",
    "372-555-9809\n",
    "117 Cedar St., Thundera NM 75205\n",
    "johnmiller@bogusemail.com\n",
    "\n",
    "Corey Jackson\n",
    "890-555-5618\n",
    "115 Oak St., Gotham UT 36433\n",
    "coreyjackson@bogusemail.com\n",
    "\n",
    "Sam Thomas\n",
    "670-555-3005\n",
    "743 Lake St., Springfield MS 25473\n",
    "samthomas@bogusemail.com\n",
    "\n",
    "Patricia Thomas\n",
    "509-555-5997\n",
    "381 Hill St., Blackwater CT 30958\n",
    "patriciathomas@bogusemail.com\n",
    "\n",
    "Jennifer Davis\n",
    "721-555-5632\n",
    "125 Main St., Smalltown MT 62155\n",
    "jenniferdavis@bogusemail.com\n",
    "\n",
    "Patricia Brown\n",
    "900-555-3567\n",
    "292 Hill St., Gotham WV 57680\n",
    "patriciabrown@bogusemail.com\n",
    "\n",
    "Barbara Williams\n",
    "147-555-6830\n",
    "514 Park St., Balmora NV 55462\n",
    "barbarawilliams@bogusemail.com\n",
    "\n",
    "James Taylor\n",
    "582-555-3426\n",
    "776 Hill St., Dawnstar MA 51312\n",
    "jamestaylor@bogusemail.com\n",
    "\n",
    "Eric Harris\n",
    "400-555-1706\n",
    "421 Elm St., Smalltown NV 72025\n",
    "barbaraharris@bogusemail.com\n",
    "\n",
    "Travis Anderson\n",
    "525-555-1793\n",
    "937 Cedar St., Thundera WA 78862\n",
    "travisanderson@bogusemail.com\n",
    "\n",
    "Sam Robinson\n",
    "317-555-6700\n",
    "417 Pine St., Lakeview MD 13147\n",
    "samrobinson@bogusemail.com\n",
    "\n",
    "Steve Robinson\n",
    "974-555-8301\n",
    "478 Park St., Springfield NM 92369\n",
    "steverobinson@bogusemail.com\n",
    "\n",
    "Mary Wilson\n",
    "800-555-3216\n",
    "708 Maple St., Braavos‎ UT 29551\n",
    "marywilson@bogusemail.com\n",
    "\n",
    "Sam Wilson\n",
    "746-555-4094\n",
    "557 Pearl St., Westworld KS 23225\n",
    "samwilson@bogusemail.com\n",
    "\n",
    "Charles Jones\n",
    "922-555-1773\n",
    "855 Hill St., Olympus HI 81427\n",
    "charlesjones@bogusemail.com\n",
    "\n",
    "Laura Brown\n",
    "711-555-4427\n",
    "980 Maple St., Smalltown MO 96421\n",
    "laurabrown@bogusemail.com\n",
    "\n",
    "Tom Harris\n",
    "355-555-1872\n",
    "676 Hill St., Blackwater AR 96698\n",
    "tomharris@bogusemail.com\n",
    "\n",
    "Patricia Taylor\n",
    "852-555-6521\n",
    "588 Pine St., Olympus FL 98412\n",
    "patriciataylor@bogusemail.com\n",
    "\n",
    "Barbara Williams\n",
    "691-555-5773\n",
    "351 Elm St., Sunnydale GA 26245\n",
    "barbarawilliams@bogusemail.com\n",
    "\n",
    "Maggie Johnson\n",
    "332-555-5441\n",
    "948 Cedar St., Quahog DE 56449\n",
    "maggiejohnson@bogusemail.com\n",
    "\n",
    "Kurt Miller\n",
    "900-555-7755\n",
    "381 Hill St., Quahog AL 97503\n",
    "kurtmiller@bogusemail.com\n",
    "\n",
    "Neil Stuart\n",
    "379-555-3685\n",
    "496 Cedar St., Sunnydale RI 49113\n",
    "neilstuart@bogusemail.com\n",
    "\n",
    "Linda Patterson\n",
    "127-555-9682\n",
    "736 Cedar St., Lakeview KY 47472\n",
    "lindapatterson@bogusemail.com\n",
    "\n",
    "Charles Davis\n",
    "789-555-7032\n",
    "678 Lake St., Mordor MN 11845\n",
    "charlesdavis@bogusemail.com\n",
    "\n",
    "Jennifer Jefferson\n",
    "783-555-5135\n",
    "289 Park St., Sunnydale WA 74526\n",
    "jenniferjefferson@bogusemail.com\n",
    "\n",
    "Erick Taylor\n",
    "315-555-6507\n",
    "245 Washington St., Bedrock IL 26941\n",
    "coreytaylor@bogusemail.com\n",
    "\n",
    "Robert Wilks\n",
    "481-555-5835\n",
    "573 Elm St., Sunnydale IL 47182\n",
    "robertwilks@bogusemail.com\n",
    "\n",
    "Travis Jackson\n",
    "365-555-8287\n",
    "851 Lake St., Metropolis PA 22772\n",
    "travisjackson@bogusemail.com\n",
    "\n",
    "Travis Jackson\n",
    "911-555-7535\n",
    "489 Oak St., Atlantis HI 73725\n",
    "travisjackson@bogusemail.com\n",
    "\n",
    "Laura Wilks\n",
    "681-555-2460\n",
    "371 Pearl St., Smalltown SC 47466\n",
    "laurawilks@bogusemail.com\n",
    "\n",
    "Neil Arnold\n",
    "274-555-9800\n",
    "504 Oak St., Faketown PA 73860\n",
    "neilarnold@bogusemail.com\n",
    "\n",
    "Linda Johnson\n",
    "800-555-1372\n",
    "667 High St., Balmora IN 82473\n",
    "lindajohnson@bogusemail.com\n",
    "\n",
    "Jennifer Wilson\n",
    "300-555-7821\n",
    "266 Pine St., Westworld DC 58720\n",
    "jenniferwilson@bogusemail.com\n",
    "\n",
    "Nicole White\n",
    "133-555-3889\n",
    "276 High St., Braavos‎ IL 57764\n",
    "nicolewhite@bogusemail.com\n",
    "\n",
    "Maria Arnold\n",
    "705-555-6863\n",
    "491 Elm St., Metropolis PA 31836\n",
    "mariaarnold@bogusemail.com\n",
    "\n",
    "Jennifer Davis\n",
    "215-555-9449\n",
    "859 Cedar St., Old-town MT 31169\n",
    "jenniferdavis@bogusemail.com\n",
    "\n",
    "Mary Patterson\n",
    "988-555-6112\n",
    "956 Park St., Valyria CT 81541\n",
    "marypatterson@bogusemail.com\n",
    "\n",
    "Jane Stuart\n",
    "623-555-3006\n",
    "983 Oak St., Old-town RI 15445\n",
    "janestuart@bogusemail.com\n",
    "\n",
    "Robert Davis\n",
    "192-555-4977\n",
    "789 Maple St., Mordor IN 22215\n",
    "robertdavis@bogusemail.com\n",
    "\n",
    "James Taylor\n",
    "178-555-4899\n",
    "439 Hill St., Olympus NV 39308\n",
    "jamestaylor@bogusemail.com\n",
    "\n",
    "Eric Stuart\n",
    "952-555-3089\n",
    "777 High St., King's Landing AZ 16547\n",
    "johnstuart@bogusemail.com\n",
    "\n",
    "Charles Miller\n",
    "900-555-6426\n",
    "207 Washington St., Blackwater MA 24886\n",
    "charlesmiller@bogusemail.com\n",
    "© 2018 GitHub, Inc.\n",
    "Terms\n",
    "Privacy\n",
    "Security\n",
    "Status\n",
    "Help\n",
    "Contact GitHub\n",
    "API\n",
    "Training\n",
    "Shop\n",
    "Blog\n",
    "About\n",
    "Press h to open a hovercard with more details.\n",
    "\n",
    "'''"
   ]
  },
  {
   "cell_type": "code",
   "execution_count": 6,
   "metadata": {},
   "outputs": [
    {
     "name": "stdout",
     "output_type": "stream",
     "text": [
      "<_sre.SRE_Match object; span=(1, 24), match='CoreyMSchafer@gmail.com'>\n",
      "<_sre.SRE_Match object; span=(25, 53), match='corey.schafer@university.edu'>\n",
      "<_sre.SRE_Match object; span=(54, 83), match='corey-321-schafer@my-work.net'>\n"
     ]
    }
   ],
   "source": [
    "emails = '''\n",
    "CoreyMSchafer@gmail.com\n",
    "corey.schafer@university.edu\n",
    "corey-321-schafer@my-work.net\n",
    "'''\n",
    "\n",
    "pattern = re.compile(r'[a-zA-Z0-9_.+-]+@[a-zA-Z0-9-]+\\.[a-zA-Z0-9-.]+')\n",
    "\n",
    "matches = pattern.finditer(emails)\n",
    "\n",
    "for match in matches:\n",
    "    print(match)"
   ]
  },
  {
   "cell_type": "code",
   "execution_count": 41,
   "metadata": {},
   "outputs": [
    {
     "data": {
      "text/plain": [
       "'\\ntesting text\\nhttps://www.google.com\\nhttp://coreyms.com\\nhttps://youtube.com\\nhttps://www.nasa.gov\\n'"
      ]
     },
     "execution_count": 41,
     "metadata": {},
     "output_type": "execute_result"
    }
   ],
   "source": [
    "urls = '''\n",
    "testing text\n",
    "https://www.google.com\n",
    "http://coreyms.com\n",
    "https://youtube.com\n",
    "https://www.nasa.gov\n",
    "'''\n",
    "\n",
    "#pattern = re.compile(r'https?://(www\\.)?(\\w+)(\\.\\w+)')\n",
    "\n",
    "#subbed_urls = pattern.sub(r'\\2\\3', urls)\n",
    "\n",
    "#print(subbed_urls)\n",
    "\n",
    "urls\n"
   ]
  },
  {
   "cell_type": "code",
   "execution_count": 8,
   "metadata": {},
   "outputs": [
    {
     "name": "stdout",
     "output_type": "stream",
     "text": [
      "\tTab\n"
     ]
    }
   ],
   "source": [
    "print(\"\\tTab\")"
   ]
  },
  {
   "cell_type": "code",
   "execution_count": 9,
   "metadata": {
    "scrolled": true
   },
   "outputs": [
    {
     "name": "stdout",
     "output_type": "stream",
     "text": [
      "\\tTab\n"
     ]
    }
   ],
   "source": [
    "print(r\"\\tTab\")"
   ]
  },
  {
   "cell_type": "code",
   "execution_count": 52,
   "metadata": {},
   "outputs": [],
   "source": [
    "#pattern = re.compile(r\"abc\")\n",
    "#pattern = re.compile(r\"\\.\")\n",
    "#pattern = re.compile(r\"coreyms\\.com\")\n",
    "pattern = re.compile(r\"\\bHa\")\n",
    "pattern = re.compile(r\"\\BHa\")"
   ]
  },
  {
   "cell_type": "code",
   "execution_count": 53,
   "metadata": {},
   "outputs": [],
   "source": [
    "matches = pattern.finditer(text_to_search)"
   ]
  },
  {
   "cell_type": "code",
   "execution_count": 54,
   "metadata": {},
   "outputs": [
    {
     "name": "stdout",
     "output_type": "stream",
     "text": [
      "<_sre.SRE_Match object; span=(72, 74), match='Ha'>\n"
     ]
    }
   ],
   "source": [
    "for match in matches:\n",
    "    print(match)"
   ]
  },
  {
   "cell_type": "code",
   "execution_count": 13,
   "metadata": {},
   "outputs": [
    {
     "name": "stdout",
     "output_type": "stream",
     "text": [
      "<_sre.SRE_Match object; span=(152, 164), match='321-555-4321'>\n",
      "<_sre.SRE_Match object; span=(165, 177), match='123.555.1234'>\n",
      "<_sre.SRE_Match object; span=(178, 190), match='123*555*1234'>\n",
      "<_sre.SRE_Match object; span=(191, 203), match='800-555-1234'>\n",
      "<_sre.SRE_Match object; span=(204, 216), match='900-555-1234'>\n"
     ]
    }
   ],
   "source": [
    "#testing: find the phone number\n",
    "\n",
    "pattern = re.compile(r\"\\d\\d\\d.\\d\\d\\d.\\d\\d\\d\\d\")\n",
    "matches = pattern.finditer(text_to_search)\n",
    "for match in matches:\n",
    "    print(match)"
   ]
  },
  {
   "cell_type": "code",
   "execution_count": 14,
   "metadata": {},
   "outputs": [
    {
     "name": "stdout",
     "output_type": "stream",
     "text": [
      "<_sre.SRE_Match object; span=(152, 164), match='321-555-4321'>\n",
      "<_sre.SRE_Match object; span=(165, 177), match='123.555.1234'>\n",
      "<_sre.SRE_Match object; span=(191, 203), match='800-555-1234'>\n",
      "<_sre.SRE_Match object; span=(204, 216), match='900-555-1234'>\n"
     ]
    }
   ],
   "source": [
    "#[.-]\n",
    "\n",
    "pattern = re.compile(r\"\\d\\d\\d[-.]\\d\\d\\d[-.]\\d\\d\\d\\d\")\n",
    "matches = pattern.finditer(text_to_search)\n",
    "for match in matches:\n",
    "    print(match)"
   ]
  },
  {
   "cell_type": "code",
   "execution_count": 15,
   "metadata": {},
   "outputs": [
    {
     "name": "stdout",
     "output_type": "stream",
     "text": [
      "<_sre.SRE_Match object; span=(191, 203), match='800-555-1234'>\n",
      "<_sre.SRE_Match object; span=(204, 216), match='900-555-1234'>\n"
     ]
    }
   ],
   "source": [
    "pattern = re.compile(r\"[89]00[-.]\\d\\d\\d[-.]\\d\\d\\d\\d\")\n",
    "matches = pattern.finditer(text_to_search)\n",
    "for match in matches:\n",
    "    print(match)"
   ]
  },
  {
   "cell_type": "code",
   "execution_count": 16,
   "metadata": {
    "scrolled": false
   },
   "outputs": [
    {
     "name": "stdout",
     "output_type": "stream",
     "text": [
      "<_sre.SRE_Match object; span=(2, 3), match='a'>\n",
      "<_sre.SRE_Match object; span=(3, 4), match='b'>\n",
      "<_sre.SRE_Match object; span=(4, 5), match='c'>\n",
      "<_sre.SRE_Match object; span=(5, 6), match='d'>\n",
      "<_sre.SRE_Match object; span=(6, 7), match='e'>\n",
      "<_sre.SRE_Match object; span=(7, 8), match='f'>\n",
      "<_sre.SRE_Match object; span=(8, 9), match='g'>\n",
      "<_sre.SRE_Match object; span=(9, 10), match='h'>\n",
      "<_sre.SRE_Match object; span=(10, 11), match='i'>\n",
      "<_sre.SRE_Match object; span=(11, 12), match='j'>\n",
      "<_sre.SRE_Match object; span=(12, 13), match='k'>\n",
      "<_sre.SRE_Match object; span=(13, 14), match='l'>\n",
      "<_sre.SRE_Match object; span=(14, 15), match='m'>\n",
      "<_sre.SRE_Match object; span=(15, 16), match='n'>\n",
      "<_sre.SRE_Match object; span=(16, 17), match='o'>\n",
      "<_sre.SRE_Match object; span=(17, 18), match='p'>\n",
      "<_sre.SRE_Match object; span=(18, 19), match='q'>\n",
      "<_sre.SRE_Match object; span=(19, 20), match='u'>\n",
      "<_sre.SRE_Match object; span=(20, 21), match='r'>\n",
      "<_sre.SRE_Match object; span=(21, 22), match='t'>\n",
      "<_sre.SRE_Match object; span=(22, 23), match='u'>\n",
      "<_sre.SRE_Match object; span=(23, 24), match='v'>\n",
      "<_sre.SRE_Match object; span=(24, 25), match='w'>\n",
      "<_sre.SRE_Match object; span=(25, 26), match='x'>\n",
      "<_sre.SRE_Match object; span=(26, 27), match='y'>\n",
      "<_sre.SRE_Match object; span=(27, 28), match='z'>\n",
      "<_sre.SRE_Match object; span=(29, 30), match='A'>\n",
      "<_sre.SRE_Match object; span=(30, 31), match='B'>\n",
      "<_sre.SRE_Match object; span=(31, 32), match='C'>\n",
      "<_sre.SRE_Match object; span=(32, 33), match='D'>\n",
      "<_sre.SRE_Match object; span=(33, 34), match='E'>\n",
      "<_sre.SRE_Match object; span=(34, 35), match='F'>\n",
      "<_sre.SRE_Match object; span=(35, 36), match='G'>\n",
      "<_sre.SRE_Match object; span=(36, 37), match='H'>\n",
      "<_sre.SRE_Match object; span=(37, 38), match='I'>\n",
      "<_sre.SRE_Match object; span=(38, 39), match='J'>\n",
      "<_sre.SRE_Match object; span=(39, 40), match='K'>\n",
      "<_sre.SRE_Match object; span=(40, 41), match='L'>\n",
      "<_sre.SRE_Match object; span=(41, 42), match='M'>\n",
      "<_sre.SRE_Match object; span=(42, 43), match='N'>\n",
      "<_sre.SRE_Match object; span=(43, 44), match='O'>\n",
      "<_sre.SRE_Match object; span=(44, 45), match='P'>\n",
      "<_sre.SRE_Match object; span=(45, 46), match='Q'>\n",
      "<_sre.SRE_Match object; span=(46, 47), match='R'>\n",
      "<_sre.SRE_Match object; span=(47, 48), match='S'>\n",
      "<_sre.SRE_Match object; span=(48, 49), match='T'>\n",
      "<_sre.SRE_Match object; span=(49, 50), match='U'>\n",
      "<_sre.SRE_Match object; span=(50, 51), match='V'>\n",
      "<_sre.SRE_Match object; span=(51, 52), match='W'>\n",
      "<_sre.SRE_Match object; span=(52, 53), match='X'>\n",
      "<_sre.SRE_Match object; span=(53, 54), match='Y'>\n",
      "<_sre.SRE_Match object; span=(54, 55), match='Z'>\n",
      "<_sre.SRE_Match object; span=(67, 68), match='H'>\n",
      "<_sre.SRE_Match object; span=(68, 69), match='a'>\n",
      "<_sre.SRE_Match object; span=(70, 71), match='H'>\n",
      "<_sre.SRE_Match object; span=(71, 72), match='a'>\n",
      "<_sre.SRE_Match object; span=(72, 73), match='H'>\n",
      "<_sre.SRE_Match object; span=(73, 74), match='a'>\n",
      "<_sre.SRE_Match object; span=(75, 76), match='M'>\n",
      "<_sre.SRE_Match object; span=(76, 77), match='e'>\n",
      "<_sre.SRE_Match object; span=(77, 78), match='t'>\n",
      "<_sre.SRE_Match object; span=(78, 79), match='a'>\n",
      "<_sre.SRE_Match object; span=(79, 80), match='C'>\n",
      "<_sre.SRE_Match object; span=(80, 81), match='h'>\n",
      "<_sre.SRE_Match object; span=(81, 82), match='a'>\n",
      "<_sre.SRE_Match object; span=(82, 83), match='r'>\n",
      "<_sre.SRE_Match object; span=(83, 84), match='a'>\n",
      "<_sre.SRE_Match object; span=(84, 85), match='c'>\n",
      "<_sre.SRE_Match object; span=(85, 86), match='t'>\n",
      "<_sre.SRE_Match object; span=(86, 87), match='e'>\n",
      "<_sre.SRE_Match object; span=(87, 88), match='r'>\n",
      "<_sre.SRE_Match object; span=(88, 89), match='s'>\n",
      "<_sre.SRE_Match object; span=(91, 92), match='N'>\n",
      "<_sre.SRE_Match object; span=(92, 93), match='e'>\n",
      "<_sre.SRE_Match object; span=(93, 94), match='e'>\n",
      "<_sre.SRE_Match object; span=(94, 95), match='d'>\n",
      "<_sre.SRE_Match object; span=(96, 97), match='t'>\n",
      "<_sre.SRE_Match object; span=(97, 98), match='o'>\n",
      "<_sre.SRE_Match object; span=(99, 100), match='b'>\n",
      "<_sre.SRE_Match object; span=(100, 101), match='e'>\n",
      "<_sre.SRE_Match object; span=(102, 103), match='e'>\n",
      "<_sre.SRE_Match object; span=(103, 104), match='s'>\n",
      "<_sre.SRE_Match object; span=(104, 105), match='c'>\n",
      "<_sre.SRE_Match object; span=(105, 106), match='a'>\n",
      "<_sre.SRE_Match object; span=(106, 107), match='p'>\n",
      "<_sre.SRE_Match object; span=(107, 108), match='e'>\n",
      "<_sre.SRE_Match object; span=(108, 109), match='d'>\n",
      "<_sre.SRE_Match object; span=(140, 141), match='c'>\n",
      "<_sre.SRE_Match object; span=(141, 142), match='o'>\n",
      "<_sre.SRE_Match object; span=(142, 143), match='r'>\n",
      "<_sre.SRE_Match object; span=(143, 144), match='e'>\n",
      "<_sre.SRE_Match object; span=(144, 145), match='y'>\n",
      "<_sre.SRE_Match object; span=(145, 146), match='m'>\n",
      "<_sre.SRE_Match object; span=(146, 147), match='s'>\n",
      "<_sre.SRE_Match object; span=(148, 149), match='c'>\n",
      "<_sre.SRE_Match object; span=(149, 150), match='o'>\n",
      "<_sre.SRE_Match object; span=(150, 151), match='m'>\n",
      "<_sre.SRE_Match object; span=(217, 218), match='M'>\n",
      "<_sre.SRE_Match object; span=(218, 219), match='r'>\n",
      "<_sre.SRE_Match object; span=(221, 222), match='S'>\n",
      "<_sre.SRE_Match object; span=(222, 223), match='c'>\n",
      "<_sre.SRE_Match object; span=(223, 224), match='h'>\n",
      "<_sre.SRE_Match object; span=(224, 225), match='a'>\n",
      "<_sre.SRE_Match object; span=(225, 226), match='f'>\n",
      "<_sre.SRE_Match object; span=(226, 227), match='e'>\n",
      "<_sre.SRE_Match object; span=(227, 228), match='r'>\n",
      "<_sre.SRE_Match object; span=(229, 230), match='M'>\n",
      "<_sre.SRE_Match object; span=(230, 231), match='r'>\n",
      "<_sre.SRE_Match object; span=(232, 233), match='S'>\n",
      "<_sre.SRE_Match object; span=(233, 234), match='m'>\n",
      "<_sre.SRE_Match object; span=(234, 235), match='i'>\n",
      "<_sre.SRE_Match object; span=(235, 236), match='t'>\n",
      "<_sre.SRE_Match object; span=(236, 237), match='h'>\n",
      "<_sre.SRE_Match object; span=(238, 239), match='M'>\n",
      "<_sre.SRE_Match object; span=(239, 240), match='s'>\n",
      "<_sre.SRE_Match object; span=(241, 242), match='D'>\n",
      "<_sre.SRE_Match object; span=(242, 243), match='a'>\n",
      "<_sre.SRE_Match object; span=(243, 244), match='v'>\n",
      "<_sre.SRE_Match object; span=(244, 245), match='i'>\n",
      "<_sre.SRE_Match object; span=(245, 246), match='s'>\n",
      "<_sre.SRE_Match object; span=(247, 248), match='M'>\n",
      "<_sre.SRE_Match object; span=(248, 249), match='r'>\n",
      "<_sre.SRE_Match object; span=(249, 250), match='s'>\n",
      "<_sre.SRE_Match object; span=(252, 253), match='R'>\n",
      "<_sre.SRE_Match object; span=(253, 254), match='o'>\n",
      "<_sre.SRE_Match object; span=(254, 255), match='b'>\n",
      "<_sre.SRE_Match object; span=(255, 256), match='i'>\n",
      "<_sre.SRE_Match object; span=(256, 257), match='n'>\n",
      "<_sre.SRE_Match object; span=(257, 258), match='s'>\n",
      "<_sre.SRE_Match object; span=(258, 259), match='o'>\n",
      "<_sre.SRE_Match object; span=(259, 260), match='n'>\n",
      "<_sre.SRE_Match object; span=(261, 262), match='M'>\n",
      "<_sre.SRE_Match object; span=(262, 263), match='r'>\n",
      "<_sre.SRE_Match object; span=(265, 266), match='T'>\n",
      "<_sre.SRE_Match object; span=(268, 269), match='c'>\n",
      "<_sre.SRE_Match object; span=(269, 270), match='a'>\n",
      "<_sre.SRE_Match object; span=(270, 271), match='t'>\n",
      "<_sre.SRE_Match object; span=(272, 273), match='m'>\n",
      "<_sre.SRE_Match object; span=(273, 274), match='a'>\n",
      "<_sre.SRE_Match object; span=(274, 275), match='t'>\n",
      "<_sre.SRE_Match object; span=(276, 277), match='p'>\n",
      "<_sre.SRE_Match object; span=(277, 278), match='a'>\n",
      "<_sre.SRE_Match object; span=(278, 279), match='t'>\n",
      "<_sre.SRE_Match object; span=(280, 281), match='b'>\n",
      "<_sre.SRE_Match object; span=(281, 282), match='a'>\n",
      "<_sre.SRE_Match object; span=(282, 283), match='t'>\n"
     ]
    }
   ],
   "source": [
    "pattern = re.compile(r\"[a-zA-Z]\")\n",
    "matches = pattern.finditer(text_to_search)\n",
    "for match in matches:\n",
    "    print(match)"
   ]
  },
  {
   "cell_type": "code",
   "execution_count": 17,
   "metadata": {},
   "outputs": [
    {
     "name": "stdout",
     "output_type": "stream",
     "text": [
      "<_sre.SRE_Match object; span=(268, 271), match='cat'>\n",
      "<_sre.SRE_Match object; span=(272, 275), match='mat'>\n",
      "<_sre.SRE_Match object; span=(276, 279), match='pat'>\n"
     ]
    }
   ],
   "source": [
    "pattern = re.compile(r\"[^b]at\")\n",
    "matches = pattern.finditer(text_to_search)\n",
    "for match in matches:\n",
    "    print(match)"
   ]
  },
  {
   "cell_type": "code",
   "execution_count": 18,
   "metadata": {},
   "outputs": [
    {
     "name": "stdout",
     "output_type": "stream",
     "text": [
      "<_sre.SRE_Match object; span=(139, 151), match='800-555-5669'>\n",
      "<_sre.SRE_Match object; span=(318, 330), match='900-555-9340'>\n",
      "<_sre.SRE_Match object; span=(504, 516), match='800-555-6771'>\n",
      "<_sre.SRE_Match object; span=(1128, 1140), match='900-555-3205'>\n",
      "<_sre.SRE_Match object; span=(1476, 1488), match='800-555-6089'>\n",
      "<_sre.SRE_Match object; span=(1827, 1839), match='800-555-7100'>\n",
      "<_sre.SRE_Match object; span=(2088, 2100), match='900-555-5118'>\n",
      "<_sre.SRE_Match object; span=(2863, 2875), match='900-555-5428'>\n",
      "<_sre.SRE_Match object; span=(3321, 3333), match='800-555-8810'>\n",
      "<_sre.SRE_Match object; span=(4008, 4020), match='900-555-9598'>\n",
      "<_sre.SRE_Match object; span=(4982, 4994), match='800-555-2420'>\n",
      "<_sre.SRE_Match object; span=(5603, 5615), match='900-555-3567'>\n",
      "<_sre.SRE_Match object; span=(6226, 6238), match='800-555-3216'>\n",
      "<_sre.SRE_Match object; span=(6926, 6938), match='900-555-7755'>\n",
      "<_sre.SRE_Match object; span=(7901, 7913), match='800-555-1372'>\n",
      "<_sre.SRE_Match object; span=(8778, 8790), match='900-555-6426'>\n"
     ]
    }
   ],
   "source": [
    "#data file\n",
    "pattern = re.compile(r\"[89]00[-.]\\d\\d\\d[-.]\\d\\d\\d\\d\")\n",
    "matches = pattern.finditer(data)\n",
    "for match in matches:\n",
    "    print(match)"
   ]
  },
  {
   "cell_type": "code",
   "execution_count": 19,
   "metadata": {
    "scrolled": true
   },
   "outputs": [
    {
     "name": "stdout",
     "output_type": "stream",
     "text": [
      "<_sre.SRE_Match object; span=(152, 164), match='321-555-4321'>\n",
      "<_sre.SRE_Match object; span=(165, 177), match='123.555.1234'>\n",
      "<_sre.SRE_Match object; span=(178, 190), match='123*555*1234'>\n",
      "<_sre.SRE_Match object; span=(191, 203), match='800-555-1234'>\n",
      "<_sre.SRE_Match object; span=(204, 216), match='900-555-1234'>\n"
     ]
    }
   ],
   "source": [
    "pattern = re.compile(r\"\\d{3}.\\d{3}.\\d{4}\")\n",
    "matches = pattern.finditer(text_to_search)\n",
    "for match in matches:\n",
    "    print(match)"
   ]
  },
  {
   "cell_type": "code",
   "execution_count": 55,
   "metadata": {},
   "outputs": [
    {
     "name": "stdout",
     "output_type": "stream",
     "text": [
      "<_sre.SRE_Match object; span=(217, 228), match='Mr. Schafer'>\n",
      "<_sre.SRE_Match object; span=(229, 237), match='Mr Smith'>\n"
     ]
    }
   ],
   "source": [
    "pattern = re.compile(r\"Mr\\.?\\s[A-Z]\\w+\")\n",
    "matches = pattern.finditer(text_to_search)\n",
    "for match in matches:\n",
    "    print(match)"
   ]
  },
  {
   "cell_type": "code",
   "execution_count": 20,
   "metadata": {},
   "outputs": [
    {
     "name": "stdout",
     "output_type": "stream",
     "text": [
      "<_sre.SRE_Match object; span=(217, 228), match='Mr. Schafer'>\n",
      "<_sre.SRE_Match object; span=(229, 237), match='Mr Smith'>\n",
      "<_sre.SRE_Match object; span=(261, 266), match='Mr. T'>\n"
     ]
    }
   ],
   "source": [
    "pattern = re.compile(r\"Mr\\.?\\s[A-Z]\\w*\")\n",
    "matches = pattern.finditer(text_to_search)\n",
    "for match in matches:\n",
    "    print(match)"
   ]
  },
  {
   "cell_type": "code",
   "execution_count": 21,
   "metadata": {},
   "outputs": [
    {
     "name": "stdout",
     "output_type": "stream",
     "text": [
      "<_sre.SRE_Match object; span=(217, 228), match='Mr. Schafer'>\n",
      "<_sre.SRE_Match object; span=(229, 237), match='Mr Smith'>\n",
      "<_sre.SRE_Match object; span=(238, 246), match='Ms Davis'>\n",
      "<_sre.SRE_Match object; span=(247, 260), match='Mrs. Robinson'>\n",
      "<_sre.SRE_Match object; span=(261, 266), match='Mr. T'>\n"
     ]
    }
   ],
   "source": [
    "pattern = re.compile(r\"(Mr|Ms|Mrs)\\.?\\s[A-Z]\\w*\")\n",
    "matches = pattern.finditer(text_to_search)\n",
    "for match in matches:\n",
    "    print(match)"
   ]
  },
  {
   "cell_type": "code",
   "execution_count": 22,
   "metadata": {},
   "outputs": [
    {
     "name": "stdout",
     "output_type": "stream",
     "text": [
      "<_sre.SRE_Match object; span=(1, 24), match='CoreyMSchafer@gmail.com'>\n"
     ]
    }
   ],
   "source": [
    "#Email document\n",
    "pattern = re.compile(r\"[a-zA-Z]+@[a-zA-Z]+\\.com\")\n",
    "matches = pattern.finditer(emails)\n",
    "for match in matches:\n",
    "    print(match)"
   ]
  },
  {
   "cell_type": "code",
   "execution_count": 23,
   "metadata": {},
   "outputs": [
    {
     "name": "stdout",
     "output_type": "stream",
     "text": [
      "<_sre.SRE_Match object; span=(1, 24), match='CoreyMSchafer@gmail.com'>\n",
      "<_sre.SRE_Match object; span=(25, 53), match='corey.schafer@university.edu'>\n"
     ]
    }
   ],
   "source": [
    "pattern = re.compile(r\"[a-zA-Z.]+@[a-zA-Z]+\\.(com|edu)\")\n",
    "matches = pattern.finditer(emails)\n",
    "for match in matches:\n",
    "    print(match)"
   ]
  },
  {
   "cell_type": "code",
   "execution_count": 24,
   "metadata": {},
   "outputs": [
    {
     "name": "stdout",
     "output_type": "stream",
     "text": [
      "<_sre.SRE_Match object; span=(1, 24), match='CoreyMSchafer@gmail.com'>\n",
      "<_sre.SRE_Match object; span=(25, 53), match='corey.schafer@university.edu'>\n",
      "<_sre.SRE_Match object; span=(54, 83), match='corey-321-schafer@my-work.net'>\n"
     ]
    }
   ],
   "source": [
    "pattern = re.compile(r\"[a-zA-Z0-9.-]+@[a-zA-Z-]+\\.(com|edu|net)\")\n",
    "matches = pattern.finditer(emails)\n",
    "for match in matches:\n",
    "    print(match)"
   ]
  },
  {
   "cell_type": "code",
   "execution_count": 25,
   "metadata": {},
   "outputs": [
    {
     "name": "stdout",
     "output_type": "stream",
     "text": [
      "<_sre.SRE_Match object; span=(1, 24), match='CoreyMSchafer@gmail.com'>\n",
      "<_sre.SRE_Match object; span=(25, 53), match='corey.schafer@university.edu'>\n",
      "<_sre.SRE_Match object; span=(54, 83), match='corey-321-schafer@my-work.net'>\n"
     ]
    }
   ],
   "source": [
    "#For all emails\n",
    "pattern = re.compile(r'[a-zA-Z0-9_.+-]+@[a-zA-Z0-9-]+\\.[a-zA-Z0-9-.]+')\n",
    "\n",
    "matches = pattern.finditer(emails)\n",
    "\n",
    "for match in matches:\n",
    "    print(match)"
   ]
  },
  {
   "cell_type": "code",
   "execution_count": 26,
   "metadata": {},
   "outputs": [
    {
     "name": "stdout",
     "output_type": "stream",
     "text": [
      "<_sre.SRE_Match object; span=(1, 23), match='https://www.google.com'>\n",
      "<_sre.SRE_Match object; span=(24, 42), match='http://coreyms.com'>\n",
      "<_sre.SRE_Match object; span=(43, 62), match='https://youtube.com'>\n",
      "<_sre.SRE_Match object; span=(63, 83), match='https://www.nasa.gov'>\n"
     ]
    }
   ],
   "source": [
    "pattern = re.compile(r\"https?://(www\\.)?(\\w+)(\\.\\w+)\")\n",
    "\n",
    "matches = pattern.finditer(urls)\n",
    "\n",
    "for match in matches:\n",
    "    print(match)"
   ]
  },
  {
   "cell_type": "code",
   "execution_count": 27,
   "metadata": {},
   "outputs": [
    {
     "name": "stdout",
     "output_type": "stream",
     "text": [
      "www.\n",
      "None\n",
      "None\n",
      "www.\n"
     ]
    }
   ],
   "source": [
    "pattern = re.compile(r\"https?://(www\\.)?(\\w+)(\\.\\w+)\")\n",
    "\n",
    "matches = pattern.finditer(urls)\n",
    "\n",
    "for match in matches:\n",
    "    print(match.group(1))"
   ]
  },
  {
   "cell_type": "code",
   "execution_count": 42,
   "metadata": {},
   "outputs": [
    {
     "data": {
      "text/plain": [
       "'\\ntesting text\\ngoogle.com\\ncoreyms.com\\nyoutube.com\\nnasa.gov\\n'"
      ]
     },
     "execution_count": 42,
     "metadata": {},
     "output_type": "execute_result"
    }
   ],
   "source": [
    "#replace and sub\n",
    "pattern = re.compile(r\"https?://(www\\.)?(\\w+)(\\.\\w+)\")\n",
    "urls = pattern.sub(r\"\\2\\3\", urls)\n",
    "urls"
   ]
  },
  {
   "cell_type": "code",
   "execution_count": 29,
   "metadata": {},
   "outputs": [
    {
     "name": "stdout",
     "output_type": "stream",
     "text": [
      "321-555-4321\n",
      "123.555.1234\n",
      "123*555*1234\n",
      "800-555-1234\n",
      "900-555-1234\n"
     ]
    }
   ],
   "source": [
    "#findall will just return the matches in list or string\n",
    "pattern = re.compile(r\"\\d{3}.\\d{3}.\\d{4}\")\n",
    "\n",
    "matches = pattern.findall(text_to_search)\n",
    "\n",
    "for match in matches:\n",
    "    print(match)"
   ]
  },
  {
   "cell_type": "code",
   "execution_count": 30,
   "metadata": {},
   "outputs": [
    {
     "name": "stdout",
     "output_type": "stream",
     "text": [
      "<_sre.SRE_Match object; span=(0, 5), match='Start'>\n"
     ]
    }
   ],
   "source": [
    "#match method in the beginning only. \n",
    "pattern = re.compile(r\"Start\")\n",
    "\n",
    "matches = pattern.match(sentence)\n",
    "\n",
    "#for match in matches:\n",
    "    #print(match)\n",
    "    \n",
    "print(matches)"
   ]
  },
  {
   "cell_type": "code",
   "execution_count": 31,
   "metadata": {},
   "outputs": [
    {
     "name": "stdout",
     "output_type": "stream",
     "text": [
      "<_sre.SRE_Match object; span=(8, 16), match='sentence'>\n"
     ]
    }
   ],
   "source": [
    "#search method to search entire string. \n",
    "pattern = re.compile(r\"sentence\")\n",
    "\n",
    "matches = pattern.search(sentence)\n",
    "\n",
    "print(matches)"
   ]
  },
  {
   "cell_type": "code",
   "execution_count": 32,
   "metadata": {},
   "outputs": [
    {
     "name": "stdout",
     "output_type": "stream",
     "text": [
      "<_sre.SRE_Match object; span=(0, 5), match='Start'>\n"
     ]
    }
   ],
   "source": [
    "pattern = re.compile(r\"start\", re.IGNORECASE)\n",
    "\n",
    "matches = pattern.search(sentence)\n",
    "\n",
    "print(matches)"
   ]
  },
  {
   "cell_type": "code",
   "execution_count": null,
   "metadata": {},
   "outputs": [],
   "source": []
  }
 ],
 "metadata": {
  "kernelspec": {
   "display_name": "Python 3",
   "language": "python",
   "name": "python3"
  },
  "language_info": {
   "codemirror_mode": {
    "name": "ipython",
    "version": 3
   },
   "file_extension": ".py",
   "mimetype": "text/x-python",
   "name": "python",
   "nbconvert_exporter": "python",
   "pygments_lexer": "ipython3",
   "version": "3.6.5"
  }
 },
 "nbformat": 4,
 "nbformat_minor": 2
}
