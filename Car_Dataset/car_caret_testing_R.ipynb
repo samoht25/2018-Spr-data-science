{
 "cells": [
  {
   "cell_type": "code",
   "execution_count": 3,
   "metadata": {},
   "outputs": [],
   "source": [
    "car <- read.csv(\"car.data.txt\", header=F)"
   ]
  },
  {
   "cell_type": "code",
   "execution_count": 6,
   "metadata": {},
   "outputs": [],
   "source": [
    "colnames(car) <- c('buying_price', 'maint_price', 'no_doors', 'capacity', 'lug_boot', 'safety', 'acc')"
   ]
  },
  {
   "cell_type": "code",
   "execution_count": 7,
   "metadata": {},
   "outputs": [
    {
     "data": {
      "text/html": [
       "<table>\n",
       "<thead><tr><th scope=col>buying_price</th><th scope=col>maint_price</th><th scope=col>no_doors</th><th scope=col>capacity</th><th scope=col>lug_boot</th><th scope=col>safety</th><th scope=col>acc</th></tr></thead>\n",
       "<tbody>\n",
       "\t<tr><td>vhigh</td><td>vhigh</td><td>2    </td><td>2    </td><td>small</td><td>low  </td><td>unacc</td></tr>\n",
       "\t<tr><td>vhigh</td><td>vhigh</td><td>2    </td><td>2    </td><td>small</td><td>med  </td><td>unacc</td></tr>\n",
       "\t<tr><td>vhigh</td><td>vhigh</td><td>2    </td><td>2    </td><td>small</td><td>high </td><td>unacc</td></tr>\n",
       "\t<tr><td>vhigh</td><td>vhigh</td><td>2    </td><td>2    </td><td>med  </td><td>low  </td><td>unacc</td></tr>\n",
       "\t<tr><td>vhigh</td><td>vhigh</td><td>2    </td><td>2    </td><td>med  </td><td>med  </td><td>unacc</td></tr>\n",
       "\t<tr><td>vhigh</td><td>vhigh</td><td>2    </td><td>2    </td><td>med  </td><td>high </td><td>unacc</td></tr>\n",
       "</tbody>\n",
       "</table>\n"
      ],
      "text/latex": [
       "\\begin{tabular}{r|lllllll}\n",
       " buying\\_price & maint\\_price & no\\_doors & capacity & lug\\_boot & safety & acc\\\\\n",
       "\\hline\n",
       "\t vhigh & vhigh & 2     & 2     & small & low   & unacc\\\\\n",
       "\t vhigh & vhigh & 2     & 2     & small & med   & unacc\\\\\n",
       "\t vhigh & vhigh & 2     & 2     & small & high  & unacc\\\\\n",
       "\t vhigh & vhigh & 2     & 2     & med   & low   & unacc\\\\\n",
       "\t vhigh & vhigh & 2     & 2     & med   & med   & unacc\\\\\n",
       "\t vhigh & vhigh & 2     & 2     & med   & high  & unacc\\\\\n",
       "\\end{tabular}\n"
      ],
      "text/markdown": [
       "\n",
       "buying_price | maint_price | no_doors | capacity | lug_boot | safety | acc | \n",
       "|---|---|---|---|---|---|\n",
       "| vhigh | vhigh | 2     | 2     | small | low   | unacc | \n",
       "| vhigh | vhigh | 2     | 2     | small | med   | unacc | \n",
       "| vhigh | vhigh | 2     | 2     | small | high  | unacc | \n",
       "| vhigh | vhigh | 2     | 2     | med   | low   | unacc | \n",
       "| vhigh | vhigh | 2     | 2     | med   | med   | unacc | \n",
       "| vhigh | vhigh | 2     | 2     | med   | high  | unacc | \n",
       "\n",
       "\n"
      ],
      "text/plain": [
       "  buying_price maint_price no_doors capacity lug_boot safety acc  \n",
       "1 vhigh        vhigh       2        2        small    low    unacc\n",
       "2 vhigh        vhigh       2        2        small    med    unacc\n",
       "3 vhigh        vhigh       2        2        small    high   unacc\n",
       "4 vhigh        vhigh       2        2        med      low    unacc\n",
       "5 vhigh        vhigh       2        2        med      med    unacc\n",
       "6 vhigh        vhigh       2        2        med      high   unacc"
      ]
     },
     "metadata": {},
     "output_type": "display_data"
    }
   ],
   "source": [
    "head(car)"
   ]
  },
  {
   "cell_type": "code",
   "execution_count": 8,
   "metadata": {},
   "outputs": [
    {
     "name": "stdout",
     "output_type": "stream",
     "text": [
      "'data.frame':\t1728 obs. of  7 variables:\n",
      " $ buying_price: Factor w/ 4 levels \"high\",\"low\",\"med\",..: 4 4 4 4 4 4 4 4 4 4 ...\n",
      " $ maint_price : Factor w/ 4 levels \"high\",\"low\",\"med\",..: 4 4 4 4 4 4 4 4 4 4 ...\n",
      " $ no_doors    : Factor w/ 4 levels \"2\",\"3\",\"4\",\"5more\": 1 1 1 1 1 1 1 1 1 1 ...\n",
      " $ capacity    : Factor w/ 3 levels \"2\",\"4\",\"more\": 1 1 1 1 1 1 1 1 1 2 ...\n",
      " $ lug_boot    : Factor w/ 3 levels \"big\",\"med\",\"small\": 3 3 3 2 2 2 1 1 1 3 ...\n",
      " $ safety      : Factor w/ 3 levels \"high\",\"low\",\"med\": 2 3 1 2 3 1 2 3 1 2 ...\n",
      " $ acc         : Factor w/ 4 levels \"acc\",\"good\",\"unacc\",..: 3 3 3 3 3 3 3 3 3 3 ...\n"
     ]
    }
   ],
   "source": [
    "str(car)"
   ]
  },
  {
   "cell_type": "code",
   "execution_count": 38,
   "metadata": {},
   "outputs": [],
   "source": [
    "accuracy <- function(actual, prediction){\n",
    "    actual <- as.numeric(actual)\n",
    "    prediction <- as.numeric(prediction)\n",
    "    result <- sum(abs(actual-prediction)) / length(actual)\n",
    "    return (1-result)\n",
    "}"
   ]
  },
  {
   "cell_type": "code",
   "execution_count": 12,
   "metadata": {},
   "outputs": [
    {
     "name": "stderr",
     "output_type": "stream",
     "text": [
      "Updating HTML index of packages in '.Library'\n",
      "Making 'packages.html' ... done\n"
     ]
    }
   ],
   "source": [
    "library(caret)\n",
    "install.packages(\"e1071\")\n",
    "library(e1071)"
   ]
  },
  {
   "cell_type": "code",
   "execution_count": 59,
   "metadata": {},
   "outputs": [
    {
     "data": {
      "text/html": [
       "0.482558139534884"
      ],
      "text/latex": [
       "0.482558139534884"
      ],
      "text/markdown": [
       "0.482558139534884"
      ],
      "text/plain": [
       "[1] 0.4825581"
      ]
     },
     "metadata": {},
     "output_type": "display_data"
    }
   ],
   "source": [
    "target_index <- createDataPartition(car$acc, p = .80, list=F)\n",
    "training_data <- car[target_index,]\n",
    "testing_data <-car[-target_index,]\n",
    "\n",
    "model_fit <- train(acc~buying_price, data=training_data, method=\"rpart\")\n",
    "\n",
    "prediction_1 <- predict(model_fit, newdata=testing_data)\n",
    "\n",
    "#confusionMatrix(predMesting_data$acc, prediction_1)\n",
    "accuracy(testing_data$acc, prediction_1)"
   ]
  },
  {
   "cell_type": "code",
   "execution_count": 58,
   "metadata": {},
   "outputs": [
    {
     "data": {
      "text/html": [
       "0.563953488372093"
      ],
      "text/latex": [
       "0.563953488372093"
      ],
      "text/markdown": [
       "0.563953488372093"
      ],
      "text/plain": [
       "[1] 0.5639535"
      ]
     },
     "metadata": {},
     "output_type": "display_data"
    }
   ],
   "source": [
    "target_index <- createDataPartition(car$acc, p = .80, list=F)\n",
    "training_data <- car[target_index,]\n",
    "testing_data <-car[-target_index,]\n",
    "\n",
    "model_fit <- train(acc~., data=training_data, method=\"rpart\")\n",
    "\n",
    "prediction_1 <- predict(model_fit, newdata=testing_data)\n",
    "\n",
    "#confusionMatrix(predMesting_data$acc, prediction_1)\n",
    "accuracy(testing_data$acc, prediction_1)"
   ]
  },
  {
   "cell_type": "code",
   "execution_count": 62,
   "metadata": {},
   "outputs": [
    {
     "data": {
      "text/html": [
       "0.482558139534884"
      ],
      "text/latex": [
       "0.482558139534884"
      ],
      "text/markdown": [
       "0.482558139534884"
      ],
      "text/plain": [
       "[1] 0.4825581"
      ]
     },
     "metadata": {},
     "output_type": "display_data"
    }
   ],
   "source": [
    "target_index <- createDataPartition(car$acc, p = .80, list=F)\n",
    "training_data <- car[target_index,]\n",
    "testing_data <-car[-target_index,]\n",
    "\n",
    "model_fit <- train(acc~lug_boot, data=training_data, method=\"rpart\")\n",
    "\n",
    "prediction_1 <- predict(model_fit, newdata=testing_data)\n",
    "\n",
    "#confusionMatrix(predMesting_data$acc, prediction_1)\n",
    "accuracy(testing_data$acc, prediction_1)"
   ]
  }
 ],
 "metadata": {
  "kernelspec": {
   "display_name": "R",
   "language": "R",
   "name": "ir"
  },
  "language_info": {
   "codemirror_mode": "r",
   "file_extension": ".r",
   "mimetype": "text/x-r-source",
   "name": "R",
   "pygments_lexer": "r",
   "version": "3.4.1"
  }
 },
 "nbformat": 4,
 "nbformat_minor": 2
}
