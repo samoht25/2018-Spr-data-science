{
 "cells": [
  {
   "cell_type": "markdown",
   "metadata": {
    "slideshow": {
     "slide_type": "slide"
    }
   },
   "source": [
    "# Introduction to Clustering and K-Means\n",
    "\n",
    "![](https://snag.gy/kYWumd.jpg)"
   ]
  },
  {
   "cell_type": "markdown",
   "metadata": {
    "slideshow": {
     "slide_type": "slide"
    }
   },
   "source": [
    "<a id='unsupervised'></a>\n",
    "\n",
    "## Unsupervised Learning\n",
    "\n",
    "---\n",
    "\n",
    "> **Supervised --> Classification**: Create a model to predict to which group a point belongs.\n",
    "\n",
    "> **Unsupervised --> Clustering**: Find groups that already exist in the data.\n",
    "\n",
    "Until now, we haven't talked much about unsupervised learning. We use unsupervised methods when we don't have labeled data. There are no true targets to predict; we derive the likely categories from the structure in our data.\n",
    "\n",
    "| Pros | Cons |\n",
    "|---|---|\n",
    "| No labels. | Difficult to evaluate correctness without subject matter expertise. |\n",
    "| Few or no assumptions about data. | Scaling/normalization often required. |\n",
    "| Useful for subset/segmentation discovery. | Can be difficult to visualize. |\n",
    "| Great for broad insights. | Extremely difficult to tune. |\n",
    "| Many models available. | No obvious choice in many cases. |\n",
    "| Black magic. | Considered unconventional and unreliable. |"
   ]
  },
  {
   "cell_type": "markdown",
   "metadata": {
    "slideshow": {
     "slide_type": "slide"
    }
   },
   "source": [
    "<a name=\"intro\"></a>\n",
    "## Introduction to Clustering\n",
    "\n",
    "---\n",
    "\n",
    "### Helpful Uses for Clustering \n",
    "   - Finding items with similar behavior (users, products, voters, etc.).\n",
    "   - Market segmentation.\n",
    "   - Understanding complex systems.\n",
    "   - Discovering meaningful categories for your data.\n",
    "   - Reducing the number of classes by grouping (e.g., bourbons, scotches -> whiskeys).\n",
    "   - Reducing the dimensions of your problem.\n",
    "   - Pre-processing is important! Creating labels for supervised learning."
   ]
  },
  {
   "cell_type": "markdown",
   "metadata": {
    "slideshow": {
     "slide_type": "slide"
    }
   },
   "source": [
    "### Genetics\n",
    "![](https://snag.gy/TP2RA4.jpg)"
   ]
  },
  {
   "cell_type": "markdown",
   "metadata": {
    "slideshow": {
     "slide_type": "slide"
    }
   },
   "source": [
    "### Consumer Internet\n",
    "\n",
    "<table>\n",
    "    <tr>\n",
    "        <td><img src=\"https://snag.gy/EbLeqd.jpg\"></td>\n",
    "        <td><img src=\"https://snag.gy/xsNvK8.jpg\"></td>\n",
    "    </tr>\n",
    "</table>\n"
   ]
  },
  {
   "cell_type": "markdown",
   "metadata": {
    "slideshow": {
     "slide_type": "slide"
    }
   },
   "source": [
    "### Business\n",
    "\n",
    "<table>\n",
    "    <tr>\n",
    "    <td><img src=\"https://snag.gy/pDueQ2.jpg\" width=\"500\"></td>\n",
    "    <td>\n",
    "         <li>Identifying demographics.</li>\n",
    "        <li>Spending patterns.</li>\n",
    "        <li>Consumer trends.</li>\n",
    "        <li>Customer characteristics.</li>\n",
    "        <li>Recommender systems.</li>\n",
    "        <li>Taxonomy/categorization.</li>\n",
    "    </td>\n",
    "    </tr>\n",
    "</table>\n"
   ]
  },
  {
   "cell_type": "markdown",
   "metadata": {
    "slideshow": {
     "slide_type": "slide"
    }
   },
   "source": [
    "## What Do We Mean by \"Labeled Data?\"\n",
    "- Give some examples!"
   ]
  },
  {
   "cell_type": "markdown",
   "metadata": {
    "slideshow": {
     "slide_type": "slide"
    }
   },
   "source": [
    "<img src=\"https://snag.gy/YUt5RO.jpg\" style=\"float: left; margin-right: 25px; width: 250px\">\n",
    "\n",
    "## What Problems Do You Think Arise During \"Clustering?\"\n",
    "\n",
    "Follow up:\n",
    "\n",
    "- How accurate do you think these are?\n",
    "- What kind of data are we talking about?"
   ]
  },
  {
   "cell_type": "markdown",
   "metadata": {
    "slideshow": {
     "slide_type": "slide"
    }
   },
   "source": [
    "<a id='what'></a>\n",
    "## What is Clustering? \n",
    "\n",
    "---\n",
    "\n",
    "<img src=\"https://snag.gy/BdfATE.jpg\" style=\"width: 500px\">\n",
    "\n",
    "Clustering is one of the most ubiquitous and widespread processes for assigning discrete structure to data. In clustering, we group observations together in a data set such that the members of a group are more similar to each other than they are to members of other groups. There are a wide variety of methods and criteria for performing this task.\n",
    "\n",
    "**Properties of clustering procedures:**\n",
    "\n",
    "- No \"true\" target/response to compare.\n",
    "- We apply structure to data quantitatively based on specific criteria.\n",
    "- Predictions of labels are based on the structure of the data.\n",
    "\n",
    "For example: Your employer gives you a data set of voter preferences from a local poll. They want you to figure out how these voters are grouping based on their preferences. The answer? Clustering!"
   ]
  },
  {
   "cell_type": "markdown",
   "metadata": {
    "slideshow": {
     "slide_type": "slide"
    }
   },
   "source": [
    "<a name=\"algos\"></a>\n",
    "## Clustering Algorithms \n",
    "\n",
    "---\n",
    "\n",
    "The are many different algorithms that can perform clustering when given a data set:\n",
    "\n",
    "- **K-means**: Mean centroids.\n",
    "- **Hierarchical**: Nested clusters created by merging or splitting successively.\n",
    "- **DBSCAN**: Density based.\n",
    "- **Affinity propagation**: Graph-based approach to let points \"vote\" on their preferred \"exemplar.\"\n",
    "- **Mean shift**: Can find the number of clusters.\n",
    "- **Spectral clustering**.\n",
    "- **Agglomerative clustering**: Suite of algorithms based on applying the same criteria/characteristics of one cluster to others.\n",
    "\n",
    "Today we're going to look at one of the algorithms: **k-means.**"
   ]
  },
  {
   "cell_type": "markdown",
   "metadata": {
    "slideshow": {
     "slide_type": "slide"
    }
   },
   "source": [
    "<a id='k-means'></a>\n",
    "## K-Means Clustering\n",
    "\n",
    "---\n",
    "\n",
    "#### K-means is the most popular clustering algorithm.\n",
    "\n",
    "K-means is one of the easier clustering methods to understand; other clustering techniques use some of the same assumptions on which k-means relies.\n",
    "\n",
    "- **K** is the number of clusters.\n",
    "- **Means** refers to the mean points of the K clusters.\n",
    "\n",
    "The number of clusters, $k$, is chosen in advance. The goal is to partition the data into sets such that the total sum of squared distances from each point to the mean point of the cluster is minimized.\n",
    "\n",
    "The algorithm takes your entire data set and iterates over its features and observations to determine clusters based around center points. These center points are known as **centroids**. \n",
    "\n",
    "### K-means iterative fitting\n",
    "\n",
    "1. Pick a value for k (the number of clusters to create).\n",
    "2. Initialize k centroids (starting points) in your data.\n",
    "3. Create your clusters. Assign each point to the nearest centroid. \n",
    "4. Make your clusters better. Move each centroid to the center of its cluster. \n",
    "5. Repeat Steps 3 and 4 until your centroids converge. \n",
    "\n",
    "> **Note:** Unfortunately, there's no formula to determine the absolute best number of $k$ clusters. Unsupervised learning is inherently subjective! We can, however, choose the \"best\" $k$ based on predetermined criteria. "
   ]
  },
  {
   "cell_type": "markdown",
   "metadata": {
    "slideshow": {
     "slide_type": "slide"
    }
   },
   "source": [
    "<a id='euclidean'></a>\n",
    "## Refresher: Euclidean Distance\n",
    "\n",
    "---\n",
    "\n",
    "### $$ d(x_1, x_2) = \\sqrt{\\sum_{i=1}^N (x_{1i} - x_{2i})^2} $$\n",
    "\n",
    "**As an example, take two points:**\n",
    "\n",
    "- $x1 = (2, -1)$\n",
    "- $x2 = (-2, 2)$\n",
    "\n",
    "**The Euclidean distance between these two points is:**\n",
    "\n",
    "### $$\\begin{aligned}\n",
    "d(x1, x2) &= \\sqrt{ (2 - (-2))^2 + ((-1) - 2)^2 } \\\\\n",
    "d(x1, x2) &= \\sqrt{25} \\\\\n",
    "d(x1, x2) &= 5 \n",
    "\\end{aligned}$$\n",
    "\n",
    "**Using scikit-learn:**\n",
    "```python\n",
    "import numpy as np\n",
    "from sklearn.metrics import euclidean_distances\n",
    "X = np.array([[2, -1], [-2, 2]])\n",
    "print euclidean_distances(X)\n",
    "```"
   ]
  },
  {
   "cell_type": "markdown",
   "metadata": {
    "slideshow": {
     "slide_type": "slide"
    }
   },
   "source": [
    "<a id='km-steps'></a>\n",
    "## K-Means: Step by Step\n",
    "\n",
    "---\n",
    "\n",
    "<table width=\"500\" cellpadding=\"50\"> \n",
    "<tr>\n",
    "   <td><img src=\"https://snag.gy/7haoS3.jpg\" style=\"width: 150px\"></td>\n",
    "   <td style=\"vertical-align: top; width: 400px;\"><br><b>Step 1.</b><br>We have data in an n-dimensional feature space (2-D, for example).</td>\n",
    "</tr>\n",
    "<tr>\n",
    "</table>"
   ]
  },
  {
   "cell_type": "markdown",
   "metadata": {
    "slideshow": {
     "slide_type": "subslide"
    }
   },
   "source": [
    "<table width=500 cellpadding=\"50\"> \n",
    "<tr>\n",
    "   <td><img src=\"https://snag.gy/DaIVgk.jpg\" style=\"width: 150px !important;\"></td>\n",
    "   <td style=\"align: top; width: 400px; vertical-align: top;\"><br><b>Step 2.</b><br>Initialize K centroid (2 here).</td>\n",
    "</tr>\n",
    "<tr>\n",
    "</table>"
   ]
  },
  {
   "cell_type": "markdown",
   "metadata": {
    "slideshow": {
     "slide_type": "subslide"
    }
   },
   "source": [
    "<table width=500 cellpadding=\"50\"> \n",
    "<tr>\n",
    "   <td><img src=\"https://snag.gy/DaIVgk.jpg\" style=\"width: 150px !important;\"></td>\n",
    "   <td style=\"align: top; width: 400px; vertical-align: top;\"><b>Step 3.</b><br>Assign points to *closest* cluster based on _Euclidean distance_.<br><br>$\\sqrt{(x_1-x_2)^2 + (y_1-y_2)^2}$\n",
    "\n",
    "   </td>\n",
    "</tr>\n",
    "<tr>\n",
    "</table>"
   ]
  },
  {
   "cell_type": "markdown",
   "metadata": {
    "slideshow": {
     "slide_type": "subslide"
    }
   },
   "source": [
    "<table width=500 cellpadding=\"50\"> \n",
    "<tr>\n",
    "   <td><img src=\"https://snag.gy/NY1EeT.jpg\" style=\"width: 150px !important;\"></td>\n",
    "   <td style=\"align: top; width: 400px; vertical-align: top;\"><b>Step 4.</b><br>Calculate mean of points assigned to centroid (2 here). Update new centroid positions to mean (i.e., geometric center).<br><br>$new\\ centroid\\ position= \\bar{x}, \\bar{y}$\n",
    "   </td>\n",
    "</tr>\n",
    "<tr>\n",
    "</table>"
   ]
  },
  {
   "cell_type": "markdown",
   "metadata": {
    "slideshow": {
     "slide_type": "subslide"
    }
   },
   "source": [
    "<table width=500 cellpadding=\"50\"> \n",
    "<tr>\n",
    "   <td><img src=\"https://snag.gy/tSfDZs.jpg\" style=\"width: 150px !important;\"></td>\n",
    "   <td style=\"align: top; width: 400px; vertical-align: top;\"><b>Step 5.</b><br>Repeat Steps 3–4, updating class membership based on centroid distance.\n",
    "   </td>\n",
    "</tr>\n",
    "<tr>\n",
    "</table>"
   ]
  },
  {
   "cell_type": "markdown",
   "metadata": {
    "slideshow": {
     "slide_type": "subslide"
    }
   },
   "source": [
    "<table width=500 cellpadding=\"50\"> \n",
    "<tr>\n",
    "   <td><img src=\"https://snag.gy/BbIicn.jpg\" style=\"width: 150px !important;\"></td>\n",
    "   <td style=\"align: top; width: 400px; vertical-align: top;\"><b>Fin.</b><br>Convergence is met once all points no longer change to a new class (defined by closest centroid distance).\n",
    "   </td>\n",
    "</tr>\n",
    "<tr>\n",
    "</table>"
   ]
  },
  {
   "cell_type": "markdown",
   "metadata": {
    "slideshow": {
     "slide_type": "slide"
    }
   },
   "source": [
    "<a id='vis'></a>\n",
    "## K-Means: A Visual Example\n",
    "\n",
    "\n",
    "---\n",
    "\n",
    "![](https://snag.gy/5hFXUA.jpg)"
   ]
  },
  {
   "cell_type": "markdown",
   "metadata": {
    "slideshow": {
     "slide_type": "slide"
    }
   },
   "source": [
    "<a id='caveats'></a>\n",
    "## A Few K-Means Caveats\n",
    "\n",
    "---\n",
    "\n",
    "Nothing is perfect!"
   ]
  },
  {
   "cell_type": "markdown",
   "metadata": {
    "slideshow": {
     "slide_type": "subslide"
    }
   },
   "source": [
    "<a id='sensitive'></a>\n",
    "### K-means is sensitive to outliers.\n",
    "\n",
    "![](https://snag.gy/WFNMQY.jpg)"
   ]
  },
  {
   "cell_type": "markdown",
   "metadata": {
    "slideshow": {
     "slide_type": "subslide"
    }
   },
   "source": [
    "<a id='centroid-init'></a>\n",
    "### K-means Is sensitive to centroid initialization.\n",
    "\n",
    "![](https://snag.gy/5sigCD.jpg)"
   ]
  },
  {
   "cell_type": "markdown",
   "metadata": {
    "slideshow": {
     "slide_type": "slide"
    }
   },
   "source": [
    "<a id='how-many-k'></a>\n",
    "### How Many Ks?\n",
    "\n",
    "Sometimes it's obvious; sometimes it's not. What do you think?\n",
    "\n",
    "<table>\n",
    "    <tr>\n",
    "        <td valign=\"bottom\" style=\"vertical-align: bottom; text-align: center;\"><img src=\"http://i.stack.imgur.com/4rU39.png\"><br>1</td>\n",
    "        <td valign=\"bottom\" style=\"vertical-align: bottom; text-align: center;\"><img src=\"http://i.stack.imgur.com/gq28F.png\"><br>2</td>\n",
    "        <td valign=\"bottom\" style=\"vertical-align: bottom; text-align: center;\"><img src=\"https://snag.gy/cWPgno.jpg\"><br>3</td>\n",
    "    </tr>\n",
    "</table>"
   ]
  },
  {
   "cell_type": "markdown",
   "metadata": {
    "slideshow": {
     "slide_type": "slide"
    }
   },
   "source": [
    "<a id='choose-k'></a>\n",
    "## Choosing K\n",
    "\n",
    "---\n",
    "\n",
    "There are different methods of initializing centroids. For instance:\n",
    "\n",
    "- Randomly.\n",
    "- Manually.\n",
    "- Special `k-means++` method in scikit-learn. (_This initializes the centroids to be generally distant from each other._)\n",
    "\n",
    "**Depending on your problem, you may find some of these are better than others.**\n",
    "\n",
    "> **Note:** Manual is recommended if you know your data well enough to see the clusters without much help but is rarely used in practice."
   ]
  },
  {
   "cell_type": "markdown",
   "metadata": {
    "slideshow": {
     "slide_type": "slide"
    }
   },
   "source": [
    "<a id='converge'></a>\n",
    "## A Note on K-Means Convergence\n",
    "\n",
    "---\n",
    "\n",
    "In general, k-means will converge to a solution and return a partition of k clusters, even if no natural clusters exist in the data. It's entirely possible – *common*, in fact – that the clusters don't mean anything at all. \n",
    "\n",
    "**Knowing your domain and data set is essential. Evaluating the clusters visually is a must (if possible).**\n",
    "\n",
    "> _\"Given enough time, K-means will always converge, however this may be to a local minimum. This is highly dependent on the initialization of the centroids. As a result, the computation is often done several times with different initializations of the centroids. One method to help address this issue is the `k-means++` initialization scheme, which has been implemented in scikit-learn (use the `init='kmeans++'` parameter). This initializes the centroids to be (generally) distant from each other, leading to provably better results than random initialization, as shown in the reference.\"_ — [Scikit-Learn Clustering Guide](http://scikit-learn.org/stable/modules/clustering.html#k-means)\n",
    "\n",
    "![](http://www.datamilk.com/kmeans_animation.gif)"
   ]
  },
  {
   "cell_type": "markdown",
   "metadata": {
    "slideshow": {
     "slide_type": "slide"
    }
   },
   "source": [
    "<a id='kmeans-skl'></a>\n",
    "## K-Means in Scikit-Learn\n",
    "\n",
    "---\n",
    "\n",
    "Below, we will implement k-means using scikit-learn."
   ]
  },
  {
   "cell_type": "code",
   "execution_count": 1,
   "metadata": {
    "slideshow": {
     "slide_type": "-"
    }
   },
   "outputs": [
    {
     "data": {
      "text/html": [
       "<div>\n",
       "<table border=\"1\" class=\"dataframe\">\n",
       "  <thead>\n",
       "    <tr style=\"text-align: right;\">\n",
       "      <th></th>\n",
       "      <th>x</th>\n",
       "      <th>y</th>\n",
       "    </tr>\n",
       "  </thead>\n",
       "  <tbody>\n",
       "    <tr>\n",
       "      <th>0</th>\n",
       "      <td>-1.733808</td>\n",
       "      <td>3.798061</td>\n",
       "    </tr>\n",
       "    <tr>\n",
       "      <th>1</th>\n",
       "      <td>0.628358</td>\n",
       "      <td>4.460136</td>\n",
       "    </tr>\n",
       "    <tr>\n",
       "      <th>2</th>\n",
       "      <td>1.131218</td>\n",
       "      <td>4.681950</td>\n",
       "    </tr>\n",
       "    <tr>\n",
       "      <th>3</th>\n",
       "      <td>-1.429179</td>\n",
       "      <td>3.500836</td>\n",
       "    </tr>\n",
       "    <tr>\n",
       "      <th>4</th>\n",
       "      <td>1.274508</td>\n",
       "      <td>5.630173</td>\n",
       "    </tr>\n",
       "  </tbody>\n",
       "</table>\n",
       "</div>"
      ],
      "text/plain": [
       "          x         y\n",
       "0 -1.733808  3.798061\n",
       "1  0.628358  4.460136\n",
       "2  1.131218  4.681950\n",
       "3 -1.429179  3.500836\n",
       "4  1.274508  5.630173"
      ]
     },
     "execution_count": 1,
     "metadata": {},
     "output_type": "execute_result"
    }
   ],
   "source": [
    "%matplotlib inline\n",
    "\n",
    "from sklearn.cluster import KMeans, k_means\n",
    "from sklearn.metrics import silhouette_score\n",
    "from sklearn.datasets.samples_generator import make_blobs\n",
    "import numpy as np\n",
    "import pandas as pd\n",
    "\n",
    "import seaborn as sns\n",
    "import matplotlib.pyplot as plt\n",
    "import matplotlib\n",
    "matplotlib.style.use('ggplot')\n",
    "\n",
    "X, y = make_blobs(\n",
    "    n_samples    =  200, \n",
    "    centers      =  3, \n",
    "    n_features   =  2,\n",
    "    random_state =  0\n",
    ")\n",
    "\n",
    "\n",
    "df = pd.DataFrame(X, columns=['x', 'y'])\n",
    "df.head()\n"
   ]
  },
  {
   "cell_type": "code",
   "execution_count": 2,
   "metadata": {
    "slideshow": {
     "slide_type": "slide"
    }
   },
   "outputs": [
    {
     "data": {
      "text/plain": [
       "<matplotlib.axes._subplots.AxesSubplot at 0x7febcce055f8>"
      ]
     },
     "execution_count": 2,
     "metadata": {},
     "output_type": "execute_result"
    },
    {
     "data": {
      "image/png": "[encoded data removed]",
      "text/plain": [
       "<Figure size 432x432 with 1 Axes>"
      ]
     },
     "metadata": {},
     "output_type": "display_data"
    }
   ],
   "source": [
    "df.plot(kind=\"scatter\", x=\"x\", y=\"y\", figsize=(6, 6))"
   ]
  },
  {
   "cell_type": "code",
   "execution_count": 3,
   "metadata": {
    "slideshow": {
     "slide_type": "slide"
    }
   },
   "outputs": [
    {
     "data": {
      "text/plain": [
       "KMeans(algorithm='auto', copy_x=True, init='k-means++', max_iter=300,\n",
       "    n_clusters=3, n_init=10, n_jobs=1, precompute_distances='auto',\n",
       "    random_state=0, tol=0.0001, verbose=0)"
      ]
     },
     "execution_count": 3,
     "metadata": {},
     "output_type": "execute_result"
    }
   ],
   "source": [
    "## Take note that the latest version of k-means behaves a little differently now.\n",
    "model = KMeans(n_clusters=3, random_state=0).fit(df)\n",
    "model"
   ]
  },
  {
   "cell_type": "markdown",
   "metadata": {
    "slideshow": {
     "slide_type": "-"
    }
   },
   "source": [
    "After we fit our data, we can get our predicted labels from `model.labels_` and the center points`model.cluster_centers_`."
   ]
  },
  {
   "cell_type": "code",
   "execution_count": 4,
   "metadata": {
    "slideshow": {
     "slide_type": "-"
    }
   },
   "outputs": [
    {
     "name": "stdout",
     "output_type": "stream",
     "text": [
      "Predicted clusters to points:  [1 0 0 1 0 1 2 0 0 1 0 1 0 0 0 1 2 2 1 1 1 2 0 0 1 1 2 1 1 1 0 0 1 0 2 2 0\n",
      " 2 2 1 2 1 1 1 0 0 0 1 0 0 0 2 1 1 1 1 2 2 0 0 1 0 0 2 2 1 2 2 1 2 2 0 0 1\n",
      " 0 1 2 2 2 1 1 0 0 2 2 0 0 1 0 2 1 1 2 0 2 0 0 1 1 2 2 0 1 0 1 0 2 0 1 2 0\n",
      " 1 2 0 0 0 0 2 1 1 2 2 1 0 2 1 1 2 1 0 1 2 2 2 0 2 2 0 2 1 1 1 0 2 2 0 1 1\n",
      " 2 0 2 1 1 1 0 2 2 2 0 0 2 1 1 1 0 0 2 1 2 2 1 2 0 2 1 1 2 1 0 2 0 1 2 2 2\n",
      " 2 1 2 0 0 1 1 2 2 2 2 1 2 0 2]\n",
      "Location of centroids: \n",
      "[[ 0.97692125  4.56883102]\n",
      " [-1.71656153  2.91261167]\n",
      " [ 1.98410174  0.81302038]]\n"
     ]
    }
   ],
   "source": [
    "predicted = model.labels_\n",
    "centroids = model.cluster_centers_\n",
    "\n",
    "print(\"Predicted clusters to points: \", predicted)\n",
    "print(\"Location of centroids: \")\n",
    "print(centroids)"
   ]
  },
  {
   "cell_type": "code",
   "execution_count": 5,
   "metadata": {},
   "outputs": [
    {
     "data": {
      "text/plain": [
       "array([[ 0.97692125],\n",
       "       [-1.71656153],\n",
       "       [ 1.98410174]])"
      ]
     },
     "execution_count": 5,
     "metadata": {},
     "output_type": "execute_result"
    }
   ],
   "source": [
    "centroids[:,0:1]"
   ]
  },
  {
   "cell_type": "code",
   "execution_count": 6,
   "metadata": {},
   "outputs": [
    {
     "data": {
      "text/plain": [
       "array([[ 4.56883102],\n",
       "       [ 2.91261167],\n",
       "       [ 0.81302038]])"
      ]
     },
     "execution_count": 6,
     "metadata": {},
     "output_type": "execute_result"
    }
   ],
   "source": [
    "centroids[:,1:2]"
   ]
  },
  {
   "cell_type": "code",
   "execution_count": 7,
   "metadata": {
    "scrolled": true,
    "slideshow": {
     "slide_type": "-"
    }
   },
   "outputs": [
    {
     "data": {
      "text/html": [
       "<div>\n",
       "<table border=\"1\" class=\"dataframe\">\n",
       "  <thead>\n",
       "    <tr style=\"text-align: right;\">\n",
       "      <th></th>\n",
       "      <th>x</th>\n",
       "      <th>y</th>\n",
       "      <th>predicted</th>\n",
       "    </tr>\n",
       "  </thead>\n",
       "  <tbody>\n",
       "    <tr>\n",
       "      <th>0</th>\n",
       "      <td>-1.733808</td>\n",
       "      <td>3.798061</td>\n",
       "      <td>1</td>\n",
       "    </tr>\n",
       "    <tr>\n",
       "      <th>1</th>\n",
       "      <td>0.628358</td>\n",
       "      <td>4.460136</td>\n",
       "      <td>0</td>\n",
       "    </tr>\n",
       "    <tr>\n",
       "      <th>2</th>\n",
       "      <td>1.131218</td>\n",
       "      <td>4.681950</td>\n",
       "      <td>0</td>\n",
       "    </tr>\n",
       "    <tr>\n",
       "      <th>3</th>\n",
       "      <td>-1.429179</td>\n",
       "      <td>3.500836</td>\n",
       "      <td>1</td>\n",
       "    </tr>\n",
       "    <tr>\n",
       "      <th>4</th>\n",
       "      <td>1.274508</td>\n",
       "      <td>5.630173</td>\n",
       "      <td>0</td>\n",
       "    </tr>\n",
       "  </tbody>\n",
       "</table>\n",
       "</div>"
      ],
      "text/plain": [
       "          x         y  predicted\n",
       "0 -1.733808  3.798061          1\n",
       "1  0.628358  4.460136          0\n",
       "2  1.131218  4.681950          0\n",
       "3 -1.429179  3.500836          1\n",
       "4  1.274508  5.630173          0"
      ]
     },
     "execution_count": 7,
     "metadata": {},
     "output_type": "execute_result"
    }
   ],
   "source": [
    "df['predicted'] = predicted\n",
    "df.head()"
   ]
  },
  {
   "cell_type": "markdown",
   "metadata": {
    "slideshow": {
     "slide_type": "slide"
    }
   },
   "source": [
    "<a id='verify'></a>\n",
    "### Visually Verifying Cluster Labels"
   ]
  },
  {
   "cell_type": "code",
   "execution_count": 8,
   "metadata": {
    "slideshow": {
     "slide_type": "-"
    }
   },
   "outputs": [
    {
     "data": {
      "text/plain": [
       "<matplotlib.collections.PathCollection at 0x7feb84616128>"
      ]
     },
     "execution_count": 8,
     "metadata": {},
     "output_type": "execute_result"
    },
    {
     "data": {
      "text/plain": [
       "<Figure size 504x504 with 0 Axes>"
      ]
     },
     "metadata": {},
     "output_type": "display_data"
    },
    {
     "data": {
      "image/png": "[encoded data removed]",
      "text/plain": [
       "<Figure size 432x288 with 2 Axes>"
      ]
     },
     "metadata": {},
     "output_type": "display_data"
    }
   ],
   "source": [
    "from matplotlib import pyplot as plt\n",
    "\n",
    "plt.figure(figsize=(7,7))\n",
    "\n",
    "df.plot(x=\"x\", y=\"y\", kind=\"scatter\", c=df.predicted, cmap = \"gist_rainbow\", alpha=.7)#colormap='gist_rainbow', alpha=.7)\n",
    "#alternative: plt.scatter(df.x, df.y, c=df['predicted'], cmap = \"gist_rainbow\", alpha=.7)\n",
    "plt.scatter(centroids[:,0], centroids[:,1], marker='o', s=150, alpha=.7, cmap='gist_rainbow') #c=range(0,3) doesn't work, simplified from centroids[:,:1], centroids[:,1:]"
   ]
  },
  {
   "cell_type": "markdown",
   "metadata": {
    "slideshow": {
     "slide_type": "slide"
    }
   },
   "source": [
    "<a id='sil'></a>\n",
    "\n",
    "## Metrics: Inertia and the Silhouette Coefficient\n",
    "\n",
    "---\n",
    "\n",
    "**Inertia**: The sum of squared errors for each cluster.\n",
    "\n",
    "- Low inertia = dense cluster.\n",
    "- Ranges from zero to very high values.\n",
    "\n",
    "$$\\sum_{j=0}^{n} (x_j - \\mu_i)^2$$\n",
    "Where $\\mu_i$ is a cluster centroid (k-means explicitly tries to minimize this).\n",
    "\n",
    "`.inertia_` is an attribute of scikit-learn's k-means models.\n",
    "\n",
    "**Silhouette coefficient**: The measure of how far apart clusters are from each other.\n",
    "\n",
    "- High silhouette score = clusters are well separated.\n",
    "- Ranges from negative one to one.\n",
    "\n",
    "The definition is a little involved but, intuitively, the score is based on how much closer data points are to their own clusters than to the nearest neighbor cluster.\n",
    "\n",
    "We can calculate this in scikit-learn with `metrics.silhouette_score(X_scaled, labels, metric='euclidean')`.\n",
    "- https://en.wikipedia.org/wiki/Silhouette_(clustering)"
   ]
  },
  {
   "cell_type": "code",
   "execution_count": 9,
   "metadata": {
    "slideshow": {
     "slide_type": "-"
    }
   },
   "outputs": [
    {
     "data": {
      "text/plain": [
       "0.53884819276645035"
      ]
     },
     "execution_count": 9,
     "metadata": {},
     "output_type": "execute_result"
    }
   ],
   "source": [
    "score = silhouette_score(df, predicted, metric='euclidean')\n",
    "score"
   ]
  },
  {
   "cell_type": "markdown",
   "metadata": {
    "slideshow": {
     "slide_type": "slide"
    }
   },
   "source": [
    "<a id='pluto'></a>\n",
    "## Practice: Scikit-Learn and K-Means With \"Isotopic Composition Plutonium Batches\"\n",
    "\n",
    "---\n",
    "\n",
    "We have a nice [data dictionary](https://vincentarelbundock.github.io/Rdatasets/doc/cluster/pluton.html).\n",
    "\n",
    "    Pu238: The percentage of (238)Pu, always less than two percent.\n",
    "\n",
    "    Pu239: The percentage of (239)Pu, typically between 60 and 80 percent (from neutron capture of Uranium, (238)U).\n",
    "\n",
    "    Pu240: The percentage of the plutonium 240 isotope.\n",
    "\n",
    "    Pu241: The percentage of the plutonium 241 isotope."
   ]
  },
  {
   "cell_type": "code",
   "execution_count": 10,
   "metadata": {
    "slideshow": {
     "slide_type": "slide"
    }
   },
   "outputs": [
    {
     "data": {
      "text/html": [
       "<div>\n",
       "<table border=\"1\" class=\"dataframe\">\n",
       "  <thead>\n",
       "    <tr style=\"text-align: right;\">\n",
       "      <th></th>\n",
       "      <th>Pu238</th>\n",
       "      <th>Pu239</th>\n",
       "      <th>Pu240</th>\n",
       "      <th>Pu241</th>\n",
       "    </tr>\n",
       "  </thead>\n",
       "  <tbody>\n",
       "    <tr>\n",
       "      <th>1</th>\n",
       "      <td>0.126</td>\n",
       "      <td>75.804</td>\n",
       "      <td>21.204</td>\n",
       "      <td>2.180</td>\n",
       "    </tr>\n",
       "    <tr>\n",
       "      <th>2</th>\n",
       "      <td>0.133</td>\n",
       "      <td>75.515</td>\n",
       "      <td>21.408</td>\n",
       "      <td>2.240</td>\n",
       "    </tr>\n",
       "    <tr>\n",
       "      <th>3</th>\n",
       "      <td>0.127</td>\n",
       "      <td>75.175</td>\n",
       "      <td>21.668</td>\n",
       "      <td>2.305</td>\n",
       "    </tr>\n",
       "    <tr>\n",
       "      <th>4</th>\n",
       "      <td>0.156</td>\n",
       "      <td>78.872</td>\n",
       "      <td>18.428</td>\n",
       "      <td>1.906</td>\n",
       "    </tr>\n",
       "    <tr>\n",
       "      <th>5</th>\n",
       "      <td>0.503</td>\n",
       "      <td>73.317</td>\n",
       "      <td>20.223</td>\n",
       "      <td>4.128</td>\n",
       "    </tr>\n",
       "    <tr>\n",
       "      <th>6</th>\n",
       "      <td>0.113</td>\n",
       "      <td>79.116</td>\n",
       "      <td>18.548</td>\n",
       "      <td>1.690</td>\n",
       "    </tr>\n",
       "    <tr>\n",
       "      <th>7</th>\n",
       "      <td>0.129</td>\n",
       "      <td>75.751</td>\n",
       "      <td>21.162</td>\n",
       "      <td>2.260</td>\n",
       "    </tr>\n",
       "    <tr>\n",
       "      <th>8</th>\n",
       "      <td>0.124</td>\n",
       "      <td>75.326</td>\n",
       "      <td>21.557</td>\n",
       "      <td>2.282</td>\n",
       "    </tr>\n",
       "    <tr>\n",
       "      <th>9</th>\n",
       "      <td>1.022</td>\n",
       "      <td>63.287</td>\n",
       "      <td>24.493</td>\n",
       "      <td>6.990</td>\n",
       "    </tr>\n",
       "    <tr>\n",
       "      <th>10</th>\n",
       "      <td>1.412</td>\n",
       "      <td>59.553</td>\n",
       "      <td>25.576</td>\n",
       "      <td>8.027</td>\n",
       "    </tr>\n",
       "    <tr>\n",
       "      <th>11</th>\n",
       "      <td>1.533</td>\n",
       "      <td>58.688</td>\n",
       "      <td>25.719</td>\n",
       "      <td>8.279</td>\n",
       "    </tr>\n",
       "    <tr>\n",
       "      <th>12</th>\n",
       "      <td>1.534</td>\n",
       "      <td>58.758</td>\n",
       "      <td>25.692</td>\n",
       "      <td>8.261</td>\n",
       "    </tr>\n",
       "    <tr>\n",
       "      <th>13</th>\n",
       "      <td>1.437</td>\n",
       "      <td>59.728</td>\n",
       "      <td>25.146</td>\n",
       "      <td>8.377</td>\n",
       "    </tr>\n",
       "    <tr>\n",
       "      <th>14</th>\n",
       "      <td>1.439</td>\n",
       "      <td>59.544</td>\n",
       "      <td>25.126</td>\n",
       "      <td>8.569</td>\n",
       "    </tr>\n",
       "    <tr>\n",
       "      <th>15</th>\n",
       "      <td>1.375</td>\n",
       "      <td>59.877</td>\n",
       "      <td>25.128</td>\n",
       "      <td>8.428</td>\n",
       "    </tr>\n",
       "    <tr>\n",
       "      <th>16</th>\n",
       "      <td>1.153</td>\n",
       "      <td>61.182</td>\n",
       "      <td>25.100</td>\n",
       "      <td>7.802</td>\n",
       "    </tr>\n",
       "    <tr>\n",
       "      <th>17</th>\n",
       "      <td>0.201</td>\n",
       "      <td>78.244</td>\n",
       "      <td>18.488</td>\n",
       "      <td>2.351</td>\n",
       "    </tr>\n",
       "    <tr>\n",
       "      <th>18</th>\n",
       "      <td>0.176</td>\n",
       "      <td>78.166</td>\n",
       "      <td>18.629</td>\n",
       "      <td>2.365</td>\n",
       "    </tr>\n",
       "    <tr>\n",
       "      <th>19</th>\n",
       "      <td>0.239</td>\n",
       "      <td>74.254</td>\n",
       "      <td>21.515</td>\n",
       "      <td>2.901</td>\n",
       "    </tr>\n",
       "    <tr>\n",
       "      <th>20</th>\n",
       "      <td>0.102</td>\n",
       "      <td>79.840</td>\n",
       "      <td>17.872</td>\n",
       "      <td>1.674</td>\n",
       "    </tr>\n",
       "    <tr>\n",
       "      <th>21</th>\n",
       "      <td>1.070</td>\n",
       "      <td>62.455</td>\n",
       "      <td>24.656</td>\n",
       "      <td>7.512</td>\n",
       "    </tr>\n",
       "    <tr>\n",
       "      <th>22</th>\n",
       "      <td>0.851</td>\n",
       "      <td>73.189</td>\n",
       "      <td>18.285</td>\n",
       "      <td>5.597</td>\n",
       "    </tr>\n",
       "    <tr>\n",
       "      <th>23</th>\n",
       "      <td>0.125</td>\n",
       "      <td>75.968</td>\n",
       "      <td>20.794</td>\n",
       "      <td>2.407</td>\n",
       "    </tr>\n",
       "    <tr>\n",
       "      <th>24</th>\n",
       "      <td>0.142</td>\n",
       "      <td>75.957</td>\n",
       "      <td>20.867</td>\n",
       "      <td>2.341</td>\n",
       "    </tr>\n",
       "    <tr>\n",
       "      <th>25</th>\n",
       "      <td>0.352</td>\n",
       "      <td>72.885</td>\n",
       "      <td>21.718</td>\n",
       "      <td>3.618</td>\n",
       "    </tr>\n",
       "    <tr>\n",
       "      <th>26</th>\n",
       "      <td>0.351</td>\n",
       "      <td>72.907</td>\n",
       "      <td>21.721</td>\n",
       "      <td>3.601</td>\n",
       "    </tr>\n",
       "    <tr>\n",
       "      <th>27</th>\n",
       "      <td>0.346</td>\n",
       "      <td>72.919</td>\n",
       "      <td>21.713</td>\n",
       "      <td>3.600</td>\n",
       "    </tr>\n",
       "    <tr>\n",
       "      <th>28</th>\n",
       "      <td>0.217</td>\n",
       "      <td>76.089</td>\n",
       "      <td>20.225</td>\n",
       "      <td>2.556</td>\n",
       "    </tr>\n",
       "    <tr>\n",
       "      <th>29</th>\n",
       "      <td>1.068</td>\n",
       "      <td>70.129</td>\n",
       "      <td>18.573</td>\n",
       "      <td>7.689</td>\n",
       "    </tr>\n",
       "    <tr>\n",
       "      <th>30</th>\n",
       "      <td>1.171</td>\n",
       "      <td>69.273</td>\n",
       "      <td>18.633</td>\n",
       "      <td>8.300</td>\n",
       "    </tr>\n",
       "    <tr>\n",
       "      <th>31</th>\n",
       "      <td>1.213</td>\n",
       "      <td>69.147</td>\n",
       "      <td>18.640</td>\n",
       "      <td>8.363</td>\n",
       "    </tr>\n",
       "    <tr>\n",
       "      <th>32</th>\n",
       "      <td>1.226</td>\n",
       "      <td>68.294</td>\n",
       "      <td>18.869</td>\n",
       "      <td>8.826</td>\n",
       "    </tr>\n",
       "    <tr>\n",
       "      <th>33</th>\n",
       "      <td>1.111</td>\n",
       "      <td>71.076</td>\n",
       "      <td>18.122</td>\n",
       "      <td>7.248</td>\n",
       "    </tr>\n",
       "    <tr>\n",
       "      <th>34</th>\n",
       "      <td>0.183</td>\n",
       "      <td>75.714</td>\n",
       "      <td>20.750</td>\n",
       "      <td>2.488</td>\n",
       "    </tr>\n",
       "    <tr>\n",
       "      <th>35</th>\n",
       "      <td>0.162</td>\n",
       "      <td>76.150</td>\n",
       "      <td>20.345</td>\n",
       "      <td>2.524</td>\n",
       "    </tr>\n",
       "    <tr>\n",
       "      <th>36</th>\n",
       "      <td>0.113</td>\n",
       "      <td>77.845</td>\n",
       "      <td>19.108</td>\n",
       "      <td>2.275</td>\n",
       "    </tr>\n",
       "    <tr>\n",
       "      <th>37</th>\n",
       "      <td>1.309</td>\n",
       "      <td>62.382</td>\n",
       "      <td>22.754</td>\n",
       "      <td>9.311</td>\n",
       "    </tr>\n",
       "    <tr>\n",
       "      <th>38</th>\n",
       "      <td>1.638</td>\n",
       "      <td>60.112</td>\n",
       "      <td>23.320</td>\n",
       "      <td>9.972</td>\n",
       "    </tr>\n",
       "    <tr>\n",
       "      <th>39</th>\n",
       "      <td>1.589</td>\n",
       "      <td>60.519</td>\n",
       "      <td>23.128</td>\n",
       "      <td>9.970</td>\n",
       "    </tr>\n",
       "    <tr>\n",
       "      <th>40</th>\n",
       "      <td>1.411</td>\n",
       "      <td>61.585</td>\n",
       "      <td>23.133</td>\n",
       "      <td>9.339</td>\n",
       "    </tr>\n",
       "    <tr>\n",
       "      <th>41</th>\n",
       "      <td>1.457</td>\n",
       "      <td>61.332</td>\n",
       "      <td>23.239</td>\n",
       "      <td>9.321</td>\n",
       "    </tr>\n",
       "    <tr>\n",
       "      <th>42</th>\n",
       "      <td>0.397</td>\n",
       "      <td>72.291</td>\n",
       "      <td>21.761</td>\n",
       "      <td>3.836</td>\n",
       "    </tr>\n",
       "    <tr>\n",
       "      <th>43</th>\n",
       "      <td>0.328</td>\n",
       "      <td>73.451</td>\n",
       "      <td>21.429</td>\n",
       "      <td>3.419</td>\n",
       "    </tr>\n",
       "    <tr>\n",
       "      <th>44</th>\n",
       "      <td>0.242</td>\n",
       "      <td>74.888</td>\n",
       "      <td>20.939</td>\n",
       "      <td>2.875</td>\n",
       "    </tr>\n",
       "    <tr>\n",
       "      <th>45</th>\n",
       "      <td>1.367</td>\n",
       "      <td>60.507</td>\n",
       "      <td>23.603</td>\n",
       "      <td>9.839</td>\n",
       "    </tr>\n",
       "  </tbody>\n",
       "</table>\n",
       "</div>"
      ],
      "text/plain": [
       "    Pu238   Pu239   Pu240  Pu241\n",
       "1   0.126  75.804  21.204  2.180\n",
       "2   0.133  75.515  21.408  2.240\n",
       "3   0.127  75.175  21.668  2.305\n",
       "4   0.156  78.872  18.428  1.906\n",
       "5   0.503  73.317  20.223  4.128\n",
       "6   0.113  79.116  18.548  1.690\n",
       "7   0.129  75.751  21.162  2.260\n",
       "8   0.124  75.326  21.557  2.282\n",
       "9   1.022  63.287  24.493  6.990\n",
       "10  1.412  59.553  25.576  8.027\n",
       "11  1.533  58.688  25.719  8.279\n",
       "12  1.534  58.758  25.692  8.261\n",
       "13  1.437  59.728  25.146  8.377\n",
       "14  1.439  59.544  25.126  8.569\n",
       "15  1.375  59.877  25.128  8.428\n",
       "16  1.153  61.182  25.100  7.802\n",
       "17  0.201  78.244  18.488  2.351\n",
       "18  0.176  78.166  18.629  2.365\n",
       "19  0.239  74.254  21.515  2.901\n",
       "20  0.102  79.840  17.872  1.674\n",
       "21  1.070  62.455  24.656  7.512\n",
       "22  0.851  73.189  18.285  5.597\n",
       "23  0.125  75.968  20.794  2.407\n",
       "24  0.142  75.957  20.867  2.341\n",
       "25  0.352  72.885  21.718  3.618\n",
       "26  0.351  72.907  21.721  3.601\n",
       "27  0.346  72.919  21.713  3.600\n",
       "28  0.217  76.089  20.225  2.556\n",
       "29  1.068  70.129  18.573  7.689\n",
       "30  1.171  69.273  18.633  8.300\n",
       "31  1.213  69.147  18.640  8.363\n",
       "32  1.226  68.294  18.869  8.826\n",
       "33  1.111  71.076  18.122  7.248\n",
       "34  0.183  75.714  20.750  2.488\n",
       "35  0.162  76.150  20.345  2.524\n",
       "36  0.113  77.845  19.108  2.275\n",
       "37  1.309  62.382  22.754  9.311\n",
       "38  1.638  60.112  23.320  9.972\n",
       "39  1.589  60.519  23.128  9.970\n",
       "40  1.411  61.585  23.133  9.339\n",
       "41  1.457  61.332  23.239  9.321\n",
       "42  0.397  72.291  21.761  3.836\n",
       "43  0.328  73.451  21.429  3.419\n",
       "44  0.242  74.888  20.939  2.875\n",
       "45  1.367  60.507  23.603  9.839"
      ]
     },
     "execution_count": 10,
     "metadata": {},
     "output_type": "execute_result"
    }
   ],
   "source": [
    "csv_file = \"https://vincentarelbundock.github.io/Rdatasets/csv/cluster/pluton.csv\"\n",
    "# There is also a copy of the CSV file in the \"assets/datasets\" file.\n",
    "\n",
    "\n",
    "# A:\n",
    "pu_df = pd.read_csv(csv_file, index_col = 0)\n",
    "pu_df"
   ]
  },
  {
   "cell_type": "markdown",
   "metadata": {
    "slideshow": {
     "slide_type": "slide"
    }
   },
   "source": [
    "###  Use Pu239 and Pu240 as Our Features\n",
    "1) Select only columns \"Pu239\" and \"Pu240\" to use for our example.\n",
    "2) Plot to see how it looks.\n",
    "3) Initialize an instance of `KMeans` from `sklearn`.\n",
    "4) Fit our sliced DataFrame with `fit`."
   ]
  },
  {
   "cell_type": "code",
   "execution_count": 11,
   "metadata": {
    "slideshow": {
     "slide_type": "fragment"
    }
   },
   "outputs": [
    {
     "data": {
      "text/plain": [
       "KMeans(algorithm='auto', copy_x=True, init='k-means++', max_iter=300,\n",
       "    n_clusters=3, n_init=10, n_jobs=1, precompute_distances='auto',\n",
       "    random_state=0, tol=0.0001, verbose=0)"
      ]
     },
     "execution_count": 11,
     "metadata": {},
     "output_type": "execute_result"
    },
    {
     "data": {
      "image/png": "[encoded data removed]",
      "text/plain": [
       "<Figure size 432x288 with 1 Axes>"
      ]
     },
     "metadata": {},
     "output_type": "display_data"
    }
   ],
   "source": [
    "# A:\n",
    "#1)\n",
    "pu_df_work = pu_df.drop(\"Pu238\", axis=1)\n",
    "pu_df_work = pu_df_work.drop(\"Pu241\", axis=1)\n",
    "pu_df_work.head()\n",
    "\n",
    "#2)\n",
    "plt.scatter(pu_df_work[\"Pu239\"], pu_df_work[\"Pu240\"])\n",
    "\n",
    "#3) \n",
    "pu_model = KMeans(n_clusters=3, random_state=0)\n",
    "\n",
    "#4)\n",
    "Kmeans_pu_model =pu_model.fit(pu_df_work)\n",
    "Kmeans_pu_model"
   ]
  },
  {
   "cell_type": "code",
   "execution_count": 12,
   "metadata": {
    "slideshow": {
     "slide_type": "slide"
    }
   },
   "outputs": [
    {
     "data": {
      "text/plain": [
       "<matplotlib.collections.PathCollection at 0x7feb84076a20>"
      ]
     },
     "execution_count": 12,
     "metadata": {},
     "output_type": "execute_result"
    },
    {
     "data": {
      "image/png": "[encoded data removed]",
      "text/plain": [
       "<Figure size 432x288 with 1 Axes>"
      ]
     },
     "metadata": {},
     "output_type": "display_data"
    }
   ],
   "source": [
    "# 1. Run k-means against our two features with three clusters.\n",
    "pu_model = KMeans(n_clusters=3, random_state=0)\n",
    "Kmeans_pu_model = pu_model.fit(pu_df_work)\n",
    "Kmeans_pu_model.labels_\n",
    "# 2. Assign clusters back to our DataFrame.\n",
    "pu_df_work[\"label\"] = Kmeans_pu_model.labels_\n",
    "\n",
    "# 3. Get our centroids.\n",
    "pu_centroids = Kmeans_pu_model.cluster_centers_\n",
    "pu_predicted = Kmeans_pu_model.labels_\n",
    "# 4. Plot the scatter of our points with calculated centroids.\n",
    "\n",
    "plt.scatter(pu_df_work.Pu239, pu_df_work.Pu240, c=pu_df_work.label, cmap = \"gist_rainbow\", alpha=.7)\n",
    "plt.scatter(pu_centroids[:,0], pu_centroids[:,1], marker='o', s=150, alpha=.7, cmap='gist_rainbow')"
   ]
  },
  {
   "cell_type": "markdown",
   "metadata": {
    "slideshow": {
     "slide_type": "slide"
    }
   },
   "source": [
    "<a id='scaling'></a>\n",
    "### Try Standardizing the Data First and See How It Affects the Cluster Assignment"
   ]
  },
  {
   "cell_type": "code",
   "execution_count": 13,
   "metadata": {},
   "outputs": [
    {
     "data": {
      "text/html": [
       "<div>\n",
       "<table border=\"1\" class=\"dataframe\">\n",
       "  <thead>\n",
       "    <tr style=\"text-align: right;\">\n",
       "      <th></th>\n",
       "      <th>Pu239</th>\n",
       "      <th>Pu240</th>\n",
       "      <th>label</th>\n",
       "    </tr>\n",
       "  </thead>\n",
       "  <tbody>\n",
       "    <tr>\n",
       "      <th>0</th>\n",
       "      <td>0.832106</td>\n",
       "      <td>-0.138176</td>\n",
       "      <td>0.086387</td>\n",
       "    </tr>\n",
       "    <tr>\n",
       "      <th>1</th>\n",
       "      <td>0.791133</td>\n",
       "      <td>-0.052625</td>\n",
       "      <td>0.086387</td>\n",
       "    </tr>\n",
       "    <tr>\n",
       "      <th>2</th>\n",
       "      <td>0.742931</td>\n",
       "      <td>0.056409</td>\n",
       "      <td>0.086387</td>\n",
       "    </tr>\n",
       "    <tr>\n",
       "      <th>3</th>\n",
       "      <td>1.267063</td>\n",
       "      <td>-1.302330</td>\n",
       "      <td>0.086387</td>\n",
       "    </tr>\n",
       "    <tr>\n",
       "      <th>4</th>\n",
       "      <td>0.479518</td>\n",
       "      <td>-0.549572</td>\n",
       "      <td>1.382189</td>\n",
       "    </tr>\n",
       "    <tr>\n",
       "      <th>5</th>\n",
       "      <td>1.301655</td>\n",
       "      <td>-1.252006</td>\n",
       "      <td>0.086387</td>\n",
       "    </tr>\n",
       "    <tr>\n",
       "      <th>6</th>\n",
       "      <td>0.824592</td>\n",
       "      <td>-0.155789</td>\n",
       "      <td>0.086387</td>\n",
       "    </tr>\n",
       "    <tr>\n",
       "      <th>7</th>\n",
       "      <td>0.764338</td>\n",
       "      <td>0.009860</td>\n",
       "      <td>0.086387</td>\n",
       "    </tr>\n",
       "    <tr>\n",
       "      <th>8</th>\n",
       "      <td>-0.942458</td>\n",
       "      <td>1.241112</td>\n",
       "      <td>-1.209416</td>\n",
       "    </tr>\n",
       "    <tr>\n",
       "      <th>9</th>\n",
       "      <td>-1.471836</td>\n",
       "      <td>1.695283</td>\n",
       "      <td>-1.209416</td>\n",
       "    </tr>\n",
       "    <tr>\n",
       "      <th>10</th>\n",
       "      <td>-1.594469</td>\n",
       "      <td>1.755252</td>\n",
       "      <td>-1.209416</td>\n",
       "    </tr>\n",
       "    <tr>\n",
       "      <th>11</th>\n",
       "      <td>-1.584544</td>\n",
       "      <td>1.743929</td>\n",
       "      <td>-1.209416</td>\n",
       "    </tr>\n",
       "    <tr>\n",
       "      <th>12</th>\n",
       "      <td>-1.447025</td>\n",
       "      <td>1.514956</td>\n",
       "      <td>-1.209416</td>\n",
       "    </tr>\n",
       "    <tr>\n",
       "      <th>13</th>\n",
       "      <td>-1.473111</td>\n",
       "      <td>1.506569</td>\n",
       "      <td>-1.209416</td>\n",
       "    </tr>\n",
       "    <tr>\n",
       "      <th>14</th>\n",
       "      <td>-1.425901</td>\n",
       "      <td>1.507408</td>\n",
       "      <td>-1.209416</td>\n",
       "    </tr>\n",
       "    <tr>\n",
       "      <th>15</th>\n",
       "      <td>-1.240889</td>\n",
       "      <td>1.495666</td>\n",
       "      <td>-1.209416</td>\n",
       "    </tr>\n",
       "    <tr>\n",
       "      <th>16</th>\n",
       "      <td>1.178030</td>\n",
       "      <td>-1.277168</td>\n",
       "      <td>0.086387</td>\n",
       "    </tr>\n",
       "    <tr>\n",
       "      <th>17</th>\n",
       "      <td>1.166972</td>\n",
       "      <td>-1.218037</td>\n",
       "      <td>0.086387</td>\n",
       "    </tr>\n",
       "    <tr>\n",
       "      <th>18</th>\n",
       "      <td>0.612359</td>\n",
       "      <td>-0.007754</td>\n",
       "      <td>0.086387</td>\n",
       "    </tr>\n",
       "    <tr>\n",
       "      <th>19</th>\n",
       "      <td>1.404298</td>\n",
       "      <td>-1.535496</td>\n",
       "      <td>0.086387</td>\n",
       "    </tr>\n",
       "    <tr>\n",
       "      <th>20</th>\n",
       "      <td>-1.060412</td>\n",
       "      <td>1.309468</td>\n",
       "      <td>-1.209416</td>\n",
       "    </tr>\n",
       "    <tr>\n",
       "      <th>21</th>\n",
       "      <td>0.461371</td>\n",
       "      <td>-1.362299</td>\n",
       "      <td>1.382189</td>\n",
       "    </tr>\n",
       "    <tr>\n",
       "      <th>22</th>\n",
       "      <td>0.855356</td>\n",
       "      <td>-0.310115</td>\n",
       "      <td>0.086387</td>\n",
       "    </tr>\n",
       "    <tr>\n",
       "      <th>23</th>\n",
       "      <td>0.853797</td>\n",
       "      <td>-0.279501</td>\n",
       "      <td>0.086387</td>\n",
       "    </tr>\n",
       "    <tr>\n",
       "      <th>24</th>\n",
       "      <td>0.418272</td>\n",
       "      <td>0.077377</td>\n",
       "      <td>1.382189</td>\n",
       "    </tr>\n",
       "    <tr>\n",
       "      <th>25</th>\n",
       "      <td>0.421391</td>\n",
       "      <td>0.078635</td>\n",
       "      <td>1.382189</td>\n",
       "    </tr>\n",
       "    <tr>\n",
       "      <th>26</th>\n",
       "      <td>0.423093</td>\n",
       "      <td>0.075280</td>\n",
       "      <td>1.382189</td>\n",
       "    </tr>\n",
       "    <tr>\n",
       "      <th>27</th>\n",
       "      <td>0.872511</td>\n",
       "      <td>-0.548733</td>\n",
       "      <td>0.086387</td>\n",
       "    </tr>\n",
       "    <tr>\n",
       "      <th>28</th>\n",
       "      <td>0.027548</td>\n",
       "      <td>-1.241522</td>\n",
       "      <td>1.382189</td>\n",
       "    </tr>\n",
       "    <tr>\n",
       "      <th>29</th>\n",
       "      <td>-0.093809</td>\n",
       "      <td>-1.216360</td>\n",
       "      <td>1.382189</td>\n",
       "    </tr>\n",
       "    <tr>\n",
       "      <th>30</th>\n",
       "      <td>-0.111672</td>\n",
       "      <td>-1.213424</td>\n",
       "      <td>1.382189</td>\n",
       "    </tr>\n",
       "    <tr>\n",
       "      <th>31</th>\n",
       "      <td>-0.232604</td>\n",
       "      <td>-1.117390</td>\n",
       "      <td>1.382189</td>\n",
       "    </tr>\n",
       "    <tr>\n",
       "      <th>32</th>\n",
       "      <td>0.161806</td>\n",
       "      <td>-1.430655</td>\n",
       "      <td>1.382189</td>\n",
       "    </tr>\n",
       "    <tr>\n",
       "      <th>33</th>\n",
       "      <td>0.819346</td>\n",
       "      <td>-0.328567</td>\n",
       "      <td>0.086387</td>\n",
       "    </tr>\n",
       "    <tr>\n",
       "      <th>34</th>\n",
       "      <td>0.881159</td>\n",
       "      <td>-0.498409</td>\n",
       "      <td>0.086387</td>\n",
       "    </tr>\n",
       "    <tr>\n",
       "      <th>35</th>\n",
       "      <td>1.121463</td>\n",
       "      <td>-1.017162</td>\n",
       "      <td>0.086387</td>\n",
       "    </tr>\n",
       "    <tr>\n",
       "      <th>36</th>\n",
       "      <td>-1.070762</td>\n",
       "      <td>0.511838</td>\n",
       "      <td>-1.209416</td>\n",
       "    </tr>\n",
       "    <tr>\n",
       "      <th>37</th>\n",
       "      <td>-1.392585</td>\n",
       "      <td>0.749198</td>\n",
       "      <td>-1.209416</td>\n",
       "    </tr>\n",
       "    <tr>\n",
       "      <th>38</th>\n",
       "      <td>-1.334884</td>\n",
       "      <td>0.668680</td>\n",
       "      <td>-1.209416</td>\n",
       "    </tr>\n",
       "    <tr>\n",
       "      <th>39</th>\n",
       "      <td>-1.183754</td>\n",
       "      <td>0.670777</td>\n",
       "      <td>-1.209416</td>\n",
       "    </tr>\n",
       "    <tr>\n",
       "      <th>40</th>\n",
       "      <td>-1.219623</td>\n",
       "      <td>0.715230</td>\n",
       "      <td>-1.209416</td>\n",
       "    </tr>\n",
       "    <tr>\n",
       "      <th>41</th>\n",
       "      <td>0.334060</td>\n",
       "      <td>0.095410</td>\n",
       "      <td>1.382189</td>\n",
       "    </tr>\n",
       "    <tr>\n",
       "      <th>42</th>\n",
       "      <td>0.498515</td>\n",
       "      <td>-0.043819</td>\n",
       "      <td>1.382189</td>\n",
       "    </tr>\n",
       "    <tr>\n",
       "      <th>43</th>\n",
       "      <td>0.702242</td>\n",
       "      <td>-0.249307</td>\n",
       "      <td>0.086387</td>\n",
       "    </tr>\n",
       "    <tr>\n",
       "      <th>44</th>\n",
       "      <td>-1.336585</td>\n",
       "      <td>0.867878</td>\n",
       "      <td>-1.209416</td>\n",
       "    </tr>\n",
       "  </tbody>\n",
       "</table>\n",
       "</div>"
      ],
      "text/plain": [
       "       Pu239     Pu240     label\n",
       "0   0.832106 -0.138176  0.086387\n",
       "1   0.791133 -0.052625  0.086387\n",
       "2   0.742931  0.056409  0.086387\n",
       "3   1.267063 -1.302330  0.086387\n",
       "4   0.479518 -0.549572  1.382189\n",
       "5   1.301655 -1.252006  0.086387\n",
       "6   0.824592 -0.155789  0.086387\n",
       "7   0.764338  0.009860  0.086387\n",
       "8  -0.942458  1.241112 -1.209416\n",
       "9  -1.471836  1.695283 -1.209416\n",
       "10 -1.594469  1.755252 -1.209416\n",
       "11 -1.584544  1.743929 -1.209416\n",
       "12 -1.447025  1.514956 -1.209416\n",
       "13 -1.473111  1.506569 -1.209416\n",
       "14 -1.425901  1.507408 -1.209416\n",
       "15 -1.240889  1.495666 -1.209416\n",
       "16  1.178030 -1.277168  0.086387\n",
       "17  1.166972 -1.218037  0.086387\n",
       "18  0.612359 -0.007754  0.086387\n",
       "19  1.404298 -1.535496  0.086387\n",
       "20 -1.060412  1.309468 -1.209416\n",
       "21  0.461371 -1.362299  1.382189\n",
       "22  0.855356 -0.310115  0.086387\n",
       "23  0.853797 -0.279501  0.086387\n",
       "24  0.418272  0.077377  1.382189\n",
       "25  0.421391  0.078635  1.382189\n",
       "26  0.423093  0.075280  1.382189\n",
       "27  0.872511 -0.548733  0.086387\n",
       "28  0.027548 -1.241522  1.382189\n",
       "29 -0.093809 -1.216360  1.382189\n",
       "30 -0.111672 -1.213424  1.382189\n",
       "31 -0.232604 -1.117390  1.382189\n",
       "32  0.161806 -1.430655  1.382189\n",
       "33  0.819346 -0.328567  0.086387\n",
       "34  0.881159 -0.498409  0.086387\n",
       "35  1.121463 -1.017162  0.086387\n",
       "36 -1.070762  0.511838 -1.209416\n",
       "37 -1.392585  0.749198 -1.209416\n",
       "38 -1.334884  0.668680 -1.209416\n",
       "39 -1.183754  0.670777 -1.209416\n",
       "40 -1.219623  0.715230 -1.209416\n",
       "41  0.334060  0.095410  1.382189\n",
       "42  0.498515 -0.043819  1.382189\n",
       "43  0.702242 -0.249307  0.086387\n",
       "44 -1.336585  0.867878 -1.209416"
      ]
     },
     "execution_count": 13,
     "metadata": {},
     "output_type": "execute_result"
    }
   ],
   "source": [
    "# Repeat the same as above on scaled data.\n",
    "from sklearn.preprocessing import StandardScaler\n",
    "scaler = StandardScaler()\n",
    "pu_df_work_scaled = scaler.fit_transform(pu_df_work)\n",
    "pu_df_work_scaled = pd.DataFrame(pu_df_work_scaled, columns = (\"Pu239\", \"Pu240\", \"label\"))\n",
    "pu_df_work_scaled"
   ]
  },
  {
   "cell_type": "code",
   "execution_count": 14,
   "metadata": {},
   "outputs": [
    {
     "data": {
      "text/plain": [
       "<matplotlib.collections.PathCollection at 0x7feb83fdcc88>"
      ]
     },
     "execution_count": 14,
     "metadata": {},
     "output_type": "execute_result"
    },
    {
     "data": {
      "image/png": "[encoded data removed]",
      "text/plain": [
       "<Figure size 432x288 with 1 Axes>"
      ]
     },
     "metadata": {},
     "output_type": "display_data"
    }
   ],
   "source": [
    "# 1. Run k-means against our two features with three clusters.\n",
    "pu_scaled_model = KMeans(n_clusters=3, random_state=0)\n",
    "Kmeans_pu_scaled_model = pu_scaled_model.fit(pu_df_work_scaled)\n",
    "Kmeans_pu_scaled_model.labels_\n",
    "# 2. Assign clusters back to our DataFrame.\n",
    "pu_df_work_scaled[\"label\"] = Kmeans_pu_scaled_model.labels_\n",
    "\n",
    "# 3. Get our centroids.\n",
    "pu_scaled_centroids = Kmeans_pu_scaled_model.cluster_centers_\n",
    "pu_scaled_predicted = Kmeans_pu_scaled_model.labels_\n",
    "# 4. Plot the scatter of our points with calculated centroids.\n",
    "\n",
    "plt.scatter(pu_df_work_scaled.Pu239, pu_df_work_scaled.Pu240, c=pu_df_work_scaled.label, cmap = \"gist_rainbow\", alpha=.7)\n",
    "plt.scatter(pu_scaled_centroids[:,0], pu_scaled_centroids[:,1], marker='o', s=150, alpha=.7, cmap='gist_rainbow')"
   ]
  },
  {
   "cell_type": "markdown",
   "metadata": {
    "slideshow": {
     "slide_type": "slide"
    }
   },
   "source": [
    "<a id='conclusion'></a>\n",
    "## Conclusion: K-Means Trade-Offs\n",
    "\n",
    "---\n",
    "\n",
    "**K-means:**\n",
    "\n",
    "- Unsupervised clustering model.\n",
    "- Similar to KNN (but for clustering).\n",
    "- Iteratively finds labels given k.\n",
    "- Easy to implement in scikit-learn.\n",
    "- Sensitive to shape and scale of data.\n",
    "- Optimal k is hard to evaluate.\n",
    "\n",
    "---\n",
    "\n",
    "| Strengths | Weaknesses |\n",
    "| -- | -- |\n",
    "| K-means is popular because it's simple and computationally efficient. | However, K-means is highly scale dependent and isn't suitable for data of varying shapes and densities. |\n",
    "| Easy to see results/intuitive. | Evaluating results is more subjective, requiring much more human evaluation than other trusted metrics. |"
   ]
  },
  {
   "cell_type": "markdown",
   "metadata": {},
   "source": [
    "<a id='resources'></a>\n",
    "\n",
    "## Additional Resources\n",
    "\n",
    "---\n",
    "\n",
    "- Andrew Moore's computer science class at Carnegie Mellon contains good, static visualization with step-by-step details. His slide deck can be found online [here](http://www.cs.cmu.edu/~cga/ai-course/kmeans.pdf). He also links to more of his tutorials on the first page. \n",
    "- [Scikit-Learn Clustering Overview](http://scikit-learn.org/stable/modules/clustering.html#k-means)\n",
    "- [Scikit-Learn K-Means Documentation](http://scikit-learn.org/stable/modules/generated/sklearn.cluster.KMeans.html#sklearn.cluster.KMeans)\n",
    "- [Scikit-Learn Clustering Code — See `k_init` for Explanation of `k-means++` Centroid Selection](https://github.com/scikit-learn/scikit-learn/blob/51a765a/sklearn/cluster/k_means_.py#L769)\n",
    "- [Clustering Tutorial](http://home.deib.polimi.it/matteucc/Clustering/tutorial_html/)\n",
    "- [Wikipedia's Deep Dive on Clustering](https://en.wikipedia.org/wiki/K-means_clustering)\n",
    "\n",
    "\n",
    "**Some helpful Stack Exchange questions:**\n",
    "\n",
    "- http://stats.stackexchange.com/questions/40613/why-dont-dummy-variables-have-the-continuous-adjacent-category-problem-in-clust\n",
    "- http://stats.stackexchange.com/questions/174556/k-means-clustering-with-dummy-variables\n",
    "- http://datascience.stackexchange.com/questions/22/k-means-clustering-for-mixed-numeric-and-categorical-data\n",
    "\n"
   ]
  },
  {
   "cell_type": "code",
   "execution_count": null,
   "metadata": {},
   "outputs": [],
   "source": []
  }
 ],
 "metadata": {
  "anaconda-cloud": {},
  "kernelspec": {
   "display_name": "Python 3",
   "language": "python",
   "name": "python3"
  },
  "language_info": {
   "codemirror_mode": {
    "name": "ipython",
    "version": 3
   },
   "file_extension": ".py",
   "mimetype": "text/x-python",
   "name": "python",
   "nbconvert_exporter": "python",
   "pygments_lexer": "ipython3",
   "version": "3.6.4"
  }
 },
 "nbformat": 4,
 "nbformat_minor": 1
}
