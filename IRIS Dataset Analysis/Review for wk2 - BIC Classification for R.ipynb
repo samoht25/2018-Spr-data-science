{
 "cells": [
  {
   "cell_type": "markdown",
   "metadata": {},
   "source": [
    "# Model Selection on Classification Model on R"
   ]
  },
  {
   "cell_type": "code",
   "execution_count": 1,
   "metadata": {},
   "outputs": [
    {
     "data": {
      "text/html": [
       "<table>\n",
       "<thead><tr><th></th><th scope=col>sepal_length</th><th scope=col>sepal_width</th><th scope=col>petal_length</th><th scope=col>petal_width</th><th scope=col>label</th></tr></thead>\n",
       "<tbody>\n",
       "\t<tr><th scope=row>50</th><td>7.0</td><td>3.2</td><td>4.7</td><td>1.4</td><td>1  </td></tr>\n",
       "\t<tr><th scope=row>51</th><td>6.4</td><td>3.2</td><td>4.5</td><td>1.5</td><td>1  </td></tr>\n",
       "\t<tr><th scope=row>52</th><td>6.9</td><td>3.1</td><td>4.9</td><td>1.5</td><td>1  </td></tr>\n",
       "\t<tr><th scope=row>53</th><td>5.5</td><td>2.3</td><td>4.0</td><td>1.3</td><td>1  </td></tr>\n",
       "\t<tr><th scope=row>54</th><td>6.5</td><td>2.8</td><td>4.6</td><td>1.5</td><td>1  </td></tr>\n",
       "\t<tr><th scope=row>55</th><td>5.7</td><td>2.8</td><td>4.5</td><td>1.3</td><td>1  </td></tr>\n",
       "\t<tr><th scope=row>56</th><td>6.3</td><td>3.3</td><td>4.7</td><td>1.6</td><td>1  </td></tr>\n",
       "\t<tr><th scope=row>57</th><td>4.9</td><td>2.4</td><td>3.3</td><td>1.0</td><td>1  </td></tr>\n",
       "\t<tr><th scope=row>58</th><td>6.6</td><td>2.9</td><td>4.6</td><td>1.3</td><td>1  </td></tr>\n",
       "\t<tr><th scope=row>59</th><td>5.2</td><td>2.7</td><td>3.9</td><td>1.4</td><td>1  </td></tr>\n",
       "\t<tr><th scope=row>60</th><td>5.0</td><td>2.0</td><td>3.5</td><td>1.0</td><td>1  </td></tr>\n",
       "\t<tr><th scope=row>61</th><td>5.9</td><td>3.0</td><td>4.2</td><td>1.5</td><td>1  </td></tr>\n",
       "\t<tr><th scope=row>62</th><td>6.0</td><td>2.2</td><td>4.0</td><td>1.0</td><td>1  </td></tr>\n",
       "\t<tr><th scope=row>63</th><td>6.1</td><td>2.9</td><td>4.7</td><td>1.4</td><td>1  </td></tr>\n",
       "\t<tr><th scope=row>64</th><td>5.6</td><td>2.9</td><td>3.6</td><td>1.3</td><td>1  </td></tr>\n",
       "\t<tr><th scope=row>65</th><td>6.7</td><td>3.1</td><td>4.4</td><td>1.4</td><td>1  </td></tr>\n",
       "\t<tr><th scope=row>66</th><td>5.6</td><td>3.0</td><td>4.5</td><td>1.5</td><td>1  </td></tr>\n",
       "\t<tr><th scope=row>67</th><td>5.8</td><td>2.7</td><td>4.1</td><td>1.0</td><td>1  </td></tr>\n",
       "\t<tr><th scope=row>68</th><td>6.2</td><td>2.2</td><td>4.5</td><td>1.5</td><td>1  </td></tr>\n",
       "\t<tr><th scope=row>69</th><td>5.6</td><td>2.5</td><td>3.9</td><td>1.1</td><td>1  </td></tr>\n",
       "\t<tr><th scope=row>70</th><td>5.9</td><td>3.2</td><td>4.8</td><td>1.8</td><td>1  </td></tr>\n",
       "\t<tr><th scope=row>71</th><td>6.1</td><td>2.8</td><td>4.0</td><td>1.3</td><td>1  </td></tr>\n",
       "\t<tr><th scope=row>72</th><td>6.3</td><td>2.5</td><td>4.9</td><td>1.5</td><td>1  </td></tr>\n",
       "\t<tr><th scope=row>73</th><td>6.1</td><td>2.8</td><td>4.7</td><td>1.2</td><td>1  </td></tr>\n",
       "\t<tr><th scope=row>74</th><td>6.4</td><td>2.9</td><td>4.3</td><td>1.3</td><td>1  </td></tr>\n",
       "\t<tr><th scope=row>75</th><td>6.6</td><td>3.0</td><td>4.4</td><td>1.4</td><td>1  </td></tr>\n",
       "\t<tr><th scope=row>76</th><td>6.8</td><td>2.8</td><td>4.8</td><td>1.4</td><td>1  </td></tr>\n",
       "\t<tr><th scope=row>77</th><td>6.7</td><td>3.0</td><td>5.0</td><td>1.7</td><td>1  </td></tr>\n",
       "\t<tr><th scope=row>78</th><td>6.0</td><td>2.9</td><td>4.5</td><td>1.5</td><td>1  </td></tr>\n",
       "\t<tr><th scope=row>79</th><td>5.7</td><td>2.6</td><td>3.5</td><td>1.0</td><td>1  </td></tr>\n",
       "\t<tr><th scope=row>80</th><td>5.5</td><td>2.4</td><td>3.8</td><td>1.1</td><td>1  </td></tr>\n",
       "\t<tr><th scope=row>81</th><td>5.5</td><td>2.4</td><td>3.7</td><td>1.0</td><td>1  </td></tr>\n",
       "\t<tr><th scope=row>82</th><td>5.8</td><td>2.7</td><td>3.9</td><td>1.2</td><td>1  </td></tr>\n",
       "\t<tr><th scope=row>83</th><td>6.0</td><td>2.7</td><td>5.1</td><td>1.6</td><td>1  </td></tr>\n",
       "\t<tr><th scope=row>84</th><td>5.4</td><td>3.0</td><td>4.5</td><td>1.5</td><td>1  </td></tr>\n",
       "\t<tr><th scope=row>85</th><td>6.0</td><td>3.4</td><td>4.5</td><td>1.6</td><td>1  </td></tr>\n",
       "\t<tr><th scope=row>86</th><td>6.7</td><td>3.1</td><td>4.7</td><td>1.5</td><td>1  </td></tr>\n",
       "\t<tr><th scope=row>87</th><td>6.3</td><td>2.3</td><td>4.4</td><td>1.3</td><td>1  </td></tr>\n",
       "\t<tr><th scope=row>88</th><td>5.6</td><td>3.0</td><td>4.1</td><td>1.3</td><td>1  </td></tr>\n",
       "\t<tr><th scope=row>89</th><td>5.5</td><td>2.5</td><td>4.0</td><td>1.3</td><td>1  </td></tr>\n",
       "\t<tr><th scope=row>90</th><td>5.5</td><td>2.6</td><td>4.4</td><td>1.2</td><td>1  </td></tr>\n",
       "\t<tr><th scope=row>91</th><td>6.1</td><td>3.0</td><td>4.6</td><td>1.4</td><td>1  </td></tr>\n",
       "\t<tr><th scope=row>92</th><td>5.8</td><td>2.6</td><td>4.0</td><td>1.2</td><td>1  </td></tr>\n",
       "\t<tr><th scope=row>93</th><td>5.0</td><td>2.3</td><td>3.3</td><td>1.0</td><td>1  </td></tr>\n",
       "\t<tr><th scope=row>94</th><td>5.6</td><td>2.7</td><td>4.2</td><td>1.3</td><td>1  </td></tr>\n",
       "\t<tr><th scope=row>95</th><td>5.7</td><td>3.0</td><td>4.2</td><td>1.2</td><td>1  </td></tr>\n",
       "\t<tr><th scope=row>96</th><td>5.7</td><td>2.9</td><td>4.2</td><td>1.3</td><td>1  </td></tr>\n",
       "\t<tr><th scope=row>97</th><td>6.2</td><td>2.9</td><td>4.3</td><td>1.3</td><td>1  </td></tr>\n",
       "\t<tr><th scope=row>98</th><td>5.1</td><td>2.5</td><td>3.0</td><td>1.1</td><td>1  </td></tr>\n",
       "\t<tr><th scope=row>99</th><td>5.7</td><td>2.8</td><td>4.1</td><td>1.3</td><td>1  </td></tr>\n",
       "</tbody>\n",
       "</table>\n"
      ],
      "text/latex": [
       "\\begin{tabular}{r|lllll}\n",
       "  & sepal\\_length & sepal\\_width & petal\\_length & petal\\_width & label\\\\\n",
       "\\hline\n",
       "\t50 & 7.0 & 3.2 & 4.7 & 1.4 & 1  \\\\\n",
       "\t51 & 6.4 & 3.2 & 4.5 & 1.5 & 1  \\\\\n",
       "\t52 & 6.9 & 3.1 & 4.9 & 1.5 & 1  \\\\\n",
       "\t53 & 5.5 & 2.3 & 4.0 & 1.3 & 1  \\\\\n",
       "\t54 & 6.5 & 2.8 & 4.6 & 1.5 & 1  \\\\\n",
       "\t55 & 5.7 & 2.8 & 4.5 & 1.3 & 1  \\\\\n",
       "\t56 & 6.3 & 3.3 & 4.7 & 1.6 & 1  \\\\\n",
       "\t57 & 4.9 & 2.4 & 3.3 & 1.0 & 1  \\\\\n",
       "\t58 & 6.6 & 2.9 & 4.6 & 1.3 & 1  \\\\\n",
       "\t59 & 5.2 & 2.7 & 3.9 & 1.4 & 1  \\\\\n",
       "\t60 & 5.0 & 2.0 & 3.5 & 1.0 & 1  \\\\\n",
       "\t61 & 5.9 & 3.0 & 4.2 & 1.5 & 1  \\\\\n",
       "\t62 & 6.0 & 2.2 & 4.0 & 1.0 & 1  \\\\\n",
       "\t63 & 6.1 & 2.9 & 4.7 & 1.4 & 1  \\\\\n",
       "\t64 & 5.6 & 2.9 & 3.6 & 1.3 & 1  \\\\\n",
       "\t65 & 6.7 & 3.1 & 4.4 & 1.4 & 1  \\\\\n",
       "\t66 & 5.6 & 3.0 & 4.5 & 1.5 & 1  \\\\\n",
       "\t67 & 5.8 & 2.7 & 4.1 & 1.0 & 1  \\\\\n",
       "\t68 & 6.2 & 2.2 & 4.5 & 1.5 & 1  \\\\\n",
       "\t69 & 5.6 & 2.5 & 3.9 & 1.1 & 1  \\\\\n",
       "\t70 & 5.9 & 3.2 & 4.8 & 1.8 & 1  \\\\\n",
       "\t71 & 6.1 & 2.8 & 4.0 & 1.3 & 1  \\\\\n",
       "\t72 & 6.3 & 2.5 & 4.9 & 1.5 & 1  \\\\\n",
       "\t73 & 6.1 & 2.8 & 4.7 & 1.2 & 1  \\\\\n",
       "\t74 & 6.4 & 2.9 & 4.3 & 1.3 & 1  \\\\\n",
       "\t75 & 6.6 & 3.0 & 4.4 & 1.4 & 1  \\\\\n",
       "\t76 & 6.8 & 2.8 & 4.8 & 1.4 & 1  \\\\\n",
       "\t77 & 6.7 & 3.0 & 5.0 & 1.7 & 1  \\\\\n",
       "\t78 & 6.0 & 2.9 & 4.5 & 1.5 & 1  \\\\\n",
       "\t79 & 5.7 & 2.6 & 3.5 & 1.0 & 1  \\\\\n",
       "\t80 & 5.5 & 2.4 & 3.8 & 1.1 & 1  \\\\\n",
       "\t81 & 5.5 & 2.4 & 3.7 & 1.0 & 1  \\\\\n",
       "\t82 & 5.8 & 2.7 & 3.9 & 1.2 & 1  \\\\\n",
       "\t83 & 6.0 & 2.7 & 5.1 & 1.6 & 1  \\\\\n",
       "\t84 & 5.4 & 3.0 & 4.5 & 1.5 & 1  \\\\\n",
       "\t85 & 6.0 & 3.4 & 4.5 & 1.6 & 1  \\\\\n",
       "\t86 & 6.7 & 3.1 & 4.7 & 1.5 & 1  \\\\\n",
       "\t87 & 6.3 & 2.3 & 4.4 & 1.3 & 1  \\\\\n",
       "\t88 & 5.6 & 3.0 & 4.1 & 1.3 & 1  \\\\\n",
       "\t89 & 5.5 & 2.5 & 4.0 & 1.3 & 1  \\\\\n",
       "\t90 & 5.5 & 2.6 & 4.4 & 1.2 & 1  \\\\\n",
       "\t91 & 6.1 & 3.0 & 4.6 & 1.4 & 1  \\\\\n",
       "\t92 & 5.8 & 2.6 & 4.0 & 1.2 & 1  \\\\\n",
       "\t93 & 5.0 & 2.3 & 3.3 & 1.0 & 1  \\\\\n",
       "\t94 & 5.6 & 2.7 & 4.2 & 1.3 & 1  \\\\\n",
       "\t95 & 5.7 & 3.0 & 4.2 & 1.2 & 1  \\\\\n",
       "\t96 & 5.7 & 2.9 & 4.2 & 1.3 & 1  \\\\\n",
       "\t97 & 6.2 & 2.9 & 4.3 & 1.3 & 1  \\\\\n",
       "\t98 & 5.1 & 2.5 & 3.0 & 1.1 & 1  \\\\\n",
       "\t99 & 5.7 & 2.8 & 4.1 & 1.3 & 1  \\\\\n",
       "\\end{tabular}\n"
      ],
      "text/markdown": [
       "\n",
       "| <!--/--> | sepal_length | sepal_width | petal_length | petal_width | label | \n",
       "|---|---|---|---|---|---|---|---|---|---|---|---|---|---|---|---|---|---|---|---|---|---|---|---|---|---|---|---|---|---|---|---|---|---|---|---|---|---|---|---|---|---|---|---|---|---|---|---|---|---|\n",
       "| 50 | 7.0 | 3.2 | 4.7 | 1.4 | 1   | \n",
       "| 51 | 6.4 | 3.2 | 4.5 | 1.5 | 1   | \n",
       "| 52 | 6.9 | 3.1 | 4.9 | 1.5 | 1   | \n",
       "| 53 | 5.5 | 2.3 | 4.0 | 1.3 | 1   | \n",
       "| 54 | 6.5 | 2.8 | 4.6 | 1.5 | 1   | \n",
       "| 55 | 5.7 | 2.8 | 4.5 | 1.3 | 1   | \n",
       "| 56 | 6.3 | 3.3 | 4.7 | 1.6 | 1   | \n",
       "| 57 | 4.9 | 2.4 | 3.3 | 1.0 | 1   | \n",
       "| 58 | 6.6 | 2.9 | 4.6 | 1.3 | 1   | \n",
       "| 59 | 5.2 | 2.7 | 3.9 | 1.4 | 1   | \n",
       "| 60 | 5.0 | 2.0 | 3.5 | 1.0 | 1   | \n",
       "| 61 | 5.9 | 3.0 | 4.2 | 1.5 | 1   | \n",
       "| 62 | 6.0 | 2.2 | 4.0 | 1.0 | 1   | \n",
       "| 63 | 6.1 | 2.9 | 4.7 | 1.4 | 1   | \n",
       "| 64 | 5.6 | 2.9 | 3.6 | 1.3 | 1   | \n",
       "| 65 | 6.7 | 3.1 | 4.4 | 1.4 | 1   | \n",
       "| 66 | 5.6 | 3.0 | 4.5 | 1.5 | 1   | \n",
       "| 67 | 5.8 | 2.7 | 4.1 | 1.0 | 1   | \n",
       "| 68 | 6.2 | 2.2 | 4.5 | 1.5 | 1   | \n",
       "| 69 | 5.6 | 2.5 | 3.9 | 1.1 | 1   | \n",
       "| 70 | 5.9 | 3.2 | 4.8 | 1.8 | 1   | \n",
       "| 71 | 6.1 | 2.8 | 4.0 | 1.3 | 1   | \n",
       "| 72 | 6.3 | 2.5 | 4.9 | 1.5 | 1   | \n",
       "| 73 | 6.1 | 2.8 | 4.7 | 1.2 | 1   | \n",
       "| 74 | 6.4 | 2.9 | 4.3 | 1.3 | 1   | \n",
       "| 75 | 6.6 | 3.0 | 4.4 | 1.4 | 1   | \n",
       "| 76 | 6.8 | 2.8 | 4.8 | 1.4 | 1   | \n",
       "| 77 | 6.7 | 3.0 | 5.0 | 1.7 | 1   | \n",
       "| 78 | 6.0 | 2.9 | 4.5 | 1.5 | 1   | \n",
       "| 79 | 5.7 | 2.6 | 3.5 | 1.0 | 1   | \n",
       "| 80 | 5.5 | 2.4 | 3.8 | 1.1 | 1   | \n",
       "| 81 | 5.5 | 2.4 | 3.7 | 1.0 | 1   | \n",
       "| 82 | 5.8 | 2.7 | 3.9 | 1.2 | 1   | \n",
       "| 83 | 6.0 | 2.7 | 5.1 | 1.6 | 1   | \n",
       "| 84 | 5.4 | 3.0 | 4.5 | 1.5 | 1   | \n",
       "| 85 | 6.0 | 3.4 | 4.5 | 1.6 | 1   | \n",
       "| 86 | 6.7 | 3.1 | 4.7 | 1.5 | 1   | \n",
       "| 87 | 6.3 | 2.3 | 4.4 | 1.3 | 1   | \n",
       "| 88 | 5.6 | 3.0 | 4.1 | 1.3 | 1   | \n",
       "| 89 | 5.5 | 2.5 | 4.0 | 1.3 | 1   | \n",
       "| 90 | 5.5 | 2.6 | 4.4 | 1.2 | 1   | \n",
       "| 91 | 6.1 | 3.0 | 4.6 | 1.4 | 1   | \n",
       "| 92 | 5.8 | 2.6 | 4.0 | 1.2 | 1   | \n",
       "| 93 | 5.0 | 2.3 | 3.3 | 1.0 | 1   | \n",
       "| 94 | 5.6 | 2.7 | 4.2 | 1.3 | 1   | \n",
       "| 95 | 5.7 | 3.0 | 4.2 | 1.2 | 1   | \n",
       "| 96 | 5.7 | 2.9 | 4.2 | 1.3 | 1   | \n",
       "| 97 | 6.2 | 2.9 | 4.3 | 1.3 | 1   | \n",
       "| 98 | 5.1 | 2.5 | 3.0 | 1.1 | 1   | \n",
       "| 99 | 5.7 | 2.8 | 4.1 | 1.3 | 1   | \n",
       "\n",
       "\n"
      ],
      "text/plain": [
       "   sepal_length sepal_width petal_length petal_width label\n",
       "50 7.0          3.2         4.7          1.4         1    \n",
       "51 6.4          3.2         4.5          1.5         1    \n",
       "52 6.9          3.1         4.9          1.5         1    \n",
       "53 5.5          2.3         4.0          1.3         1    \n",
       "54 6.5          2.8         4.6          1.5         1    \n",
       "55 5.7          2.8         4.5          1.3         1    \n",
       "56 6.3          3.3         4.7          1.6         1    \n",
       "57 4.9          2.4         3.3          1.0         1    \n",
       "58 6.6          2.9         4.6          1.3         1    \n",
       "59 5.2          2.7         3.9          1.4         1    \n",
       "60 5.0          2.0         3.5          1.0         1    \n",
       "61 5.9          3.0         4.2          1.5         1    \n",
       "62 6.0          2.2         4.0          1.0         1    \n",
       "63 6.1          2.9         4.7          1.4         1    \n",
       "64 5.6          2.9         3.6          1.3         1    \n",
       "65 6.7          3.1         4.4          1.4         1    \n",
       "66 5.6          3.0         4.5          1.5         1    \n",
       "67 5.8          2.7         4.1          1.0         1    \n",
       "68 6.2          2.2         4.5          1.5         1    \n",
       "69 5.6          2.5         3.9          1.1         1    \n",
       "70 5.9          3.2         4.8          1.8         1    \n",
       "71 6.1          2.8         4.0          1.3         1    \n",
       "72 6.3          2.5         4.9          1.5         1    \n",
       "73 6.1          2.8         4.7          1.2         1    \n",
       "74 6.4          2.9         4.3          1.3         1    \n",
       "75 6.6          3.0         4.4          1.4         1    \n",
       "76 6.8          2.8         4.8          1.4         1    \n",
       "77 6.7          3.0         5.0          1.7         1    \n",
       "78 6.0          2.9         4.5          1.5         1    \n",
       "79 5.7          2.6         3.5          1.0         1    \n",
       "80 5.5          2.4         3.8          1.1         1    \n",
       "81 5.5          2.4         3.7          1.0         1    \n",
       "82 5.8          2.7         3.9          1.2         1    \n",
       "83 6.0          2.7         5.1          1.6         1    \n",
       "84 5.4          3.0         4.5          1.5         1    \n",
       "85 6.0          3.4         4.5          1.6         1    \n",
       "86 6.7          3.1         4.7          1.5         1    \n",
       "87 6.3          2.3         4.4          1.3         1    \n",
       "88 5.6          3.0         4.1          1.3         1    \n",
       "89 5.5          2.5         4.0          1.3         1    \n",
       "90 5.5          2.6         4.4          1.2         1    \n",
       "91 6.1          3.0         4.6          1.4         1    \n",
       "92 5.8          2.6         4.0          1.2         1    \n",
       "93 5.0          2.3         3.3          1.0         1    \n",
       "94 5.6          2.7         4.2          1.3         1    \n",
       "95 5.7          3.0         4.2          1.2         1    \n",
       "96 5.7          2.9         4.2          1.3         1    \n",
       "97 6.2          2.9         4.3          1.3         1    \n",
       "98 5.1          2.5         3.0          1.1         1    \n",
       "99 5.7          2.8         4.1          1.3         1    "
      ]
     },
     "metadata": {},
     "output_type": "display_data"
    }
   ],
   "source": [
    "iris.data = read.csv(\"data/iris.csv\", row.names=\"X\")\n",
    "subset(iris.data, label==1)"
   ]
  },
  {
   "cell_type": "code",
   "execution_count": 2,
   "metadata": {},
   "outputs": [
    {
     "data": {
      "text/plain": [
       "\n",
       "Call:\n",
       "glm(formula = \"label ~ 1 + sepal_length + sepal_width + petal_length + petal_width\", \n",
       "    data = iris.data)\n",
       "\n",
       "Deviance Residuals: \n",
       "     Min        1Q    Median        3Q       Max  \n",
       "-0.59046  -0.15230   0.01338   0.10332   0.55061  \n",
       "\n",
       "Coefficients:\n",
       "             Estimate Std. Error t value Pr(>|t|)    \n",
       "(Intercept)   0.19208    0.20470   0.938 0.349611    \n",
       "sepal_length -0.10974    0.05776  -1.900 0.059418 .  \n",
       "sepal_width  -0.04424    0.05996  -0.738 0.461832    \n",
       "petal_length  0.22700    0.05699   3.983 0.000107 ***\n",
       "petal_width   0.60989    0.09447   6.456 1.52e-09 ***\n",
       "---\n",
       "Signif. codes:  0 ‘***’ 0.001 ‘**’ 0.01 ‘*’ 0.05 ‘.’ 0.1 ‘ ’ 1\n",
       "\n",
       "(Dispersion parameter for gaussian family taken to be 0.04798457)\n",
       "\n",
       "    Null deviance: 100.0000  on 149  degrees of freedom\n",
       "Residual deviance:   6.9578  on 145  degrees of freedom\n",
       "AIC: -22.935\n",
       "\n",
       "Number of Fisher Scoring iterations: 2\n"
      ]
     },
     "metadata": {},
     "output_type": "display_data"
    }
   ],
   "source": [
    "#logistic test on label using all features:\n",
    "\n",
    "iris.glm = glm(\"label ~ 1 + sepal_length + sepal_width + petal_length + petal_width\", data = iris.data)\n",
    "summary(iris.glm)"
   ]
  },
  {
   "cell_type": "code",
   "execution_count": 3,
   "metadata": {},
   "outputs": [
    {
     "data": {
      "text/plain": [
       "\n",
       "Call:  glm(formula = \"label ~ 1 + sepal_length + sepal_width + petal_length + petal_width\", \n",
       "    data = iris.data)\n",
       "\n",
       "Coefficients:\n",
       " (Intercept)  sepal_length   sepal_width  petal_length   petal_width  \n",
       "     0.19208      -0.10974      -0.04424       0.22700       0.60989  \n",
       "\n",
       "Degrees of Freedom: 149 Total (i.e. Null);  145 Residual\n",
       "Null Deviance:\t    100 \n",
       "Residual Deviance: 6.958 \tAIC: -22.94"
      ]
     },
     "metadata": {},
     "output_type": "display_data"
    }
   ],
   "source": [
    "iris.glm"
   ]
  },
  {
   "cell_type": "code",
   "execution_count": 4,
   "metadata": {},
   "outputs": [
    {
     "data": {
      "text/plain": [
       "'log Lik.' 17.46751 (df=6)"
      ]
     },
     "metadata": {},
     "output_type": "display_data"
    }
   ],
   "source": [
    "#Use log liklihood to calculate the liklihood of a model given the data. Value is intepretable but is useful for comparison\n",
    "logLik(iris.glm)"
   ]
  },
  {
   "cell_type": "code",
   "execution_count": 5,
   "metadata": {},
   "outputs": [
    {
     "data": {
      "text/html": [
       "-4.87121487462612"
      ],
      "text/latex": [
       "-4.87121487462612"
      ],
      "text/markdown": [
       "-4.87121487462612"
      ],
      "text/plain": [
       "[1] -4.871215"
      ]
     },
     "metadata": {},
     "output_type": "display_data"
    }
   ],
   "source": [
    "#BIC = log(# of dataset)*(# of features+1) - 2logLik(model) => complexity - likelihood\n",
    "#Calculate BIC using BIC function from py file:\n",
    "BIC(iris.glm)"
   ]
  },
  {
   "cell_type": "code",
   "execution_count": 6,
   "metadata": {},
   "outputs": [
    {
     "data": {
      "text/html": [
       "<dl class=dl-horizontal>\n",
       "\t<dt>(Intercept)</dt>\n",
       "\t\t<dd>0.192083994828141</dd>\n",
       "\t<dt>sepal_length</dt>\n",
       "\t\t<dd>-0.109741463293086</dd>\n",
       "\t<dt>sepal_width</dt>\n",
       "\t\t<dd>-0.0442404467176516</dd>\n",
       "\t<dt>petal_length</dt>\n",
       "\t\t<dd>0.227001382171904</dd>\n",
       "\t<dt>petal_width</dt>\n",
       "\t\t<dd>0.609894119716387</dd>\n",
       "</dl>\n"
      ],
      "text/latex": [
       "\\begin{description*}\n",
       "\\item[(Intercept)] 0.192083994828141\n",
       "\\item[sepal\\textbackslash{}\\_length] -0.109741463293086\n",
       "\\item[sepal\\textbackslash{}\\_width] -0.0442404467176516\n",
       "\\item[petal\\textbackslash{}\\_length] 0.227001382171904\n",
       "\\item[petal\\textbackslash{}\\_width] 0.609894119716387\n",
       "\\end{description*}\n"
      ],
      "text/markdown": [
       "(Intercept)\n",
       ":   0.192083994828141sepal_length\n",
       ":   -0.109741463293086sepal_width\n",
       ":   -0.0442404467176516petal_length\n",
       ":   0.227001382171904petal_width\n",
       ":   0.609894119716387\n",
       "\n"
      ],
      "text/plain": [
       " (Intercept) sepal_length  sepal_width petal_length  petal_width \n",
       "  0.19208399  -0.10974146  -0.04424045   0.22700138   0.60989412 "
      ]
     },
     "metadata": {},
     "output_type": "display_data"
    }
   ],
   "source": [
    "coefficients(iris.glm)"
   ]
  },
  {
   "cell_type": "code",
   "execution_count": 7,
   "metadata": {},
   "outputs": [
    {
     "data": {
      "text/html": [
       "<dl class=dl-horizontal>\n",
       "\t<dt>0</dt>\n",
       "\t\t<dd>-0.0826582724944377</dd>\n",
       "\t<dt>1</dt>\n",
       "\t\t<dd>-0.0385897564769949</dd>\n",
       "\t<dt>2</dt>\n",
       "\t\t<dd>-0.0481896913790983</dd>\n",
       "\t<dt>3</dt>\n",
       "\t\t<dd>0.0126087760563563</dd>\n",
       "\t<dt>4</dt>\n",
       "\t\t<dd>-0.0761081708368944</dd>\n",
       "\t<dt>5</dt>\n",
       "\t\t<dd>0.0568023484254239</dd>\n",
       "</dl>\n"
      ],
      "text/latex": [
       "\\begin{description*}\n",
       "\\item[0] -0.0826582724944377\n",
       "\\item[1] -0.0385897564769949\n",
       "\\item[2] -0.0481896913790983\n",
       "\\item[3] 0.0126087760563563\n",
       "\\item[4] -0.0761081708368944\n",
       "\\item[5] 0.0568023484254239\n",
       "\\end{description*}\n"
      ],
      "text/markdown": [
       "0\n",
       ":   -0.08265827249443771\n",
       ":   -0.03858975647699492\n",
       ":   -0.04818969137909833\n",
       ":   0.01260877605635634\n",
       ":   -0.07610817083689445\n",
       ":   0.0568023484254239\n",
       "\n"
      ],
      "text/plain": [
       "          0           1           2           3           4           5 \n",
       "-0.08265827 -0.03858976 -0.04818969  0.01260878 -0.07610817  0.05680235 "
      ]
     },
     "metadata": {},
     "output_type": "display_data"
    }
   ],
   "source": [
    "head(iris.glm$fitted.values)"
   ]
  },
  {
   "cell_type": "code",
   "execution_count": 8,
   "metadata": {},
   "outputs": [],
   "source": [
    "#find BIC by manually writing out a function:\n",
    "\n",
    "BIC_of_model = function(model){\n",
    "    n = length(model$fitted.values) # number of datasets\n",
    "    p = length(coefficients(model))\n",
    "    \n",
    "    likelihood = 2*logLik(model)\n",
    "    complexity = log(n)*(p+1)\n",
    "    \n",
    "    bic = complexity - likelihood\n",
    "    return (bic) }"
   ]
  },
  {
   "cell_type": "code",
   "execution_count": 9,
   "metadata": {},
   "outputs": [
    {
     "data": {
      "text/plain": [
       "'log Lik.' -4.871215 (df=6)"
      ]
     },
     "metadata": {},
     "output_type": "display_data"
    }
   ],
   "source": [
    "BIC_of_model(iris.glm)"
   ]
  },
  {
   "cell_type": "markdown",
   "metadata": {},
   "source": [
    "# Model Selection"
   ]
  },
  {
   "cell_type": "code",
   "execution_count": 10,
   "metadata": {},
   "outputs": [
    {
     "data": {
      "text/html": [
       "<table>\n",
       "<thead><tr><th></th><th scope=col>sepal_length</th><th scope=col>sepal_width</th><th scope=col>petal_length</th><th scope=col>petal_width</th><th scope=col>label</th></tr></thead>\n",
       "<tbody>\n",
       "\t<tr><th scope=row>0</th><td>5.1</td><td>3.5</td><td>1.4</td><td>0.2</td><td>0  </td></tr>\n",
       "\t<tr><th scope=row>1</th><td>4.9</td><td>3.0</td><td>1.4</td><td>0.2</td><td>0  </td></tr>\n",
       "\t<tr><th scope=row>2</th><td>4.7</td><td>3.2</td><td>1.3</td><td>0.2</td><td>0  </td></tr>\n",
       "\t<tr><th scope=row>3</th><td>4.6</td><td>3.1</td><td>1.5</td><td>0.2</td><td>0  </td></tr>\n",
       "\t<tr><th scope=row>4</th><td>5.0</td><td>3.6</td><td>1.4</td><td>0.2</td><td>0  </td></tr>\n",
       "\t<tr><th scope=row>5</th><td>5.4</td><td>3.9</td><td>1.7</td><td>0.4</td><td>0  </td></tr>\n",
       "</tbody>\n",
       "</table>\n"
      ],
      "text/latex": [
       "\\begin{tabular}{r|lllll}\n",
       "  & sepal\\_length & sepal\\_width & petal\\_length & petal\\_width & label\\\\\n",
       "\\hline\n",
       "\t0 & 5.1 & 3.5 & 1.4 & 0.2 & 0  \\\\\n",
       "\t1 & 4.9 & 3.0 & 1.4 & 0.2 & 0  \\\\\n",
       "\t2 & 4.7 & 3.2 & 1.3 & 0.2 & 0  \\\\\n",
       "\t3 & 4.6 & 3.1 & 1.5 & 0.2 & 0  \\\\\n",
       "\t4 & 5.0 & 3.6 & 1.4 & 0.2 & 0  \\\\\n",
       "\t5 & 5.4 & 3.9 & 1.7 & 0.4 & 0  \\\\\n",
       "\\end{tabular}\n"
      ],
      "text/markdown": [
       "\n",
       "| <!--/--> | sepal_length | sepal_width | petal_length | petal_width | label | \n",
       "|---|---|---|---|---|---|\n",
       "| 0 | 5.1 | 3.5 | 1.4 | 0.2 | 0   | \n",
       "| 1 | 4.9 | 3.0 | 1.4 | 0.2 | 0   | \n",
       "| 2 | 4.7 | 3.2 | 1.3 | 0.2 | 0   | \n",
       "| 3 | 4.6 | 3.1 | 1.5 | 0.2 | 0   | \n",
       "| 4 | 5.0 | 3.6 | 1.4 | 0.2 | 0   | \n",
       "| 5 | 5.4 | 3.9 | 1.7 | 0.4 | 0   | \n",
       "\n",
       "\n"
      ],
      "text/plain": [
       "  sepal_length sepal_width petal_length petal_width label\n",
       "0 5.1          3.5         1.4          0.2         0    \n",
       "1 4.9          3.0         1.4          0.2         0    \n",
       "2 4.7          3.2         1.3          0.2         0    \n",
       "3 4.6          3.1         1.5          0.2         0    \n",
       "4 5.0          3.6         1.4          0.2         0    \n",
       "5 5.4          3.9         1.7          0.4         0    "
      ]
     },
     "metadata": {},
     "output_type": "display_data"
    }
   ],
   "source": [
    "head(iris.data)"
   ]
  },
  {
   "cell_type": "code",
   "execution_count": 11,
   "metadata": {},
   "outputs": [],
   "source": [
    "model_1 = \"label ~ 1 + sepal_length + sepal_width + petal_length + petal_width\"\n",
    "model_2 = \"label ~ 1 + sepal_length + sepal_width + petal_length\"\n",
    "model_3 = \"label ~ 1 + sepal_length + sepal_width                + petal_width\"\n",
    "model_4 = \"label ~ 1 + sepal_length               + petal_length + petal_width\"\n",
    "model_5 = \"label ~ 1 +                sepal_width + petal_length + petal_width\""
   ]
  },
  {
   "cell_type": "code",
   "execution_count": 12,
   "metadata": {},
   "outputs": [],
   "source": [
    "iris.glm_1 = glm(model_1, data=iris.data)\n",
    "iris.glm_2 = glm(model_2, data=iris.data)\n",
    "iris.glm_3 = glm(model_3, data=iris.data)\n",
    "iris.glm_4 = glm(model_4, data=iris.data)\n",
    "iris.glm_5 = glm(model_5, data=iris.data)"
   ]
  },
  {
   "cell_type": "code",
   "execution_count": 13,
   "metadata": {},
   "outputs": [
    {
     "name": "stdout",
     "output_type": "stream",
     "text": [
      "[1] \"model_1\"           \"-4.87121487462612\"\n",
      "[1] \"model_2\"          \"28.0137935908893\"\n",
      "[1] \"model_3\"          \"5.69337438932066\"\n",
      "[1] \"model_4\"           \"-9.31979403027607\"\n",
      "[1] \"model_5\"          \"-6.1930960954627\"\n"
     ]
    }
   ],
   "source": [
    "print(c(\"model_1\", BIC_of_model(iris.glm_1)))\n",
    "print(c(\"model_2\", BIC_of_model(iris.glm_2)))\n",
    "print(c(\"model_3\", BIC_of_model(iris.glm_3)))\n",
    "print(c(\"model_4\", BIC_of_model(iris.glm_4)))\n",
    "print(c(\"model_5\", BIC_of_model(iris.glm_5)))"
   ]
  },
  {
   "cell_type": "code",
   "execution_count": 14,
   "metadata": {},
   "outputs": [],
   "source": [
    "#We can see model 4 and 5 are the best as they are the lowest.\n",
    "#examine more models:\n",
    "model_6  = \"label ~ 1                              + petal_length + petal_width\"\n",
    "model_7  = \"label ~ 1 + sepal_length                              + petal_width\"\n",
    "model_8  = \"label ~ 1 + sepal_length               + petal_length\"\n",
    "model_9  = \"label ~ 1                + sepal_width                + petal_width\"\n",
    "model_10 = \"label ~ 1 + sepal_length + sepal_width\""
   ]
  },
  {
   "cell_type": "code",
   "execution_count": 15,
   "metadata": {},
   "outputs": [],
   "source": [
    "iris.glm_6  = glm(model_6,  data=iris.data)\n",
    "iris.glm_7  = glm(model_7,  data=iris.data)\n",
    "iris.glm_8  = glm(model_8,  data=iris.data)\n",
    "iris.glm_9  = glm(model_9,  data=iris.data)\n",
    "iris.glm_10 = glm(model_10, data=iris.data)"
   ]
  },
  {
   "cell_type": "code",
   "execution_count": 16,
   "metadata": {},
   "outputs": [
    {
     "name": "stdout",
     "output_type": "stream",
     "text": [
      "[1] \"model_6\"          \"-5.0467304546584\"\n",
      "[1] \"model_7\"          \"15.4504250116728\"\n",
      "[1] \"model_8\"          \"25.3174210943167\"\n",
      "[1] \"model_9\"          \"2.49867452993293\"\n",
      "[1] \"model_10\"         \"191.140651008977\"\n"
     ]
    }
   ],
   "source": [
    "print(c(\"model_6\",  BIC_of_model(iris.glm_6 )))\n",
    "print(c(\"model_7\",  BIC_of_model(iris.glm_7 )))\n",
    "print(c(\"model_8\",  BIC_of_model(iris.glm_8 )))\n",
    "print(c(\"model_9\",  BIC_of_model(iris.glm_9 )))\n",
    "print(c(\"model_10\", BIC_of_model(iris.glm_10)))"
   ]
  },
  {
   "cell_type": "code",
   "execution_count": 17,
   "metadata": {},
   "outputs": [],
   "source": [
    "#by lookking at these models, you can tell that sepal_length is the least useful features as it adds to the complexity of the model.\n",
    "#petal_length and petal_width are the more useful feature as it has the least complexity. "
   ]
  },
  {
   "cell_type": "code",
   "execution_count": null,
   "metadata": {},
   "outputs": [],
   "source": []
  }
 ],
 "metadata": {
  "kernelspec": {
   "display_name": "R",
   "language": "R",
   "name": "ir"
  },
  "language_info": {
   "codemirror_mode": "r",
   "file_extension": ".r",
   "mimetype": "text/x-r-source",
   "name": "R",
   "pygments_lexer": "r",
   "version": "3.4.1"
  }
 },
 "nbformat": 4,
 "nbformat_minor": 2
}
