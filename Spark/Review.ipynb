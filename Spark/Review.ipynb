{
 "cells": [
  {
   "cell_type": "code",
   "execution_count": 1,
   "metadata": {},
   "outputs": [
    {
     "name": "stdout",
     "output_type": "stream",
     "text": [
      "total 2801\r\n",
      "-rwxrwxrwx 1 jovyan staff   40478 Jun  1 05:55 \u001b[0m\u001b[01;32m01-Introduction-to-Apache-Spark.ipynb\u001b[0m*\r\n",
      "-rwxrwxrwx 1 jovyan staff 2826082 Jun  1 05:55 \u001b[01;32mdiamonds.csv\u001b[0m*\r\n",
      "-rwxrwxrwx 1 jovyan staff     199 Jun  1 05:55 \u001b[01;32mdocker-compose.yml\u001b[0m*\r\n",
      "-rwxrwxrwx 1 jovyan staff      72 Jun  4 00:05 \u001b[01;32mUntitled.ipynb\u001b[0m*\r\n"
     ]
    }
   ],
   "source": [
    "ls -l"
   ]
  },
  {
   "cell_type": "code",
   "execution_count": 2,
   "metadata": {},
   "outputs": [
    {
     "data": {
      "text/plain": [
       "'/home/jovyan'"
      ]
     },
     "execution_count": 2,
     "metadata": {},
     "output_type": "execute_result"
    }
   ],
   "source": [
    "pwd"
   ]
  },
  {
   "cell_type": "code",
   "execution_count": 7,
   "metadata": {},
   "outputs": [],
   "source": [
    "from pyspark import SparkContext, SQLContext"
   ]
  },
  {
   "cell_type": "code",
   "execution_count": 4,
   "metadata": {},
   "outputs": [
    {
     "name": "stdout",
     "output_type": "stream",
     "text": [
      "The history saving thread hit an unexpected error (OperationalError('disk I/O error',)).History will not be written to the database.\n"
     ]
    }
   ],
   "source": [
    "sc = SparkContext()"
   ]
  },
  {
   "cell_type": "code",
   "execution_count": 5,
   "metadata": {},
   "outputs": [],
   "source": [
    "sqlcontext = SQLContext(sc)"
   ]
  },
  {
   "cell_type": "code",
   "execution_count": 8,
   "metadata": {},
   "outputs": [],
   "source": [
    "firstDataFrame = sqlcontext.range(1000000)"
   ]
  },
  {
   "cell_type": "code",
   "execution_count": 69,
   "metadata": {},
   "outputs": [
    {
     "data": {
      "text/plain": [
       "DataFrame[id: bigint]"
      ]
     },
     "execution_count": 69,
     "metadata": {},
     "output_type": "execute_result"
    }
   ],
   "source": [
    "firstDataFrame"
   ]
  },
  {
   "cell_type": "code",
   "execution_count": 70,
   "metadata": {},
   "outputs": [
    {
     "name": "stdout",
     "output_type": "stream",
     "text": [
      "+---+\n",
      "| id|\n",
      "+---+\n",
      "|  0|\n",
      "|  1|\n",
      "|  2|\n",
      "|  3|\n",
      "|  4|\n",
      "|  5|\n",
      "|  6|\n",
      "|  7|\n",
      "|  8|\n",
      "|  9|\n",
      "| 10|\n",
      "| 11|\n",
      "| 12|\n",
      "| 13|\n",
      "| 14|\n",
      "| 15|\n",
      "| 16|\n",
      "| 17|\n",
      "| 18|\n",
      "| 19|\n",
      "+---+\n",
      "only showing top 20 rows\n",
      "\n"
     ]
    }
   ],
   "source": [
    "firstDataFrame.show()"
   ]
  },
  {
   "cell_type": "code",
   "execution_count": 11,
   "metadata": {},
   "outputs": [],
   "source": [
    "import pandas as pd"
   ]
  },
  {
   "cell_type": "code",
   "execution_count": 72,
   "metadata": {},
   "outputs": [
    {
     "data": {
      "text/plain": [
       "DataFrame[value: bigint]"
      ]
     },
     "execution_count": 72,
     "metadata": {},
     "output_type": "execute_result"
    }
   ],
   "source": [
    "secondDataFrame = firstDataFrame.selectExpr(\"(id * 2) as value\")\n",
    "secondDataFrame"
   ]
  },
  {
   "cell_type": "code",
   "execution_count": 17,
   "metadata": {},
   "outputs": [
    {
     "data": {
      "text/plain": [
       "[Row(id=0), Row(id=1), Row(id=2), Row(id=3), Row(id=4)]"
      ]
     },
     "execution_count": 17,
     "metadata": {},
     "output_type": "execute_result"
    }
   ],
   "source": [
    "firstDataFrame.take(5)"
   ]
  },
  {
   "cell_type": "code",
   "execution_count": 18,
   "metadata": {},
   "outputs": [
    {
     "data": {
      "text/plain": [
       "[Row(value=0),\n",
       " Row(value=2),\n",
       " Row(value=4),\n",
       " Row(value=6),\n",
       " Row(value=8),\n",
       " Row(value=10),\n",
       " Row(value=12),\n",
       " Row(value=14),\n",
       " Row(value=16),\n",
       " Row(value=18),\n",
       " Row(value=20),\n",
       " Row(value=22),\n",
       " Row(value=24),\n",
       " Row(value=26),\n",
       " Row(value=28),\n",
       " Row(value=30),\n",
       " Row(value=32),\n",
       " Row(value=34),\n",
       " Row(value=36),\n",
       " Row(value=38),\n",
       " Row(value=40),\n",
       " Row(value=42),\n",
       " Row(value=44),\n",
       " Row(value=46),\n",
       " Row(value=48),\n",
       " Row(value=50),\n",
       " Row(value=52),\n",
       " Row(value=54),\n",
       " Row(value=56),\n",
       " Row(value=58),\n",
       " Row(value=60),\n",
       " Row(value=62),\n",
       " Row(value=64),\n",
       " Row(value=66),\n",
       " Row(value=68),\n",
       " Row(value=70),\n",
       " Row(value=72),\n",
       " Row(value=74),\n",
       " Row(value=76),\n",
       " Row(value=78),\n",
       " Row(value=80),\n",
       " Row(value=82),\n",
       " Row(value=84),\n",
       " Row(value=86),\n",
       " Row(value=88),\n",
       " Row(value=90),\n",
       " Row(value=92),\n",
       " Row(value=94),\n",
       " Row(value=96),\n",
       " Row(value=98)]"
      ]
     },
     "execution_count": 18,
     "metadata": {},
     "output_type": "execute_result"
    }
   ],
   "source": [
    "secondDataFrame.take(50)"
   ]
  },
  {
   "cell_type": "code",
   "execution_count": 19,
   "metadata": {},
   "outputs": [],
   "source": [
    "from pyspark.sql import SparkSession"
   ]
  },
  {
   "cell_type": "code",
   "execution_count": 20,
   "metadata": {},
   "outputs": [],
   "source": [
    "spark = (SparkSession.builder.appName(\"Python Spark SQL introudciton\").getOrCreate())"
   ]
  },
  {
   "cell_type": "code",
   "execution_count": 55,
   "metadata": {},
   "outputs": [],
   "source": [
    "dataPath = \"diamonds.csv\""
   ]
  },
  {
   "cell_type": "code",
   "execution_count": 56,
   "metadata": {},
   "outputs": [],
   "source": [
    "diamonds = spark.read.format(\"csv\").option(\"header\", \"true\").option(\"inferSchema\", \"true\").load(dataPath)"
   ]
  },
  {
   "cell_type": "code",
   "execution_count": 57,
   "metadata": {},
   "outputs": [
    {
     "name": "stdout",
     "output_type": "stream",
     "text": [
      "+-----+---------+-----+-------+-----+-----+-----+----+----+----+\n",
      "|carat|      cut|color|clarity|depth|table|price|   x|   y|   z|\n",
      "+-----+---------+-----+-------+-----+-----+-----+----+----+----+\n",
      "| 0.23|    Ideal|    E|    SI2| 61.5| 55.0|  326|3.95|3.98|2.43|\n",
      "| 0.21|  Premium|    E|    SI1| 59.8| 61.0|  326|3.89|3.84|2.31|\n",
      "| 0.23|     Good|    E|    VS1| 56.9| 65.0|  327|4.05|4.07|2.31|\n",
      "| 0.29|  Premium|    I|    VS2| 62.4| 58.0|  334| 4.2|4.23|2.63|\n",
      "| 0.31|     Good|    J|    SI2| 63.3| 58.0|  335|4.34|4.35|2.75|\n",
      "| 0.24|Very Good|    J|   VVS2| 62.8| 57.0|  336|3.94|3.96|2.48|\n",
      "| 0.24|Very Good|    I|   VVS1| 62.3| 57.0|  336|3.95|3.98|2.47|\n",
      "| 0.26|Very Good|    H|    SI1| 61.9| 55.0|  337|4.07|4.11|2.53|\n",
      "| 0.22|     Fair|    E|    VS2| 65.1| 61.0|  337|3.87|3.78|2.49|\n",
      "| 0.23|Very Good|    H|    VS1| 59.4| 61.0|  338| 4.0|4.05|2.39|\n",
      "|  0.3|     Good|    J|    SI1| 64.0| 55.0|  339|4.25|4.28|2.73|\n",
      "| 0.23|    Ideal|    J|    VS1| 62.8| 56.0|  340|3.93| 3.9|2.46|\n",
      "| 0.22|  Premium|    F|    SI1| 60.4| 61.0|  342|3.88|3.84|2.33|\n",
      "| 0.31|    Ideal|    J|    SI2| 62.2| 54.0|  344|4.35|4.37|2.71|\n",
      "|  0.2|  Premium|    E|    SI2| 60.2| 62.0|  345|3.79|3.75|2.27|\n",
      "| 0.32|  Premium|    E|     I1| 60.9| 58.0|  345|4.38|4.42|2.68|\n",
      "|  0.3|    Ideal|    I|    SI2| 62.0| 54.0|  348|4.31|4.34|2.68|\n",
      "|  0.3|     Good|    J|    SI1| 63.4| 54.0|  351|4.23|4.29| 2.7|\n",
      "|  0.3|     Good|    J|    SI1| 63.8| 56.0|  351|4.23|4.26|2.71|\n",
      "|  0.3|Very Good|    J|    SI1| 62.7| 59.0|  351|4.21|4.27|2.66|\n",
      "+-----+---------+-----+-------+-----+-----+-----+----+----+----+\n",
      "only showing top 20 rows\n",
      "\n"
     ]
    }
   ],
   "source": [
    "diamonds.show()"
   ]
  },
  {
   "cell_type": "code",
   "execution_count": 33,
   "metadata": {},
   "outputs": [
    {
     "name": "stdout",
     "output_type": "stream",
     "text": [
      "+-----+-----+\n",
      "|carat|depth|\n",
      "+-----+-----+\n",
      "| 0.23| 61.5|\n",
      "| 0.21| 59.8|\n",
      "| 0.23| 56.9|\n",
      "| 0.29| 62.4|\n",
      "| 0.31| 63.3|\n",
      "| 0.24| 62.8|\n",
      "| 0.24| 62.3|\n",
      "| 0.26| 61.9|\n",
      "| 0.22| 65.1|\n",
      "| 0.23| 59.4|\n",
      "|  0.3|   64|\n",
      "| 0.23| 62.8|\n",
      "| 0.22| 60.4|\n",
      "| 0.31| 62.2|\n",
      "|  0.2| 60.2|\n",
      "| 0.32| 60.9|\n",
      "|  0.3|   62|\n",
      "|  0.3| 63.4|\n",
      "|  0.3| 63.8|\n",
      "|  0.3| 62.7|\n",
      "+-----+-----+\n",
      "only showing top 20 rows\n",
      "\n"
     ]
    }
   ],
   "source": [
    "diamonds.select(diamonds[\"carat\"], diamonds[\"depth\"]).show()"
   ]
  },
  {
   "cell_type": "code",
   "execution_count": 38,
   "metadata": {},
   "outputs": [
    {
     "name": "stdout",
     "output_type": "stream",
     "text": [
      "+----+----+----+\n",
      "|   x|   y|   z|\n",
      "+----+----+----+\n",
      "|3.95|3.98|2.43|\n",
      "|3.89|3.84|2.31|\n",
      "|4.05|4.07|2.31|\n",
      "| 4.2|4.23|2.63|\n",
      "|4.34|4.35|2.75|\n",
      "|3.94|3.96|2.48|\n",
      "|3.95|3.98|2.47|\n",
      "|4.07|4.11|2.53|\n",
      "|3.87|3.78|2.49|\n",
      "|   4|4.05|2.39|\n",
      "|4.25|4.28|2.73|\n",
      "|3.93| 3.9|2.46|\n",
      "|3.88|3.84|2.33|\n",
      "|4.35|4.37|2.71|\n",
      "|3.79|3.75|2.27|\n",
      "|4.38|4.42|2.68|\n",
      "|4.31|4.34|2.68|\n",
      "|4.23|4.29| 2.7|\n",
      "|4.23|4.26|2.71|\n",
      "|4.21|4.27|2.66|\n",
      "+----+----+----+\n",
      "only showing top 20 rows\n",
      "\n"
     ]
    }
   ],
   "source": [
    "diamonds.select(diamonds[\"x\"], diamonds[\"y\"], diamonds[\"z\"]).show()"
   ]
  },
  {
   "cell_type": "code",
   "execution_count": 40,
   "metadata": {},
   "outputs": [
    {
     "data": {
      "text/plain": [
       "DataFrame[(carat > 1.0): boolean]"
      ]
     },
     "execution_count": 40,
     "metadata": {},
     "output_type": "execute_result"
    }
   ],
   "source": [
    "diamonds.select(diamonds[\"carat\"] > 1.0)"
   ]
  },
  {
   "cell_type": "code",
   "execution_count": 41,
   "metadata": {},
   "outputs": [
    {
     "name": "stdout",
     "output_type": "stream",
     "text": [
      "+-------------+\n",
      "|(carat > 1.0)|\n",
      "+-------------+\n",
      "|        false|\n",
      "|        false|\n",
      "|        false|\n",
      "|        false|\n",
      "|        false|\n",
      "|        false|\n",
      "|        false|\n",
      "|        false|\n",
      "|        false|\n",
      "|        false|\n",
      "|        false|\n",
      "|        false|\n",
      "|        false|\n",
      "|        false|\n",
      "|        false|\n",
      "|        false|\n",
      "|        false|\n",
      "|        false|\n",
      "|        false|\n",
      "|        false|\n",
      "+-------------+\n",
      "only showing top 20 rows\n",
      "\n"
     ]
    }
   ],
   "source": [
    "diamonds.select(diamonds[\"carat\"] > 1.0).show()"
   ]
  },
  {
   "cell_type": "code",
   "execution_count": 42,
   "metadata": {},
   "outputs": [
    {
     "data": {
      "text/plain": [
       "53940"
      ]
     },
     "execution_count": 42,
     "metadata": {},
     "output_type": "execute_result"
    }
   ],
   "source": [
    "diamonds.select(diamonds[\"carat\"] > 1.0).count()"
   ]
  },
  {
   "cell_type": "code",
   "execution_count": 43,
   "metadata": {},
   "outputs": [],
   "source": [
    "carot_gt_1 = diamonds.filter(diamonds[\"carat\"] > 1.0)"
   ]
  },
  {
   "cell_type": "code",
   "execution_count": 45,
   "metadata": {},
   "outputs": [
    {
     "name": "stdout",
     "output_type": "stream",
     "text": [
      "+-----+---------+-----+-------+-----+-----+-----+----+----+----+\n",
      "|carat|      cut|color|clarity|depth|table|price|   x|   y|   z|\n",
      "+-----+---------+-----+-------+-----+-----+-----+----+----+----+\n",
      "| 1.17|Very Good|    J|     I1| 60.2|   61| 2774|6.83| 6.9|4.13|\n",
      "| 1.01|  Premium|    F|     I1| 61.8|   60| 2781|6.39|6.36|3.94|\n",
      "| 1.01|     Fair|    E|     I1| 64.5|   58| 2788|6.29|6.21|4.03|\n",
      "| 1.01|  Premium|    H|    SI2| 62.7|   59| 2788|6.31|6.22|3.93|\n",
      "| 1.05|Very Good|    J|    SI2| 63.2|   56| 2789|6.49|6.45|4.09|\n",
      "| 1.05|     Fair|    J|    SI2| 65.8|   59| 2789|6.41|6.27|4.18|\n",
      "| 1.01|     Fair|    E|    SI2| 67.4|   60| 2797|6.19|6.05|4.13|\n",
      "| 1.04|  Premium|    G|     I1| 62.2|   58| 2801|6.46|6.41|   4|\n",
      "|  1.2|     Fair|    F|     I1| 64.6|   56| 2809|6.73|6.66|4.33|\n",
      "| 1.02|  Premium|    G|     I1| 60.3|   58| 2815|6.55| 6.5|3.94|\n",
      "| 1.17|  Premium|    J|     I1| 60.2|   61| 2825| 6.9|6.83|4.13|\n",
      "| 1.01|  Premium|    H|    SI2| 61.6|   61| 2828|6.39|6.31|3.91|\n",
      "| 1.01|    Ideal|    I|     I1| 61.5|   57| 2844|6.45|6.46|3.97|\n",
      "| 1.01|     Good|    I|     I1| 63.1|   57| 2844|6.35|6.39|4.02|\n",
      "| 1.27|  Premium|    H|    SI2| 59.3|   61| 2845|7.12|7.05| 4.2|\n",
      "| 1.01|     Fair|    H|    SI2| 65.4|   59| 2846| 6.3|6.26|4.11|\n",
      "| 1.01|     Good|    H|     I1| 64.2|   61| 2846|6.25|6.18|3.99|\n",
      "|  1.2|Very Good|    H|     I1| 63.1|   60| 2850|6.75|6.67|4.23|\n",
      "| 1.12|  Premium|    H|     I1| 59.1|   61| 2854|6.78|6.75|   4|\n",
      "| 1.03|     Good|    J|    SI1| 63.6|   57| 2855|6.38|6.29|4.03|\n",
      "+-----+---------+-----+-------+-----+-----+-----+----+----+----+\n",
      "only showing top 20 rows\n",
      "\n"
     ]
    }
   ],
   "source": [
    "carot_gt_1.show()"
   ]
  },
  {
   "cell_type": "code",
   "execution_count": 59,
   "metadata": {
    "scrolled": false
   },
   "outputs": [
    {
     "name": "stdout",
     "output_type": "stream",
     "text": [
      "+---------+-----+------------------+\n",
      "|      cut|color|        avg(price)|\n",
      "+---------+-----+------------------+\n",
      "|Very Good|    D|3470.4672835426304|\n",
      "|  Premium|    E|3538.9144201968334|\n",
      "|    Ideal|    D|2629.0945659844742|\n",
      "|     Good|    F|3495.7502750275025|\n",
      "|  Premium|    D| 3631.292576419214|\n",
      "|    Ideal|    J| 4918.186383928572|\n",
      "|    Ideal|    I| 4451.970377448638|\n",
      "|Very Good|    I| 5255.879568106312|\n",
      "|     Good|    D|3405.3821752265862|\n",
      "|     Fair|    D| 4291.061349693252|\n",
      "|     Good|    G| 4123.482204362801|\n",
      "|     Good|    H| 4276.254985754986|\n",
      "|  Premium|    J| 6294.591584158416|\n",
      "|     Fair|    F| 3827.003205128205|\n",
      "|    Ideal|    G| 3720.706388206388|\n",
      "|Very Good|    H| 4535.390350877193|\n",
      "|Very Good|    E|3214.6520833333334|\n",
      "|     Good|    I| 5078.532567049809|\n",
      "|  Premium|    F| 4324.890175890176|\n",
      "|     Fair|    J| 4975.655462184874|\n",
      "+---------+-----+------------------+\n",
      "only showing top 20 rows\n",
      "\n"
     ]
    }
   ],
   "source": [
    "df1 = diamonds.groupBy(\"cut\", \"color\").avg(\"price\")\n",
    "df1.show()"
   ]
  },
  {
   "cell_type": "code",
   "execution_count": 74,
   "metadata": {},
   "outputs": [
    {
     "name": "stdout",
     "output_type": "stream",
     "text": [
      "+-----+---------+------------------+-----+-------+-------+-----+-----+-----+----+----+----+\n",
      "|color|      cut|        avg(price)|carat|    cut|clarity|depth|table|price|   x|   y|   z|\n",
      "+-----+---------+------------------+-----+-------+-------+-----+-----+-----+----+----+----+\n",
      "|    E|     Fair|         3682.3125| 0.23|  Ideal|    SI2| 61.5| 55.0|  326|3.95|3.98|2.43|\n",
      "|    E|     Good|3423.6441586280816| 0.23|  Ideal|    SI2| 61.5| 55.0|  326|3.95|3.98|2.43|\n",
      "|    E|    Ideal|2597.5500896746094| 0.23|  Ideal|    SI2| 61.5| 55.0|  326|3.95|3.98|2.43|\n",
      "|    E|Very Good|3214.6520833333334| 0.23|  Ideal|    SI2| 61.5| 55.0|  326|3.95|3.98|2.43|\n",
      "|    E|  Premium|3538.9144201968334| 0.23|  Ideal|    SI2| 61.5| 55.0|  326|3.95|3.98|2.43|\n",
      "|    E|     Fair|         3682.3125| 0.21|Premium|    SI1| 59.8| 61.0|  326|3.89|3.84|2.31|\n",
      "|    E|     Good|3423.6441586280816| 0.21|Premium|    SI1| 59.8| 61.0|  326|3.89|3.84|2.31|\n",
      "|    E|    Ideal|2597.5500896746094| 0.21|Premium|    SI1| 59.8| 61.0|  326|3.89|3.84|2.31|\n",
      "|    E|Very Good|3214.6520833333334| 0.21|Premium|    SI1| 59.8| 61.0|  326|3.89|3.84|2.31|\n",
      "|    E|  Premium|3538.9144201968334| 0.21|Premium|    SI1| 59.8| 61.0|  326|3.89|3.84|2.31|\n",
      "|    E|     Fair|         3682.3125| 0.23|   Good|    VS1| 56.9| 65.0|  327|4.05|4.07|2.31|\n",
      "|    E|     Good|3423.6441586280816| 0.23|   Good|    VS1| 56.9| 65.0|  327|4.05|4.07|2.31|\n",
      "|    E|    Ideal|2597.5500896746094| 0.23|   Good|    VS1| 56.9| 65.0|  327|4.05|4.07|2.31|\n",
      "|    E|Very Good|3214.6520833333334| 0.23|   Good|    VS1| 56.9| 65.0|  327|4.05|4.07|2.31|\n",
      "|    E|  Premium|3538.9144201968334| 0.23|   Good|    VS1| 56.9| 65.0|  327|4.05|4.07|2.31|\n",
      "|    I|     Fair|4685.4457142857145| 0.29|Premium|    VS2| 62.4| 58.0|  334| 4.2|4.23|2.63|\n",
      "|    I|  Premium| 5946.180672268908| 0.29|Premium|    VS2| 62.4| 58.0|  334| 4.2|4.23|2.63|\n",
      "|    I|     Good| 5078.532567049809| 0.29|Premium|    VS2| 62.4| 58.0|  334| 4.2|4.23|2.63|\n",
      "|    I|Very Good| 5255.879568106312| 0.29|Premium|    VS2| 62.4| 58.0|  334| 4.2|4.23|2.63|\n",
      "|    I|    Ideal| 4451.970377448638| 0.29|Premium|    VS2| 62.4| 58.0|  334| 4.2|4.23|2.63|\n",
      "+-----+---------+------------------+-----+-------+-------+-----+-----+-----+----+----+----+\n",
      "only showing top 20 rows\n",
      "\n"
     ]
    }
   ],
   "source": [
    "df2 = df1.join(diamonds, on = \"color\", how = \"inner\")\n",
    "df2.show()"
   ]
  },
  {
   "cell_type": "code",
   "execution_count": 75,
   "metadata": {},
   "outputs": [
    {
     "name": "stdout",
     "output_type": "stream",
     "text": [
      "+------------------+-----+\n",
      "|        avg(price)|carat|\n",
      "+------------------+-----+\n",
      "|3470.4672835426304| 0.75|\n",
      "|3470.4672835426304|  0.7|\n",
      "|3470.4672835426304| 0.72|\n",
      "|3470.4672835426304| 0.72|\n",
      "|3470.4672835426304| 0.72|\n",
      "|3470.4672835426304|  0.7|\n",
      "|3470.4672835426304| 0.74|\n",
      "|3470.4672835426304| 0.65|\n",
      "|3470.4672835426304|  0.7|\n",
      "|3470.4672835426304| 0.81|\n",
      "|3470.4672835426304| 0.71|\n",
      "|3470.4672835426304| 0.71|\n",
      "|3470.4672835426304| 0.71|\n",
      "|3470.4672835426304| 0.71|\n",
      "|3470.4672835426304| 0.71|\n",
      "|3470.4672835426304| 0.71|\n",
      "|3470.4672835426304| 0.53|\n",
      "|3470.4672835426304| 0.51|\n",
      "|3470.4672835426304| 0.51|\n",
      "|3470.4672835426304| 0.56|\n",
      "+------------------+-----+\n",
      "only showing top 20 rows\n",
      "\n"
     ]
    }
   ],
   "source": [
    "df2 = df1.join(diamonds, on = \"color\", how = \"inner\").select(\"avg(price)\", \"carat\")\n",
    "df2.show()"
   ]
  },
  {
   "cell_type": "code",
   "execution_count": 63,
   "metadata": {},
   "outputs": [
    {
     "name": "stdout",
     "output_type": "stream",
     "text": [
      "== Physical Plan ==\n",
      "*(3) Project [avg(price)#370, carat#438]\n",
      "+- *(3) BroadcastHashJoin [color#284], [color#440], Inner, BuildRight\n",
      "   :- *(3) HashAggregate(keys=[cut#283, color#284], functions=[avg(cast(price#288 as bigint))])\n",
      "   :  +- Exchange hashpartitioning(cut#283, color#284, 200)\n",
      "   :     +- *(1) HashAggregate(keys=[cut#283, color#284], functions=[partial_avg(cast(price#288 as bigint))])\n",
      "   :        +- *(1) Project [cut#283, color#284, price#288]\n",
      "   :           +- *(1) Filter isnotnull(color#284)\n",
      "   :              +- *(1) FileScan csv [cut#283,color#284,price#288] Batched: false, Format: CSV, Location: InMemoryFileIndex[file:/home/jovyan/diamonds.csv], PartitionFilters: [], PushedFilters: [IsNotNull(color)], ReadSchema: struct<cut:string,color:string,price:int>\n",
      "   +- BroadcastExchange HashedRelationBroadcastMode(List(input[1, string, true]))\n",
      "      +- *(2) Project [carat#438, color#440]\n",
      "         +- *(2) Filter isnotnull(color#440)\n",
      "            +- *(2) FileScan csv [carat#438,color#440] Batched: false, Format: CSV, Location: InMemoryFileIndex[file:/home/jovyan/diamonds.csv], PartitionFilters: [], PushedFilters: [IsNotNull(color)], ReadSchema: struct<carat:double,color:string>\n"
     ]
    }
   ],
   "source": [
    "df2.explain()"
   ]
  },
  {
   "cell_type": "code",
   "execution_count": 64,
   "metadata": {},
   "outputs": [
    {
     "data": {
      "text/plain": [
       "269700"
      ]
     },
     "execution_count": 64,
     "metadata": {},
     "output_type": "execute_result"
    }
   ],
   "source": [
    "df2.count()"
   ]
  },
  {
   "cell_type": "code",
   "execution_count": 65,
   "metadata": {},
   "outputs": [
    {
     "data": {
      "text/plain": [
       "DataFrame[avg(price): double, carat: double]"
      ]
     },
     "execution_count": 65,
     "metadata": {},
     "output_type": "execute_result"
    }
   ],
   "source": [
    "df2.cache()"
   ]
  },
  {
   "cell_type": "code",
   "execution_count": 66,
   "metadata": {},
   "outputs": [
    {
     "data": {
      "text/plain": [
       "269700"
      ]
     },
     "execution_count": 66,
     "metadata": {},
     "output_type": "execute_result"
    }
   ],
   "source": [
    "df2.count()"
   ]
  },
  {
   "cell_type": "code",
   "execution_count": 67,
   "metadata": {},
   "outputs": [
    {
     "data": {
      "text/plain": [
       "269700"
      ]
     },
     "execution_count": 67,
     "metadata": {},
     "output_type": "execute_result"
    }
   ],
   "source": [
    "df2.count()"
   ]
  },
  {
   "cell_type": "code",
   "execution_count": null,
   "metadata": {},
   "outputs": [],
   "source": []
  }
 ],
 "metadata": {
  "kernelspec": {
   "display_name": "Python 3",
   "language": "python",
   "name": "python3"
  },
  "language_info": {
   "codemirror_mode": {
    "name": "ipython",
    "version": 3
   },
   "file_extension": ".py",
   "mimetype": "text/x-python",
   "name": "python",
   "nbconvert_exporter": "python",
   "pygments_lexer": "ipython3",
   "version": "3.6.5"
  }
 },
 "nbformat": 4,
 "nbformat_minor": 2
}
