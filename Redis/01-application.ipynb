{
 "cells": [
  {
   "cell_type": "markdown",
   "metadata": {},
   "source": [
    "## Build a Jupyter-Redis Application with Docker Compose"
   ]
  },
  {
   "cell_type": "markdown",
   "metadata": {},
   "source": [
    "Next we will build a Docker Compose application to be a Jupyter Notebook Server running in conjunction with a Redis server."
   ]
  },
  {
   "cell_type": "markdown",
   "metadata": {},
   "source": [
    "### Application Definition\n",
    "\n",
    "We will use two files, `Dockerfile` and `docker-compose.yml` and a series of Python and html files  organized in the following directories:\n",
    "\n",
    "    .\n",
    "    ├── docker\n",
    "    │   └── jupyter\n",
    "    │       └── Dockerfile\n",
    "    ├── docker-compose.yml\n",
    "    ├── lib\n",
    "    │   └── helper.py\n",
    "    ├── main.py\n",
    "    ├── static\n",
    "    │   └── style.css\n",
    "    └── templates\n",
    "        └── iris.html\n",
    "\n",
    "#### `docker-compose.yml`\n",
    "\n",
    "The `docker-compose.yml` which defines the way the various services defining our application interact.\n",
    "\n",
    "    version: '3'\n",
    "    services:\n",
    "        this_jupyter:\n",
    "            build: docker/jupyter\n",
    "            ports:\n",
    "                - \"8000:8888\"\n",
    "            volumes:\n",
    "                - .:/home/jovyan\n",
    "        this_redis:\n",
    "           image: redis\n",
    "           volumes:\n",
    "               - redis_data:/data\n",
    "        this_api:\n",
    "            build: docker/jupyter\n",
    "            ports:\n",
    "              - \"5000:5000\"\n",
    "            volumes:\n",
    "                - .:/home/jovyan\n",
    "            environment:\n",
    "                - FLASK_APP=main.py\n",
    "            entrypoint: [\"flask\",\"run\", \"--host=0.0.0.0\"]\n",
    "    volumes:\n",
    "        redis_data:\n",
    "\n",
    "\n",
    "The Compose file defines three services: `this_api`, `this_jupyter`, and `this_redis` and a volume, `redis_data`.\n",
    "\n",
    "The `this_jupyter` service:\n",
    "\n",
    "- Uses the `build:` keyword to define the service, meaning it will use a `Dockerfile` to build the image defining the service.\n",
    "- Uses a `Dockerfile` contained in the `docker/jupyter`\n",
    "- Attaches the local directory (`.`) to the (hopefully familiar) jupyter `WORKDIR`, `/home/jovyan`, as specified by the `volumes:` keyword.\n",
    "- Forwards the exposed port `8888` to the port `8000` on the host machine, as specified by the `ports:` keyword.\n",
    "\n",
    "The `this_redis` service:\n",
    "\n",
    "- Uses the `image:` keyword to define the service, meaning it will pull an image from the Docker Hub registry.\n",
    "- Uses the `redis` image.\n",
    "- Attaches the volume `redis_data` to the `redis` `WORKDIR`, `/data`, as specified by the `volumes:` keyword.\n",
    "\n",
    "\n",
    "The `this_api` service:\n",
    "\n",
    "- Uses the `build:` keyword **and the exact same `Dockerfile`** as the `this_jupyter` service. \n",
    "- Attaches the local directory (`.`) to the (hopefully familiar) jupyter `WORKDIR`, `/home/jovyan`, as specified by the `volumes:` keyword.\n",
    "- Forwards the exposed port `5000` to the port `5000` on the host machine, as specified by the `ports:` keyword.\n",
    "- Defines an environment variable using the `environment:` keyword, `FLASK_APP` with the value `main.py`. This argument will be used by the `flask` command to look for the python file defining the behavior of the flask app.\n",
    "- Defines an `entrypoint`. An entrypoint as the first command to be executed by the container when it launches. Here, we tell it to run `flask run --host-0.0.0.0`."
   ]
  },
  {
   "cell_type": "markdown",
   "metadata": {},
   "source": [
    "**$\\square$ Note** The definition of every container defined in a `docker-compose.yml` file must begin with either the `image:` keyword or the `build:` keyword. "
   ]
  },
  {
   "cell_type": "markdown",
   "metadata": {},
   "source": [
    "#### `Dockerfile`\n",
    "\n",
    "In `docker/jupyter` we include a `Dockerfile` to be used by the `this_jupyter` and `this_api` services. \n",
    "\n",
    "The `Dockerfile` consists of three instructions telling Docker how to build our image. \n",
    "\n",
    "    FROM jupyter/datascience-notebook\n",
    "    RUN pip install redis flask\n",
    "    EXPOSE 5000\n",
    "    \n",
    "`FROM jupyter/datascience-notebook` The file begins with a `FROM` instruction. This is mandatory for every `Dockerfile`. It tells Docker which image to use as the base image. Here, we use the `jupyter/datascience-notebook` image.\n",
    "\n",
    "`RUN pip install redis flask` Next, we use `conda` to install libraries to be used by our services. The `redis` library will be used both by our `this_jupyter` and `this_api` services to interface with the `this_redis` service. The `flask` library will be used by the `this_api` service to build our API. \n",
    "\n",
    "`EXPOSE 5000` Finally, we expose the port `5000` from the Docker container. The container already has the port `8888` exposed and is how we have been connecting to the Jupyter server. Now we expose port `5000` so that we can connect to our API on this port. Note that we specified this connection in the `docker-compose.yml` file.  "
   ]
  },
  {
   "cell_type": "markdown",
   "metadata": {},
   "source": [
    "#### API-application definition\n",
    "\n",
    "    .\n",
    "    ├── lib\n",
    "    │   └── helper.py\n",
    "    ├── main.py\n",
    "    ├── static\n",
    "    │   └── style.css\n",
    "    └── templates\n",
    "        └── iris.html\n"
   ]
  },
  {
   "cell_type": "markdown",
   "metadata": {},
   "source": [
    "### Run Your Application with Compose\n",
    "\n",
    "Now, you use the `docker-compose` command line tool to start the application. You will use the `-d` argument to specify that you wish to launch the application in detached mode.\n",
    "\n",
    "\n",
    "```\n",
    "$ docker-compose up -d\n",
    "Creating network \"05-redis_default\" with the default driver\n",
    "Creating volume \"05-redis_redis_data\" with default driver\n",
    "Building this_jupyter\n",
    "Step 1/3 : FROM jupyter/datascience-notebook\n",
    " ---> 03923014986d\n",
    "Step 2/3 : RUN conda install --yes redis flask\n",
    " ---> Using cache\n",
    " ---> 7ced54b401ce\n",
    "Step 3/3 : EXPOSE 5000\n",
    " ---> Using cache\n",
    " ---> 75d70dd58cab\n",
    "Successfully built 75d70dd58cab\n",
    "Successfully tagged 05-redis_this_jupyter:latest\n",
    "Building this_api\n",
    "Step 1/3 : FROM jupyter/datascience-notebook\n",
    " ---> 03923014986d\n",
    "Step 2/3 : RUN conda install --yes redis flask\n",
    " ---> Using cache\n",
    " ---> 7ced54b401ce\n",
    "Step 3/3 : EXPOSE 5000\n",
    " ---> Using cache\n",
    " ---> 75d70dd58cab\n",
    "Successfully built 75d70dd58cab\n",
    "Successfully tagged 05-redis_this_api:latest\n",
    "Creating 05-redis_this_jupyter_1 ... done\n",
    "Creating 05-redis_this_api_1     ... done\n",
    "Creating 05-redis_this_redis_1   ... done\n",
    "```\n",
    "\n",
    "The `docker-compose up` command\n",
    "\n",
    "1. Creates a network `05-redis_default` to which all of the services will connect.\n",
    "1. Creates the volume `05-redis_redis_data` to hold the data used by the `this_redis` service.\n",
    "1. Builds the `this_jupyter` service.\n",
    "   - if this is the first time you are building the image you will see more output at each build step. \n",
    "   - Note that the build steps correspond to the three lines of our `Dockerfile`.\n",
    "1. Verifies that the `redis` image is in the image cache (`Successfully tagged 05-redis_this_api:latest`). \n",
    "   - If the image is not in your image cache it will be pulled at this time and you will see more output.\n",
    "1. Creates the three services.\n"
   ]
  },
  {
   "cell_type": "code",
   "execution_count": 3,
   "metadata": {},
   "outputs": [
    {
     "data": {
      "text/plain": [
       "'API is live!'"
      ]
     },
     "execution_count": 3,
     "metadata": {},
     "output_type": "execute_result"
    }
   ],
   "source": [
    "import requests\n",
    "\n",
    "request = requests.get('http://this_api:5000')\n",
    "\n",
    "request.text "
   ]
  }
 ],
 "metadata": {
  "kernelspec": {
   "display_name": "Python 3",
   "language": "python",
   "name": "python3"
  },
  "language_info": {
   "codemirror_mode": {
    "name": "ipython",
    "version": 3
   },
   "file_extension": ".py",
   "mimetype": "text/x-python",
   "name": "python",
   "nbconvert_exporter": "python",
   "pygments_lexer": "ipython3",
   "version": "3.6.3"
  }
 },
 "nbformat": 4,
 "nbformat_minor": 2
}
