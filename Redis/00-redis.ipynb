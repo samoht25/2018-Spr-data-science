{
 "cells": [
  {
   "cell_type": "markdown",
   "metadata": {},
   "source": [
    "# Redis \n",
    "\n",
    "[Redis](1https://redis.io) is an open source, in-memory data structure store. It stores data values of several different types associated to a given key. In your stack, you will use Redis for two purposes. First, it will serve as a cache for persisting objects beyond the lifespan\n",
    "of a Python process or in-between Jupyter Notebooks. Second, you will use Redis as a message broker in order to perform delayed job processing from your notebooks using the Python library named `rq`. \n",
    "\n",
    "\n",
    "## Serialization\n",
    "\n",
    "A central task in the workflow of any data scientist is the storage, transmission, and reconstruction of data structures and object states. This process is known as serialization. It is a well-solved problem and you will have several tools at your disposal to manage this task. In this chapter, you will look at serialization in terms of converting objects in memory to their binary representation as well as the use of the popular JSON format for serialization as a text file. Later, you will see a second format of text file serialization, the YAML format."
   ]
  },
  {
   "cell_type": "markdown",
   "metadata": {},
   "source": [
    "You will be serializing and deserializing primarily for the purposes of sharing objects and data across processes. Here, we will be caching objects in Redis for the purposes of using them in a separate notebook or process. \n",
    "\n",
    "### Serialization Formats and Methods\n",
    "\n",
    "This book places an emphasis on working in Python. As such, it will focus on two Python-specific methods for serializing data: pickling and serializing via bytestring. In addition, you will look at appropriate uses for two text-based approaches to serializing data: JSON and YAML. JSON (JavaScript Object Notation) is a machine-readable subset of the JavaScript programming language that has been adopted by the programming community as a human readable, language agnostic approach to serialization. YAML is an alternative solution to the exact same problem. Both JSON and YAML are able to use the standard primitive data types: integers, floating-point numbers, Booleans, and null values, in addition to strings. For providing larger structures, both make use of the associative array, often called the dictionary, and the ordered list, also known as the array, the vector, the list, or the sequence. A dictionary holds data using key-value pairs; a list holds data using a numerical index. The two mainly differ in syntax. \n",
    "\n",
    "JSON makes use of nested braces and brackets to define data structures.\n",
    "\n",
    "    {'this_json' : 'is a JSON object',\n",
    "     'a nested object' : {\n",
    "      'obj_id' : 123,\n",
    "      'object value' : 'temperamental',\n",
    "      'is_nested' : true\n",
    "      },\n",
    "     'a list': [1,2,3,4],\n",
    "     'a list of strings': ['green eggs', 'ham'],\n",
    "     'last_used' : null\n",
    "    }"
   ]
  },
  {
   "cell_type": "markdown",
   "metadata": {},
   "source": [
    "YAML achieves the same purpose using white space. \n",
    "\n",
    "    this_yaml: is a YAML object\n",
    "    a_nested_object:\n",
    "      obj_id: 123\n",
    "      object_value: 'temperamental'\n",
    "      is_nested: true\n",
    "    a_list: \n",
    "      - 1 \n",
    "      - 2\n",
    "      - 3\n",
    "      - 4 \n",
    "    a_list_of_strings:\n",
    "      - green eggs\n",
    "      - ham\n",
    "    last_used: null\n",
    "\n",
    "Note that in each of these examples, none of the keys used have any syntactical meaning."
   ]
  },
  {
   "cell_type": "markdown",
   "metadata": {},
   "source": [
    "### Binary Encoding in Python\n",
    "\n",
    "The Python pickle module is the preferred method for serialization of Python objects and data to binary byte streams. There are a few fundamental differences between pickling data and serializing using JSON or YAML. As noted, both JSON and YAML are human readable. An object converted to a byte stream is not human readable. JSON and YAML serialized objects will be readable by a process run in any language, while a pickled object will only be readable in Python. Because a pickled object does not have to be concerned with interoperability, a wide variety of Python objects can be pickled, whereas only dictionaries can be serialized using JSON or YAML. For the data scientist, this includes but is not limited to the `numpy` array, the `pandas` DataFrame, or the `sklearn` Model. Over the next chapter, you will explore a variety of methods for encoding data to a binary byte stream using Python."
   ]
  },
  {
   "cell_type": "code",
   "execution_count": null,
   "metadata": {},
   "outputs": [],
   "source": []
  }
 ],
 "metadata": {
  "kernelspec": {
   "display_name": "Python 3",
   "language": "python",
   "name": "python3"
  },
  "language_info": {
   "codemirror_mode": {
    "name": "ipython",
    "version": 3
   },
   "file_extension": ".py",
   "mimetype": "text/x-python",
   "name": "python",
   "nbconvert_exporter": "python",
   "pygments_lexer": "ipython3",
   "version": "3.6.3"
  }
 },
 "nbformat": 4,
 "nbformat_minor": 2
}
