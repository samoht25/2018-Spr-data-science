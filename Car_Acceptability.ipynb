{
 "cells": [
  {
   "cell_type": "code",
   "execution_count": 1,
   "metadata": {},
   "outputs": [
    {
     "data": {
      "text/html": [
       "<table>\n",
       "<thead><tr><th scope=col>buying_price</th><th scope=col>maint_price</th><th scope=col>no_doors</th><th scope=col>capacity</th><th scope=col>lug_boot</th><th scope=col>safety</th><th scope=col>acc</th></tr></thead>\n",
       "<tbody>\n",
       "\t<tr><td>vhigh</td><td>vhigh</td><td>2    </td><td>2    </td><td>small</td><td>low  </td><td>unacc</td></tr>\n",
       "\t<tr><td>vhigh</td><td>vhigh</td><td>2    </td><td>2    </td><td>small</td><td>med  </td><td>unacc</td></tr>\n",
       "\t<tr><td>vhigh</td><td>vhigh</td><td>2    </td><td>2    </td><td>small</td><td>high </td><td>unacc</td></tr>\n",
       "\t<tr><td>vhigh</td><td>vhigh</td><td>2    </td><td>2    </td><td>med  </td><td>low  </td><td>unacc</td></tr>\n",
       "\t<tr><td>vhigh</td><td>vhigh</td><td>2    </td><td>2    </td><td>med  </td><td>med  </td><td>unacc</td></tr>\n",
       "\t<tr><td>vhigh</td><td>vhigh</td><td>2    </td><td>2    </td><td>med  </td><td>high </td><td>unacc</td></tr>\n",
       "\t<tr><td>vhigh</td><td>vhigh</td><td>2    </td><td>2    </td><td>big  </td><td>low  </td><td>unacc</td></tr>\n",
       "\t<tr><td>vhigh</td><td>vhigh</td><td>2    </td><td>2    </td><td>big  </td><td>med  </td><td>unacc</td></tr>\n",
       "\t<tr><td>vhigh</td><td>vhigh</td><td>2    </td><td>2    </td><td>big  </td><td>high </td><td>unacc</td></tr>\n",
       "\t<tr><td>vhigh</td><td>vhigh</td><td>2    </td><td>4    </td><td>small</td><td>low  </td><td>unacc</td></tr>\n",
       "\t<tr><td>vhigh</td><td>vhigh</td><td>2    </td><td>4    </td><td>small</td><td>med  </td><td>unacc</td></tr>\n",
       "\t<tr><td>vhigh</td><td>vhigh</td><td>2    </td><td>4    </td><td>small</td><td>high </td><td>unacc</td></tr>\n",
       "\t<tr><td>vhigh</td><td>vhigh</td><td>2    </td><td>4    </td><td>med  </td><td>low  </td><td>unacc</td></tr>\n",
       "\t<tr><td>vhigh</td><td>vhigh</td><td>2    </td><td>4    </td><td>med  </td><td>med  </td><td>unacc</td></tr>\n",
       "\t<tr><td>vhigh</td><td>vhigh</td><td>2    </td><td>4    </td><td>med  </td><td>high </td><td>unacc</td></tr>\n",
       "\t<tr><td>vhigh</td><td>vhigh</td><td>2    </td><td>4    </td><td>big  </td><td>low  </td><td>unacc</td></tr>\n",
       "\t<tr><td>vhigh</td><td>vhigh</td><td>2    </td><td>4    </td><td>big  </td><td>med  </td><td>unacc</td></tr>\n",
       "\t<tr><td>vhigh</td><td>vhigh</td><td>2    </td><td>4    </td><td>big  </td><td>high </td><td>unacc</td></tr>\n",
       "\t<tr><td>vhigh</td><td>vhigh</td><td>2    </td><td>more </td><td>small</td><td>low  </td><td>unacc</td></tr>\n",
       "\t<tr><td>vhigh</td><td>vhigh</td><td>2    </td><td>more </td><td>small</td><td>med  </td><td>unacc</td></tr>\n",
       "\t<tr><td>vhigh</td><td>vhigh</td><td>2    </td><td>more </td><td>small</td><td>high </td><td>unacc</td></tr>\n",
       "\t<tr><td>vhigh</td><td>vhigh</td><td>2    </td><td>more </td><td>med  </td><td>low  </td><td>unacc</td></tr>\n",
       "\t<tr><td>vhigh</td><td>vhigh</td><td>2    </td><td>more </td><td>med  </td><td>med  </td><td>unacc</td></tr>\n",
       "\t<tr><td>vhigh</td><td>vhigh</td><td>2    </td><td>more </td><td>med  </td><td>high </td><td>unacc</td></tr>\n",
       "\t<tr><td>vhigh</td><td>vhigh</td><td>2    </td><td>more </td><td>big  </td><td>low  </td><td>unacc</td></tr>\n",
       "\t<tr><td>vhigh</td><td>vhigh</td><td>2    </td><td>more </td><td>big  </td><td>med  </td><td>unacc</td></tr>\n",
       "\t<tr><td>vhigh</td><td>vhigh</td><td>2    </td><td>more </td><td>big  </td><td>high </td><td>unacc</td></tr>\n",
       "\t<tr><td>vhigh</td><td>vhigh</td><td>3    </td><td>2    </td><td>small</td><td>low  </td><td>unacc</td></tr>\n",
       "\t<tr><td>vhigh</td><td>vhigh</td><td>3    </td><td>2    </td><td>small</td><td>med  </td><td>unacc</td></tr>\n",
       "\t<tr><td>vhigh</td><td>vhigh</td><td>3    </td><td>2    </td><td>small</td><td>high </td><td>unacc</td></tr>\n",
       "\t<tr><td>⋮</td><td>⋮</td><td>⋮</td><td>⋮</td><td>⋮</td><td>⋮</td><td>⋮</td></tr>\n",
       "\t<tr><td>low  </td><td>low  </td><td>4    </td><td>more </td><td>big  </td><td>low  </td><td>unacc</td></tr>\n",
       "\t<tr><td>low  </td><td>low  </td><td>4    </td><td>more </td><td>big  </td><td>med  </td><td>good </td></tr>\n",
       "\t<tr><td>low  </td><td>low  </td><td>4    </td><td>more </td><td>big  </td><td>high </td><td>vgood</td></tr>\n",
       "\t<tr><td>low  </td><td>low  </td><td>5more</td><td>2    </td><td>small</td><td>low  </td><td>unacc</td></tr>\n",
       "\t<tr><td>low  </td><td>low  </td><td>5more</td><td>2    </td><td>small</td><td>med  </td><td>unacc</td></tr>\n",
       "\t<tr><td>low  </td><td>low  </td><td>5more</td><td>2    </td><td>small</td><td>high </td><td>unacc</td></tr>\n",
       "\t<tr><td>low  </td><td>low  </td><td>5more</td><td>2    </td><td>med  </td><td>low  </td><td>unacc</td></tr>\n",
       "\t<tr><td>low  </td><td>low  </td><td>5more</td><td>2    </td><td>med  </td><td>med  </td><td>unacc</td></tr>\n",
       "\t<tr><td>low  </td><td>low  </td><td>5more</td><td>2    </td><td>med  </td><td>high </td><td>unacc</td></tr>\n",
       "\t<tr><td>low  </td><td>low  </td><td>5more</td><td>2    </td><td>big  </td><td>low  </td><td>unacc</td></tr>\n",
       "\t<tr><td>low  </td><td>low  </td><td>5more</td><td>2    </td><td>big  </td><td>med  </td><td>unacc</td></tr>\n",
       "\t<tr><td>low  </td><td>low  </td><td>5more</td><td>2    </td><td>big  </td><td>high </td><td>unacc</td></tr>\n",
       "\t<tr><td>low  </td><td>low  </td><td>5more</td><td>4    </td><td>small</td><td>low  </td><td>unacc</td></tr>\n",
       "\t<tr><td>low  </td><td>low  </td><td>5more</td><td>4    </td><td>small</td><td>med  </td><td>acc  </td></tr>\n",
       "\t<tr><td>low  </td><td>low  </td><td>5more</td><td>4    </td><td>small</td><td>high </td><td>good </td></tr>\n",
       "\t<tr><td>low  </td><td>low  </td><td>5more</td><td>4    </td><td>med  </td><td>low  </td><td>unacc</td></tr>\n",
       "\t<tr><td>low  </td><td>low  </td><td>5more</td><td>4    </td><td>med  </td><td>med  </td><td>good </td></tr>\n",
       "\t<tr><td>low  </td><td>low  </td><td>5more</td><td>4    </td><td>med  </td><td>high </td><td>vgood</td></tr>\n",
       "\t<tr><td>low  </td><td>low  </td><td>5more</td><td>4    </td><td>big  </td><td>low  </td><td>unacc</td></tr>\n",
       "\t<tr><td>low  </td><td>low  </td><td>5more</td><td>4    </td><td>big  </td><td>med  </td><td>good </td></tr>\n",
       "\t<tr><td>low  </td><td>low  </td><td>5more</td><td>4    </td><td>big  </td><td>high </td><td>vgood</td></tr>\n",
       "\t<tr><td>low  </td><td>low  </td><td>5more</td><td>more </td><td>small</td><td>low  </td><td>unacc</td></tr>\n",
       "\t<tr><td>low  </td><td>low  </td><td>5more</td><td>more </td><td>small</td><td>med  </td><td>acc  </td></tr>\n",
       "\t<tr><td>low  </td><td>low  </td><td>5more</td><td>more </td><td>small</td><td>high </td><td>good </td></tr>\n",
       "\t<tr><td>low  </td><td>low  </td><td>5more</td><td>more </td><td>med  </td><td>low  </td><td>unacc</td></tr>\n",
       "\t<tr><td>low  </td><td>low  </td><td>5more</td><td>more </td><td>med  </td><td>med  </td><td>good </td></tr>\n",
       "\t<tr><td>low  </td><td>low  </td><td>5more</td><td>more </td><td>med  </td><td>high </td><td>vgood</td></tr>\n",
       "\t<tr><td>low  </td><td>low  </td><td>5more</td><td>more </td><td>big  </td><td>low  </td><td>unacc</td></tr>\n",
       "\t<tr><td>low  </td><td>low  </td><td>5more</td><td>more </td><td>big  </td><td>med  </td><td>good </td></tr>\n",
       "\t<tr><td>low  </td><td>low  </td><td>5more</td><td>more </td><td>big  </td><td>high </td><td>vgood</td></tr>\n",
       "</tbody>\n",
       "</table>\n"
      ],
      "text/latex": [
       "\\begin{tabular}{r|lllllll}\n",
       " buying\\_price & maint\\_price & no\\_doors & capacity & lug\\_boot & safety & acc\\\\\n",
       "\\hline\n",
       "\t vhigh & vhigh & 2     & 2     & small & low   & unacc\\\\\n",
       "\t vhigh & vhigh & 2     & 2     & small & med   & unacc\\\\\n",
       "\t vhigh & vhigh & 2     & 2     & small & high  & unacc\\\\\n",
       "\t vhigh & vhigh & 2     & 2     & med   & low   & unacc\\\\\n",
       "\t vhigh & vhigh & 2     & 2     & med   & med   & unacc\\\\\n",
       "\t vhigh & vhigh & 2     & 2     & med   & high  & unacc\\\\\n",
       "\t vhigh & vhigh & 2     & 2     & big   & low   & unacc\\\\\n",
       "\t vhigh & vhigh & 2     & 2     & big   & med   & unacc\\\\\n",
       "\t vhigh & vhigh & 2     & 2     & big   & high  & unacc\\\\\n",
       "\t vhigh & vhigh & 2     & 4     & small & low   & unacc\\\\\n",
       "\t vhigh & vhigh & 2     & 4     & small & med   & unacc\\\\\n",
       "\t vhigh & vhigh & 2     & 4     & small & high  & unacc\\\\\n",
       "\t vhigh & vhigh & 2     & 4     & med   & low   & unacc\\\\\n",
       "\t vhigh & vhigh & 2     & 4     & med   & med   & unacc\\\\\n",
       "\t vhigh & vhigh & 2     & 4     & med   & high  & unacc\\\\\n",
       "\t vhigh & vhigh & 2     & 4     & big   & low   & unacc\\\\\n",
       "\t vhigh & vhigh & 2     & 4     & big   & med   & unacc\\\\\n",
       "\t vhigh & vhigh & 2     & 4     & big   & high  & unacc\\\\\n",
       "\t vhigh & vhigh & 2     & more  & small & low   & unacc\\\\\n",
       "\t vhigh & vhigh & 2     & more  & small & med   & unacc\\\\\n",
       "\t vhigh & vhigh & 2     & more  & small & high  & unacc\\\\\n",
       "\t vhigh & vhigh & 2     & more  & med   & low   & unacc\\\\\n",
       "\t vhigh & vhigh & 2     & more  & med   & med   & unacc\\\\\n",
       "\t vhigh & vhigh & 2     & more  & med   & high  & unacc\\\\\n",
       "\t vhigh & vhigh & 2     & more  & big   & low   & unacc\\\\\n",
       "\t vhigh & vhigh & 2     & more  & big   & med   & unacc\\\\\n",
       "\t vhigh & vhigh & 2     & more  & big   & high  & unacc\\\\\n",
       "\t vhigh & vhigh & 3     & 2     & small & low   & unacc\\\\\n",
       "\t vhigh & vhigh & 3     & 2     & small & med   & unacc\\\\\n",
       "\t vhigh & vhigh & 3     & 2     & small & high  & unacc\\\\\n",
       "\t ⋮ & ⋮ & ⋮ & ⋮ & ⋮ & ⋮ & ⋮\\\\\n",
       "\t low   & low   & 4     & more  & big   & low   & unacc\\\\\n",
       "\t low   & low   & 4     & more  & big   & med   & good \\\\\n",
       "\t low   & low   & 4     & more  & big   & high  & vgood\\\\\n",
       "\t low   & low   & 5more & 2     & small & low   & unacc\\\\\n",
       "\t low   & low   & 5more & 2     & small & med   & unacc\\\\\n",
       "\t low   & low   & 5more & 2     & small & high  & unacc\\\\\n",
       "\t low   & low   & 5more & 2     & med   & low   & unacc\\\\\n",
       "\t low   & low   & 5more & 2     & med   & med   & unacc\\\\\n",
       "\t low   & low   & 5more & 2     & med   & high  & unacc\\\\\n",
       "\t low   & low   & 5more & 2     & big   & low   & unacc\\\\\n",
       "\t low   & low   & 5more & 2     & big   & med   & unacc\\\\\n",
       "\t low   & low   & 5more & 2     & big   & high  & unacc\\\\\n",
       "\t low   & low   & 5more & 4     & small & low   & unacc\\\\\n",
       "\t low   & low   & 5more & 4     & small & med   & acc  \\\\\n",
       "\t low   & low   & 5more & 4     & small & high  & good \\\\\n",
       "\t low   & low   & 5more & 4     & med   & low   & unacc\\\\\n",
       "\t low   & low   & 5more & 4     & med   & med   & good \\\\\n",
       "\t low   & low   & 5more & 4     & med   & high  & vgood\\\\\n",
       "\t low   & low   & 5more & 4     & big   & low   & unacc\\\\\n",
       "\t low   & low   & 5more & 4     & big   & med   & good \\\\\n",
       "\t low   & low   & 5more & 4     & big   & high  & vgood\\\\\n",
       "\t low   & low   & 5more & more  & small & low   & unacc\\\\\n",
       "\t low   & low   & 5more & more  & small & med   & acc  \\\\\n",
       "\t low   & low   & 5more & more  & small & high  & good \\\\\n",
       "\t low   & low   & 5more & more  & med   & low   & unacc\\\\\n",
       "\t low   & low   & 5more & more  & med   & med   & good \\\\\n",
       "\t low   & low   & 5more & more  & med   & high  & vgood\\\\\n",
       "\t low   & low   & 5more & more  & big   & low   & unacc\\\\\n",
       "\t low   & low   & 5more & more  & big   & med   & good \\\\\n",
       "\t low   & low   & 5more & more  & big   & high  & vgood\\\\\n",
       "\\end{tabular}\n"
      ],
      "text/markdown": [
       "\n",
       "buying_price | maint_price | no_doors | capacity | lug_boot | safety | acc | \n",
       "|---|---|---|---|---|---|---|---|---|---|---|---|---|---|---|---|---|---|---|---|---|---|---|---|---|---|---|---|---|---|---|---|---|---|---|---|---|---|---|---|---|---|---|---|---|---|---|---|---|---|---|---|---|---|---|---|---|---|---|---|---|\n",
       "| vhigh | vhigh | 2     | 2     | small | low   | unacc | \n",
       "| vhigh | vhigh | 2     | 2     | small | med   | unacc | \n",
       "| vhigh | vhigh | 2     | 2     | small | high  | unacc | \n",
       "| vhigh | vhigh | 2     | 2     | med   | low   | unacc | \n",
       "| vhigh | vhigh | 2     | 2     | med   | med   | unacc | \n",
       "| vhigh | vhigh | 2     | 2     | med   | high  | unacc | \n",
       "| vhigh | vhigh | 2     | 2     | big   | low   | unacc | \n",
       "| vhigh | vhigh | 2     | 2     | big   | med   | unacc | \n",
       "| vhigh | vhigh | 2     | 2     | big   | high  | unacc | \n",
       "| vhigh | vhigh | 2     | 4     | small | low   | unacc | \n",
       "| vhigh | vhigh | 2     | 4     | small | med   | unacc | \n",
       "| vhigh | vhigh | 2     | 4     | small | high  | unacc | \n",
       "| vhigh | vhigh | 2     | 4     | med   | low   | unacc | \n",
       "| vhigh | vhigh | 2     | 4     | med   | med   | unacc | \n",
       "| vhigh | vhigh | 2     | 4     | med   | high  | unacc | \n",
       "| vhigh | vhigh | 2     | 4     | big   | low   | unacc | \n",
       "| vhigh | vhigh | 2     | 4     | big   | med   | unacc | \n",
       "| vhigh | vhigh | 2     | 4     | big   | high  | unacc | \n",
       "| vhigh | vhigh | 2     | more  | small | low   | unacc | \n",
       "| vhigh | vhigh | 2     | more  | small | med   | unacc | \n",
       "| vhigh | vhigh | 2     | more  | small | high  | unacc | \n",
       "| vhigh | vhigh | 2     | more  | med   | low   | unacc | \n",
       "| vhigh | vhigh | 2     | more  | med   | med   | unacc | \n",
       "| vhigh | vhigh | 2     | more  | med   | high  | unacc | \n",
       "| vhigh | vhigh | 2     | more  | big   | low   | unacc | \n",
       "| vhigh | vhigh | 2     | more  | big   | med   | unacc | \n",
       "| vhigh | vhigh | 2     | more  | big   | high  | unacc | \n",
       "| vhigh | vhigh | 3     | 2     | small | low   | unacc | \n",
       "| vhigh | vhigh | 3     | 2     | small | med   | unacc | \n",
       "| vhigh | vhigh | 3     | 2     | small | high  | unacc | \n",
       "| ⋮ | ⋮ | ⋮ | ⋮ | ⋮ | ⋮ | ⋮ | \n",
       "| low   | low   | 4     | more  | big   | low   | unacc | \n",
       "| low   | low   | 4     | more  | big   | med   | good  | \n",
       "| low   | low   | 4     | more  | big   | high  | vgood | \n",
       "| low   | low   | 5more | 2     | small | low   | unacc | \n",
       "| low   | low   | 5more | 2     | small | med   | unacc | \n",
       "| low   | low   | 5more | 2     | small | high  | unacc | \n",
       "| low   | low   | 5more | 2     | med   | low   | unacc | \n",
       "| low   | low   | 5more | 2     | med   | med   | unacc | \n",
       "| low   | low   | 5more | 2     | med   | high  | unacc | \n",
       "| low   | low   | 5more | 2     | big   | low   | unacc | \n",
       "| low   | low   | 5more | 2     | big   | med   | unacc | \n",
       "| low   | low   | 5more | 2     | big   | high  | unacc | \n",
       "| low   | low   | 5more | 4     | small | low   | unacc | \n",
       "| low   | low   | 5more | 4     | small | med   | acc   | \n",
       "| low   | low   | 5more | 4     | small | high  | good  | \n",
       "| low   | low   | 5more | 4     | med   | low   | unacc | \n",
       "| low   | low   | 5more | 4     | med   | med   | good  | \n",
       "| low   | low   | 5more | 4     | med   | high  | vgood | \n",
       "| low   | low   | 5more | 4     | big   | low   | unacc | \n",
       "| low   | low   | 5more | 4     | big   | med   | good  | \n",
       "| low   | low   | 5more | 4     | big   | high  | vgood | \n",
       "| low   | low   | 5more | more  | small | low   | unacc | \n",
       "| low   | low   | 5more | more  | small | med   | acc   | \n",
       "| low   | low   | 5more | more  | small | high  | good  | \n",
       "| low   | low   | 5more | more  | med   | low   | unacc | \n",
       "| low   | low   | 5more | more  | med   | med   | good  | \n",
       "| low   | low   | 5more | more  | med   | high  | vgood | \n",
       "| low   | low   | 5more | more  | big   | low   | unacc | \n",
       "| low   | low   | 5more | more  | big   | med   | good  | \n",
       "| low   | low   | 5more | more  | big   | high  | vgood | \n",
       "\n",
       "\n"
      ],
      "text/plain": [
       "     buying_price maint_price no_doors capacity lug_boot safety acc  \n",
       "1    vhigh        vhigh       2        2        small    low    unacc\n",
       "2    vhigh        vhigh       2        2        small    med    unacc\n",
       "3    vhigh        vhigh       2        2        small    high   unacc\n",
       "4    vhigh        vhigh       2        2        med      low    unacc\n",
       "5    vhigh        vhigh       2        2        med      med    unacc\n",
       "6    vhigh        vhigh       2        2        med      high   unacc\n",
       "7    vhigh        vhigh       2        2        big      low    unacc\n",
       "8    vhigh        vhigh       2        2        big      med    unacc\n",
       "9    vhigh        vhigh       2        2        big      high   unacc\n",
       "10   vhigh        vhigh       2        4        small    low    unacc\n",
       "11   vhigh        vhigh       2        4        small    med    unacc\n",
       "12   vhigh        vhigh       2        4        small    high   unacc\n",
       "13   vhigh        vhigh       2        4        med      low    unacc\n",
       "14   vhigh        vhigh       2        4        med      med    unacc\n",
       "15   vhigh        vhigh       2        4        med      high   unacc\n",
       "16   vhigh        vhigh       2        4        big      low    unacc\n",
       "17   vhigh        vhigh       2        4        big      med    unacc\n",
       "18   vhigh        vhigh       2        4        big      high   unacc\n",
       "19   vhigh        vhigh       2        more     small    low    unacc\n",
       "20   vhigh        vhigh       2        more     small    med    unacc\n",
       "21   vhigh        vhigh       2        more     small    high   unacc\n",
       "22   vhigh        vhigh       2        more     med      low    unacc\n",
       "23   vhigh        vhigh       2        more     med      med    unacc\n",
       "24   vhigh        vhigh       2        more     med      high   unacc\n",
       "25   vhigh        vhigh       2        more     big      low    unacc\n",
       "26   vhigh        vhigh       2        more     big      med    unacc\n",
       "27   vhigh        vhigh       2        more     big      high   unacc\n",
       "28   vhigh        vhigh       3        2        small    low    unacc\n",
       "29   vhigh        vhigh       3        2        small    med    unacc\n",
       "30   vhigh        vhigh       3        2        small    high   unacc\n",
       "⋮    ⋮            ⋮           ⋮        ⋮        ⋮        ⋮      ⋮    \n",
       "1699 low          low         4        more     big      low    unacc\n",
       "1700 low          low         4        more     big      med    good \n",
       "1701 low          low         4        more     big      high   vgood\n",
       "1702 low          low         5more    2        small    low    unacc\n",
       "1703 low          low         5more    2        small    med    unacc\n",
       "1704 low          low         5more    2        small    high   unacc\n",
       "1705 low          low         5more    2        med      low    unacc\n",
       "1706 low          low         5more    2        med      med    unacc\n",
       "1707 low          low         5more    2        med      high   unacc\n",
       "1708 low          low         5more    2        big      low    unacc\n",
       "1709 low          low         5more    2        big      med    unacc\n",
       "1710 low          low         5more    2        big      high   unacc\n",
       "1711 low          low         5more    4        small    low    unacc\n",
       "1712 low          low         5more    4        small    med    acc  \n",
       "1713 low          low         5more    4        small    high   good \n",
       "1714 low          low         5more    4        med      low    unacc\n",
       "1715 low          low         5more    4        med      med    good \n",
       "1716 low          low         5more    4        med      high   vgood\n",
       "1717 low          low         5more    4        big      low    unacc\n",
       "1718 low          low         5more    4        big      med    good \n",
       "1719 low          low         5more    4        big      high   vgood\n",
       "1720 low          low         5more    more     small    low    unacc\n",
       "1721 low          low         5more    more     small    med    acc  \n",
       "1722 low          low         5more    more     small    high   good \n",
       "1723 low          low         5more    more     med      low    unacc\n",
       "1724 low          low         5more    more     med      med    good \n",
       "1725 low          low         5more    more     med      high   vgood\n",
       "1726 low          low         5more    more     big      low    unacc\n",
       "1727 low          low         5more    more     big      med    good \n",
       "1728 low          low         5more    more     big      high   vgood"
      ]
     },
     "metadata": {},
     "output_type": "display_data"
    },
    {
     "data": {
      "text/html": [
       "<ol class=list-inline>\n",
       "\t<li>'acc'</li>\n",
       "\t<li>'good'</li>\n",
       "\t<li>'unacc'</li>\n",
       "\t<li>'vgood'</li>\n",
       "</ol>\n"
      ],
      "text/latex": [
       "\\begin{enumerate*}\n",
       "\\item 'acc'\n",
       "\\item 'good'\n",
       "\\item 'unacc'\n",
       "\\item 'vgood'\n",
       "\\end{enumerate*}\n"
      ],
      "text/markdown": [
       "1. 'acc'\n",
       "2. 'good'\n",
       "3. 'unacc'\n",
       "4. 'vgood'\n",
       "\n",
       "\n"
      ],
      "text/plain": [
       "[1] \"acc\"   \"good\"  \"unacc\" \"vgood\""
      ]
     },
     "metadata": {},
     "output_type": "display_data"
    }
   ],
   "source": [
    "car = read.csv('car.data.txt', header = F)\n",
    "colnames(car) = c('buying_price', 'maint_price', 'no_doors', 'capacity', 'lug_boot', 'safety', 'acc')\n",
    "car\n",
    "levels(car$acc)"
   ]
  },
  {
   "cell_type": "markdown",
   "metadata": {
    "deletable": false,
    "editable": false,
    "nbgrader": {
     "checksum": "06e6b678539cc86d909a94eac60ddfd7",
     "grade": false,
     "grade_id": "cell-3a72ce8e7af3e7e1",
     "locked": true,
     "schema_version": 1,
     "solution": false
    }
   },
   "source": [
    "Why is it a best practice to run the next cell right after loading data?"
   ]
  },
  {
   "cell_type": "markdown",
   "metadata": {
    "deletable": false,
    "nbgrader": {
     "checksum": "ab7a5d7cfa3a506bb83d32cc8fa38bd2",
     "grade": true,
     "grade_id": "cell-1f150a02dc110f2c",
     "locked": false,
     "points": 2,
     "schema_version": 1,
     "solution": true
    }
   },
   "source": [
    "### The dim() command will allow you to know how many rows and columns there are in the data. In this case, you will know that you will be working with 1728 data points with 7 columns of parameters. "
   ]
  },
  {
   "cell_type": "code",
   "execution_count": 2,
   "metadata": {},
   "outputs": [
    {
     "data": {
      "text/html": [
       "<ol class=list-inline>\n",
       "\t<li>1728</li>\n",
       "\t<li>7</li>\n",
       "</ol>\n"
      ],
      "text/latex": [
       "\\begin{enumerate*}\n",
       "\\item 1728\n",
       "\\item 7\n",
       "\\end{enumerate*}\n"
      ],
      "text/markdown": [
       "1. 1728\n",
       "2. 7\n",
       "\n",
       "\n"
      ],
      "text/plain": [
       "[1] 1728    7"
      ]
     },
     "metadata": {},
     "output_type": "display_data"
    }
   ],
   "source": [
    "dim(car)"
   ]
  },
  {
   "cell_type": "markdown",
   "metadata": {
    "deletable": false,
    "editable": false,
    "nbgrader": {
     "checksum": "1596ff16a11dbac561a5cf37c5ee0633",
     "grade": false,
     "grade_id": "cell-05b48133888428f6",
     "locked": true,
     "schema_version": 1,
     "solution": false
    }
   },
   "source": [
    "Why are `no_doors` and `capacity` factors and not integers?"
   ]
  },
  {
   "cell_type": "markdown",
   "metadata": {
    "deletable": false,
    "nbgrader": {
     "checksum": "3cb230bae015c3f90e9634c73b6d649e",
     "grade": true,
     "grade_id": "cell-a30806e17090b423",
     "locked": false,
     "points": 2,
     "schema_version": 1,
     "solution": true
    }
   },
   "source": [
    "### Integer values can be applied by arithmetic operations while only factor operations can be applied by factors. In this case, we can see integer being used in the no_doors and capacity columns, but there are also factors within the columns such as \"5 more\" and \"more\" in which all values in the columns will become factors. In additon, the no_doors attribute doesn't necessary follow the incremental value of 3 doors being better than having 2 doors. The same can be true for capacity. These 2 attributes are all based on customers' preferences, as customer with 2 doors may prefer sports car while a car that holds 4 or more people are more suitable for families. "
   ]
  },
  {
   "cell_type": "code",
   "execution_count": 3,
   "metadata": {},
   "outputs": [
    {
     "name": "stdout",
     "output_type": "stream",
     "text": [
      "'data.frame':\t1728 obs. of  7 variables:\n",
      " $ buying_price: Factor w/ 4 levels \"high\",\"low\",\"med\",..: 4 4 4 4 4 4 4 4 4 4 ...\n",
      " $ maint_price : Factor w/ 4 levels \"high\",\"low\",\"med\",..: 4 4 4 4 4 4 4 4 4 4 ...\n",
      " $ no_doors    : Factor w/ 4 levels \"2\",\"3\",\"4\",\"5more\": 1 1 1 1 1 1 1 1 1 1 ...\n",
      " $ capacity    : Factor w/ 3 levels \"2\",\"4\",\"more\": 1 1 1 1 1 1 1 1 1 2 ...\n",
      " $ lug_boot    : Factor w/ 3 levels \"big\",\"med\",\"small\": 3 3 3 2 2 2 1 1 1 3 ...\n",
      " $ safety      : Factor w/ 3 levels \"high\",\"low\",\"med\": 2 3 1 2 3 1 2 3 1 2 ...\n",
      " $ acc         : Factor w/ 4 levels \"acc\",\"good\",\"unacc\",..: 3 3 3 3 3 3 3 3 3 3 ...\n"
     ]
    }
   ],
   "source": [
    "str(car)"
   ]
  },
  {
   "cell_type": "markdown",
   "metadata": {
    "deletable": false,
    "editable": false,
    "nbgrader": {
     "checksum": "65684817b03f47eb88e3d450f24eab0e",
     "grade": false,
     "grade_id": "cell-3a009f5596162e7f",
     "locked": true,
     "schema_version": 1,
     "solution": false
    }
   },
   "source": [
    "What do the commands in the next cell do? Why are they necessary?"
   ]
  },
  {
   "cell_type": "markdown",
   "metadata": {
    "deletable": false,
    "nbgrader": {
     "checksum": "8087274b930a03f4af0f6a0c6b9f5702",
     "grade": true,
     "grade_id": "cell-efac47ec1526f42b",
     "locked": false,
     "points": 2,
     "schema_version": 1,
     "solution": true
    }
   },
   "source": [
    "### The library caret allows you to do the following:\n",
    "### 1) Preprocessing data cleaning\n",
    "### 2) Data splitting\n",
    "### 3) fitting, training, testing, and predicting your data\n",
    "### 4) Create confusion Matrix to allow see the accuracy of your prediction and the model you are testing on.\n",
    "### The set.seed allows you to have the same results throughout the process. People who set the same seed will have the same answer. "
   ]
  },
  {
   "cell_type": "code",
   "execution_count": 4,
   "metadata": {},
   "outputs": [
    {
     "name": "stderr",
     "output_type": "stream",
     "text": [
      "Loading required package: lattice\n",
      "Loading required package: ggplot2\n"
     ]
    }
   ],
   "source": [
    "library(caret)\n",
    "library(ggplot2)\n",
    "library(lattice)\n",
    "set.seed(10)"
   ]
  },
  {
   "cell_type": "markdown",
   "metadata": {
    "deletable": false,
    "editable": false,
    "nbgrader": {
     "checksum": "560c9f875637313883fac966b961d305",
     "grade": false,
     "grade_id": "cell-d89f0def62fb6d34",
     "locked": true,
     "schema_version": 1,
     "solution": false
    }
   },
   "source": [
    "What does the next cell  show? **Don't interpret the results. Tell me what the results are.**"
   ]
  },
  {
   "cell_type": "markdown",
   "metadata": {
    "deletable": false,
    "nbgrader": {
     "checksum": "a5d67ad657deb36c10c8c68588233419",
     "grade": true,
     "grade_id": "cell-2b3b0271c06150b1",
     "locked": false,
     "points": 2,
     "schema_version": 1,
     "solution": true
    }
   },
   "source": [
    "### The table shows the number of cars under each car's category. 384 cars are acceptable, 69 cars are good, 1210 cars are unacceptable, and 65 cars are very good. The proportion table calculate the proportions of each categorized car by the total data points. The proportion values should all add up to 1. "
   ]
  },
  {
   "cell_type": "code",
   "execution_count": 5,
   "metadata": {},
   "outputs": [
    {
     "data": {
      "text/plain": [
       "\n",
       "  acc  good unacc vgood \n",
       "  384    69  1210    65 "
      ]
     },
     "metadata": {},
     "output_type": "display_data"
    }
   ],
   "source": [
    "table(car$acc)"
   ]
  },
  {
   "cell_type": "code",
   "execution_count": 6,
   "metadata": {},
   "outputs": [
    {
     "data": {
      "text/plain": [
       "\n",
       "       acc       good      unacc      vgood \n",
       "0.22222222 0.03993056 0.70023148 0.03761574 "
      ]
     },
     "metadata": {},
     "output_type": "display_data"
    }
   ],
   "source": [
    "prop.table(table(car$acc))"
   ]
  },
  {
   "cell_type": "markdown",
   "metadata": {
    "deletable": false,
    "editable": false,
    "nbgrader": {
     "checksum": "b609bce9a236ba2f75e28793ca4af9d7",
     "grade": false,
     "grade_id": "cell-35b5adb181d36dc3",
     "locked": true,
     "schema_version": 1,
     "solution": false
    }
   },
   "source": [
    "If `acc` is the target, what kind of a machine learning problem is this? What would be a good metric for the problem? Why? What would be a good benchmark? Why?"
   ]
  },
  {
   "cell_type": "markdown",
   "metadata": {
    "deletable": false,
    "nbgrader": {
     "checksum": "0df80ee79ae07385e400385e92bc3639",
     "grade": true,
     "grade_id": "cell-7987002df002508e",
     "locked": false,
     "points": 5,
     "schema_version": 1,
     "solution": true
    }
   },
   "source": [
    "### This problem will be classifcation and you would use the machine learning method logistic regression or K-Nearest supervised learning. We may also use Decision Tree/Random Forest for this data if we don't convert the datasets to numeric (right now the datasets are all factors). The metric that we will be using will be f1_score and/or accuracy to determine the model because we will need to see how accurate the features predict the target. We would use the dummy classifier to determine the benchmark or we can just assume all cars are unacceptable which is 50% of the entire data if we decide to clean the data in which the target would be either unacceptable or acceptable (combining \"good\" and \"vgood\" under the acceptable category). This will give us a feel to see if the solution are better or worse. Our model's accuracy will have to be at least 50% or better. There are other ways in presenting a benchmark, but these are just a few. "
   ]
  },
  {
   "cell_type": "code",
   "execution_count": 7,
   "metadata": {},
   "outputs": [
    {
     "data": {
      "image/png": "[encoded data removed]",
      "text/plain": [
       "plot without title"
      ]
     },
     "metadata": {},
     "output_type": "display_data"
    }
   ],
   "source": [
    "library(repr)\n",
    "options(repr.plot.width=10, repr.plot.height=4)\n",
    "barplot(prop.table(table(car$acc)))"
   ]
  },
  {
   "cell_type": "markdown",
   "metadata": {
    "deletable": false,
    "editable": false,
    "nbgrader": {
     "checksum": "006948bfe548b49675487631389fdf80",
     "grade": false,
     "grade_id": "cell-25aac4413a8f4d51",
     "locked": true,
     "schema_version": 1,
     "solution": false
    }
   },
   "source": [
    "Describe the distribution of the target class."
   ]
  },
  {
   "cell_type": "markdown",
   "metadata": {
    "deletable": false,
    "nbgrader": {
     "checksum": "39f2174a8089a659772ce90f8028db05",
     "grade": true,
     "grade_id": "cell-d3de745b2867418c",
     "locked": false,
     "points": 1,
     "schema_version": 1,
     "solution": true
    }
   },
   "source": [
    "### It seems like the majority of the cars are classified under \"unacc\" almost 70% of the entire data. The second most distribution is \"acc\" with 22%, followed by \"good\" and \"vgood\" which accounts for the remaining 8% of the data. We can summarize the data as 70% of the cars are unacceptable while 30% of the cars are acceptable or good. Overall, the data will be more skewed on one side."
   ]
  },
  {
   "cell_type": "markdown",
   "metadata": {
    "deletable": false,
    "editable": false,
    "nbgrader": {
     "checksum": "6661a88f5e50ece611a3277b33c9f18b",
     "grade": false,
     "grade_id": "cell-60efa88399f73abf",
     "locked": true,
     "schema_version": 1,
     "solution": false
    }
   },
   "source": [
    "What does the next cell show?"
   ]
  },
  {
   "cell_type": "markdown",
   "metadata": {
    "deletable": false,
    "nbgrader": {
     "checksum": "11548f683d7e106de90531b8177e9145",
     "grade": true,
     "grade_id": "cell-0c4c68b4c20940a9",
     "locked": false,
     "points": 2,
     "schema_version": 1,
     "solution": true
    }
   },
   "source": [
    "### This command adds up the total NA values (or unknown values) from each column. In this case there are 0 NA values in this dataset."
   ]
  },
  {
   "cell_type": "code",
   "execution_count": 8,
   "metadata": {},
   "outputs": [
    {
     "data": {
      "text/html": [
       "<dl class=dl-horizontal>\n",
       "\t<dt>buying_price</dt>\n",
       "\t\t<dd>0</dd>\n",
       "\t<dt>maint_price</dt>\n",
       "\t\t<dd>0</dd>\n",
       "\t<dt>no_doors</dt>\n",
       "\t\t<dd>0</dd>\n",
       "\t<dt>capacity</dt>\n",
       "\t\t<dd>0</dd>\n",
       "\t<dt>lug_boot</dt>\n",
       "\t\t<dd>0</dd>\n",
       "\t<dt>safety</dt>\n",
       "\t\t<dd>0</dd>\n",
       "\t<dt>acc</dt>\n",
       "\t\t<dd>0</dd>\n",
       "</dl>\n"
      ],
      "text/latex": [
       "\\begin{description*}\n",
       "\\item[buying\\textbackslash{}\\_price] 0\n",
       "\\item[maint\\textbackslash{}\\_price] 0\n",
       "\\item[no\\textbackslash{}\\_doors] 0\n",
       "\\item[capacity] 0\n",
       "\\item[lug\\textbackslash{}\\_boot] 0\n",
       "\\item[safety] 0\n",
       "\\item[acc] 0\n",
       "\\end{description*}\n"
      ],
      "text/markdown": [
       "buying_price\n",
       ":   0maint_price\n",
       ":   0no_doors\n",
       ":   0capacity\n",
       ":   0lug_boot\n",
       ":   0safety\n",
       ":   0acc\n",
       ":   0\n",
       "\n"
      ],
      "text/plain": [
       "buying_price  maint_price     no_doors     capacity     lug_boot       safety \n",
       "           0            0            0            0            0            0 \n",
       "         acc \n",
       "           0 "
      ]
     },
     "metadata": {},
     "output_type": "display_data"
    },
    {
     "data": {
      "text/html": [
       "FALSE"
      ],
      "text/latex": [
       "FALSE"
      ],
      "text/markdown": [
       "FALSE"
      ],
      "text/plain": [
       "[1] FALSE"
      ]
     },
     "metadata": {},
     "output_type": "display_data"
    }
   ],
   "source": [
    "colSums(is.na(car))\n",
    "any(is.na(car))"
   ]
  },
  {
   "cell_type": "code",
   "execution_count": 9,
   "metadata": {},
   "outputs": [
    {
     "name": "stderr",
     "output_type": "stream",
     "text": [
      "Warning message in rbind(parts$upper, ellip_v, parts$lower, deparse.level = 0L):\n",
      "“number of columns of result is not a multiple of vector length (arg 2)”"
     ]
    },
    {
     "data": {
      "text/html": [],
      "text/latex": [],
      "text/markdown": [],
      "text/plain": [
       "    \n",
       "1   \n",
       "2   \n",
       "3   \n",
       "4   \n",
       "5   \n",
       "6   \n",
       "7   \n",
       "8   \n",
       "9   \n",
       "10  \n",
       "11  \n",
       "12  \n",
       "13  \n",
       "14  \n",
       "15  \n",
       "16  \n",
       "17  \n",
       "18  \n",
       "19  \n",
       "20  \n",
       "21  \n",
       "22  \n",
       "23  \n",
       "24  \n",
       "25  \n",
       "26  \n",
       "27  \n",
       "28  \n",
       "29  \n",
       "30  \n",
       "⋮   \n",
       "1699\n",
       "1700\n",
       "1701\n",
       "1702\n",
       "1703\n",
       "1704\n",
       "1705\n",
       "1706\n",
       "1707\n",
       "1708\n",
       "1709\n",
       "1710\n",
       "1711\n",
       "1712\n",
       "1713\n",
       "1714\n",
       "1715\n",
       "1716\n",
       "1717\n",
       "1718\n",
       "1719\n",
       "1720\n",
       "1721\n",
       "1722\n",
       "1723\n",
       "1724\n",
       "1725\n",
       "1726\n",
       "1727\n",
       "1728"
      ]
     },
     "metadata": {},
     "output_type": "display_data"
    }
   ],
   "source": [
    "car_numeric_features = Filter(is.numeric, car)\n",
    "car_numeric_features"
   ]
  },
  {
   "cell_type": "markdown",
   "metadata": {
    "deletable": false,
    "editable": false,
    "nbgrader": {
     "checksum": "03e4786606b83fe63f974ee29bf4d7d3",
     "grade": false,
     "grade_id": "cell-5958a7c546dad8db",
     "locked": true,
     "schema_version": 1,
     "solution": false
    }
   },
   "source": [
    "What do the commands in the next cell do? Why are they necessary?"
   ]
  },
  {
   "cell_type": "markdown",
   "metadata": {
    "deletable": false,
    "nbgrader": {
     "checksum": "679fa6c5f17b77e9b823960ad8fe5738",
     "grade": true,
     "grade_id": "cell-ccbc49ada367e458",
     "locked": false,
     "points": 1,
     "schema_version": 1,
     "solution": true
    }
   },
   "source": [
    "### It is creating a train test split with 80% training data and 20% testing data with the target,  car acc column. List is listed as False because it is not a logical (boolean) dataset. We will then create the training_data (car[train_index,] 80% of the data) and test_data (car[-train_index,] 20% of the data)."
   ]
  },
  {
   "cell_type": "code",
   "execution_count": 10,
   "metadata": {},
   "outputs": [],
   "source": [
    "#?createDataPartition - setting the target. \n",
    "train_index <- createDataPartition(car$acc,p=0.8,list=FALSE)\n",
    "training_data <- car[train_index,]\n",
    "test_data <- car[-train_index,]"
   ]
  },
  {
   "cell_type": "code",
   "execution_count": 11,
   "metadata": {},
   "outputs": [
    {
     "name": "stderr",
     "output_type": "stream",
     "text": [
      "Updating HTML index of packages in '.Library'\n",
      "Making 'packages.html' ... done\n"
     ]
    }
   ],
   "source": [
    "#fitting and prediction. Fitting your target and features and training your model. \n",
    "install.packages(\"e1071\")\n",
    "library(e1071)\n",
    "model_fit <- train(acc~.,data=training_data, method = \"rpart\")\n",
    "#model_fit"
   ]
  },
  {
   "cell_type": "code",
   "execution_count": 12,
   "metadata": {
    "scrolled": true
   },
   "outputs": [],
   "source": [
    "#model_fit$finalModel"
   ]
  },
  {
   "cell_type": "code",
   "execution_count": 13,
   "metadata": {},
   "outputs": [
    {
     "data": {
      "text/html": [
       "<ol class=list-inline>\n",
       "\t<li>unacc</li>\n",
       "\t<li>unacc</li>\n",
       "\t<li>acc</li>\n",
       "\t<li>unacc</li>\n",
       "\t<li>acc</li>\n",
       "\t<li>unacc</li>\n",
       "\t<li>acc</li>\n",
       "\t<li>unacc</li>\n",
       "\t<li>unacc</li>\n",
       "\t<li>unacc</li>\n",
       "\t<li>unacc</li>\n",
       "\t<li>acc</li>\n",
       "\t<li>acc</li>\n",
       "\t<li>unacc</li>\n",
       "\t<li>unacc</li>\n",
       "\t<li>unacc</li>\n",
       "\t<li>unacc</li>\n",
       "\t<li>acc</li>\n",
       "\t<li>acc</li>\n",
       "\t<li>unacc</li>\n",
       "</ol>\n"
      ],
      "text/latex": [
       "\\begin{enumerate*}\n",
       "\\item unacc\n",
       "\\item unacc\n",
       "\\item acc\n",
       "\\item unacc\n",
       "\\item acc\n",
       "\\item unacc\n",
       "\\item acc\n",
       "\\item unacc\n",
       "\\item unacc\n",
       "\\item unacc\n",
       "\\item unacc\n",
       "\\item acc\n",
       "\\item acc\n",
       "\\item unacc\n",
       "\\item unacc\n",
       "\\item unacc\n",
       "\\item unacc\n",
       "\\item acc\n",
       "\\item acc\n",
       "\\item unacc\n",
       "\\end{enumerate*}\n"
      ],
      "text/markdown": [
       "1. unacc\n",
       "2. unacc\n",
       "3. acc\n",
       "4. unacc\n",
       "5. acc\n",
       "6. unacc\n",
       "7. acc\n",
       "8. unacc\n",
       "9. unacc\n",
       "10. unacc\n",
       "11. unacc\n",
       "12. acc\n",
       "13. acc\n",
       "14. unacc\n",
       "15. unacc\n",
       "16. unacc\n",
       "17. unacc\n",
       "18. acc\n",
       "19. acc\n",
       "20. unacc\n",
       "\n",
       "\n"
      ],
      "text/plain": [
       " [1] unacc unacc acc   unacc acc   unacc acc   unacc unacc unacc unacc acc  \n",
       "[13] acc   unacc unacc unacc unacc acc   acc   unacc\n",
       "Levels: acc good unacc vgood"
      ]
     },
     "metadata": {},
     "output_type": "display_data"
    }
   ],
   "source": [
    "#predict using your model and test_data\n",
    "predictions <- predict(model_fit, newdata = test_data)\n",
    "predictions[1:20]"
   ]
  },
  {
   "cell_type": "code",
   "execution_count": 14,
   "metadata": {},
   "outputs": [
    {
     "data": {
      "text/plain": [
       "Confusion Matrix and Statistics\n",
       "\n",
       "          Reference\n",
       "Prediction acc good unacc vgood\n",
       "     acc    67   13    41    13\n",
       "     good    0    0     0     0\n",
       "     unacc   9    0   201     0\n",
       "     vgood   0    0     0     0\n",
       "\n",
       "Overall Statistics\n",
       "                                          \n",
       "               Accuracy : 0.7791          \n",
       "                 95% CI : (0.7315, 0.8218)\n",
       "    No Information Rate : 0.7035          \n",
       "    P-Value [Acc > NIR] : 0.001013        \n",
       "                                          \n",
       "                  Kappa : 0.544           \n",
       " Mcnemar's Test P-Value : NA              \n",
       "\n",
       "Statistics by Class:\n",
       "\n",
       "                     Class: acc Class: good Class: unacc Class: vgood\n",
       "Sensitivity              0.8816     0.00000       0.8306      0.00000\n",
       "Specificity              0.7500     1.00000       0.9118      1.00000\n",
       "Pos Pred Value           0.5000         NaN       0.9571          NaN\n",
       "Neg Pred Value           0.9571     0.96221       0.6940      0.96221\n",
       "Prevalence               0.2209     0.03779       0.7035      0.03779\n",
       "Detection Rate           0.1948     0.00000       0.5843      0.00000\n",
       "Detection Prevalence     0.3895     0.00000       0.6105      0.00000\n",
       "Balanced Accuracy        0.8158     0.50000       0.8712      0.50000"
      ]
     },
     "metadata": {},
     "output_type": "display_data"
    }
   ],
   "source": [
    "confusionMatrix(predictions, test_data$acc)"
   ]
  },
  {
   "cell_type": "markdown",
   "metadata": {
    "deletable": false,
    "editable": false,
    "nbgrader": {
     "checksum": "a839aaf1cd9942e10b83a71c9411f7dc",
     "grade": false,
     "grade_id": "cell-52b6f15b9919b8f3",
     "locked": true,
     "schema_version": 1,
     "solution": false
    }
   },
   "source": [
    "Interpret these results. How should these results impact our work?"
   ]
  },
  {
   "cell_type": "markdown",
   "metadata": {
    "deletable": false,
    "nbgrader": {
     "checksum": "a1f37b76afad7c3f8e7c28b5c0fc2016",
     "grade": true,
     "grade_id": "cell-d721d3d63f21ea17",
     "locked": false,
     "points": 3,
     "schema_version": 1,
     "solution": true
    }
   },
   "source": [
    "### The training and testing data proportions are very similar to the actual result from the dataset car acc column. We wouldn't find any proportional difference between our train/test datas and actual data as the datasets will be consistent moving forward. The majority of our dataset will be determined and classified under \"unacc\" or \"acc\". I would just replace \"vgood\" and \"good\" with \"acc\" if I was to clean up the data."
   ]
  },
  {
   "cell_type": "code",
   "execution_count": 15,
   "metadata": {},
   "outputs": [],
   "source": [
    "#Data cleaning\n",
    "cleaning <- function(data){\n",
    "    data <- as.character(data)\n",
    "    if (data == \"vgood\" | data == \"good\"){\n",
    "        return (\"acc\")\n",
    "    }else{\n",
    "        return(data)\n",
    "    }\n",
    "}\n",
    "\n",
    "#sapply(car$acc, cleaning)"
   ]
  },
  {
   "cell_type": "code",
   "execution_count": 16,
   "metadata": {},
   "outputs": [
    {
     "data": {
      "text/plain": [
       "\n",
       "       acc       good      unacc      vgood \n",
       "0.22222222 0.03993056 0.70023148 0.03761574 "
      ]
     },
     "metadata": {},
     "output_type": "display_data"
    },
    {
     "data": {
      "text/plain": [
       "\n",
       "       acc       good      unacc      vgood \n",
       "0.22254335 0.04046243 0.69942197 0.03757225 "
      ]
     },
     "metadata": {},
     "output_type": "display_data"
    },
    {
     "data": {
      "text/plain": [
       "\n",
       "      acc      good     unacc     vgood \n",
       "0.2209302 0.0377907 0.7034884 0.0377907 "
      ]
     },
     "metadata": {},
     "output_type": "display_data"
    }
   ],
   "source": [
    "prop.table(table(car$acc))\n",
    "prop.table(table(training_data$acc))\n",
    "prop.table(table(test_data$acc))"
   ]
  },
  {
   "cell_type": "markdown",
   "metadata": {},
   "source": [
    "## EDA"
   ]
  },
  {
   "cell_type": "code",
   "execution_count": 17,
   "metadata": {},
   "outputs": [],
   "source": [
    "attach(training_data)"
   ]
  },
  {
   "cell_type": "code",
   "execution_count": 18,
   "metadata": {},
   "outputs": [
    {
     "data": {
      "text/plain": [
       "\n",
       " high   low   med vhigh \n",
       "  343   347   346   348 "
      ]
     },
     "metadata": {},
     "output_type": "display_data"
    }
   ],
   "source": [
    "table(training_data$buying_price)"
   ]
  },
  {
   "cell_type": "code",
   "execution_count": 19,
   "metadata": {},
   "outputs": [
    {
     "data": {
      "text/plain": [
       "buying_price\n",
       " high   low   med vhigh \n",
       "  343   347   346   348 "
      ]
     },
     "metadata": {},
     "output_type": "display_data"
    },
    {
     "data": {
      "text/plain": [
       "            acc\n",
       "buying_price        acc       good      unacc      vgood\n",
       "       high  0.26239067 0.00000000 0.73760933 0.00000000\n",
       "       low   0.20172911 0.11239193 0.59365994 0.09221902\n",
       "       med   0.26589595 0.04913295 0.62716763 0.05780347\n",
       "       vhigh 0.16091954 0.00000000 0.83908046 0.00000000"
      ]
     },
     "metadata": {},
     "output_type": "display_data"
    },
    {
     "data": {
      "text/plain": [
       "maint_price\n",
       " high   low   med vhigh \n",
       "  346   352   339   347 "
      ]
     },
     "metadata": {},
     "output_type": "display_data"
    },
    {
     "data": {
      "text/plain": [
       "           acc\n",
       "maint_price        acc       good      unacc      vgood\n",
       "      high  0.24277457 0.00000000 0.72543353 0.03179191\n",
       "      low   0.21022727 0.10511364 0.62500000 0.05965909\n",
       "      med   0.27433628 0.05604720 0.61061947 0.05899705\n",
       "      vhigh 0.16426513 0.00000000 0.83573487 0.00000000"
      ]
     },
     "metadata": {},
     "output_type": "display_data"
    },
    {
     "data": {
      "text/plain": [
       "no_doors\n",
       "    2     3     4 5more \n",
       "  345   350   345   344 "
      ]
     },
     "metadata": {},
     "output_type": "display_data"
    },
    {
     "data": {
      "text/plain": [
       "        acc\n",
       "no_doors        acc       good      unacc      vgood\n",
       "   2     0.16231884 0.03768116 0.77101449 0.02898551\n",
       "   3     0.23714286 0.04000000 0.68857143 0.03428571\n",
       "   4     0.25507246 0.04637681 0.65507246 0.04347826\n",
       "   5more 0.23546512 0.03779070 0.68313953 0.04360465"
      ]
     },
     "metadata": {},
     "output_type": "display_data"
    },
    {
     "data": {
      "text/plain": [
       "capacity\n",
       "   2    4 more \n",
       " 470  467  447 "
      ]
     },
     "metadata": {},
     "output_type": "display_data"
    },
    {
     "data": {
      "text/plain": [
       "        acc\n",
       "capacity        acc       good      unacc      vgood\n",
       "    2    0.00000000 0.00000000 1.00000000 0.00000000\n",
       "    4    0.32334047 0.06638116 0.55674518 0.05353319\n",
       "    more 0.35123043 0.05592841 0.53243848 0.06040268"
      ]
     },
     "metadata": {},
     "output_type": "display_data"
    },
    {
     "data": {
      "text/plain": [
       "lug_boot\n",
       "  big   med small \n",
       "  461   465   458 "
      ]
     },
     "metadata": {},
     "output_type": "display_data"
    },
    {
     "data": {
      "text/plain": [
       "        acc\n",
       "lug_boot        acc       good      unacc      vgood\n",
       "   big   0.24728850 0.04772234 0.63557484 0.06941432\n",
       "   med   0.23655914 0.03870968 0.68172043 0.04301075\n",
       "   small 0.18340611 0.03493450 0.78165939 0.00000000"
      ]
     },
     "metadata": {},
     "output_type": "display_data"
    },
    {
     "data": {
      "text/plain": [
       "safety\n",
       "high  low  med \n",
       " 463  450  471 "
      ]
     },
     "metadata": {},
     "output_type": "display_data"
    },
    {
     "data": {
      "text/plain": [
       "      acc\n",
       "safety        acc       good      unacc      vgood\n",
       "  high 0.34557235 0.04967603 0.49244060 0.11231102\n",
       "  low  0.00000000 0.00000000 1.00000000 0.00000000\n",
       "  med  0.31422505 0.07006369 0.61571125 0.00000000"
      ]
     },
     "metadata": {},
     "output_type": "display_data"
    }
   ],
   "source": [
    "table(buying_price)\n",
    "prop.table(table(buying_price, acc), 1)\n",
    "\n",
    "table(maint_price)\n",
    "prop.table(table(maint_price, acc), 1)\n",
    "\n",
    "table(no_doors)\n",
    "prop.table(table(no_doors, acc), 1)\n",
    "\n",
    "table(capacity)\n",
    "prop.table(table(capacity, acc), 1)\n",
    "\n",
    "table(lug_boot)\n",
    "prop.table(table(lug_boot, acc), 1)\n",
    "\n",
    "table(safety)\n",
    "prop.table(table(safety, acc), 1)"
   ]
  },
  {
   "cell_type": "markdown",
   "metadata": {
    "deletable": false,
    "editable": false,
    "nbgrader": {
     "checksum": "5fbf4fcc64939ac4fada90e640983be8",
     "grade": false,
     "grade_id": "cell-a0080b6598fc064c",
     "locked": true,
     "schema_version": 1,
     "solution": false
    }
   },
   "source": [
    "Which two features will be the strongest indicator of unacceptability? Why?"
   ]
  },
  {
   "cell_type": "markdown",
   "metadata": {
    "deletable": false,
    "nbgrader": {
     "checksum": "896783405af704493cdf946b70b52869",
     "grade": true,
     "grade_id": "cell-aa25dc1ba18de5e8",
     "locked": false,
     "points": 5,
     "schema_version": 1,
     "solution": true
    }
   },
   "source": [
    "### Based on my observation, it would be buying_price and safety that are the strongest 2 indicators of unacceptability. By looking at the tables, the higher the buying price, the higher the unacceptability percentage is. At the same time, for safety, the lower the safety the higher the unacceptability percentage is. Maint_price would also be an important indicator for unacceptability, but the low and medium prices' proportions are too close to one another. Overall, buying_price and safety show the most trends in terms of unacceptability while the other features shows little to no trends at all."
   ]
  },
  {
   "cell_type": "markdown",
   "metadata": {
    "deletable": false,
    "editable": false,
    "nbgrader": {
     "checksum": "ce7a7b4f3395b44172cf8b186415b20d",
     "grade": false,
     "grade_id": "cell-fdb05a0a70a2b377",
     "locked": true,
     "schema_version": 1,
     "solution": false
    }
   },
   "source": [
    "## BONUS\n",
    "\n",
    "Prepare a vectorized model for acceptability."
   ]
  },
  {
   "cell_type": "code",
   "execution_count": 20,
   "metadata": {},
   "outputs": [
    {
     "data": {
      "text/html": [
       "<table>\n",
       "<thead><tr><th scope=col>buying_price</th><th scope=col>maint_price</th><th scope=col>no_doors</th><th scope=col>capacity</th><th scope=col>lug_boot</th><th scope=col>safety</th><th scope=col>acc</th></tr></thead>\n",
       "<tbody>\n",
       "\t<tr><td>vhigh</td><td>vhigh</td><td>2    </td><td>2    </td><td>small</td><td>low  </td><td>unacc</td></tr>\n",
       "\t<tr><td>vhigh</td><td>vhigh</td><td>2    </td><td>2    </td><td>small</td><td>med  </td><td>unacc</td></tr>\n",
       "\t<tr><td>vhigh</td><td>vhigh</td><td>2    </td><td>2    </td><td>small</td><td>high </td><td>unacc</td></tr>\n",
       "\t<tr><td>vhigh</td><td>vhigh</td><td>2    </td><td>2    </td><td>med  </td><td>low  </td><td>unacc</td></tr>\n",
       "\t<tr><td>vhigh</td><td>vhigh</td><td>2    </td><td>2    </td><td>med  </td><td>med  </td><td>unacc</td></tr>\n",
       "\t<tr><td>vhigh</td><td>vhigh</td><td>2    </td><td>2    </td><td>med  </td><td>high </td><td>unacc</td></tr>\n",
       "</tbody>\n",
       "</table>\n"
      ],
      "text/latex": [
       "\\begin{tabular}{r|lllllll}\n",
       " buying\\_price & maint\\_price & no\\_doors & capacity & lug\\_boot & safety & acc\\\\\n",
       "\\hline\n",
       "\t vhigh & vhigh & 2     & 2     & small & low   & unacc\\\\\n",
       "\t vhigh & vhigh & 2     & 2     & small & med   & unacc\\\\\n",
       "\t vhigh & vhigh & 2     & 2     & small & high  & unacc\\\\\n",
       "\t vhigh & vhigh & 2     & 2     & med   & low   & unacc\\\\\n",
       "\t vhigh & vhigh & 2     & 2     & med   & med   & unacc\\\\\n",
       "\t vhigh & vhigh & 2     & 2     & med   & high  & unacc\\\\\n",
       "\\end{tabular}\n"
      ],
      "text/markdown": [
       "\n",
       "buying_price | maint_price | no_doors | capacity | lug_boot | safety | acc | \n",
       "|---|---|---|---|---|---|\n",
       "| vhigh | vhigh | 2     | 2     | small | low   | unacc | \n",
       "| vhigh | vhigh | 2     | 2     | small | med   | unacc | \n",
       "| vhigh | vhigh | 2     | 2     | small | high  | unacc | \n",
       "| vhigh | vhigh | 2     | 2     | med   | low   | unacc | \n",
       "| vhigh | vhigh | 2     | 2     | med   | med   | unacc | \n",
       "| vhigh | vhigh | 2     | 2     | med   | high  | unacc | \n",
       "\n",
       "\n"
      ],
      "text/plain": [
       "  buying_price maint_price no_doors capacity lug_boot safety acc  \n",
       "1 vhigh        vhigh       2        2        small    low    unacc\n",
       "2 vhigh        vhigh       2        2        small    med    unacc\n",
       "3 vhigh        vhigh       2        2        small    high   unacc\n",
       "4 vhigh        vhigh       2        2        med      low    unacc\n",
       "5 vhigh        vhigh       2        2        med      med    unacc\n",
       "6 vhigh        vhigh       2        2        med      high   unacc"
      ]
     },
     "metadata": {},
     "output_type": "display_data"
    },
    {
     "data": {
      "text/html": [
       "<ol class=list-inline>\n",
       "\t<li>'acc'</li>\n",
       "\t<li>'good'</li>\n",
       "\t<li>'unacc'</li>\n",
       "\t<li>'vgood'</li>\n",
       "</ol>\n"
      ],
      "text/latex": [
       "\\begin{enumerate*}\n",
       "\\item 'acc'\n",
       "\\item 'good'\n",
       "\\item 'unacc'\n",
       "\\item 'vgood'\n",
       "\\end{enumerate*}\n"
      ],
      "text/markdown": [
       "1. 'acc'\n",
       "2. 'good'\n",
       "3. 'unacc'\n",
       "4. 'vgood'\n",
       "\n",
       "\n"
      ],
      "text/plain": [
       "[1] \"acc\"   \"good\"  \"unacc\" \"vgood\""
      ]
     },
     "metadata": {},
     "output_type": "display_data"
    }
   ],
   "source": [
    "#Observing the data\n",
    "head(car)\n",
    "levels(car$acc)"
   ]
  },
  {
   "cell_type": "code",
   "execution_count": 21,
   "metadata": {},
   "outputs": [
    {
     "data": {
      "text/html": [
       "<ol class=list-inline>\n",
       "\t<li>FALSE</li>\n",
       "\t<li>FALSE</li>\n",
       "\t<li>FALSE</li>\n",
       "\t<li>FALSE</li>\n",
       "\t<li>FALSE</li>\n",
       "\t<li>FALSE</li>\n",
       "</ol>\n"
      ],
      "text/latex": [
       "\\begin{enumerate*}\n",
       "\\item FALSE\n",
       "\\item FALSE\n",
       "\\item FALSE\n",
       "\\item FALSE\n",
       "\\item FALSE\n",
       "\\item FALSE\n",
       "\\end{enumerate*}\n"
      ],
      "text/markdown": [
       "1. FALSE\n",
       "2. FALSE\n",
       "3. FALSE\n",
       "4. FALSE\n",
       "5. FALSE\n",
       "6. FALSE\n",
       "\n",
       "\n"
      ],
      "text/plain": [
       "[1] FALSE FALSE FALSE FALSE FALSE FALSE"
      ]
     },
     "metadata": {},
     "output_type": "display_data"
    }
   ],
   "source": [
    "#Based on my analysis, Acceptability will be classified as either \"acc\", \"good\", or \"vgood\".\n",
    "#Crate acceptable mask model:\n",
    "acc_mask_model <- (car$acc == \"acc\" | car$acc == \"good\" | car$acc == \"vgood\")\n",
    "head(acc_mask_model)"
   ]
  },
  {
   "cell_type": "code",
   "execution_count": 22,
   "metadata": {},
   "outputs": [
    {
     "data": {
      "text/html": [
       "<table>\n",
       "<thead><tr><th></th><th scope=col>buying_price</th><th scope=col>maint_price</th><th scope=col>no_doors</th><th scope=col>capacity</th><th scope=col>lug_boot</th><th scope=col>safety</th><th scope=col>acc</th></tr></thead>\n",
       "<tbody>\n",
       "\t<tr><th scope=row>228</th><td>vhigh</td><td>med  </td><td>2    </td><td>4    </td><td>small</td><td>high </td><td>acc  </td></tr>\n",
       "\t<tr><th scope=row>231</th><td>vhigh</td><td>med  </td><td>2    </td><td>4    </td><td>med  </td><td>high </td><td>acc  </td></tr>\n",
       "\t<tr><th scope=row>233</th><td>vhigh</td><td>med  </td><td>2    </td><td>4    </td><td>big  </td><td>med  </td><td>acc  </td></tr>\n",
       "\t<tr><th scope=row>234</th><td>vhigh</td><td>med  </td><td>2    </td><td>4    </td><td>big  </td><td>high </td><td>acc  </td></tr>\n",
       "\t<tr><th scope=row>240</th><td>vhigh</td><td>med  </td><td>2    </td><td>more </td><td>med  </td><td>high </td><td>acc  </td></tr>\n",
       "\t<tr><th scope=row>242</th><td>vhigh</td><td>med  </td><td>2    </td><td>more </td><td>big  </td><td>med  </td><td>acc  </td></tr>\n",
       "\t<tr><th scope=row>243</th><td>vhigh</td><td>med  </td><td>2    </td><td>more </td><td>big  </td><td>high </td><td>acc  </td></tr>\n",
       "\t<tr><th scope=row>255</th><td>vhigh</td><td>med  </td><td>3    </td><td>4    </td><td>small</td><td>high </td><td>acc  </td></tr>\n",
       "\t<tr><th scope=row>258</th><td>vhigh</td><td>med  </td><td>3    </td><td>4    </td><td>med  </td><td>high </td><td>acc  </td></tr>\n",
       "\t<tr><th scope=row>260</th><td>vhigh</td><td>med  </td><td>3    </td><td>4    </td><td>big  </td><td>med  </td><td>acc  </td></tr>\n",
       "\t<tr><th scope=row>261</th><td>vhigh</td><td>med  </td><td>3    </td><td>4    </td><td>big  </td><td>high </td><td>acc  </td></tr>\n",
       "\t<tr><th scope=row>264</th><td>vhigh</td><td>med  </td><td>3    </td><td>more </td><td>small</td><td>high </td><td>acc  </td></tr>\n",
       "\t<tr><th scope=row>266</th><td>vhigh</td><td>med  </td><td>3    </td><td>more </td><td>med  </td><td>med  </td><td>acc  </td></tr>\n",
       "\t<tr><th scope=row>267</th><td>vhigh</td><td>med  </td><td>3    </td><td>more </td><td>med  </td><td>high </td><td>acc  </td></tr>\n",
       "\t<tr><th scope=row>269</th><td>vhigh</td><td>med  </td><td>3    </td><td>more </td><td>big  </td><td>med  </td><td>acc  </td></tr>\n",
       "\t<tr><th scope=row>270</th><td>vhigh</td><td>med  </td><td>3    </td><td>more </td><td>big  </td><td>high </td><td>acc  </td></tr>\n",
       "\t<tr><th scope=row>282</th><td>vhigh</td><td>med  </td><td>4    </td><td>4    </td><td>small</td><td>high </td><td>acc  </td></tr>\n",
       "\t<tr><th scope=row>284</th><td>vhigh</td><td>med  </td><td>4    </td><td>4    </td><td>med  </td><td>med  </td><td>acc  </td></tr>\n",
       "\t<tr><th scope=row>285</th><td>vhigh</td><td>med  </td><td>4    </td><td>4    </td><td>med  </td><td>high </td><td>acc  </td></tr>\n",
       "\t<tr><th scope=row>287</th><td>vhigh</td><td>med  </td><td>4    </td><td>4    </td><td>big  </td><td>med  </td><td>acc  </td></tr>\n",
       "</tbody>\n",
       "</table>\n"
      ],
      "text/latex": [
       "\\begin{tabular}{r|lllllll}\n",
       "  & buying\\_price & maint\\_price & no\\_doors & capacity & lug\\_boot & safety & acc\\\\\n",
       "\\hline\n",
       "\t228 & vhigh & med   & 2     & 4     & small & high  & acc  \\\\\n",
       "\t231 & vhigh & med   & 2     & 4     & med   & high  & acc  \\\\\n",
       "\t233 & vhigh & med   & 2     & 4     & big   & med   & acc  \\\\\n",
       "\t234 & vhigh & med   & 2     & 4     & big   & high  & acc  \\\\\n",
       "\t240 & vhigh & med   & 2     & more  & med   & high  & acc  \\\\\n",
       "\t242 & vhigh & med   & 2     & more  & big   & med   & acc  \\\\\n",
       "\t243 & vhigh & med   & 2     & more  & big   & high  & acc  \\\\\n",
       "\t255 & vhigh & med   & 3     & 4     & small & high  & acc  \\\\\n",
       "\t258 & vhigh & med   & 3     & 4     & med   & high  & acc  \\\\\n",
       "\t260 & vhigh & med   & 3     & 4     & big   & med   & acc  \\\\\n",
       "\t261 & vhigh & med   & 3     & 4     & big   & high  & acc  \\\\\n",
       "\t264 & vhigh & med   & 3     & more  & small & high  & acc  \\\\\n",
       "\t266 & vhigh & med   & 3     & more  & med   & med   & acc  \\\\\n",
       "\t267 & vhigh & med   & 3     & more  & med   & high  & acc  \\\\\n",
       "\t269 & vhigh & med   & 3     & more  & big   & med   & acc  \\\\\n",
       "\t270 & vhigh & med   & 3     & more  & big   & high  & acc  \\\\\n",
       "\t282 & vhigh & med   & 4     & 4     & small & high  & acc  \\\\\n",
       "\t284 & vhigh & med   & 4     & 4     & med   & med   & acc  \\\\\n",
       "\t285 & vhigh & med   & 4     & 4     & med   & high  & acc  \\\\\n",
       "\t287 & vhigh & med   & 4     & 4     & big   & med   & acc  \\\\\n",
       "\\end{tabular}\n"
      ],
      "text/markdown": [
       "\n",
       "| <!--/--> | buying_price | maint_price | no_doors | capacity | lug_boot | safety | acc | \n",
       "|---|---|---|---|---|---|---|---|---|---|---|---|---|---|---|---|---|---|---|---|\n",
       "| 228 | vhigh | med   | 2     | 4     | small | high  | acc   | \n",
       "| 231 | vhigh | med   | 2     | 4     | med   | high  | acc   | \n",
       "| 233 | vhigh | med   | 2     | 4     | big   | med   | acc   | \n",
       "| 234 | vhigh | med   | 2     | 4     | big   | high  | acc   | \n",
       "| 240 | vhigh | med   | 2     | more  | med   | high  | acc   | \n",
       "| 242 | vhigh | med   | 2     | more  | big   | med   | acc   | \n",
       "| 243 | vhigh | med   | 2     | more  | big   | high  | acc   | \n",
       "| 255 | vhigh | med   | 3     | 4     | small | high  | acc   | \n",
       "| 258 | vhigh | med   | 3     | 4     | med   | high  | acc   | \n",
       "| 260 | vhigh | med   | 3     | 4     | big   | med   | acc   | \n",
       "| 261 | vhigh | med   | 3     | 4     | big   | high  | acc   | \n",
       "| 264 | vhigh | med   | 3     | more  | small | high  | acc   | \n",
       "| 266 | vhigh | med   | 3     | more  | med   | med   | acc   | \n",
       "| 267 | vhigh | med   | 3     | more  | med   | high  | acc   | \n",
       "| 269 | vhigh | med   | 3     | more  | big   | med   | acc   | \n",
       "| 270 | vhigh | med   | 3     | more  | big   | high  | acc   | \n",
       "| 282 | vhigh | med   | 4     | 4     | small | high  | acc   | \n",
       "| 284 | vhigh | med   | 4     | 4     | med   | med   | acc   | \n",
       "| 285 | vhigh | med   | 4     | 4     | med   | high  | acc   | \n",
       "| 287 | vhigh | med   | 4     | 4     | big   | med   | acc   | \n",
       "\n",
       "\n"
      ],
      "text/plain": [
       "    buying_price maint_price no_doors capacity lug_boot safety acc\n",
       "228 vhigh        med         2        4        small    high   acc\n",
       "231 vhigh        med         2        4        med      high   acc\n",
       "233 vhigh        med         2        4        big      med    acc\n",
       "234 vhigh        med         2        4        big      high   acc\n",
       "240 vhigh        med         2        more     med      high   acc\n",
       "242 vhigh        med         2        more     big      med    acc\n",
       "243 vhigh        med         2        more     big      high   acc\n",
       "255 vhigh        med         3        4        small    high   acc\n",
       "258 vhigh        med         3        4        med      high   acc\n",
       "260 vhigh        med         3        4        big      med    acc\n",
       "261 vhigh        med         3        4        big      high   acc\n",
       "264 vhigh        med         3        more     small    high   acc\n",
       "266 vhigh        med         3        more     med      med    acc\n",
       "267 vhigh        med         3        more     med      high   acc\n",
       "269 vhigh        med         3        more     big      med    acc\n",
       "270 vhigh        med         3        more     big      high   acc\n",
       "282 vhigh        med         4        4        small    high   acc\n",
       "284 vhigh        med         4        4        med      med    acc\n",
       "285 vhigh        med         4        4        med      high   acc\n",
       "287 vhigh        med         4        4        big      med    acc"
      ]
     },
     "metadata": {},
     "output_type": "display_data"
    },
    {
     "data": {
      "text/html": [
       "<ol class=list-inline>\n",
       "\t<li>518</li>\n",
       "\t<li>7</li>\n",
       "</ol>\n"
      ],
      "text/latex": [
       "\\begin{enumerate*}\n",
       "\\item 518\n",
       "\\item 7\n",
       "\\end{enumerate*}\n"
      ],
      "text/markdown": [
       "1. 518\n",
       "2. 7\n",
       "\n",
       "\n"
      ],
      "text/plain": [
       "[1] 518   7"
      ]
     },
     "metadata": {},
     "output_type": "display_data"
    }
   ],
   "source": [
    "#pull the car data using acceptable mask model:\n",
    "head(car[acc_mask_model,], 20)\n",
    "dim(car[acc_mask_model,])"
   ]
  },
  {
   "cell_type": "code",
   "execution_count": 23,
   "metadata": {},
   "outputs": [
    {
     "data": {
      "text/html": [
       "<ol class=list-inline>\n",
       "\t<li>'unacc'</li>\n",
       "\t<li>'unacc'</li>\n",
       "\t<li>'unacc'</li>\n",
       "\t<li>'unacc'</li>\n",
       "\t<li>'unacc'</li>\n",
       "\t<li>'unacc'</li>\n",
       "\t<li>'unacc'</li>\n",
       "\t<li>'unacc'</li>\n",
       "\t<li>'unacc'</li>\n",
       "\t<li>'unacc'</li>\n",
       "\t<li>'unacc'</li>\n",
       "\t<li>'unacc'</li>\n",
       "\t<li>'unacc'</li>\n",
       "\t<li>'unacc'</li>\n",
       "\t<li>'unacc'</li>\n",
       "\t<li>'unacc'</li>\n",
       "\t<li>'unacc'</li>\n",
       "\t<li>'unacc'</li>\n",
       "\t<li>'unacc'</li>\n",
       "\t<li>'unacc'</li>\n",
       "</ol>\n"
      ],
      "text/latex": [
       "\\begin{enumerate*}\n",
       "\\item 'unacc'\n",
       "\\item 'unacc'\n",
       "\\item 'unacc'\n",
       "\\item 'unacc'\n",
       "\\item 'unacc'\n",
       "\\item 'unacc'\n",
       "\\item 'unacc'\n",
       "\\item 'unacc'\n",
       "\\item 'unacc'\n",
       "\\item 'unacc'\n",
       "\\item 'unacc'\n",
       "\\item 'unacc'\n",
       "\\item 'unacc'\n",
       "\\item 'unacc'\n",
       "\\item 'unacc'\n",
       "\\item 'unacc'\n",
       "\\item 'unacc'\n",
       "\\item 'unacc'\n",
       "\\item 'unacc'\n",
       "\\item 'unacc'\n",
       "\\end{enumerate*}\n"
      ],
      "text/markdown": [
       "1. 'unacc'\n",
       "2. 'unacc'\n",
       "3. 'unacc'\n",
       "4. 'unacc'\n",
       "5. 'unacc'\n",
       "6. 'unacc'\n",
       "7. 'unacc'\n",
       "8. 'unacc'\n",
       "9. 'unacc'\n",
       "10. 'unacc'\n",
       "11. 'unacc'\n",
       "12. 'unacc'\n",
       "13. 'unacc'\n",
       "14. 'unacc'\n",
       "15. 'unacc'\n",
       "16. 'unacc'\n",
       "17. 'unacc'\n",
       "18. 'unacc'\n",
       "19. 'unacc'\n",
       "20. 'unacc'\n",
       "\n",
       "\n"
      ],
      "text/plain": [
       " [1] \"unacc\" \"unacc\" \"unacc\" \"unacc\" \"unacc\" \"unacc\" \"unacc\" \"unacc\" \"unacc\"\n",
       "[10] \"unacc\" \"unacc\" \"unacc\" \"unacc\" \"unacc\" \"unacc\" \"unacc\" \"unacc\" \"unacc\"\n",
       "[19] \"unacc\" \"unacc\""
      ]
     },
     "metadata": {},
     "output_type": "display_data"
    }
   ],
   "source": [
    "#Create all unacceptable model:\n",
    "all_unacc <- rep(\"unacc\", length(car$acc))\n",
    "head(all_unacc,20)"
   ]
  },
  {
   "cell_type": "code",
   "execution_count": 24,
   "metadata": {
    "scrolled": false
   },
   "outputs": [
    {
     "data": {
      "text/html": [
       "<ol class=list-inline>\n",
       "\t<li>'unacc'</li>\n",
       "\t<li>'unacc'</li>\n",
       "\t<li>'unacc'</li>\n",
       "\t<li>'unacc'</li>\n",
       "\t<li>'unacc'</li>\n",
       "\t<li>'unacc'</li>\n",
       "\t<li>'unacc'</li>\n",
       "\t<li>'unacc'</li>\n",
       "\t<li>'unacc'</li>\n",
       "\t<li>'unacc'</li>\n",
       "\t<li>'unacc'</li>\n",
       "\t<li>'unacc'</li>\n",
       "\t<li>'unacc'</li>\n",
       "\t<li>'unacc'</li>\n",
       "\t<li>'unacc'</li>\n",
       "\t<li>'unacc'</li>\n",
       "\t<li>'unacc'</li>\n",
       "\t<li>'unacc'</li>\n",
       "\t<li>'unacc'</li>\n",
       "\t<li>'unacc'</li>\n",
       "</ol>\n"
      ],
      "text/latex": [
       "\\begin{enumerate*}\n",
       "\\item 'unacc'\n",
       "\\item 'unacc'\n",
       "\\item 'unacc'\n",
       "\\item 'unacc'\n",
       "\\item 'unacc'\n",
       "\\item 'unacc'\n",
       "\\item 'unacc'\n",
       "\\item 'unacc'\n",
       "\\item 'unacc'\n",
       "\\item 'unacc'\n",
       "\\item 'unacc'\n",
       "\\item 'unacc'\n",
       "\\item 'unacc'\n",
       "\\item 'unacc'\n",
       "\\item 'unacc'\n",
       "\\item 'unacc'\n",
       "\\item 'unacc'\n",
       "\\item 'unacc'\n",
       "\\item 'unacc'\n",
       "\\item 'unacc'\n",
       "\\end{enumerate*}\n"
      ],
      "text/markdown": [
       "1. 'unacc'\n",
       "2. 'unacc'\n",
       "3. 'unacc'\n",
       "4. 'unacc'\n",
       "5. 'unacc'\n",
       "6. 'unacc'\n",
       "7. 'unacc'\n",
       "8. 'unacc'\n",
       "9. 'unacc'\n",
       "10. 'unacc'\n",
       "11. 'unacc'\n",
       "12. 'unacc'\n",
       "13. 'unacc'\n",
       "14. 'unacc'\n",
       "15. 'unacc'\n",
       "16. 'unacc'\n",
       "17. 'unacc'\n",
       "18. 'unacc'\n",
       "19. 'unacc'\n",
       "20. 'unacc'\n",
       "\n",
       "\n"
      ],
      "text/plain": [
       " [1] \"unacc\" \"unacc\" \"unacc\" \"unacc\" \"unacc\" \"unacc\" \"unacc\" \"unacc\" \"unacc\"\n",
       "[10] \"unacc\" \"unacc\" \"unacc\" \"unacc\" \"unacc\" \"unacc\" \"unacc\" \"unacc\" \"unacc\"\n",
       "[19] \"unacc\" \"unacc\""
      ]
     },
     "metadata": {},
     "output_type": "display_data"
    }
   ],
   "source": [
    "#Creating acceptable model using acceptability mask model:\n",
    "acc_model <- rep(all_unacc)\n",
    "\n",
    "acc_model[acc_mask_model] = \"acc\"\n",
    "head(acc_model,20)"
   ]
  },
  {
   "cell_type": "code",
   "execution_count": 25,
   "metadata": {},
   "outputs": [
    {
     "data": {
      "text/html": [
       "<ol class=list-inline>\n",
       "\t<li>'acc'</li>\n",
       "\t<li>'acc'</li>\n",
       "\t<li>'acc'</li>\n",
       "\t<li>'acc'</li>\n",
       "\t<li>'acc'</li>\n",
       "\t<li>'acc'</li>\n",
       "\t<li>'acc'</li>\n",
       "\t<li>'acc'</li>\n",
       "\t<li>'acc'</li>\n",
       "\t<li>'acc'</li>\n",
       "\t<li>'acc'</li>\n",
       "\t<li>'acc'</li>\n",
       "\t<li>'acc'</li>\n",
       "\t<li>'acc'</li>\n",
       "\t<li>'acc'</li>\n",
       "\t<li>'acc'</li>\n",
       "\t<li>'acc'</li>\n",
       "\t<li>'acc'</li>\n",
       "\t<li>'acc'</li>\n",
       "\t<li>'acc'</li>\n",
       "</ol>\n"
      ],
      "text/latex": [
       "\\begin{enumerate*}\n",
       "\\item 'acc'\n",
       "\\item 'acc'\n",
       "\\item 'acc'\n",
       "\\item 'acc'\n",
       "\\item 'acc'\n",
       "\\item 'acc'\n",
       "\\item 'acc'\n",
       "\\item 'acc'\n",
       "\\item 'acc'\n",
       "\\item 'acc'\n",
       "\\item 'acc'\n",
       "\\item 'acc'\n",
       "\\item 'acc'\n",
       "\\item 'acc'\n",
       "\\item 'acc'\n",
       "\\item 'acc'\n",
       "\\item 'acc'\n",
       "\\item 'acc'\n",
       "\\item 'acc'\n",
       "\\item 'acc'\n",
       "\\end{enumerate*}\n"
      ],
      "text/markdown": [
       "1. 'acc'\n",
       "2. 'acc'\n",
       "3. 'acc'\n",
       "4. 'acc'\n",
       "5. 'acc'\n",
       "6. 'acc'\n",
       "7. 'acc'\n",
       "8. 'acc'\n",
       "9. 'acc'\n",
       "10. 'acc'\n",
       "11. 'acc'\n",
       "12. 'acc'\n",
       "13. 'acc'\n",
       "14. 'acc'\n",
       "15. 'acc'\n",
       "16. 'acc'\n",
       "17. 'acc'\n",
       "18. 'acc'\n",
       "19. 'acc'\n",
       "20. 'acc'\n",
       "\n",
       "\n"
      ],
      "text/plain": [
       " [1] \"acc\" \"acc\" \"acc\" \"acc\" \"acc\" \"acc\" \"acc\" \"acc\" \"acc\" \"acc\" \"acc\" \"acc\"\n",
       "[13] \"acc\" \"acc\" \"acc\" \"acc\" \"acc\" \"acc\" \"acc\" \"acc\""
      ]
     },
     "metadata": {},
     "output_type": "display_data"
    },
    {
     "data": {
      "text/html": [
       "518"
      ],
      "text/latex": [
       "518"
      ],
      "text/markdown": [
       "518"
      ],
      "text/plain": [
       "[1] 518"
      ]
     },
     "metadata": {},
     "output_type": "display_data"
    }
   ],
   "source": [
    "#check dim() to see if everything is correct.\n",
    "head(acc_model[acc_mask_model],20)\n",
    "length(acc_model[acc_mask_model])"
   ]
  },
  {
   "cell_type": "code",
   "execution_count": null,
   "metadata": {},
   "outputs": [],
   "source": []
  }
 ],
 "metadata": {
  "kernelspec": {
   "display_name": "R",
   "language": "R",
   "name": "ir"
  },
  "language_info": {
   "codemirror_mode": "r",
   "file_extension": ".r",
   "mimetype": "text/x-r-source",
   "name": "R",
   "pygments_lexer": "r",
   "version": "3.4.1"
  }
 },
 "nbformat": 4,
 "nbformat_minor": 2
}
