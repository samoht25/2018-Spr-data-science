{
 "cells": [
  {
   "cell_type": "markdown",
   "metadata": {},
   "source": [
    "## Create Mongo in BASH\n",
    "<br>\n",
    "Create a separate instance from your jupyter notebook and following the same AWS steps:\n",
    "<br>\n",
    "<br>\n",
    "docker pull mongo\n",
    "<br>\n",
    "docker volume create \"Mongo_Volume\"\n",
    "<br>\n",
    "docker run -d --name this_mongo -v Mongo_Volume:/data/db -p 27016:27017 mongo(image name)\n",
    "<br>\n",
    "docker exec -it this_mongo(other times, you would put the container's id) mongo \n",
    "<br>\n",
    "db.test.insert({\"test\":1})\n",
    "<br>\n",
    "db.test.find()\n",
    "\n",
    "## Local System with Mongo and Jupyter\n",
    "<br>\n",
    "Download: Anaconda, Docker(Toolbox), Atom.\n",
    "<br>\n",
    "Go into BIO, and enable virtualization.\n",
    "<br>\n",
    "#### In Bash:\n",
    "cd\n",
    "<br>\n",
    "mkdir src\n",
    "<br>\n",
    "cd src\n",
    "<br>\n",
    "touch README.md\n",
    "<br>\n",
    "atom .\n",
    "<br>\n",
    "In Atom: control+shift+p - used to sort out items:\n",
    "<br>\n",
    "In Atom: download: sort-lines, sublime-style-column-slection (control to use), autosave (make sure to enable)\n",
    "<br>\n",
    "#### Anaconda prompt: No R!\n",
    "cd src\n",
    "<br>\n",
    "conda env list\n",
    "<br>\n",
    "conda create -n py2(note NAME created) python=2.7\n",
    "<br>\n",
    "activate py2\n",
    "<br>\n",
    "python\n",
    "<br>\n",
    "activate root\n",
    "<br>\n",
    "conda install jupyter\n",
    "<br>\n",
    "jupyter notebook (to open jupyter on browser)\n",
    "<br>\n",
    "#### Docker Quickstart Terminal and docker-comp: Python and R!\n",
    "cd src\n",
    "<br>\n",
    "docker pull jupyter/datascience-notebook\n",
    "<br>\n",
    "docker pull mongo\n",
    "<br>\n",
    "touch docker-compose.yml\n",
    "<br>\n",
    "atom . \n",
    "<br>\n",
    "In atom under docker-compose.yml file: To build images, see cell below.\n",
    "<br>\n",
    "docker-compose up (find token here)\n",
    "<br>\n",
    "docker-compse down\n",
    "<br>\n",
    "docker-compose log my_mongo\n",
    "<br>\n",
    "docker-compose ps\n",
    "<br>\n",
    "open jupyter in browser: 192.168.100:8888/tree\n",
    "\n",
    "## Git Clone and Run on Local Network\n",
    "<br>\n",
    "In BASH:\n",
    "<br>\n",
    "cat ~/.ssh/id-rsa.pub\n",
    "<br>\n",
    "Go on Github => Settings => SSH and GPG keys => Green Icon \"New SSH Key\"\n",
    "<br>\n",
    "Insert key from ssh key.\n",
    "<br>\n",
    "In BASH:\n",
    "<br>\n",
    "ssh git@github.com\n",
    "<br>\n",
    "Should say \"You've successfully authenticated:\n",
    "<br>\n",
    "cd src (before cloning, make sure you are in the correct directory.)\n",
    "<br>\n",
    "git clone git@github.com:joshuacook/introductiontodatascience.git\n",
    "<br>\n",
    "git checkout -b 20180524\n",
    "<br>\n",
    "git status\n",
    "<br>\n",
    "git branch => git checkout master (back to master)\n",
    "<br>\n",
    "docker run -d --rm -v ~/src/introductiontodatascience:/home/jovyan -p 80:8888 jupyter/datascience-notebook\n",
    "<br>\n",
    "docker exec 88e0(container ID) jupyter notebook list\n",
    "<br>\n",
    "On browser: 192.168.99.100:80 - and insert token\n",
    "<br>\n",
    "Reminder: docker stop 88e0 (to stop container)\n",
    "<br>\n",
    "Note: Git Bash to copy token and Docker Quickstart terminal to run commands (Bash lines are too short)"
   ]
  },
  {
   "cell_type": "code",
   "execution_count": 35,
   "metadata": {},
   "outputs": [
    {
     "ename": "SyntaxError",
     "evalue": "invalid syntax (<ipython-input-35-8f5271d32b24>, line 3)",
     "output_type": "error",
     "traceback": [
      "\u001b[0;36m  File \u001b[0;32m\"<ipython-input-35-8f5271d32b24>\"\u001b[0;36m, line \u001b[0;32m3\u001b[0m\n\u001b[0;31m    services:\u001b[0m\n\u001b[0m             ^\u001b[0m\n\u001b[0;31mSyntaxError\u001b[0m\u001b[0;31m:\u001b[0m invalid syntax\n"
     ]
    }
   ],
   "source": [
    "#Reference\n",
    "version: \"3\"\n",
    "\n",
    "services:\n",
    "  my_jupyter:\n",
    "      image: jupyter/datascience-notebook\n",
    "      ports:\n",
    "        - 8888:8888\n",
    "      volumes:\n",
    "        - .:/home/jovyan\n",
    "\n",
    "  my_mongo:\n",
    "      image: mongo\n",
    "      volumes:\n",
    "        - mongo-data:/data/db\n",
    "\n",
    "volumes:\n",
    "    mongo-data:"
   ]
  },
  {
   "cell_type": "code",
   "execution_count": 1,
   "metadata": {
    "scrolled": false
   },
   "outputs": [
    {
     "name": "stdout",
     "output_type": "stream",
     "text": [
      "\n",
      "\n",
      "Package plan for installation in environment /opt/conda:\n",
      "\n",
      "The following NEW packages will be INSTALLED:\n",
      "\n",
      "    pymongo: 3.6.1-py36_0 conda-forge\n",
      "\n"
     ]
    }
   ],
   "source": [
    "!conda install --yes --quiet pymongo"
   ]
  },
  {
   "cell_type": "code",
   "execution_count": 2,
   "metadata": {},
   "outputs": [],
   "source": [
    "import pymongo"
   ]
  },
  {
   "cell_type": "code",
   "execution_count": 3,
   "metadata": {},
   "outputs": [],
   "source": [
    "from pymongo import MongoClient"
   ]
  },
  {
   "cell_type": "code",
   "execution_count": 4,
   "metadata": {},
   "outputs": [],
   "source": [
    "client = MongoClient(\"18.236.138.158\", 27016) #Josh's ip addres 27017 is Mango port"
   ]
  },
  {
   "cell_type": "code",
   "execution_count": 5,
   "metadata": {},
   "outputs": [
    {
     "data": {
      "text/plain": [
       "Database(MongoClient(host=['18.236.138.158:27016'], document_class=dict, tz_aware=False, connect=True), 'show_database_names')"
      ]
     },
     "execution_count": 5,
     "metadata": {},
     "output_type": "execute_result"
    }
   ],
   "source": [
    "client.show_database_names"
   ]
  },
  {
   "cell_type": "code",
   "execution_count": 7,
   "metadata": {},
   "outputs": [
    {
     "data": {
      "text/plain": [
       "['admin', 'config', 'local', 'twitter']"
      ]
     },
     "execution_count": 7,
     "metadata": {},
     "output_type": "execute_result"
    }
   ],
   "source": [
    "client.database_names()"
   ]
  },
  {
   "cell_type": "code",
   "execution_count": 27,
   "metadata": {},
   "outputs": [
    {
     "data": {
      "text/plain": [
       "{'_id': ObjectId('5a4d5678bfe2f9001587a12e'),\n",
       " 'created_at': 'Wed Jan 03 22:16:02 +0000 2018',\n",
       " 'id': 948679371505655808,\n",
       " 'id_str': '948679371505655808',\n",
       " 'text': 'Putangina ang boring na ng buhay ko dito jusko',\n",
       " 'source': '<a href=\"http://twitter.com/download/iphone\" rel=\"nofollow\">Twitter for iPhone</a>',\n",
       " 'truncated': False,\n",
       " 'in_reply_to_status_id': None,\n",
       " 'in_reply_to_status_id_str': None,\n",
       " 'in_reply_to_user_id': None,\n",
       " 'in_reply_to_user_id_str': None,\n",
       " 'in_reply_to_screen_name': None,\n",
       " 'user': {'id': 511923569,\n",
       "  'id_str': '511923569',\n",
       "  'name': 'Juan Miguel',\n",
       "  'screen_name': 'euanbedural_',\n",
       "  'location': 'Los Angeles, CA',\n",
       "  'url': None,\n",
       "  'description': None,\n",
       "  'translator_type': 'none',\n",
       "  'protected': False,\n",
       "  'verified': False,\n",
       "  'followers_count': 773,\n",
       "  'friends_count': 100,\n",
       "  'listed_count': 1,\n",
       "  'favourites_count': 4830,\n",
       "  'statuses_count': 5142,\n",
       "  'created_at': 'Fri Mar 02 13:22:22 +0000 2012',\n",
       "  'utc_offset': 28800,\n",
       "  'time_zone': 'Hong Kong',\n",
       "  'geo_enabled': True,\n",
       "  'lang': 'en',\n",
       "  'contributors_enabled': False,\n",
       "  'is_translator': False,\n",
       "  'profile_background_color': '000000',\n",
       "  'profile_background_image_url': 'http://pbs.twimg.com/profile_background_images/531342961343086592/4a7yCk4x.jpeg',\n",
       "  'profile_background_image_url_https': 'https://pbs.twimg.com/profile_background_images/531342961343086592/4a7yCk4x.jpeg',\n",
       "  'profile_background_tile': False,\n",
       "  'profile_link_color': '000000',\n",
       "  'profile_sidebar_border_color': 'FFFFFF',\n",
       "  'profile_sidebar_fill_color': 'EFEFEF',\n",
       "  'profile_text_color': '333333',\n",
       "  'profile_use_background_image': True,\n",
       "  'profile_image_url': 'http://pbs.twimg.com/profile_images/946844999412473856/07sICdIq_normal.jpg',\n",
       "  'profile_image_url_https': 'https://pbs.twimg.com/profile_images/946844999412473856/07sICdIq_normal.jpg',\n",
       "  'profile_banner_url': 'https://pbs.twimg.com/profile_banners/511923569/1514535792',\n",
       "  'default_profile': False,\n",
       "  'default_profile_image': False,\n",
       "  'following': None,\n",
       "  'follow_request_sent': None,\n",
       "  'notifications': None},\n",
       " 'geo': None,\n",
       " 'coordinates': None,\n",
       " 'place': {'id': '3b77caf94bfc81fe',\n",
       "  'url': 'https://api.twitter.com/1.1/geo/id/3b77caf94bfc81fe.json',\n",
       "  'place_type': 'city',\n",
       "  'name': 'Los Angeles',\n",
       "  'full_name': 'Los Angeles, CA',\n",
       "  'country_code': 'US',\n",
       "  'country': 'United States',\n",
       "  'bounding_box': {'type': 'Polygon',\n",
       "   'coordinates': [[[-118.668404, 33.704538],\n",
       "     [-118.668404, 34.337041],\n",
       "     [-118.155409, 34.337041],\n",
       "     [-118.155409, 33.704538]]]},\n",
       "  'attributes': {}},\n",
       " 'contributors': None,\n",
       " 'is_quote_status': False,\n",
       " 'quote_count': 0,\n",
       " 'reply_count': 0,\n",
       " 'retweet_count': 0,\n",
       " 'favorite_count': 0,\n",
       " 'entities': {'hashtags': [], 'urls': [], 'user_mentions': [], 'symbols': []},\n",
       " 'favorited': False,\n",
       " 'retweeted': False,\n",
       " 'filter_level': 'low',\n",
       " 'lang': 'tl',\n",
       " 'timestamp_ms': '1515017762434',\n",
       " 'user_processed': True}"
      ]
     },
     "execution_count": 27,
     "metadata": {},
     "output_type": "execute_result"
    }
   ],
   "source": [
    "tweet = client.twitter.tweets.find_one() #twitter = database, tweets = collection, find_one() is a function. \n",
    "tweet"
   ]
  },
  {
   "cell_type": "code",
   "execution_count": 29,
   "metadata": {},
   "outputs": [
    {
     "data": {
      "text/plain": [
       "'Putangina ang boring na ng buhay ko dito jusko'"
      ]
     },
     "execution_count": 29,
     "metadata": {},
     "output_type": "execute_result"
    }
   ],
   "source": [
    "tweet[\"text\"]"
   ]
  },
  {
   "cell_type": "code",
   "execution_count": 9,
   "metadata": {},
   "outputs": [
    {
     "data": {
      "text/plain": [
       "Database(MongoClient(host=['18.236.138.158:27016'], document_class=dict, tz_aware=False, connect=True), 'twitter')"
      ]
     },
     "execution_count": 9,
     "metadata": {},
     "output_type": "execute_result"
    }
   ],
   "source": [
    "client.twitter # can use . or [\"x\"]"
   ]
  },
  {
   "cell_type": "code",
   "execution_count": 33,
   "metadata": {
    "scrolled": true
   },
   "outputs": [
    {
     "data": {
      "text/plain": [
       "['users', 'instructor_test_group', 'tweets']"
      ]
     },
     "metadata": {},
     "output_type": "display_data"
    },
    {
     "data": {
      "text/plain": [
       "['admin', 'config', 'local', 'twitter']"
      ]
     },
     "metadata": {},
     "output_type": "display_data"
    }
   ],
   "source": [
    "display(client.twitter.collection_names())\n",
    "display(client.database_names())"
   ]
  },
  {
   "cell_type": "markdown",
   "metadata": {},
   "source": [
    "### Create your own database and collection"
   ]
  },
  {
   "cell_type": "code",
   "execution_count": 11,
   "metadata": {},
   "outputs": [
    {
     "data": {
      "text/plain": [
       "Database(MongoClient(host=['18.236.138.158:27016'], document_class=dict, tz_aware=False, connect=True), 'foobar')"
      ]
     },
     "execution_count": 11,
     "metadata": {},
     "output_type": "execute_result"
    }
   ],
   "source": [
    "fb = client.foobar\n",
    "fb"
   ]
  },
  {
   "cell_type": "code",
   "execution_count": 13,
   "metadata": {},
   "outputs": [
    {
     "data": {
      "text/plain": [
       "[]"
      ]
     },
     "execution_count": 13,
     "metadata": {},
     "output_type": "execute_result"
    }
   ],
   "source": [
    "fb.collection_names()"
   ]
  },
  {
   "cell_type": "code",
   "execution_count": 12,
   "metadata": {},
   "outputs": [
    {
     "data": {
      "text/plain": [
       "Collection(Database(MongoClient(host=['18.236.138.158:27016'], document_class=dict, tz_aware=False, connect=True), 'foobar'), 'bang')"
      ]
     },
     "execution_count": 12,
     "metadata": {},
     "output_type": "execute_result"
    }
   ],
   "source": [
    "bg = fb.bang # collection in foobar called bang in bg.\n",
    "bg"
   ]
  },
  {
   "cell_type": "code",
   "execution_count": 14,
   "metadata": {},
   "outputs": [
    {
     "data": {
      "text/plain": [
       "<pymongo.results.InsertOneResult at 0x7f7fb11c1f88>"
      ]
     },
     "execution_count": 14,
     "metadata": {},
     "output_type": "execute_result"
    }
   ],
   "source": [
    "bg.insert_one({\"key\" : \"hello\"})"
   ]
  },
  {
   "cell_type": "code",
   "execution_count": 15,
   "metadata": {},
   "outputs": [
    {
     "data": {
      "text/plain": [
       "['bang']"
      ]
     },
     "execution_count": 15,
     "metadata": {},
     "output_type": "execute_result"
    }
   ],
   "source": [
    "#once inserted it will then create it. \n",
    "fb.collection_names()"
   ]
  },
  {
   "cell_type": "code",
   "execution_count": 16,
   "metadata": {},
   "outputs": [
    {
     "data": {
      "text/plain": [
       "['admin', 'config', 'foobar', 'local', 'twitter']"
      ]
     },
     "execution_count": 16,
     "metadata": {},
     "output_type": "execute_result"
    }
   ],
   "source": [
    "client.database_names()"
   ]
  },
  {
   "cell_type": "code",
   "execution_count": 19,
   "metadata": {},
   "outputs": [
    {
     "data": {
      "text/plain": [
       "[{'_id': ObjectId('5af4fb74de4fb200312dfb55'), 'key': 'hello'},\n",
       " {'_id': ObjectId('5af4fb797a687d00200e215a'), 'key': 'hello'},\n",
       " {'_id': ObjectId('5af4fb79863f3b018cf72234'), 'key': 'hello'},\n",
       " {'_id': ObjectId('5af4fb7a57503a01227c6c13'), 'key': 'hello'},\n",
       " {'_id': ObjectId('5af4fb7b8c304f00e9e8c5da'), 'key': 'hello'},\n",
       " {'_id': ObjectId('5af4fb7eaedac000b72f06dc'), 'key': 'hello'},\n",
       " {'_id': ObjectId('5af4fb810017a000bcc7f41e'), 'key': 'hello'},\n",
       " {'_id': ObjectId('5af4fb8136db76008b1d6744'), 'key': 'hello'},\n",
       " {'_id': ObjectId('5af4fb815807e5011be017bb'), 'key': 'hello'},\n",
       " {'_id': ObjectId('5af4fb8219c01500fcef90b8'), 'key': 'hello'},\n",
       " {'_id': ObjectId('5af4fb82f533a80084cfc78d'), 'key': 'hello'},\n",
       " {'_id': ObjectId('5af4fb873ab8630190515ef5'), 'key': 'hello'},\n",
       " {'_id': ObjectId('5af4fb8c9fea5000b7966ad8'), 'key': 'hello'},\n",
       " {'_id': ObjectId('5af4fba7dc6b0206d589c4b0'), 'key': 'hello'},\n",
       " {'_id': ObjectId('5af4fbd336db76008b1d6745'), 'WHAT IS UP JOSH': 'hello'},\n",
       " {'_id': ObjectId('5af4fbd7c7f98000f891ffb9'), 'key': 'aslkdjfasldkfjalsdjf'},\n",
       " {'_id': ObjectId('5af4fbd988d1170133bfffb5'), 'key': 'hello'}]"
      ]
     },
     "execution_count": 19,
     "metadata": {},
     "output_type": "execute_result"
    }
   ],
   "source": [
    "list(bg.find())"
   ]
  },
  {
   "cell_type": "code",
   "execution_count": 21,
   "metadata": {},
   "outputs": [
    {
     "data": {
      "text/plain": [
       "[]"
      ]
     },
     "execution_count": 21,
     "metadata": {},
     "output_type": "execute_result"
    }
   ],
   "source": [
    "#bg.drop \n",
    "#to remove collection base. The collection and base only exist when there is documents. \n",
    "client.database_names()\n",
    "fb.collection_names()"
   ]
  },
  {
   "cell_type": "code",
   "execution_count": null,
   "metadata": {},
   "outputs": [],
   "source": []
  }
 ],
 "metadata": {
  "kernelspec": {
   "display_name": "Python 3",
   "language": "python",
   "name": "python3"
  },
  "language_info": {
   "codemirror_mode": {
    "name": "ipython",
    "version": 3
   },
   "file_extension": ".py",
   "mimetype": "text/x-python",
   "name": "python",
   "nbconvert_exporter": "python",
   "pygments_lexer": "ipython3",
   "version": "3.6.5"
  }
 },
 "nbformat": 4,
 "nbformat_minor": 2
}
