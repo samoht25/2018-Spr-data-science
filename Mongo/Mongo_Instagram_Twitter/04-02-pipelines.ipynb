{
 "cells": [
  {
   "cell_type": "code",
   "execution_count": 1,
   "metadata": {},
   "outputs": [],
   "source": [
    "# !pip install pymongo"
   ]
  },
  {
   "cell_type": "code",
   "execution_count": 2,
   "metadata": {},
   "outputs": [],
   "source": [
    "from pymongo import MongoClient"
   ]
  },
  {
   "cell_type": "code",
   "execution_count": 3,
   "metadata": {},
   "outputs": [],
   "source": [
    "matplotlib inline"
   ]
  },
  {
   "cell_type": "code",
   "execution_count": 4,
   "metadata": {},
   "outputs": [],
   "source": [
    "mongo_client = MongoClient('18.236.138.158', 27016)\n",
    "database_reference = mongo_client.twitter"
   ]
  },
  {
   "cell_type": "code",
   "execution_count": 6,
   "metadata": {},
   "outputs": [
    {
     "data": {
      "text/plain": [
       "['users', 'instructor_test_group', 'tweets']"
      ]
     },
     "execution_count": 6,
     "metadata": {},
     "output_type": "execute_result"
    }
   ],
   "source": [
    "database_reference.collection_names()"
   ]
  },
  {
   "cell_type": "code",
   "execution_count": 7,
   "metadata": {},
   "outputs": [],
   "source": [
    "collection_reference = database_reference.instructor_test_group"
   ]
  },
  {
   "cell_type": "code",
   "execution_count": 8,
   "metadata": {},
   "outputs": [
    {
     "data": {
      "text/plain": [
       "20000"
      ]
     },
     "execution_count": 8,
     "metadata": {},
     "output_type": "execute_result"
    }
   ],
   "source": [
    "collection_reference.count()"
   ]
  },
  {
   "cell_type": "code",
   "execution_count": 9,
   "metadata": {},
   "outputs": [],
   "source": [
    "cursor_sampl = collection_reference.aggregate([{'$sample': {'size': 20}}])"
   ]
  },
  {
   "cell_type": "code",
   "execution_count": 10,
   "metadata": {},
   "outputs": [
    {
     "data": {
      "text/plain": [
       "20"
      ]
     },
     "execution_count": 10,
     "metadata": {},
     "output_type": "execute_result"
    }
   ],
   "source": [
    "len(list(cursor_sampl)) "
   ]
  },
  {
   "cell_type": "markdown",
   "metadata": {},
   "source": [
    "| | | | | |\n",
    "|-|-|-|-|-|\n",
    "| `_id`        | `truncated`                 |`user`            |`extended_tweet` | `favorited`                   |\n",
    "| `created_at` | `in_reply_to_status_id`     |`geo`             |`quote_count`    | `retweeted`                   |\n",
    "| `id`         | `in_reply_to_status_id_str` |`coordinates`     |`reply_count`    | `filter_level`                |\n",
    "| `id_str`     | `in_reply_to_user_id`       |`place`           |`retweet_count`  | `lang`                        |\n",
    "| `text`       | `in_reply_to_user_id_str`   |`contributors`    |`favorite_count` | `timestamp_ms`                |\n",
    "| `source`     | `in_reply_to_screen_name`   |`is_quote_status` |`entities`       |                               |\n",
    "\n",
    "\n",
    "\n",
    "\n",
    "\n",
    "\n",
    "\n",
    "\n",
    "\n",
    "\n",
    "\n",
    "\n",
    "\n",
    "\n",
    "\n",
    "\n",
    "\n",
    "\n",
    "\n",
    "\n",
    "\n",
    "\n"
   ]
  },
  {
   "cell_type": "markdown",
   "metadata": {},
   "source": [
    "![](https://www.evernote.com/l/AAEO7gpKcKdI5YJeGrni4GhdlBiBWdTa3YgB/image.png)"
   ]
  },
  {
   "cell_type": "markdown",
   "metadata": {},
   "source": [
    "![](https://i.imgflip.com/245tp9.jpg)"
   ]
  },
  {
   "cell_type": "markdown",
   "metadata": {},
   "source": [
    "## The Aggregation Pipeline\n",
    "\n",
    "A call to the aggregation framework defines a pipeline (figure 6.1), the **aggregation pipeline**, where the output from each step in the pipeline provides input to the next step. Each step executes a single operation on the input documents to transform the input and generate output documents."
   ]
  },
  {
   "cell_type": "markdown",
   "metadata": {},
   "source": [
    "![](https://www.evernote.com/l/AAGxerRxKLZNFrjqxlYK2HPz1R11tr95FFkB/image.png)"
   ]
  },
  {
   "cell_type": "markdown",
   "metadata": {},
   "source": [
    "### Useful Aggregation Pipeline Operations"
   ]
  },
  {
   "cell_type": "markdown",
   "metadata": {},
   "source": [
    "- `$project` // Specify fields to be placed in the output document. Column Filtering\n",
    "- `$match` // Select documents to be processed, similar to find(). Row filtering. \n",
    "- `$limit` // Limit the number of documents to be passed to the next step.\n",
    "- `$skip` // Skip a specified number of documents.\n",
    "- `$unwind` // Expand an array, generating one output document for each array entry.\n",
    "- `$group` // Group documents by a specified key.\n",
    "- `$sort` // Sort documents.\n",
    "- `$geoNear` // Select documents near a geospatial location.\n",
    "- `$out` // Write the results of the pipeline to a collection (new in v2.6).\n",
    "- `$redact` // Control access to certain data (new in v2.6)."
   ]
  },
  {
   "cell_type": "code",
   "execution_count": 11,
   "metadata": {},
   "outputs": [],
   "source": [
    "PROJECT = \"$project\"\n",
    "MATCH = \"$match\"\n",
    "LIMIT = \"$limit\"\n",
    "UNWIND = \"$unwind\"\n",
    "GROUP = \"$group\"\n",
    "SORT = \"$sort\"\n",
    "COUNT = \"$count\""
   ]
  },
  {
   "cell_type": "code",
   "execution_count": 12,
   "metadata": {},
   "outputs": [],
   "source": [
    "test_group = database_reference.instructor_test_group"
   ]
  },
  {
   "cell_type": "code",
   "execution_count": 13,
   "metadata": {},
   "outputs": [],
   "source": [
    "not_empty = { \"$ne\" : None } # you want the tweets do not have None. Basically filters it out. \n",
    "\n",
    "cursor = test_group.aggregate([\n",
    "    { MATCH : { \"geo\" : not_empty }}, # find \"geo\"\n",
    "    { COUNT : \"geo\"} # count of \"geo\"\n",
    "])"
   ]
  },
  {
   "cell_type": "code",
   "execution_count": 14,
   "metadata": {},
   "outputs": [
    {
     "data": {
      "text/plain": [
       "{'geo': 2952}"
      ]
     },
     "execution_count": 14,
     "metadata": {},
     "output_type": "execute_result"
    }
   ],
   "source": [
    "next(cursor)"
   ]
  },
  {
   "cell_type": "code",
   "execution_count": 18,
   "metadata": {},
   "outputs": [
    {
     "data": {
      "text/plain": [
       "[{'$match': {'geo': {'$ne': None}}}, {'$count': 'geo'}]"
      ]
     },
     "execution_count": 18,
     "metadata": {},
     "output_type": "execute_result"
    }
   ],
   "source": [
    "#alternative\n",
    "match_non_null_geo = { MATCH : { \"geo\" : not_empty }}\n",
    "count_geo = { COUNT : \"geo\"}\n",
    "\n",
    "dag_count_non_null_geo = [\n",
    "    match_non_null_geo,\n",
    "    count_geo\n",
    "]\n",
    "\n",
    "dag_count_non_null_geo"
   ]
  },
  {
   "cell_type": "code",
   "execution_count": 19,
   "metadata": {},
   "outputs": [
    {
     "data": {
      "text/plain": [
       "{'geo': 2952}"
      ]
     },
     "execution_count": 19,
     "metadata": {},
     "output_type": "execute_result"
    }
   ],
   "source": [
    "next(test_group.aggregate(dag_count_non_null_geo))"
   ]
  },
  {
   "cell_type": "markdown",
   "metadata": {},
   "source": [
    "### Group Template\n",
    "\n",
    "    { $group: { _id: <expression>, <field1>: { <accumulator1> : <expression1> }, ... } }\n",
    "    \n",
    "#### Accumulators\n",
    "\n",
    "- `$sum`\n",
    "- `$avg`\n",
    "- `$first`\n",
    "- `$last`\n",
    "- `$max`\n",
    "- `$min`\n",
    "- `$stdDevPop`\n",
    "- `$stdDevSamp`"
   ]
  },
  {
   "cell_type": "code",
   "execution_count": 21,
   "metadata": {},
   "outputs": [],
   "source": [
    "greater_than_10 = { \"$gt\" : 10 }\n",
    "sum_1 = { \"$sum\" : 1 } # count one for each occurance. \n",
    "\n",
    "def group_and_count(key):\n",
    "    return { GROUP : {\n",
    "                 \"_id\"   : key,\n",
    "                 \"count\" : sum_1\n",
    "                }\n",
    "           }\n",
    "\n",
    "match_count_gt_10 = { MATCH : { \"count\" : greater_than_10 } }\n",
    "\n",
    "sort_by_count_descending = { SORT : { \"count\" : -1 } }\n",
    "\n",
    "def limit(val):\n",
    "    return { LIMIT : val }"
   ]
  },
  {
   "cell_type": "code",
   "execution_count": 23,
   "metadata": {},
   "outputs": [
    {
     "data": {
      "text/plain": [
       "[{'_id': 'en', 'count': 16996},\n",
       " {'_id': 'und', 'count': 1815},\n",
       " {'_id': 'es', 'count': 295},\n",
       " {'_id': 'tl', 'count': 126},\n",
       " {'_id': 'fr', 'count': 121},\n",
       " {'_id': 'pt', 'count': 76},\n",
       " {'_id': 'ht', 'count': 66},\n",
       " {'_id': 'ja', 'count': 61},\n",
       " {'_id': 'ar', 'count': 49},\n",
       " {'_id': 'it', 'count': 48},\n",
       " {'_id': 'in', 'count': 41},\n",
       " {'_id': 'et', 'count': 35},\n",
       " {'_id': 'tr', 'count': 24},\n",
       " {'_id': 'nl', 'count': 21},\n",
       " {'_id': 'ko', 'count': 20},\n",
       " {'_id': 'fa', 'count': 20},\n",
       " {'_id': 'lv', 'count': 20},\n",
       " {'_id': 'hi', 'count': 16},\n",
       " {'_id': 'de', 'count': 15},\n",
       " {'_id': 'fi', 'count': 15},\n",
       " {'_id': 'cy', 'count': 13},\n",
       " {'_id': 'no', 'count': 12},\n",
       " {'_id': 'da', 'count': 11}]"
      ]
     },
     "execution_count": 23,
     "metadata": {},
     "output_type": "execute_result"
    }
   ],
   "source": [
    "list(test_group.aggregate(\n",
    "    [\n",
    "        group_and_count('$lang'),\n",
    "        match_count_gt_10, \n",
    "        sort_by_count_descending,\n",
    "#        limit(10)\n",
    "    ]\n",
    "))\n"
   ]
  },
  {
   "cell_type": "code",
   "execution_count": 24,
   "metadata": {
    "scrolled": false
   },
   "outputs": [
    {
     "data": {
      "text/plain": [
       "[{'text': 'photos'},\n",
       " {'text': 'Artist'},\n",
       " {'text': 'LosAngeles'},\n",
       " {'text': 'Accounting'},\n",
       " {'text': 'Job'},\n",
       " {'text': 'Jobs'},\n",
       " {'text': 'Hiring'},\n",
       " {'text': 'CareerArc'},\n",
       " {'text': 'sanrio'},\n",
       " {'text': 'turquoise'}]"
      ]
     },
     "execution_count": 24,
     "metadata": {},
     "output_type": "execute_result"
    }
   ],
   "source": [
    "not_an_empty_array = { \"$ne\" : [] } #look for things that has things in the array. \n",
    "match_non_empty_hashtag_arrays = { MATCH : { \"entities.hashtags\" : not_an_empty_array } }\n",
    "project_to_text_only = { PROJECT : { \"text\" : \"$entities.hashtags.text\", \"_id\" :0 } } #.documents within a document. if id:0 you dont want the id.\n",
    "unwind_text = { UNWIND : \"$text\" }\n",
    "\n",
    "list(test_group.aggregate(\n",
    "    [\n",
    "        match_non_empty_hashtag_arrays, #find tweets with 3 hashtags\n",
    "        project_to_text_only, # filter only the 3 hashtags\n",
    "        unwind_text, # split hashtagst to its own section. \n",
    "        limit(10)\n",
    "    ]\n",
    "))\n"
   ]
  },
  {
   "cell_type": "code",
   "execution_count": 25,
   "metadata": {},
   "outputs": [
    {
     "data": {
      "text/plain": [
       "[{'_id': 'job', 'count': 395},\n",
       " {'_id': 'Hiring', 'count': 308},\n",
       " {'_id': 'LosAngeles', 'count': 286},\n",
       " {'_id': 'CareerArc', 'count': 240},\n",
       " {'_id': 'hiring', 'count': 149},\n",
       " {'_id': 'Job', 'count': 107},\n",
       " {'_id': 'Jobs', 'count': 107},\n",
       " {'_id': 'earthquake', 'count': 67},\n",
       " {'_id': 'LA', 'count': 56},\n",
       " {'_id': 'losangeles', 'count': 49}]"
      ]
     },
     "execution_count": 25,
     "metadata": {},
     "output_type": "execute_result"
    }
   ],
   "source": [
    "list(test_group.aggregate(\n",
    "    [\n",
    "        match_non_empty_hashtag_arrays,\n",
    "        project_to_text_only,\n",
    "        unwind_text,\n",
    "        group_and_count('$text'),\n",
    "        match_count_gt_10, \n",
    "        sort_by_count_descending,\n",
    "        limit(10)\n",
    "    ]\n",
    "))"
   ]
  },
  {
   "cell_type": "code",
   "execution_count": 26,
   "metadata": {},
   "outputs": [
    {
     "data": {
      "text/plain": [
       "[{'_id': 'earthquake', 'count': 67},\n",
       " {'_id': 'goldenglobes', 'count': 56},\n",
       " {'_id': 'quake', 'count': 46},\n",
       " {'_id': 'art', 'count': 40},\n",
       " {'_id': 'healthcare', 'count': 38},\n",
       " {'_id': 'superbowl', 'count': 28},\n",
       " {'_id': 'retail', 'count': 26},\n",
       " {'_id': 'sales', 'count': 25},\n",
       " {'_id': 'rn', 'count': 25},\n",
       " {'_id': 'marketing', 'count': 25},\n",
       " {'_id': 'gonancygo', 'count': 24},\n",
       " {'_id': 'hospitality', 'count': 23},\n",
       " {'_id': 'grammys', 'count': 22},\n",
       " {'_id': 'repost', 'count': 22},\n",
       " {'_id': 'it', 'count': 21},\n",
       " {'_id': 'releasethememo', 'count': 21},\n",
       " {'_id': 'timesup', 'count': 19},\n",
       " {'_id': 'nsng', 'count': 19},\n",
       " {'_id': 'love', 'count': 19},\n",
       " {'_id': 'clerical', 'count': 18},\n",
       " {'_id': 'businessmgmt', 'count': 17},\n",
       " {'_id': 'tv', 'count': 17},\n",
       " {'_id': 'hollywood', 'count': 16},\n",
       " {'_id': 'trumpshutdown', 'count': 16},\n",
       " {'_id': 'script', 'count': 16},\n",
       " {'_id': 'beverlyhills', 'count': 15},\n",
       " {'_id': 'dtla', 'count': 15},\n",
       " {'_id': 'comedy', 'count': 15},\n",
       " {'_id': 'actorslife', 'count': 14},\n",
       " {'_id': 'nursing', 'count': 14},\n",
       " {'_id': 'iheartawards', 'count': 14},\n",
       " {'_id': 'trump', 'count': 14},\n",
       " {'_id': 'tbt', 'count': 13},\n",
       " {'_id': 'finance', 'count': 13},\n",
       " {'_id': 'fashion', 'count': 13},\n",
       " {'_id': 'photography', 'count': 13},\n",
       " {'_id': 'music', 'count': 12},\n",
       " {'_id': 'veterans', 'count': 11},\n",
       " {'_id': 'actor', 'count': 11},\n",
       " {'_id': 'pilot', 'count': 11},\n",
       " {'_id': 'actors', 'count': 11},\n",
       " {'_id': 'smile', 'count': 11},\n",
       " {'_id': 'lincoln', 'count': 11}]"
      ]
     },
     "execution_count": 26,
     "metadata": {},
     "output_type": "execute_result"
    }
   ],
   "source": [
    "job_hashtags = ['job', 'jobs', 'hiring', 'careerarc'] # dont want jobs ads. \n",
    "location_hashtags = ['california', 'losangeles', 'la', 'santamonica', 'glendale', 'paloalto'] # dont want locations. \n",
    "project_to_lower = { PROJECT : { \"text\" : {\"$toLower\" : \"$text\"} } } #dont want lower case. \n",
    "match_not_in_bad = { MATCH : { \"_id\" : { \"$nin\" : job_hashtags + location_hashtags}}} #match tags that not in these list. \n",
    "\n",
    "list(test_group.aggregate(\n",
    "    [\n",
    "        match_non_empty_hashtag_arrays,\n",
    "        project_to_text_only,\n",
    "        unwind_text,\n",
    "        project_to_lower,\n",
    "        group_and_count('$text'),\n",
    "        match_not_in_bad,\n",
    "        match_count_gt, \n",
    "        sort_by_count_descending,\n",
    "        limit(50)\n",
    "    ]\n",
    "))\n",
    "\n",
    "#top 50 hashtags after all the filtering. "
   ]
  },
  {
   "cell_type": "code",
   "execution_count": null,
   "metadata": {},
   "outputs": [],
   "source": []
  }
 ],
 "metadata": {
  "kernelspec": {
   "display_name": "Python 3",
   "language": "python",
   "name": "python3"
  },
  "language_info": {
   "codemirror_mode": {
    "name": "ipython",
    "version": 3
   },
   "file_extension": ".py",
   "mimetype": "text/x-python",
   "name": "python",
   "nbconvert_exporter": "python",
   "pygments_lexer": "ipython3",
   "version": "3.6.4"
  }
 },
 "nbformat": 4,
 "nbformat_minor": 2
}
